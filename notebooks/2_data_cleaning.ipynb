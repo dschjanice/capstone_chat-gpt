{
 "cells": [
  {
   "cell_type": "code",
   "execution_count": 42,
   "metadata": {},
   "outputs": [
    {
     "name": "stderr",
     "output_type": "stream",
     "text": [
      "[nltk_data] Downloading package wordnet to\n",
      "[nltk_data]     /Users/martjebuss/nltk_data...\n",
      "[nltk_data]   Package wordnet is already up-to-date!\n",
      "[nltk_data] Downloading package omw-1.4 to\n",
      "[nltk_data]     /Users/martjebuss/nltk_data...\n",
      "[nltk_data]   Package omw-1.4 is already up-to-date!\n"
     ]
    },
    {
     "data": {
      "text/plain": [
       "True"
      ]
     },
     "execution_count": 42,
     "metadata": {},
     "output_type": "execute_result"
    }
   ],
   "source": [
    "import pandas as pd\n",
    "import numpy as np\n",
    "\n",
    "from sklearn.model_selection import train_test_split\n",
    "from sklearn.feature_extraction.text import CountVectorizer, TfidfVectorizer\n",
    "from sklearn.linear_model import LogisticRegression\n",
    "from sklearn.metrics import roc_auc_score\n",
    "\n",
    "\n",
    "from tqdm import tqdm\n",
    "\n",
    "import nltk\n",
    "import re\n",
    "nltk.download('wordnet')\n",
    "nltk.download('omw-1.4')"
   ]
  },
  {
   "cell_type": "code",
   "execution_count": 43,
   "metadata": {},
   "outputs": [],
   "source": [
    "# Load df\n",
    "df = pd.read_csv(\n",
    "    \"../data/ChatGPT-play-reviews.csv\",\n",
    "    encoding=\"utf-8\", parse_dates=[\"at\", \"repliedAt\"]\n",
    ")"
   ]
  },
  {
   "cell_type": "code",
   "execution_count": 44,
   "metadata": {},
   "outputs": [],
   "source": [
    "df = df.drop('reviewCreatedVersion', axis=1)"
   ]
  },
  {
   "cell_type": "code",
   "execution_count": 45,
   "metadata": {},
   "outputs": [],
   "source": [
    "# generate new date features from at\n",
    "df['at_ymd'] = df['at'].dt.strftime('%D')\n",
    "# Create new column for year-quarter\n",
    "df['at_q'] = df['at'].dt.quarter\n",
    "# Create new column for year-month\n",
    "df['at_ym'] = df['at'].dt.strftime('%Y-%m')\n",
    "# Create new column for month\n",
    "df['at_m'] = df['at'].dt.strftime('%B')\n",
    "# Create new column for year-month\n",
    "df['at_wd'] = df['at'].dt.strftime('%A')"
   ]
  },
  {
   "cell_type": "code",
   "execution_count": 33,
   "metadata": {},
   "outputs": [
    {
     "data": {
      "text/plain": [
       "reviewId             0\n",
       "userName             1\n",
       "content              0\n",
       "score                0\n",
       "thumbsUpCount        0\n",
       "at                   0\n",
       "replyContent     30524\n",
       "repliedAt        30524\n",
       "appVersion        4914\n",
       "at_ymd               0\n",
       "at_q                 0\n",
       "at_ym                0\n",
       "at_m                 0\n",
       "at_wd                0\n",
       "dtype: int64"
      ]
     },
     "execution_count": 33,
     "metadata": {},
     "output_type": "execute_result"
    }
   ],
   "source": [
    "# display number of missing values per column\n",
    "df.isna().sum()"
   ]
  },
  {
   "cell_type": "markdown",
   "metadata": {},
   "source": [
    "Cleaning Costumer Reviews: \n",
    "Remove URLs, emails, phone numbers & punctuations.\n",
    "Remove tags, emojis, symbols & pictographs.\n",
    "Remove stop words.\n",
    "Convert to lowercase and lemmatization.\n",
    "Duplicates removal.\n",
    "Spell checking.\n",
    "Non-English reviews removal.\n",
    "Remove stop words. "
   ]
  },
  {
   "cell_type": "markdown",
   "metadata": {},
   "source": [
    "### Remove URLs, emails, phone numbers, tags"
   ]
  },
  {
   "cell_type": "code",
   "execution_count": 23,
   "metadata": {},
   "outputs": [],
   "source": [
    "def remove_urls(text):\n",
    "    url_pattern = re.compile(r'https?://\\S+|www\\.\\S+')\n",
    "    return url_pattern.sub('', text)"
   ]
  },
  {
   "cell_type": "code",
   "execution_count": 34,
   "metadata": {},
   "outputs": [],
   "source": [
    "def remove_hashtags(text): \n",
    "    hashtag_pattern = re.compile(r'#\\S+')\n",
    "    return hashtag_pattern.sub('', text)"
   ]
  },
  {
   "cell_type": "code",
   "execution_count": 37,
   "metadata": {},
   "outputs": [],
   "source": [
    "def remove_mentions(text): \n",
    "    mentions_pattern = re.compile(r'@\\S+')\n",
    "    return mentions_pattern.sub('', text)"
   ]
  },
  {
   "cell_type": "code",
   "execution_count": 51,
   "metadata": {},
   "outputs": [],
   "source": [
    "def remove_phonenumber(text):\n",
    "    phone_pattern = re.compile(r'^[+]*[(]{0,1}[0-9]{1,4}[)]{0,1}[-\\s\\./0-9]*$')\n",
    "    return phone_pattern.sub('', text)"
   ]
  },
  {
   "cell_type": "code",
   "execution_count": 55,
   "metadata": {},
   "outputs": [],
   "source": [
    "def remove_email(text): \n",
    "    email_pattern = re.compile(r'^[\\w-\\.]+@([\\w-]+\\.)+[\\w-]{2,4}$')\n",
    "    return email_pattern.sub('', text)"
   ]
  },
  {
   "cell_type": "code",
   "execution_count": 47,
   "metadata": {},
   "outputs": [],
   "source": [
    "df_copy = df.copy()"
   ]
  },
  {
   "cell_type": "code",
   "execution_count": 57,
   "metadata": {},
   "outputs": [],
   "source": [
    "# Apply the remove_urls function to the 'text' column\n",
    "df['content'] = df['content'].apply(remove_urls)\n",
    "df['content'] = df['content'].apply(remove_hashtags)\n",
    "df['content'] = df['content'].apply(remove_mentions)\n",
    "df['content'] = df['content'].apply(remove_phonenumber)\n",
    "#df['content'] = df['content'].apply(remove_email) not working"
   ]
  },
  {
   "cell_type": "markdown",
   "metadata": {},
   "source": [
    "### Remove duplicates"
   ]
  },
  {
   "cell_type": "code",
   "execution_count": 135,
   "metadata": {},
   "outputs": [
    {
     "data": {
      "text/plain": [
       "0"
      ]
     },
     "execution_count": 135,
     "metadata": {},
     "output_type": "execute_result"
    }
   ],
   "source": [
    "count_duplicates = df.duplicated().sum()\n",
    "count_duplicates"
   ]
  },
  {
   "cell_type": "markdown",
   "metadata": {},
   "source": [
    "### Spell checking"
   ]
  },
  {
   "cell_type": "code",
   "execution_count": 136,
   "metadata": {},
   "outputs": [
    {
     "name": "stdout",
     "output_type": "stream",
     "text": [
      "Collecting pyspellchecker\n",
      "  Downloading pyspellchecker-0.7.2-py3-none-any.whl (3.4 MB)\n",
      "\u001b[2K     \u001b[38;2;114;156;31m━━━━━━━━━━━━━━━━━━━━━━━━━━━━━━━━━━━━━━━━\u001b[0m \u001b[32m3.4/3.4 MB\u001b[0m \u001b[31m16.5 MB/s\u001b[0m eta \u001b[36m0:00:00\u001b[0m31m17.9 MB/s\u001b[0m eta \u001b[36m0:00:01\u001b[0m\n",
      "\u001b[?25hInstalling collected packages: pyspellchecker\n",
      "Successfully installed pyspellchecker-0.7.2\n"
     ]
    }
   ],
   "source": [
    "!pip install pyspellchecker"
   ]
  },
  {
   "cell_type": "code",
   "execution_count": null,
   "metadata": {},
   "outputs": [],
   "source": [
    "from spellchecker import SpellChecker\n",
    "\n",
    "spell = SpellChecker()"
   ]
  },
  {
   "cell_type": "code",
   "execution_count": 147,
   "metadata": {},
   "outputs": [],
   "source": [
    "def correct_spelling(text): \n",
    "    words = text.split()\n",
    "    corrected_text = []\n",
    "    for word in words:\n",
    "        corrected_word = spell.correction(word)\n",
    "        if corrected_word is not None:\n",
    "            corrected_text.append(corrected_word)\n",
    "        else:\n",
    "            corrected_text.append(word)\n",
    "    corrected_text = \" \".join(corrected_text)\n",
    "    return corrected_text"
   ]
  },
  {
   "cell_type": "code",
   "execution_count": 148,
   "metadata": {},
   "outputs": [],
   "source": [
    "df['content'] = df['content'].apply(correct_spelling)"
   ]
  },
  {
   "cell_type": "code",
   "execution_count": 151,
   "metadata": {},
   "outputs": [],
   "source": [
    "df.to_csv(\"../data/chatgpt_after_datacleaning.csv\")"
   ]
  },
  {
   "cell_type": "code",
   "execution_count": null,
   "metadata": {},
   "outputs": [],
   "source": [
    "# text = \"Thes ar som misspleld wordds.\"\n",
    "\n",
    "# words = text.split()\n",
    "\n",
    "# corrected_text = []\n",
    "# for word in words:\n",
    "#     # Get the most likely correct spelling\n",
    "#     corrected_word = spell.correction(word)\n",
    "#     corrected_text.append(corrected_word)\n",
    "\n",
    "# # Reconstruct the corrected text\n",
    "# corrected_text = \" \".join(corrected_text)"
   ]
  },
  {
   "cell_type": "code",
   "execution_count": null,
   "metadata": {},
   "outputs": [
    {
     "data": {
      "text/plain": [
       "'Thes ar som misspelled words'"
      ]
     },
     "metadata": {},
     "output_type": "display_data"
    }
   ],
   "source": [
    "# corrected_text"
   ]
  },
  {
   "cell_type": "markdown",
   "metadata": {},
   "source": [
    "### Non-English reviews removal"
   ]
  },
  {
   "cell_type": "code",
   "execution_count": 69,
   "metadata": {},
   "outputs": [
    {
     "name": "stdout",
     "output_type": "stream",
     "text": [
      "Collecting langdetect\n",
      "  Downloading langdetect-1.0.9.tar.gz (981 kB)\n",
      "\u001b[2K     \u001b[38;2;114;156;31m━━━━━━━━━━━━━━━━━━━━━━━━━━━━━━━━━━━━━━\u001b[0m \u001b[32m981.5/981.5 kB\u001b[0m \u001b[31m14.8 MB/s\u001b[0m eta \u001b[36m0:00:00\u001b[0m[31m9.7 MB/s\u001b[0m eta \u001b[36m0:00:01\u001b[0m\n",
      "\u001b[?25h  Preparing metadata (setup.py) ... \u001b[?25ldone\n",
      "\u001b[?25hRequirement already satisfied: six in /Users/martjebuss/Documents/neuefische/repos/capstone_chat-gpt/.venv/lib/python3.11/site-packages (from langdetect) (1.16.0)\n",
      "Building wheels for collected packages: langdetect\n",
      "  Building wheel for langdetect (setup.py) ... \u001b[?25ldone\n",
      "\u001b[?25h  Created wheel for langdetect: filename=langdetect-1.0.9-py3-none-any.whl size=993224 sha256=4a15776af3a80ef8981bfa297a04c56032d9856cb458488c546e23be69e9a545\n",
      "  Stored in directory: /Users/martjebuss/Library/Caches/pip/wheels/0a/f2/b2/e5ca405801e05eb7c8ed5b3b4bcf1fcabcd6272c167640072e\n",
      "Successfully built langdetect\n",
      "Installing collected packages: langdetect\n",
      "Successfully installed langdetect-1.0.9\n"
     ]
    }
   ],
   "source": [
    "!pip install langdetect"
   ]
  },
  {
   "cell_type": "code",
   "execution_count": 70,
   "metadata": {},
   "outputs": [],
   "source": [
    "from langdetect import detect"
   ]
  },
  {
   "cell_type": "code",
   "execution_count": 100,
   "metadata": {},
   "outputs": [],
   "source": [
    "def is_english(text):\n",
    "    try:\n",
    "        return detect(text) == 'en'\n",
    "    except:\n",
    "        return False"
   ]
  },
  {
   "cell_type": "code",
   "execution_count": 103,
   "metadata": {},
   "outputs": [],
   "source": [
    "english_reviews = df[df['content'].apply(is_english)]"
   ]
  },
  {
   "cell_type": "code",
   "execution_count": 97,
   "metadata": {},
   "outputs": [],
   "source": [
    "pd.reset_option('display.max_columns')\n",
    "pd.reset_option('display.max_rows')\n",
    "pd.reset_option('display.max_colwidth')"
   ]
  },
  {
   "cell_type": "code",
   "execution_count": 107,
   "metadata": {},
   "outputs": [
    {
     "data": {
      "text/plain": [
       "30923           Hum First\n",
       "30926           Wooow....\n",
       "30927            عالی🔥🔥🔥🔥\n",
       "30946            Wow.....\n",
       "30947    Noice 🤓🤓🤓🤓🤓🤓🤓👌🤓👌\n",
       "Name: content, dtype: object"
      ]
     },
     "execution_count": 107,
     "metadata": {},
     "output_type": "execute_result"
    }
   ],
   "source": [
    "english_reviews[\"content\"].tail()"
   ]
  },
  {
   "cell_type": "code",
   "execution_count": 108,
   "metadata": {},
   "outputs": [
    {
     "name": "stdout",
     "output_type": "stream",
     "text": [
      "Collecting textblob\n",
      "  Downloading textblob-0.17.1-py2.py3-none-any.whl (636 kB)\n",
      "\u001b[2K     \u001b[38;2;114;156;31m━━━━━━━━━━━━━━━━━━━━━━━━━━━━━━━━━━━━━━\u001b[0m \u001b[32m636.8/636.8 kB\u001b[0m \u001b[31m12.3 MB/s\u001b[0m eta \u001b[36m0:00:00\u001b[0m31m12.5 MB/s\u001b[0m eta \u001b[36m0:00:01\u001b[0m\n",
      "\u001b[?25hRequirement already satisfied: nltk>=3.1 in /Users/martjebuss/Documents/neuefische/repos/capstone_chat-gpt/.venv/lib/python3.11/site-packages (from textblob) (3.8.1)\n",
      "Requirement already satisfied: click in /Users/martjebuss/Documents/neuefische/repos/capstone_chat-gpt/.venv/lib/python3.11/site-packages (from nltk>=3.1->textblob) (8.1.7)\n",
      "Requirement already satisfied: joblib in /Users/martjebuss/Documents/neuefische/repos/capstone_chat-gpt/.venv/lib/python3.11/site-packages (from nltk>=3.1->textblob) (1.3.2)\n",
      "Requirement already satisfied: regex>=2021.8.3 in /Users/martjebuss/Documents/neuefische/repos/capstone_chat-gpt/.venv/lib/python3.11/site-packages (from nltk>=3.1->textblob) (2023.10.3)\n",
      "Requirement already satisfied: tqdm in /Users/martjebuss/Documents/neuefische/repos/capstone_chat-gpt/.venv/lib/python3.11/site-packages (from nltk>=3.1->textblob) (4.66.1)\n",
      "Installing collected packages: textblob\n",
      "Successfully installed textblob-0.17.1\n"
     ]
    }
   ],
   "source": [
    "!pip install textblob"
   ]
  },
  {
   "cell_type": "code",
   "execution_count": 132,
   "metadata": {},
   "outputs": [],
   "source": [
    "from textblob import TextBlob"
   ]
  },
  {
   "cell_type": "code",
   "execution_count": 133,
   "metadata": {},
   "outputs": [
    {
     "ename": "HTTPError",
     "evalue": "HTTP Error 400: Bad Request",
     "output_type": "error",
     "traceback": [
      "\u001b[0;31m---------------------------------------------------------------------------\u001b[0m",
      "\u001b[0;31mHTTPError\u001b[0m                                 Traceback (most recent call last)",
      "\u001b[1;32m/Users/martjebuss/Documents/neuefische/repos/capstone_chat-gpt/notebooks/Data_cleaning.ipynb Cell 24\u001b[0m line \u001b[0;36m2\n\u001b[1;32m      <a href='vscode-notebook-cell:/Users/martjebuss/Documents/neuefische/repos/capstone_chat-gpt/notebooks/Data_cleaning.ipynb#Y102sZmlsZQ%3D%3D?line=0'>1</a>\u001b[0m b \u001b[39m=\u001b[39m TextBlob(\u001b[39m\"\u001b[39m\u001b[39mbonjour\u001b[39m\u001b[39m\"\u001b[39m)\n\u001b[0;32m----> <a href='vscode-notebook-cell:/Users/martjebuss/Documents/neuefische/repos/capstone_chat-gpt/notebooks/Data_cleaning.ipynb#Y102sZmlsZQ%3D%3D?line=1'>2</a>\u001b[0m b\u001b[39m.\u001b[39;49mdetect_language()\n",
      "File \u001b[0;32m~/Documents/neuefische/repos/capstone_chat-gpt/.venv/lib/python3.11/site-packages/textblob/blob.py:597\u001b[0m, in \u001b[0;36mBaseBlob.detect_language\u001b[0;34m(self)\u001b[0m\n\u001b[1;32m    572\u001b[0m \u001b[39m\u001b[39m\u001b[39m\"\"\"Detect the blob's language using the Google Translate API.\u001b[39;00m\n\u001b[1;32m    573\u001b[0m \n\u001b[1;32m    574\u001b[0m \u001b[39mRequires an internet connection.\u001b[39;00m\n\u001b[0;32m   (...)\u001b[0m\n\u001b[1;32m    590\u001b[0m \u001b[39m:rtype: str\u001b[39;00m\n\u001b[1;32m    591\u001b[0m \u001b[39m\"\"\"\u001b[39;00m\n\u001b[1;32m    592\u001b[0m warnings\u001b[39m.\u001b[39mwarn(\n\u001b[1;32m    593\u001b[0m     \u001b[39m'\u001b[39m\u001b[39mTextBlob.detext_translate is deprecated and will be removed in a future release. \u001b[39m\u001b[39m'\u001b[39m\n\u001b[1;32m    594\u001b[0m     \u001b[39m'\u001b[39m\u001b[39mUse the official Google Translate API instead.\u001b[39m\u001b[39m'\u001b[39m,\n\u001b[1;32m    595\u001b[0m     \u001b[39mDeprecationWarning\u001b[39;00m\n\u001b[1;32m    596\u001b[0m )\n\u001b[0;32m--> 597\u001b[0m \u001b[39mreturn\u001b[39;00m \u001b[39mself\u001b[39;49m\u001b[39m.\u001b[39;49mtranslator\u001b[39m.\u001b[39;49mdetect(\u001b[39mself\u001b[39;49m\u001b[39m.\u001b[39;49mraw)\n",
      "File \u001b[0;32m~/Documents/neuefische/repos/capstone_chat-gpt/.venv/lib/python3.11/site-packages/textblob/translate.py:76\u001b[0m, in \u001b[0;36mTranslator.detect\u001b[0;34m(self, source, host, type_)\u001b[0m\n\u001b[1;32m     70\u001b[0m data \u001b[39m=\u001b[39m {\u001b[39m\"\u001b[39m\u001b[39mq\u001b[39m\u001b[39m\"\u001b[39m: source}\n\u001b[1;32m     71\u001b[0m url \u001b[39m=\u001b[39m \u001b[39mu\u001b[39m\u001b[39m'\u001b[39m\u001b[39m{url}\u001b[39;00m\u001b[39m&sl=auto&tk=\u001b[39m\u001b[39m{tk}\u001b[39;00m\u001b[39m&client=\u001b[39m\u001b[39m{client}\u001b[39;00m\u001b[39m'\u001b[39m\u001b[39m.\u001b[39mformat(\n\u001b[1;32m     72\u001b[0m     url\u001b[39m=\u001b[39m\u001b[39mself\u001b[39m\u001b[39m.\u001b[39murl,\n\u001b[1;32m     73\u001b[0m     tk\u001b[39m=\u001b[39m_calculate_tk(source),\n\u001b[1;32m     74\u001b[0m     client\u001b[39m=\u001b[39m\u001b[39m\"\u001b[39m\u001b[39mte\u001b[39m\u001b[39m\"\u001b[39m,\n\u001b[1;32m     75\u001b[0m )\n\u001b[0;32m---> 76\u001b[0m response \u001b[39m=\u001b[39m \u001b[39mself\u001b[39;49m\u001b[39m.\u001b[39;49m_request(url, host\u001b[39m=\u001b[39;49mhost, type_\u001b[39m=\u001b[39;49mtype_, data\u001b[39m=\u001b[39;49mdata)\n\u001b[1;32m     77\u001b[0m result, language \u001b[39m=\u001b[39m json\u001b[39m.\u001b[39mloads(response)\n\u001b[1;32m     78\u001b[0m \u001b[39mreturn\u001b[39;00m language\n",
      "File \u001b[0;32m~/Documents/neuefische/repos/capstone_chat-gpt/.venv/lib/python3.11/site-packages/textblob/translate.py:96\u001b[0m, in \u001b[0;36mTranslator._request\u001b[0;34m(self, url, host, type_, data)\u001b[0m\n\u001b[1;32m     94\u001b[0m \u001b[39mif\u001b[39;00m host \u001b[39mor\u001b[39;00m type_:\n\u001b[1;32m     95\u001b[0m     req\u001b[39m.\u001b[39mset_proxy(host\u001b[39m=\u001b[39mhost, \u001b[39mtype\u001b[39m\u001b[39m=\u001b[39mtype_)\n\u001b[0;32m---> 96\u001b[0m resp \u001b[39m=\u001b[39m request\u001b[39m.\u001b[39;49murlopen(req)\n\u001b[1;32m     97\u001b[0m content \u001b[39m=\u001b[39m resp\u001b[39m.\u001b[39mread()\n\u001b[1;32m     98\u001b[0m \u001b[39mreturn\u001b[39;00m content\u001b[39m.\u001b[39mdecode(\u001b[39m'\u001b[39m\u001b[39mutf-8\u001b[39m\u001b[39m'\u001b[39m)\n",
      "File \u001b[0;32m~/.pyenv/versions/3.11.3/lib/python3.11/urllib/request.py:216\u001b[0m, in \u001b[0;36murlopen\u001b[0;34m(url, data, timeout, cafile, capath, cadefault, context)\u001b[0m\n\u001b[1;32m    214\u001b[0m \u001b[39melse\u001b[39;00m:\n\u001b[1;32m    215\u001b[0m     opener \u001b[39m=\u001b[39m _opener\n\u001b[0;32m--> 216\u001b[0m \u001b[39mreturn\u001b[39;00m opener\u001b[39m.\u001b[39;49mopen(url, data, timeout)\n",
      "File \u001b[0;32m~/.pyenv/versions/3.11.3/lib/python3.11/urllib/request.py:525\u001b[0m, in \u001b[0;36mOpenerDirector.open\u001b[0;34m(self, fullurl, data, timeout)\u001b[0m\n\u001b[1;32m    523\u001b[0m \u001b[39mfor\u001b[39;00m processor \u001b[39min\u001b[39;00m \u001b[39mself\u001b[39m\u001b[39m.\u001b[39mprocess_response\u001b[39m.\u001b[39mget(protocol, []):\n\u001b[1;32m    524\u001b[0m     meth \u001b[39m=\u001b[39m \u001b[39mgetattr\u001b[39m(processor, meth_name)\n\u001b[0;32m--> 525\u001b[0m     response \u001b[39m=\u001b[39m meth(req, response)\n\u001b[1;32m    527\u001b[0m \u001b[39mreturn\u001b[39;00m response\n",
      "File \u001b[0;32m~/.pyenv/versions/3.11.3/lib/python3.11/urllib/request.py:634\u001b[0m, in \u001b[0;36mHTTPErrorProcessor.http_response\u001b[0;34m(self, request, response)\u001b[0m\n\u001b[1;32m    631\u001b[0m \u001b[39m# According to RFC 2616, \"2xx\" code indicates that the client's\u001b[39;00m\n\u001b[1;32m    632\u001b[0m \u001b[39m# request was successfully received, understood, and accepted.\u001b[39;00m\n\u001b[1;32m    633\u001b[0m \u001b[39mif\u001b[39;00m \u001b[39mnot\u001b[39;00m (\u001b[39m200\u001b[39m \u001b[39m<\u001b[39m\u001b[39m=\u001b[39m code \u001b[39m<\u001b[39m \u001b[39m300\u001b[39m):\n\u001b[0;32m--> 634\u001b[0m     response \u001b[39m=\u001b[39m \u001b[39mself\u001b[39;49m\u001b[39m.\u001b[39;49mparent\u001b[39m.\u001b[39;49merror(\n\u001b[1;32m    635\u001b[0m         \u001b[39m'\u001b[39;49m\u001b[39mhttp\u001b[39;49m\u001b[39m'\u001b[39;49m, request, response, code, msg, hdrs)\n\u001b[1;32m    637\u001b[0m \u001b[39mreturn\u001b[39;00m response\n",
      "File \u001b[0;32m~/.pyenv/versions/3.11.3/lib/python3.11/urllib/request.py:563\u001b[0m, in \u001b[0;36mOpenerDirector.error\u001b[0;34m(self, proto, *args)\u001b[0m\n\u001b[1;32m    561\u001b[0m \u001b[39mif\u001b[39;00m http_err:\n\u001b[1;32m    562\u001b[0m     args \u001b[39m=\u001b[39m (\u001b[39mdict\u001b[39m, \u001b[39m'\u001b[39m\u001b[39mdefault\u001b[39m\u001b[39m'\u001b[39m, \u001b[39m'\u001b[39m\u001b[39mhttp_error_default\u001b[39m\u001b[39m'\u001b[39m) \u001b[39m+\u001b[39m orig_args\n\u001b[0;32m--> 563\u001b[0m     \u001b[39mreturn\u001b[39;00m \u001b[39mself\u001b[39;49m\u001b[39m.\u001b[39;49m_call_chain(\u001b[39m*\u001b[39;49margs)\n",
      "File \u001b[0;32m~/.pyenv/versions/3.11.3/lib/python3.11/urllib/request.py:496\u001b[0m, in \u001b[0;36mOpenerDirector._call_chain\u001b[0;34m(self, chain, kind, meth_name, *args)\u001b[0m\n\u001b[1;32m    494\u001b[0m \u001b[39mfor\u001b[39;00m handler \u001b[39min\u001b[39;00m handlers:\n\u001b[1;32m    495\u001b[0m     func \u001b[39m=\u001b[39m \u001b[39mgetattr\u001b[39m(handler, meth_name)\n\u001b[0;32m--> 496\u001b[0m     result \u001b[39m=\u001b[39m func(\u001b[39m*\u001b[39;49margs)\n\u001b[1;32m    497\u001b[0m     \u001b[39mif\u001b[39;00m result \u001b[39mis\u001b[39;00m \u001b[39mnot\u001b[39;00m \u001b[39mNone\u001b[39;00m:\n\u001b[1;32m    498\u001b[0m         \u001b[39mreturn\u001b[39;00m result\n",
      "File \u001b[0;32m~/.pyenv/versions/3.11.3/lib/python3.11/urllib/request.py:643\u001b[0m, in \u001b[0;36mHTTPDefaultErrorHandler.http_error_default\u001b[0;34m(self, req, fp, code, msg, hdrs)\u001b[0m\n\u001b[1;32m    642\u001b[0m \u001b[39mdef\u001b[39;00m \u001b[39mhttp_error_default\u001b[39m(\u001b[39mself\u001b[39m, req, fp, code, msg, hdrs):\n\u001b[0;32m--> 643\u001b[0m     \u001b[39mraise\u001b[39;00m HTTPError(req\u001b[39m.\u001b[39mfull_url, code, msg, hdrs, fp)\n",
      "\u001b[0;31mHTTPError\u001b[0m: HTTP Error 400: Bad Request"
     ]
    }
   ],
   "source": [
    "b = TextBlob(\"bonjour\")\n",
    "b.detect_language()"
   ]
  },
  {
   "cell_type": "code",
   "execution_count": 122,
   "metadata": {},
   "outputs": [
    {
     "name": "stdout",
     "output_type": "stream",
     "text": [
      "Requirement already satisfied: spacy in /Users/martjebuss/Documents/neuefische/repos/capstone_chat-gpt/.venv/lib/python3.11/site-packages (3.7.2)\n",
      "Requirement already satisfied: spacy-legacy<3.1.0,>=3.0.11 in /Users/martjebuss/Documents/neuefische/repos/capstone_chat-gpt/.venv/lib/python3.11/site-packages (from spacy) (3.0.12)\n",
      "Requirement already satisfied: spacy-loggers<2.0.0,>=1.0.0 in /Users/martjebuss/Documents/neuefische/repos/capstone_chat-gpt/.venv/lib/python3.11/site-packages (from spacy) (1.0.5)\n",
      "Requirement already satisfied: murmurhash<1.1.0,>=0.28.0 in /Users/martjebuss/Documents/neuefische/repos/capstone_chat-gpt/.venv/lib/python3.11/site-packages (from spacy) (1.0.10)\n",
      "Requirement already satisfied: cymem<2.1.0,>=2.0.2 in /Users/martjebuss/Documents/neuefische/repos/capstone_chat-gpt/.venv/lib/python3.11/site-packages (from spacy) (2.0.8)\n",
      "Requirement already satisfied: preshed<3.1.0,>=3.0.2 in /Users/martjebuss/Documents/neuefische/repos/capstone_chat-gpt/.venv/lib/python3.11/site-packages (from spacy) (3.0.9)\n",
      "Requirement already satisfied: thinc<8.3.0,>=8.1.8 in /Users/martjebuss/Documents/neuefische/repos/capstone_chat-gpt/.venv/lib/python3.11/site-packages (from spacy) (8.2.1)\n",
      "Requirement already satisfied: wasabi<1.2.0,>=0.9.1 in /Users/martjebuss/Documents/neuefische/repos/capstone_chat-gpt/.venv/lib/python3.11/site-packages (from spacy) (1.1.2)\n",
      "Requirement already satisfied: srsly<3.0.0,>=2.4.3 in /Users/martjebuss/Documents/neuefische/repos/capstone_chat-gpt/.venv/lib/python3.11/site-packages (from spacy) (2.4.8)\n",
      "Requirement already satisfied: catalogue<2.1.0,>=2.0.6 in /Users/martjebuss/Documents/neuefische/repos/capstone_chat-gpt/.venv/lib/python3.11/site-packages (from spacy) (2.0.10)\n",
      "Requirement already satisfied: weasel<0.4.0,>=0.1.0 in /Users/martjebuss/Documents/neuefische/repos/capstone_chat-gpt/.venv/lib/python3.11/site-packages (from spacy) (0.3.3)\n",
      "Requirement already satisfied: typer<0.10.0,>=0.3.0 in /Users/martjebuss/Documents/neuefische/repos/capstone_chat-gpt/.venv/lib/python3.11/site-packages (from spacy) (0.9.0)\n",
      "Requirement already satisfied: smart-open<7.0.0,>=5.2.1 in /Users/martjebuss/Documents/neuefische/repos/capstone_chat-gpt/.venv/lib/python3.11/site-packages (from spacy) (6.4.0)\n",
      "Requirement already satisfied: tqdm<5.0.0,>=4.38.0 in /Users/martjebuss/Documents/neuefische/repos/capstone_chat-gpt/.venv/lib/python3.11/site-packages (from spacy) (4.66.1)\n",
      "Requirement already satisfied: requests<3.0.0,>=2.13.0 in /Users/martjebuss/Documents/neuefische/repos/capstone_chat-gpt/.venv/lib/python3.11/site-packages (from spacy) (2.31.0)\n",
      "Requirement already satisfied: pydantic!=1.8,!=1.8.1,<3.0.0,>=1.7.4 in /Users/martjebuss/Documents/neuefische/repos/capstone_chat-gpt/.venv/lib/python3.11/site-packages (from spacy) (2.4.2)\n",
      "Requirement already satisfied: jinja2 in /Users/martjebuss/Documents/neuefische/repos/capstone_chat-gpt/.venv/lib/python3.11/site-packages (from spacy) (3.1.2)\n",
      "Requirement already satisfied: setuptools in /Users/martjebuss/Documents/neuefische/repos/capstone_chat-gpt/.venv/lib/python3.11/site-packages (from spacy) (65.5.0)\n",
      "Requirement already satisfied: packaging>=20.0 in /Users/martjebuss/Documents/neuefische/repos/capstone_chat-gpt/.venv/lib/python3.11/site-packages (from spacy) (23.2)\n",
      "Requirement already satisfied: langcodes<4.0.0,>=3.2.0 in /Users/martjebuss/Documents/neuefische/repos/capstone_chat-gpt/.venv/lib/python3.11/site-packages (from spacy) (3.3.0)\n",
      "Requirement already satisfied: numpy>=1.19.0 in /Users/martjebuss/Documents/neuefische/repos/capstone_chat-gpt/.venv/lib/python3.11/site-packages (from spacy) (1.23.5)\n",
      "Requirement already satisfied: annotated-types>=0.4.0 in /Users/martjebuss/Documents/neuefische/repos/capstone_chat-gpt/.venv/lib/python3.11/site-packages (from pydantic!=1.8,!=1.8.1,<3.0.0,>=1.7.4->spacy) (0.6.0)\n",
      "Requirement already satisfied: pydantic-core==2.10.1 in /Users/martjebuss/Documents/neuefische/repos/capstone_chat-gpt/.venv/lib/python3.11/site-packages (from pydantic!=1.8,!=1.8.1,<3.0.0,>=1.7.4->spacy) (2.10.1)\n",
      "Requirement already satisfied: typing-extensions>=4.6.1 in /Users/martjebuss/Documents/neuefische/repos/capstone_chat-gpt/.venv/lib/python3.11/site-packages (from pydantic!=1.8,!=1.8.1,<3.0.0,>=1.7.4->spacy) (4.8.0)\n",
      "Requirement already satisfied: charset-normalizer<4,>=2 in /Users/martjebuss/Documents/neuefische/repos/capstone_chat-gpt/.venv/lib/python3.11/site-packages (from requests<3.0.0,>=2.13.0->spacy) (3.3.1)\n",
      "Requirement already satisfied: idna<4,>=2.5 in /Users/martjebuss/Documents/neuefische/repos/capstone_chat-gpt/.venv/lib/python3.11/site-packages (from requests<3.0.0,>=2.13.0->spacy) (3.4)\n",
      "Requirement already satisfied: urllib3<3,>=1.21.1 in /Users/martjebuss/Documents/neuefische/repos/capstone_chat-gpt/.venv/lib/python3.11/site-packages (from requests<3.0.0,>=2.13.0->spacy) (2.0.7)\n",
      "Requirement already satisfied: certifi>=2017.4.17 in /Users/martjebuss/Documents/neuefische/repos/capstone_chat-gpt/.venv/lib/python3.11/site-packages (from requests<3.0.0,>=2.13.0->spacy) (2023.7.22)\n",
      "Requirement already satisfied: blis<0.8.0,>=0.7.8 in /Users/martjebuss/Documents/neuefische/repos/capstone_chat-gpt/.venv/lib/python3.11/site-packages (from thinc<8.3.0,>=8.1.8->spacy) (0.7.11)\n",
      "Requirement already satisfied: confection<1.0.0,>=0.0.1 in /Users/martjebuss/Documents/neuefische/repos/capstone_chat-gpt/.venv/lib/python3.11/site-packages (from thinc<8.3.0,>=8.1.8->spacy) (0.1.3)\n",
      "Requirement already satisfied: click<9.0.0,>=7.1.1 in /Users/martjebuss/Documents/neuefische/repos/capstone_chat-gpt/.venv/lib/python3.11/site-packages (from typer<0.10.0,>=0.3.0->spacy) (8.1.7)\n",
      "Requirement already satisfied: cloudpathlib<0.17.0,>=0.7.0 in /Users/martjebuss/Documents/neuefische/repos/capstone_chat-gpt/.venv/lib/python3.11/site-packages (from weasel<0.4.0,>=0.1.0->spacy) (0.16.0)\n",
      "Requirement already satisfied: MarkupSafe>=2.0 in /Users/martjebuss/Documents/neuefische/repos/capstone_chat-gpt/.venv/lib/python3.11/site-packages (from jinja2->spacy) (2.1.3)\n",
      "Collecting spacy_langdetect\n",
      "  Downloading spacy_langdetect-0.1.2-py3-none-any.whl (5.0 kB)\n",
      "Collecting pytest (from spacy_langdetect)\n",
      "  Downloading pytest-7.4.3-py3-none-any.whl.metadata (7.9 kB)\n",
      "Collecting langdetect==1.0.7 (from spacy_langdetect)\n",
      "  Downloading langdetect-1.0.7.zip (998 kB)\n",
      "\u001b[2K     \u001b[38;2;114;156;31m━━━━━━━━━━━━━━━━━━━━━━━━━━━━━━━━━━━━━━\u001b[0m \u001b[32m998.1/998.1 kB\u001b[0m \u001b[31m13.6 MB/s\u001b[0m eta \u001b[36m0:00:00\u001b[0mm eta \u001b[36m0:00:01\u001b[0m0:01\u001b[0m\n",
      "\u001b[?25h  Preparing metadata (setup.py) ... \u001b[?25ldone\n",
      "\u001b[?25hRequirement already satisfied: six in /Users/martjebuss/Documents/neuefische/repos/capstone_chat-gpt/.venv/lib/python3.11/site-packages (from langdetect==1.0.7->spacy_langdetect) (1.16.0)\n",
      "Collecting iniconfig (from pytest->spacy_langdetect)\n",
      "  Downloading iniconfig-2.0.0-py3-none-any.whl (5.9 kB)\n",
      "Requirement already satisfied: packaging in /Users/martjebuss/Documents/neuefische/repos/capstone_chat-gpt/.venv/lib/python3.11/site-packages (from pytest->spacy_langdetect) (23.2)\n",
      "Collecting pluggy<2.0,>=0.12 (from pytest->spacy_langdetect)\n",
      "  Downloading pluggy-1.3.0-py3-none-any.whl.metadata (4.3 kB)\n",
      "Downloading pytest-7.4.3-py3-none-any.whl (325 kB)\n",
      "\u001b[2K   \u001b[38;2;114;156;31m━━━━━━━━━━━━━━━━━━━━━━━━━━━━━━━━━━━━━━━━\u001b[0m \u001b[32m325.1/325.1 kB\u001b[0m \u001b[31m20.0 MB/s\u001b[0m eta \u001b[36m0:00:00\u001b[0m\n",
      "\u001b[?25hDownloading pluggy-1.3.0-py3-none-any.whl (18 kB)\n",
      "Building wheels for collected packages: langdetect\n",
      "  Building wheel for langdetect (setup.py) ... \u001b[?25ldone\n",
      "\u001b[?25h  Created wheel for langdetect: filename=langdetect-1.0.7-py3-none-any.whl size=993412 sha256=84c379a19cc9dea60b01273f1bc1d2a6f6883a6d0075fbe519a6b200e31a7ba8\n",
      "  Stored in directory: /Users/martjebuss/Library/Caches/pip/wheels/c7/22/8b/c053f2c06a804491c614f194322b8fa897fd092e47e75c51de\n",
      "Successfully built langdetect\n",
      "Installing collected packages: pluggy, langdetect, iniconfig, pytest, spacy_langdetect\n",
      "  Attempting uninstall: langdetect\n",
      "    Found existing installation: langdetect 1.0.9\n",
      "    Uninstalling langdetect-1.0.9:\n",
      "      Successfully uninstalled langdetect-1.0.9\n",
      "Successfully installed iniconfig-2.0.0 langdetect-1.0.7 pluggy-1.3.0 pytest-7.4.3 spacy_langdetect-0.1.2\n"
     ]
    }
   ],
   "source": [
    "!pip install spacy\n",
    "!pip install spacy_langdetect"
   ]
  },
  {
   "cell_type": "code",
   "execution_count": 129,
   "metadata": {},
   "outputs": [],
   "source": [
    "import spacy\n",
    "from spacy_langdetect import LanguageDetector"
   ]
  },
  {
   "cell_type": "code",
   "execution_count": 127,
   "metadata": {},
   "outputs": [
    {
     "name": "stdout",
     "output_type": "stream",
     "text": [
      "Collecting en-core-web-sm==3.7.0\n",
      "  Downloading https://github.com/explosion/spacy-models/releases/download/en_core_web_sm-3.7.0/en_core_web_sm-3.7.0-py3-none-any.whl (12.8 MB)\n",
      "\u001b[2K     \u001b[38;2;114;156;31m━━━━━━━━━━━━━━━━━━━━━━━━━━━━━━━━━━━━━━━━\u001b[0m \u001b[32m12.8/12.8 MB\u001b[0m \u001b[31m19.7 MB/s\u001b[0m eta \u001b[36m0:00:00\u001b[0mm eta \u001b[36m0:00:01\u001b[0m0:01\u001b[0m:01\u001b[0m\n",
      "\u001b[?25hRequirement already satisfied: spacy<3.8.0,>=3.7.0 in /Users/martjebuss/Documents/neuefische/repos/capstone_chat-gpt/.venv/lib/python3.11/site-packages (from en-core-web-sm==3.7.0) (3.7.2)\n",
      "Requirement already satisfied: spacy-legacy<3.1.0,>=3.0.11 in /Users/martjebuss/Documents/neuefische/repos/capstone_chat-gpt/.venv/lib/python3.11/site-packages (from spacy<3.8.0,>=3.7.0->en-core-web-sm==3.7.0) (3.0.12)\n",
      "Requirement already satisfied: spacy-loggers<2.0.0,>=1.0.0 in /Users/martjebuss/Documents/neuefische/repos/capstone_chat-gpt/.venv/lib/python3.11/site-packages (from spacy<3.8.0,>=3.7.0->en-core-web-sm==3.7.0) (1.0.5)\n",
      "Requirement already satisfied: murmurhash<1.1.0,>=0.28.0 in /Users/martjebuss/Documents/neuefische/repos/capstone_chat-gpt/.venv/lib/python3.11/site-packages (from spacy<3.8.0,>=3.7.0->en-core-web-sm==3.7.0) (1.0.10)\n",
      "Requirement already satisfied: cymem<2.1.0,>=2.0.2 in /Users/martjebuss/Documents/neuefische/repos/capstone_chat-gpt/.venv/lib/python3.11/site-packages (from spacy<3.8.0,>=3.7.0->en-core-web-sm==3.7.0) (2.0.8)\n",
      "Requirement already satisfied: preshed<3.1.0,>=3.0.2 in /Users/martjebuss/Documents/neuefische/repos/capstone_chat-gpt/.venv/lib/python3.11/site-packages (from spacy<3.8.0,>=3.7.0->en-core-web-sm==3.7.0) (3.0.9)\n",
      "Requirement already satisfied: thinc<8.3.0,>=8.1.8 in /Users/martjebuss/Documents/neuefische/repos/capstone_chat-gpt/.venv/lib/python3.11/site-packages (from spacy<3.8.0,>=3.7.0->en-core-web-sm==3.7.0) (8.2.1)\n",
      "Requirement already satisfied: wasabi<1.2.0,>=0.9.1 in /Users/martjebuss/Documents/neuefische/repos/capstone_chat-gpt/.venv/lib/python3.11/site-packages (from spacy<3.8.0,>=3.7.0->en-core-web-sm==3.7.0) (1.1.2)\n",
      "Requirement already satisfied: srsly<3.0.0,>=2.4.3 in /Users/martjebuss/Documents/neuefische/repos/capstone_chat-gpt/.venv/lib/python3.11/site-packages (from spacy<3.8.0,>=3.7.0->en-core-web-sm==3.7.0) (2.4.8)\n",
      "Requirement already satisfied: catalogue<2.1.0,>=2.0.6 in /Users/martjebuss/Documents/neuefische/repos/capstone_chat-gpt/.venv/lib/python3.11/site-packages (from spacy<3.8.0,>=3.7.0->en-core-web-sm==3.7.0) (2.0.10)\n",
      "Requirement already satisfied: weasel<0.4.0,>=0.1.0 in /Users/martjebuss/Documents/neuefische/repos/capstone_chat-gpt/.venv/lib/python3.11/site-packages (from spacy<3.8.0,>=3.7.0->en-core-web-sm==3.7.0) (0.3.3)\n",
      "Requirement already satisfied: typer<0.10.0,>=0.3.0 in /Users/martjebuss/Documents/neuefische/repos/capstone_chat-gpt/.venv/lib/python3.11/site-packages (from spacy<3.8.0,>=3.7.0->en-core-web-sm==3.7.0) (0.9.0)\n",
      "Requirement already satisfied: smart-open<7.0.0,>=5.2.1 in /Users/martjebuss/Documents/neuefische/repos/capstone_chat-gpt/.venv/lib/python3.11/site-packages (from spacy<3.8.0,>=3.7.0->en-core-web-sm==3.7.0) (6.4.0)\n",
      "Requirement already satisfied: tqdm<5.0.0,>=4.38.0 in /Users/martjebuss/Documents/neuefische/repos/capstone_chat-gpt/.venv/lib/python3.11/site-packages (from spacy<3.8.0,>=3.7.0->en-core-web-sm==3.7.0) (4.66.1)\n",
      "Requirement already satisfied: requests<3.0.0,>=2.13.0 in /Users/martjebuss/Documents/neuefische/repos/capstone_chat-gpt/.venv/lib/python3.11/site-packages (from spacy<3.8.0,>=3.7.0->en-core-web-sm==3.7.0) (2.31.0)\n",
      "Requirement already satisfied: pydantic!=1.8,!=1.8.1,<3.0.0,>=1.7.4 in /Users/martjebuss/Documents/neuefische/repos/capstone_chat-gpt/.venv/lib/python3.11/site-packages (from spacy<3.8.0,>=3.7.0->en-core-web-sm==3.7.0) (2.4.2)\n",
      "Requirement already satisfied: jinja2 in /Users/martjebuss/Documents/neuefische/repos/capstone_chat-gpt/.venv/lib/python3.11/site-packages (from spacy<3.8.0,>=3.7.0->en-core-web-sm==3.7.0) (3.1.2)\n",
      "Requirement already satisfied: setuptools in /Users/martjebuss/Documents/neuefische/repos/capstone_chat-gpt/.venv/lib/python3.11/site-packages (from spacy<3.8.0,>=3.7.0->en-core-web-sm==3.7.0) (65.5.0)\n",
      "Requirement already satisfied: packaging>=20.0 in /Users/martjebuss/Documents/neuefische/repos/capstone_chat-gpt/.venv/lib/python3.11/site-packages (from spacy<3.8.0,>=3.7.0->en-core-web-sm==3.7.0) (23.2)\n",
      "Requirement already satisfied: langcodes<4.0.0,>=3.2.0 in /Users/martjebuss/Documents/neuefische/repos/capstone_chat-gpt/.venv/lib/python3.11/site-packages (from spacy<3.8.0,>=3.7.0->en-core-web-sm==3.7.0) (3.3.0)\n",
      "Requirement already satisfied: numpy>=1.19.0 in /Users/martjebuss/Documents/neuefische/repos/capstone_chat-gpt/.venv/lib/python3.11/site-packages (from spacy<3.8.0,>=3.7.0->en-core-web-sm==3.7.0) (1.23.5)\n",
      "Requirement already satisfied: annotated-types>=0.4.0 in /Users/martjebuss/Documents/neuefische/repos/capstone_chat-gpt/.venv/lib/python3.11/site-packages (from pydantic!=1.8,!=1.8.1,<3.0.0,>=1.7.4->spacy<3.8.0,>=3.7.0->en-core-web-sm==3.7.0) (0.6.0)\n",
      "Requirement already satisfied: pydantic-core==2.10.1 in /Users/martjebuss/Documents/neuefische/repos/capstone_chat-gpt/.venv/lib/python3.11/site-packages (from pydantic!=1.8,!=1.8.1,<3.0.0,>=1.7.4->spacy<3.8.0,>=3.7.0->en-core-web-sm==3.7.0) (2.10.1)\n",
      "Requirement already satisfied: typing-extensions>=4.6.1 in /Users/martjebuss/Documents/neuefische/repos/capstone_chat-gpt/.venv/lib/python3.11/site-packages (from pydantic!=1.8,!=1.8.1,<3.0.0,>=1.7.4->spacy<3.8.0,>=3.7.0->en-core-web-sm==3.7.0) (4.8.0)\n",
      "Requirement already satisfied: charset-normalizer<4,>=2 in /Users/martjebuss/Documents/neuefische/repos/capstone_chat-gpt/.venv/lib/python3.11/site-packages (from requests<3.0.0,>=2.13.0->spacy<3.8.0,>=3.7.0->en-core-web-sm==3.7.0) (3.3.1)\n",
      "Requirement already satisfied: idna<4,>=2.5 in /Users/martjebuss/Documents/neuefische/repos/capstone_chat-gpt/.venv/lib/python3.11/site-packages (from requests<3.0.0,>=2.13.0->spacy<3.8.0,>=3.7.0->en-core-web-sm==3.7.0) (3.4)\n",
      "Requirement already satisfied: urllib3<3,>=1.21.1 in /Users/martjebuss/Documents/neuefische/repos/capstone_chat-gpt/.venv/lib/python3.11/site-packages (from requests<3.0.0,>=2.13.0->spacy<3.8.0,>=3.7.0->en-core-web-sm==3.7.0) (2.0.7)\n",
      "Requirement already satisfied: certifi>=2017.4.17 in /Users/martjebuss/Documents/neuefische/repos/capstone_chat-gpt/.venv/lib/python3.11/site-packages (from requests<3.0.0,>=2.13.0->spacy<3.8.0,>=3.7.0->en-core-web-sm==3.7.0) (2023.7.22)\n",
      "Requirement already satisfied: blis<0.8.0,>=0.7.8 in /Users/martjebuss/Documents/neuefische/repos/capstone_chat-gpt/.venv/lib/python3.11/site-packages (from thinc<8.3.0,>=8.1.8->spacy<3.8.0,>=3.7.0->en-core-web-sm==3.7.0) (0.7.11)\n",
      "Requirement already satisfied: confection<1.0.0,>=0.0.1 in /Users/martjebuss/Documents/neuefische/repos/capstone_chat-gpt/.venv/lib/python3.11/site-packages (from thinc<8.3.0,>=8.1.8->spacy<3.8.0,>=3.7.0->en-core-web-sm==3.7.0) (0.1.3)\n",
      "Requirement already satisfied: click<9.0.0,>=7.1.1 in /Users/martjebuss/Documents/neuefische/repos/capstone_chat-gpt/.venv/lib/python3.11/site-packages (from typer<0.10.0,>=0.3.0->spacy<3.8.0,>=3.7.0->en-core-web-sm==3.7.0) (8.1.7)\n",
      "Requirement already satisfied: cloudpathlib<0.17.0,>=0.7.0 in /Users/martjebuss/Documents/neuefische/repos/capstone_chat-gpt/.venv/lib/python3.11/site-packages (from weasel<0.4.0,>=0.1.0->spacy<3.8.0,>=3.7.0->en-core-web-sm==3.7.0) (0.16.0)\n",
      "Requirement already satisfied: MarkupSafe>=2.0 in /Users/martjebuss/Documents/neuefische/repos/capstone_chat-gpt/.venv/lib/python3.11/site-packages (from jinja2->spacy<3.8.0,>=3.7.0->en-core-web-sm==3.7.0) (2.1.3)\n",
      "Installing collected packages: en-core-web-sm\n",
      "Successfully installed en-core-web-sm-3.7.0\n",
      "\u001b[38;5;2m✔ Download and installation successful\u001b[0m\n",
      "You can now load the package via spacy.load('en_core_web_sm')\n"
     ]
    }
   ],
   "source": [
    "!python -m spacy download en_core_web_sm"
   ]
  },
  {
   "cell_type": "code",
   "execution_count": 130,
   "metadata": {},
   "outputs": [
    {
     "ename": "ValueError",
     "evalue": "[E966] `nlp.add_pipe` now takes the string name of the registered component factory, not a callable component. Expected string, but got <spacy_langdetect.spacy_langdetect.LanguageDetector object at 0x17d00a490> (name: 'language_detector').\n\n- If you created your component with `nlp.create_pipe('name')`: remove nlp.create_pipe and call `nlp.add_pipe('name')` instead.\n\n- If you passed in a component like `TextCategorizer()`: call `nlp.add_pipe` with the string name instead, e.g. `nlp.add_pipe('textcat')`.\n\n- If you're using a custom component: Add the decorator `@Language.component` (for function components) or `@Language.factory` (for class components / factories) to your custom component and assign it a name, e.g. `@Language.component('your_name')`. You can then run `nlp.add_pipe('your_name')` to add it to the pipeline.",
     "output_type": "error",
     "traceback": [
      "\u001b[0;31m---------------------------------------------------------------------------\u001b[0m",
      "\u001b[0;31mValueError\u001b[0m                                Traceback (most recent call last)",
      "\u001b[1;32m/Users/martjebuss/Documents/neuefische/repos/capstone_chat-gpt/notebooks/Data_cleaning.ipynb Cell 27\u001b[0m line \u001b[0;36m2\n\u001b[1;32m      <a href='vscode-notebook-cell:/Users/martjebuss/Documents/neuefische/repos/capstone_chat-gpt/notebooks/Data_cleaning.ipynb#X66sZmlsZQ%3D%3D?line=0'>1</a>\u001b[0m nlp \u001b[39m=\u001b[39m spacy\u001b[39m.\u001b[39mload(\u001b[39m'\u001b[39m\u001b[39men_core_web_sm\u001b[39m\u001b[39m'\u001b[39m)\n\u001b[0;32m----> <a href='vscode-notebook-cell:/Users/martjebuss/Documents/neuefische/repos/capstone_chat-gpt/notebooks/Data_cleaning.ipynb#X66sZmlsZQ%3D%3D?line=1'>2</a>\u001b[0m nlp\u001b[39m.\u001b[39;49madd_pipe(LanguageDetector(), name\u001b[39m=\u001b[39;49m\u001b[39m'\u001b[39;49m\u001b[39mlanguage_detector\u001b[39;49m\u001b[39m'\u001b[39;49m, last\u001b[39m=\u001b[39;49m\u001b[39mTrue\u001b[39;49;00m)\n",
      "File \u001b[0;32m~/Documents/neuefische/repos/capstone_chat-gpt/.venv/lib/python3.11/site-packages/spacy/language.py:807\u001b[0m, in \u001b[0;36mLanguage.add_pipe\u001b[0;34m(self, factory_name, name, before, after, first, last, source, config, raw_config, validate)\u001b[0m\n\u001b[1;32m    805\u001b[0m     bad_val \u001b[39m=\u001b[39m \u001b[39mrepr\u001b[39m(factory_name)\n\u001b[1;32m    806\u001b[0m     err \u001b[39m=\u001b[39m Errors\u001b[39m.\u001b[39mE966\u001b[39m.\u001b[39mformat(component\u001b[39m=\u001b[39mbad_val, name\u001b[39m=\u001b[39mname)\n\u001b[0;32m--> 807\u001b[0m     \u001b[39mraise\u001b[39;00m \u001b[39mValueError\u001b[39;00m(err)\n\u001b[1;32m    808\u001b[0m name \u001b[39m=\u001b[39m name \u001b[39mif\u001b[39;00m name \u001b[39mis\u001b[39;00m \u001b[39mnot\u001b[39;00m \u001b[39mNone\u001b[39;00m \u001b[39melse\u001b[39;00m factory_name\n\u001b[1;32m    809\u001b[0m \u001b[39mif\u001b[39;00m name \u001b[39min\u001b[39;00m \u001b[39mself\u001b[39m\u001b[39m.\u001b[39mcomponent_names:\n",
      "\u001b[0;31mValueError\u001b[0m: [E966] `nlp.add_pipe` now takes the string name of the registered component factory, not a callable component. Expected string, but got <spacy_langdetect.spacy_langdetect.LanguageDetector object at 0x17d00a490> (name: 'language_detector').\n\n- If you created your component with `nlp.create_pipe('name')`: remove nlp.create_pipe and call `nlp.add_pipe('name')` instead.\n\n- If you passed in a component like `TextCategorizer()`: call `nlp.add_pipe` with the string name instead, e.g. `nlp.add_pipe('textcat')`.\n\n- If you're using a custom component: Add the decorator `@Language.component` (for function components) or `@Language.factory` (for class components / factories) to your custom component and assign it a name, e.g. `@Language.component('your_name')`. You can then run `nlp.add_pipe('your_name')` to add it to the pipeline."
     ]
    }
   ],
   "source": [
    "nlp = spacy.load('en_core_web_sm')\n",
    "nlp.add_pipe(LanguageDetector(), name='language_detector', last=True)"
   ]
  },
  {
   "cell_type": "code",
   "execution_count": 115,
   "metadata": {},
   "outputs": [
    {
     "ename": "HTTPError",
     "evalue": "HTTP Error 400: Bad Request",
     "output_type": "error",
     "traceback": [
      "\u001b[0;31m---------------------------------------------------------------------------\u001b[0m",
      "\u001b[0;31mHTTPError\u001b[0m                                 Traceback (most recent call last)",
      "\u001b[1;32m/Users/martjebuss/Documents/neuefische/repos/capstone_chat-gpt/notebooks/Data_cleaning.ipynb Cell 24\u001b[0m line \u001b[0;36m3\n\u001b[1;32m      <a href='vscode-notebook-cell:/Users/martjebuss/Documents/neuefische/repos/capstone_chat-gpt/notebooks/Data_cleaning.ipynb#X64sZmlsZQ%3D%3D?line=0'>1</a>\u001b[0m text \u001b[39m=\u001b[39m \u001b[39m\"\u001b[39m\u001b[39mIt was a beautiful day .\u001b[39m\u001b[39m\"\u001b[39m\n\u001b[1;32m      <a href='vscode-notebook-cell:/Users/martjebuss/Documents/neuefische/repos/capstone_chat-gpt/notebooks/Data_cleaning.ipynb#X64sZmlsZQ%3D%3D?line=1'>2</a>\u001b[0m lang \u001b[39m=\u001b[39m TextBlob(text)\n\u001b[0;32m----> <a href='vscode-notebook-cell:/Users/martjebuss/Documents/neuefische/repos/capstone_chat-gpt/notebooks/Data_cleaning.ipynb#X64sZmlsZQ%3D%3D?line=2'>3</a>\u001b[0m lang\u001b[39m.\u001b[39;49mdetect_language()\n",
      "File \u001b[0;32m~/Documents/neuefische/repos/capstone_chat-gpt/.venv/lib/python3.11/site-packages/textblob/blob.py:597\u001b[0m, in \u001b[0;36mBaseBlob.detect_language\u001b[0;34m(self)\u001b[0m\n\u001b[1;32m    572\u001b[0m \u001b[39m\u001b[39m\u001b[39m\"\"\"Detect the blob's language using the Google Translate API.\u001b[39;00m\n\u001b[1;32m    573\u001b[0m \n\u001b[1;32m    574\u001b[0m \u001b[39mRequires an internet connection.\u001b[39;00m\n\u001b[0;32m   (...)\u001b[0m\n\u001b[1;32m    590\u001b[0m \u001b[39m:rtype: str\u001b[39;00m\n\u001b[1;32m    591\u001b[0m \u001b[39m\"\"\"\u001b[39;00m\n\u001b[1;32m    592\u001b[0m warnings\u001b[39m.\u001b[39mwarn(\n\u001b[1;32m    593\u001b[0m     \u001b[39m'\u001b[39m\u001b[39mTextBlob.detext_translate is deprecated and will be removed in a future release. \u001b[39m\u001b[39m'\u001b[39m\n\u001b[1;32m    594\u001b[0m     \u001b[39m'\u001b[39m\u001b[39mUse the official Google Translate API instead.\u001b[39m\u001b[39m'\u001b[39m,\n\u001b[1;32m    595\u001b[0m     \u001b[39mDeprecationWarning\u001b[39;00m\n\u001b[1;32m    596\u001b[0m )\n\u001b[0;32m--> 597\u001b[0m \u001b[39mreturn\u001b[39;00m \u001b[39mself\u001b[39;49m\u001b[39m.\u001b[39;49mtranslator\u001b[39m.\u001b[39;49mdetect(\u001b[39mself\u001b[39;49m\u001b[39m.\u001b[39;49mraw)\n",
      "File \u001b[0;32m~/Documents/neuefische/repos/capstone_chat-gpt/.venv/lib/python3.11/site-packages/textblob/translate.py:76\u001b[0m, in \u001b[0;36mTranslator.detect\u001b[0;34m(self, source, host, type_)\u001b[0m\n\u001b[1;32m     70\u001b[0m data \u001b[39m=\u001b[39m {\u001b[39m\"\u001b[39m\u001b[39mq\u001b[39m\u001b[39m\"\u001b[39m: source}\n\u001b[1;32m     71\u001b[0m url \u001b[39m=\u001b[39m \u001b[39mu\u001b[39m\u001b[39m'\u001b[39m\u001b[39m{url}\u001b[39;00m\u001b[39m&sl=auto&tk=\u001b[39m\u001b[39m{tk}\u001b[39;00m\u001b[39m&client=\u001b[39m\u001b[39m{client}\u001b[39;00m\u001b[39m'\u001b[39m\u001b[39m.\u001b[39mformat(\n\u001b[1;32m     72\u001b[0m     url\u001b[39m=\u001b[39m\u001b[39mself\u001b[39m\u001b[39m.\u001b[39murl,\n\u001b[1;32m     73\u001b[0m     tk\u001b[39m=\u001b[39m_calculate_tk(source),\n\u001b[1;32m     74\u001b[0m     client\u001b[39m=\u001b[39m\u001b[39m\"\u001b[39m\u001b[39mte\u001b[39m\u001b[39m\"\u001b[39m,\n\u001b[1;32m     75\u001b[0m )\n\u001b[0;32m---> 76\u001b[0m response \u001b[39m=\u001b[39m \u001b[39mself\u001b[39;49m\u001b[39m.\u001b[39;49m_request(url, host\u001b[39m=\u001b[39;49mhost, type_\u001b[39m=\u001b[39;49mtype_, data\u001b[39m=\u001b[39;49mdata)\n\u001b[1;32m     77\u001b[0m result, language \u001b[39m=\u001b[39m json\u001b[39m.\u001b[39mloads(response)\n\u001b[1;32m     78\u001b[0m \u001b[39mreturn\u001b[39;00m language\n",
      "File \u001b[0;32m~/Documents/neuefische/repos/capstone_chat-gpt/.venv/lib/python3.11/site-packages/textblob/translate.py:96\u001b[0m, in \u001b[0;36mTranslator._request\u001b[0;34m(self, url, host, type_, data)\u001b[0m\n\u001b[1;32m     94\u001b[0m \u001b[39mif\u001b[39;00m host \u001b[39mor\u001b[39;00m type_:\n\u001b[1;32m     95\u001b[0m     req\u001b[39m.\u001b[39mset_proxy(host\u001b[39m=\u001b[39mhost, \u001b[39mtype\u001b[39m\u001b[39m=\u001b[39mtype_)\n\u001b[0;32m---> 96\u001b[0m resp \u001b[39m=\u001b[39m request\u001b[39m.\u001b[39;49murlopen(req)\n\u001b[1;32m     97\u001b[0m content \u001b[39m=\u001b[39m resp\u001b[39m.\u001b[39mread()\n\u001b[1;32m     98\u001b[0m \u001b[39mreturn\u001b[39;00m content\u001b[39m.\u001b[39mdecode(\u001b[39m'\u001b[39m\u001b[39mutf-8\u001b[39m\u001b[39m'\u001b[39m)\n",
      "File \u001b[0;32m~/.pyenv/versions/3.11.3/lib/python3.11/urllib/request.py:216\u001b[0m, in \u001b[0;36murlopen\u001b[0;34m(url, data, timeout, cafile, capath, cadefault, context)\u001b[0m\n\u001b[1;32m    214\u001b[0m \u001b[39melse\u001b[39;00m:\n\u001b[1;32m    215\u001b[0m     opener \u001b[39m=\u001b[39m _opener\n\u001b[0;32m--> 216\u001b[0m \u001b[39mreturn\u001b[39;00m opener\u001b[39m.\u001b[39;49mopen(url, data, timeout)\n",
      "File \u001b[0;32m~/.pyenv/versions/3.11.3/lib/python3.11/urllib/request.py:525\u001b[0m, in \u001b[0;36mOpenerDirector.open\u001b[0;34m(self, fullurl, data, timeout)\u001b[0m\n\u001b[1;32m    523\u001b[0m \u001b[39mfor\u001b[39;00m processor \u001b[39min\u001b[39;00m \u001b[39mself\u001b[39m\u001b[39m.\u001b[39mprocess_response\u001b[39m.\u001b[39mget(protocol, []):\n\u001b[1;32m    524\u001b[0m     meth \u001b[39m=\u001b[39m \u001b[39mgetattr\u001b[39m(processor, meth_name)\n\u001b[0;32m--> 525\u001b[0m     response \u001b[39m=\u001b[39m meth(req, response)\n\u001b[1;32m    527\u001b[0m \u001b[39mreturn\u001b[39;00m response\n",
      "File \u001b[0;32m~/.pyenv/versions/3.11.3/lib/python3.11/urllib/request.py:634\u001b[0m, in \u001b[0;36mHTTPErrorProcessor.http_response\u001b[0;34m(self, request, response)\u001b[0m\n\u001b[1;32m    631\u001b[0m \u001b[39m# According to RFC 2616, \"2xx\" code indicates that the client's\u001b[39;00m\n\u001b[1;32m    632\u001b[0m \u001b[39m# request was successfully received, understood, and accepted.\u001b[39;00m\n\u001b[1;32m    633\u001b[0m \u001b[39mif\u001b[39;00m \u001b[39mnot\u001b[39;00m (\u001b[39m200\u001b[39m \u001b[39m<\u001b[39m\u001b[39m=\u001b[39m code \u001b[39m<\u001b[39m \u001b[39m300\u001b[39m):\n\u001b[0;32m--> 634\u001b[0m     response \u001b[39m=\u001b[39m \u001b[39mself\u001b[39;49m\u001b[39m.\u001b[39;49mparent\u001b[39m.\u001b[39;49merror(\n\u001b[1;32m    635\u001b[0m         \u001b[39m'\u001b[39;49m\u001b[39mhttp\u001b[39;49m\u001b[39m'\u001b[39;49m, request, response, code, msg, hdrs)\n\u001b[1;32m    637\u001b[0m \u001b[39mreturn\u001b[39;00m response\n",
      "File \u001b[0;32m~/.pyenv/versions/3.11.3/lib/python3.11/urllib/request.py:563\u001b[0m, in \u001b[0;36mOpenerDirector.error\u001b[0;34m(self, proto, *args)\u001b[0m\n\u001b[1;32m    561\u001b[0m \u001b[39mif\u001b[39;00m http_err:\n\u001b[1;32m    562\u001b[0m     args \u001b[39m=\u001b[39m (\u001b[39mdict\u001b[39m, \u001b[39m'\u001b[39m\u001b[39mdefault\u001b[39m\u001b[39m'\u001b[39m, \u001b[39m'\u001b[39m\u001b[39mhttp_error_default\u001b[39m\u001b[39m'\u001b[39m) \u001b[39m+\u001b[39m orig_args\n\u001b[0;32m--> 563\u001b[0m     \u001b[39mreturn\u001b[39;00m \u001b[39mself\u001b[39;49m\u001b[39m.\u001b[39;49m_call_chain(\u001b[39m*\u001b[39;49margs)\n",
      "File \u001b[0;32m~/.pyenv/versions/3.11.3/lib/python3.11/urllib/request.py:496\u001b[0m, in \u001b[0;36mOpenerDirector._call_chain\u001b[0;34m(self, chain, kind, meth_name, *args)\u001b[0m\n\u001b[1;32m    494\u001b[0m \u001b[39mfor\u001b[39;00m handler \u001b[39min\u001b[39;00m handlers:\n\u001b[1;32m    495\u001b[0m     func \u001b[39m=\u001b[39m \u001b[39mgetattr\u001b[39m(handler, meth_name)\n\u001b[0;32m--> 496\u001b[0m     result \u001b[39m=\u001b[39m func(\u001b[39m*\u001b[39;49margs)\n\u001b[1;32m    497\u001b[0m     \u001b[39mif\u001b[39;00m result \u001b[39mis\u001b[39;00m \u001b[39mnot\u001b[39;00m \u001b[39mNone\u001b[39;00m:\n\u001b[1;32m    498\u001b[0m         \u001b[39mreturn\u001b[39;00m result\n",
      "File \u001b[0;32m~/.pyenv/versions/3.11.3/lib/python3.11/urllib/request.py:643\u001b[0m, in \u001b[0;36mHTTPDefaultErrorHandler.http_error_default\u001b[0;34m(self, req, fp, code, msg, hdrs)\u001b[0m\n\u001b[1;32m    642\u001b[0m \u001b[39mdef\u001b[39;00m \u001b[39mhttp_error_default\u001b[39m(\u001b[39mself\u001b[39m, req, fp, code, msg, hdrs):\n\u001b[0;32m--> 643\u001b[0m     \u001b[39mraise\u001b[39;00m HTTPError(req\u001b[39m.\u001b[39mfull_url, code, msg, hdrs, fp)\n",
      "\u001b[0;31mHTTPError\u001b[0m: HTTP Error 400: Bad Request"
     ]
    }
   ],
   "source": [
    "text = \"It was a beautiful day .\"\n",
    "lang = TextBlob(text)\n",
    "lang.detect_language()"
   ]
  },
  {
   "cell_type": "code",
   "execution_count": null,
   "metadata": {},
   "outputs": [],
   "source": [
    "for row in df: \n",
    "    "
   ]
  },
  {
   "cell_type": "code",
   "execution_count": null,
   "metadata": {},
   "outputs": [],
   "source": [
    "# EDA Idea: visualize content of comments with many thumbs up "
   ]
  },
  {
   "cell_type": "code",
   "execution_count": 18,
   "metadata": {},
   "outputs": [
    {
     "data": {
      "text/html": [
       "<div>\n",
       "<style scoped>\n",
       "    .dataframe tbody tr th:only-of-type {\n",
       "        vertical-align: middle;\n",
       "    }\n",
       "\n",
       "    .dataframe tbody tr th {\n",
       "        vertical-align: top;\n",
       "    }\n",
       "\n",
       "    .dataframe thead th {\n",
       "        text-align: right;\n",
       "    }\n",
       "</style>\n",
       "<table border=\"1\" class=\"dataframe\">\n",
       "  <thead>\n",
       "    <tr style=\"text-align: right;\">\n",
       "      <th></th>\n",
       "      <th>reviewId</th>\n",
       "      <th>userName</th>\n",
       "      <th>content</th>\n",
       "      <th>score</th>\n",
       "      <th>thumbsUpCount</th>\n",
       "      <th>at</th>\n",
       "      <th>replyContent</th>\n",
       "      <th>repliedAt</th>\n",
       "      <th>appVersion</th>\n",
       "      <th>at_ymd</th>\n",
       "      <th>at_q</th>\n",
       "      <th>at_ym</th>\n",
       "      <th>at_m</th>\n",
       "      <th>at_wd</th>\n",
       "    </tr>\n",
       "  </thead>\n",
       "  <tbody>\n",
       "    <tr>\n",
       "      <th>28</th>\n",
       "      <td>43e85401-d349-4703-bebb-54b1715ef5ed</td>\n",
       "      <td>sanak chandra</td>\n",
       "      <td>I'm very impressed with my experience. Especia...</td>\n",
       "      <td>5</td>\n",
       "      <td>1067</td>\n",
       "      <td>2023-08-02 03:54:56</td>\n",
       "      <td>NaN</td>\n",
       "      <td>NaT</td>\n",
       "      <td>1.0.0023</td>\n",
       "      <td>08/02/23</td>\n",
       "      <td>3</td>\n",
       "      <td>2023-08</td>\n",
       "      <td>August</td>\n",
       "      <td>Wednesday</td>\n",
       "    </tr>\n",
       "    <tr>\n",
       "      <th>138</th>\n",
       "      <td>04563d75-3fb9-4ff4-8a41-8bdc1247c78f</td>\n",
       "      <td>Isaiah Rodriguez</td>\n",
       "      <td>NO ADS SO FAR. YES!!! Very good voice recognit...</td>\n",
       "      <td>5</td>\n",
       "      <td>812</td>\n",
       "      <td>2023-07-25 17:58:02</td>\n",
       "      <td>NaN</td>\n",
       "      <td>NaT</td>\n",
       "      <td>1.0.0016</td>\n",
       "      <td>07/25/23</td>\n",
       "      <td>3</td>\n",
       "      <td>2023-07</td>\n",
       "      <td>July</td>\n",
       "      <td>Tuesday</td>\n",
       "    </tr>\n",
       "    <tr>\n",
       "      <th>18</th>\n",
       "      <td>82bedff5-5220-45e7-b89a-65054268c85c</td>\n",
       "      <td>Alex Ledford</td>\n",
       "      <td>Easily the best app I've ever downloaded. High...</td>\n",
       "      <td>5</td>\n",
       "      <td>716</td>\n",
       "      <td>2023-09-21 09:33:48</td>\n",
       "      <td>NaN</td>\n",
       "      <td>NaT</td>\n",
       "      <td>1.2023.256</td>\n",
       "      <td>09/21/23</td>\n",
       "      <td>3</td>\n",
       "      <td>2023-09</td>\n",
       "      <td>September</td>\n",
       "      <td>Thursday</td>\n",
       "    </tr>\n",
       "    <tr>\n",
       "      <th>66</th>\n",
       "      <td>a4b2d154-0b5c-424d-95cb-3406ee3d8540</td>\n",
       "      <td>Gautam Singh</td>\n",
       "      <td>ChatGPT has been a fantastic addition to my An...</td>\n",
       "      <td>5</td>\n",
       "      <td>700</td>\n",
       "      <td>2023-08-21 08:38:12</td>\n",
       "      <td>NaN</td>\n",
       "      <td>NaT</td>\n",
       "      <td>1.0.0032</td>\n",
       "      <td>08/21/23</td>\n",
       "      <td>3</td>\n",
       "      <td>2023-08</td>\n",
       "      <td>August</td>\n",
       "      <td>Monday</td>\n",
       "    </tr>\n",
       "    <tr>\n",
       "      <th>22</th>\n",
       "      <td>fa358c69-36a4-418b-9320-e653774c24f5</td>\n",
       "      <td>Angel Khatiwada</td>\n",
       "      <td>I've been using the ChatGPT for a while now, a...</td>\n",
       "      <td>5</td>\n",
       "      <td>631</td>\n",
       "      <td>2023-08-26 10:17:02</td>\n",
       "      <td>NaN</td>\n",
       "      <td>NaT</td>\n",
       "      <td>1.0.0035</td>\n",
       "      <td>08/26/23</td>\n",
       "      <td>3</td>\n",
       "      <td>2023-08</td>\n",
       "      <td>August</td>\n",
       "      <td>Saturday</td>\n",
       "    </tr>\n",
       "    <tr>\n",
       "      <th>56</th>\n",
       "      <td>e9ff6f49-35fc-419c-82df-a7c2fda044ff</td>\n",
       "      <td>Touheed Shah</td>\n",
       "      <td>Finally it's on play store!!!! Just tried it o...</td>\n",
       "      <td>5</td>\n",
       "      <td>522</td>\n",
       "      <td>2023-07-31 19:53:34</td>\n",
       "      <td>NaN</td>\n",
       "      <td>NaT</td>\n",
       "      <td>1.0.0023</td>\n",
       "      <td>07/31/23</td>\n",
       "      <td>3</td>\n",
       "      <td>2023-07</td>\n",
       "      <td>July</td>\n",
       "      <td>Monday</td>\n",
       "    </tr>\n",
       "    <tr>\n",
       "      <th>47</th>\n",
       "      <td>1bc55a8b-d922-4668-bce8-693299a41bf6</td>\n",
       "      <td>Anurag Bagh (Anush)</td>\n",
       "      <td>ChatGPT is an incredibly powerful AI language ...</td>\n",
       "      <td>5</td>\n",
       "      <td>514</td>\n",
       "      <td>2023-09-12 20:04:15</td>\n",
       "      <td>NaN</td>\n",
       "      <td>NaT</td>\n",
       "      <td>1.2023.243</td>\n",
       "      <td>09/12/23</td>\n",
       "      <td>3</td>\n",
       "      <td>2023-09</td>\n",
       "      <td>September</td>\n",
       "      <td>Tuesday</td>\n",
       "    </tr>\n",
       "    <tr>\n",
       "      <th>39</th>\n",
       "      <td>2cfc3e67-296c-47f5-95c4-e975858360a7</td>\n",
       "      <td>Jakeb Ricks</td>\n",
       "      <td>The ChatGPT Android app is an absolute delight...</td>\n",
       "      <td>5</td>\n",
       "      <td>473</td>\n",
       "      <td>2023-07-26 13:21:40</td>\n",
       "      <td>NaN</td>\n",
       "      <td>NaT</td>\n",
       "      <td>1.0.0022</td>\n",
       "      <td>07/26/23</td>\n",
       "      <td>3</td>\n",
       "      <td>2023-07</td>\n",
       "      <td>July</td>\n",
       "      <td>Wednesday</td>\n",
       "    </tr>\n",
       "    <tr>\n",
       "      <th>33</th>\n",
       "      <td>e73bf653-5524-4fd3-8bd1-d309d2147136</td>\n",
       "      <td>Helen Hachtel</td>\n",
       "      <td>ChatGPT App is an absolute game-changer in tex...</td>\n",
       "      <td>5</td>\n",
       "      <td>462</td>\n",
       "      <td>2023-08-19 06:11:28</td>\n",
       "      <td>NaN</td>\n",
       "      <td>NaT</td>\n",
       "      <td>1.0.0032</td>\n",
       "      <td>08/19/23</td>\n",
       "      <td>3</td>\n",
       "      <td>2023-08</td>\n",
       "      <td>August</td>\n",
       "      <td>Saturday</td>\n",
       "    </tr>\n",
       "    <tr>\n",
       "      <th>84</th>\n",
       "      <td>1587e389-5eab-40d2-9083-83c82d6ebad0</td>\n",
       "      <td>Muhammad Mudassir Khan</td>\n",
       "      <td>I am thoroughly impressed with ChatGPT! This a...</td>\n",
       "      <td>5</td>\n",
       "      <td>413</td>\n",
       "      <td>2023-08-09 04:45:59</td>\n",
       "      <td>NaN</td>\n",
       "      <td>NaT</td>\n",
       "      <td>1.0.0030</td>\n",
       "      <td>08/09/23</td>\n",
       "      <td>3</td>\n",
       "      <td>2023-08</td>\n",
       "      <td>August</td>\n",
       "      <td>Wednesday</td>\n",
       "    </tr>\n",
       "    <tr>\n",
       "      <th>53</th>\n",
       "      <td>2efadc94-fed5-4883-a3e7-4b3d2dcf1d92</td>\n",
       "      <td>Bharathiseshan Nagarajan</td>\n",
       "      <td>I have been using Chatgpt app for a while now,...</td>\n",
       "      <td>4</td>\n",
       "      <td>392</td>\n",
       "      <td>2023-09-13 17:01:51</td>\n",
       "      <td>NaN</td>\n",
       "      <td>NaT</td>\n",
       "      <td>1.2023.243</td>\n",
       "      <td>09/13/23</td>\n",
       "      <td>3</td>\n",
       "      <td>2023-09</td>\n",
       "      <td>September</td>\n",
       "      <td>Wednesday</td>\n",
       "    </tr>\n",
       "    <tr>\n",
       "      <th>94</th>\n",
       "      <td>115f4262-fcc6-4b5f-84e3-cd1a6761eba0</td>\n",
       "      <td>3145 FAIJANKHAN PATHAN</td>\n",
       "      <td>ChatGPT is an outstanding AI language model ap...</td>\n",
       "      <td>5</td>\n",
       "      <td>367</td>\n",
       "      <td>2023-07-26 08:09:24</td>\n",
       "      <td>NaN</td>\n",
       "      <td>NaT</td>\n",
       "      <td>1.0.0022</td>\n",
       "      <td>07/26/23</td>\n",
       "      <td>3</td>\n",
       "      <td>2023-07</td>\n",
       "      <td>July</td>\n",
       "      <td>Wednesday</td>\n",
       "    </tr>\n",
       "    <tr>\n",
       "      <th>23</th>\n",
       "      <td>df6b1cdc-2717-4585-b161-3327b8757299</td>\n",
       "      <td>Jonathan Gray</td>\n",
       "      <td>It's a good start! There are a few additions t...</td>\n",
       "      <td>3</td>\n",
       "      <td>358</td>\n",
       "      <td>2023-07-30 11:14:04</td>\n",
       "      <td>NaN</td>\n",
       "      <td>NaT</td>\n",
       "      <td>1.0.0023</td>\n",
       "      <td>07/30/23</td>\n",
       "      <td>3</td>\n",
       "      <td>2023-07</td>\n",
       "      <td>July</td>\n",
       "      <td>Sunday</td>\n",
       "    </tr>\n",
       "    <tr>\n",
       "      <th>91</th>\n",
       "      <td>f2a5620e-fa3e-43e5-93c1-ca388e94cf29</td>\n",
       "      <td>Manahil Shahid</td>\n",
       "      <td>I'm really happy to have this app on the play ...</td>\n",
       "      <td>5</td>\n",
       "      <td>357</td>\n",
       "      <td>2023-09-01 14:44:56</td>\n",
       "      <td>NaN</td>\n",
       "      <td>NaT</td>\n",
       "      <td>1.0.0039</td>\n",
       "      <td>09/01/23</td>\n",
       "      <td>3</td>\n",
       "      <td>2023-09</td>\n",
       "      <td>September</td>\n",
       "      <td>Friday</td>\n",
       "    </tr>\n",
       "    <tr>\n",
       "      <th>24</th>\n",
       "      <td>ef2088ba-d2c6-4756-9b78-5d611ab64017</td>\n",
       "      <td>RR A. Furton</td>\n",
       "      <td>Amazing, it's sleek and professional looking, ...</td>\n",
       "      <td>4</td>\n",
       "      <td>335</td>\n",
       "      <td>2023-08-08 22:34:56</td>\n",
       "      <td>NaN</td>\n",
       "      <td>NaT</td>\n",
       "      <td>1.0.0026</td>\n",
       "      <td>08/08/23</td>\n",
       "      <td>3</td>\n",
       "      <td>2023-08</td>\n",
       "      <td>August</td>\n",
       "      <td>Tuesday</td>\n",
       "    </tr>\n",
       "    <tr>\n",
       "      <th>21</th>\n",
       "      <td>e140de44-4276-4623-bce9-3e4291f1173b</td>\n",
       "      <td>Dustin LaPres</td>\n",
       "      <td>It's like having a personal assistant who is c...</td>\n",
       "      <td>4</td>\n",
       "      <td>329</td>\n",
       "      <td>2023-09-18 20:01:46</td>\n",
       "      <td>NaN</td>\n",
       "      <td>NaT</td>\n",
       "      <td>1.2023.243</td>\n",
       "      <td>09/18/23</td>\n",
       "      <td>3</td>\n",
       "      <td>2023-09</td>\n",
       "      <td>September</td>\n",
       "      <td>Monday</td>\n",
       "    </tr>\n",
       "    <tr>\n",
       "      <th>102</th>\n",
       "      <td>4fc0ccac-0c04-4a89-8090-20e4f7c19bf6</td>\n",
       "      <td>Zelkova Sunscale</td>\n",
       "      <td>It's pretty good, and the fact that it can wri...</td>\n",
       "      <td>4</td>\n",
       "      <td>315</td>\n",
       "      <td>2023-08-27 10:23:18</td>\n",
       "      <td>NaN</td>\n",
       "      <td>NaT</td>\n",
       "      <td>1.0.0035</td>\n",
       "      <td>08/27/23</td>\n",
       "      <td>3</td>\n",
       "      <td>2023-08</td>\n",
       "      <td>August</td>\n",
       "      <td>Sunday</td>\n",
       "    </tr>\n",
       "    <tr>\n",
       "      <th>42</th>\n",
       "      <td>d14ad805-17db-4d13-bfdc-5a3a32760811</td>\n",
       "      <td>Adeosun Bosede</td>\n",
       "      <td>ChatGPT is impressive! Its responses are conte...</td>\n",
       "      <td>5</td>\n",
       "      <td>313</td>\n",
       "      <td>2023-07-29 20:57:59</td>\n",
       "      <td>NaN</td>\n",
       "      <td>NaT</td>\n",
       "      <td>1.0.0023</td>\n",
       "      <td>07/29/23</td>\n",
       "      <td>3</td>\n",
       "      <td>2023-07</td>\n",
       "      <td>July</td>\n",
       "      <td>Saturday</td>\n",
       "    </tr>\n",
       "    <tr>\n",
       "      <th>61</th>\n",
       "      <td>1887caca-d044-419b-be4f-e65a2eb8a5d3</td>\n",
       "      <td>Andrew Alalibo</td>\n",
       "      <td>Allow me to do the honors and provide the firs...</td>\n",
       "      <td>5</td>\n",
       "      <td>299</td>\n",
       "      <td>2023-07-27 17:51:36</td>\n",
       "      <td>NaN</td>\n",
       "      <td>NaT</td>\n",
       "      <td>1.0.0023</td>\n",
       "      <td>07/27/23</td>\n",
       "      <td>3</td>\n",
       "      <td>2023-07</td>\n",
       "      <td>July</td>\n",
       "      <td>Thursday</td>\n",
       "    </tr>\n",
       "    <tr>\n",
       "      <th>20</th>\n",
       "      <td>7832dc68-0131-45f4-b611-8473e5d26f77</td>\n",
       "      <td>mohammed kaddourbey</td>\n",
       "      <td>The App interface is simple and easy to use, b...</td>\n",
       "      <td>4</td>\n",
       "      <td>289</td>\n",
       "      <td>2023-08-01 14:08:28</td>\n",
       "      <td>NaN</td>\n",
       "      <td>NaT</td>\n",
       "      <td>1.0.0023</td>\n",
       "      <td>08/01/23</td>\n",
       "      <td>3</td>\n",
       "      <td>2023-08</td>\n",
       "      <td>August</td>\n",
       "      <td>Tuesday</td>\n",
       "    </tr>\n",
       "  </tbody>\n",
       "</table>\n",
       "</div>"
      ],
      "text/plain": [
       "                                 reviewId                  userName  \\\n",
       "28   43e85401-d349-4703-bebb-54b1715ef5ed             sanak chandra   \n",
       "138  04563d75-3fb9-4ff4-8a41-8bdc1247c78f          Isaiah Rodriguez   \n",
       "18   82bedff5-5220-45e7-b89a-65054268c85c              Alex Ledford   \n",
       "66   a4b2d154-0b5c-424d-95cb-3406ee3d8540              Gautam Singh   \n",
       "22   fa358c69-36a4-418b-9320-e653774c24f5           Angel Khatiwada   \n",
       "56   e9ff6f49-35fc-419c-82df-a7c2fda044ff              Touheed Shah   \n",
       "47   1bc55a8b-d922-4668-bce8-693299a41bf6       Anurag Bagh (Anush)   \n",
       "39   2cfc3e67-296c-47f5-95c4-e975858360a7               Jakeb Ricks   \n",
       "33   e73bf653-5524-4fd3-8bd1-d309d2147136             Helen Hachtel   \n",
       "84   1587e389-5eab-40d2-9083-83c82d6ebad0    Muhammad Mudassir Khan   \n",
       "53   2efadc94-fed5-4883-a3e7-4b3d2dcf1d92  Bharathiseshan Nagarajan   \n",
       "94   115f4262-fcc6-4b5f-84e3-cd1a6761eba0    3145 FAIJANKHAN PATHAN   \n",
       "23   df6b1cdc-2717-4585-b161-3327b8757299             Jonathan Gray   \n",
       "91   f2a5620e-fa3e-43e5-93c1-ca388e94cf29            Manahil Shahid   \n",
       "24   ef2088ba-d2c6-4756-9b78-5d611ab64017              RR A. Furton   \n",
       "21   e140de44-4276-4623-bce9-3e4291f1173b             Dustin LaPres   \n",
       "102  4fc0ccac-0c04-4a89-8090-20e4f7c19bf6          Zelkova Sunscale   \n",
       "42   d14ad805-17db-4d13-bfdc-5a3a32760811            Adeosun Bosede   \n",
       "61   1887caca-d044-419b-be4f-e65a2eb8a5d3            Andrew Alalibo   \n",
       "20   7832dc68-0131-45f4-b611-8473e5d26f77       mohammed kaddourbey   \n",
       "\n",
       "                                               content  score  thumbsUpCount  \\\n",
       "28   I'm very impressed with my experience. Especia...      5           1067   \n",
       "138  NO ADS SO FAR. YES!!! Very good voice recognit...      5            812   \n",
       "18   Easily the best app I've ever downloaded. High...      5            716   \n",
       "66   ChatGPT has been a fantastic addition to my An...      5            700   \n",
       "22   I've been using the ChatGPT for a while now, a...      5            631   \n",
       "56   Finally it's on play store!!!! Just tried it o...      5            522   \n",
       "47   ChatGPT is an incredibly powerful AI language ...      5            514   \n",
       "39   The ChatGPT Android app is an absolute delight...      5            473   \n",
       "33   ChatGPT App is an absolute game-changer in tex...      5            462   \n",
       "84   I am thoroughly impressed with ChatGPT! This a...      5            413   \n",
       "53   I have been using Chatgpt app for a while now,...      4            392   \n",
       "94   ChatGPT is an outstanding AI language model ap...      5            367   \n",
       "23   It's a good start! There are a few additions t...      3            358   \n",
       "91   I'm really happy to have this app on the play ...      5            357   \n",
       "24   Amazing, it's sleek and professional looking, ...      4            335   \n",
       "21   It's like having a personal assistant who is c...      4            329   \n",
       "102  It's pretty good, and the fact that it can wri...      4            315   \n",
       "42   ChatGPT is impressive! Its responses are conte...      5            313   \n",
       "61   Allow me to do the honors and provide the firs...      5            299   \n",
       "20   The App interface is simple and easy to use, b...      4            289   \n",
       "\n",
       "                     at replyContent repliedAt  appVersion    at_ymd  at_q  \\\n",
       "28  2023-08-02 03:54:56          NaN       NaT    1.0.0023  08/02/23     3   \n",
       "138 2023-07-25 17:58:02          NaN       NaT    1.0.0016  07/25/23     3   \n",
       "18  2023-09-21 09:33:48          NaN       NaT  1.2023.256  09/21/23     3   \n",
       "66  2023-08-21 08:38:12          NaN       NaT    1.0.0032  08/21/23     3   \n",
       "22  2023-08-26 10:17:02          NaN       NaT    1.0.0035  08/26/23     3   \n",
       "56  2023-07-31 19:53:34          NaN       NaT    1.0.0023  07/31/23     3   \n",
       "47  2023-09-12 20:04:15          NaN       NaT  1.2023.243  09/12/23     3   \n",
       "39  2023-07-26 13:21:40          NaN       NaT    1.0.0022  07/26/23     3   \n",
       "33  2023-08-19 06:11:28          NaN       NaT    1.0.0032  08/19/23     3   \n",
       "84  2023-08-09 04:45:59          NaN       NaT    1.0.0030  08/09/23     3   \n",
       "53  2023-09-13 17:01:51          NaN       NaT  1.2023.243  09/13/23     3   \n",
       "94  2023-07-26 08:09:24          NaN       NaT    1.0.0022  07/26/23     3   \n",
       "23  2023-07-30 11:14:04          NaN       NaT    1.0.0023  07/30/23     3   \n",
       "91  2023-09-01 14:44:56          NaN       NaT    1.0.0039  09/01/23     3   \n",
       "24  2023-08-08 22:34:56          NaN       NaT    1.0.0026  08/08/23     3   \n",
       "21  2023-09-18 20:01:46          NaN       NaT  1.2023.243  09/18/23     3   \n",
       "102 2023-08-27 10:23:18          NaN       NaT    1.0.0035  08/27/23     3   \n",
       "42  2023-07-29 20:57:59          NaN       NaT    1.0.0023  07/29/23     3   \n",
       "61  2023-07-27 17:51:36          NaN       NaT    1.0.0023  07/27/23     3   \n",
       "20  2023-08-01 14:08:28          NaN       NaT    1.0.0023  08/01/23     3   \n",
       "\n",
       "       at_ym       at_m      at_wd  \n",
       "28   2023-08     August  Wednesday  \n",
       "138  2023-07       July    Tuesday  \n",
       "18   2023-09  September   Thursday  \n",
       "66   2023-08     August     Monday  \n",
       "22   2023-08     August   Saturday  \n",
       "56   2023-07       July     Monday  \n",
       "47   2023-09  September    Tuesday  \n",
       "39   2023-07       July  Wednesday  \n",
       "33   2023-08     August   Saturday  \n",
       "84   2023-08     August  Wednesday  \n",
       "53   2023-09  September  Wednesday  \n",
       "94   2023-07       July  Wednesday  \n",
       "23   2023-07       July     Sunday  \n",
       "91   2023-09  September     Friday  \n",
       "24   2023-08     August    Tuesday  \n",
       "21   2023-09  September     Monday  \n",
       "102  2023-08     August     Sunday  \n",
       "42   2023-07       July   Saturday  \n",
       "61   2023-07       July   Thursday  \n",
       "20   2023-08     August    Tuesday  "
      ]
     },
     "execution_count": 18,
     "metadata": {},
     "output_type": "execute_result"
    }
   ],
   "source": [
    "df.sort_values(\"thumbsUpCount\", ascending=False).head(20)"
   ]
  },
  {
   "cell_type": "code",
   "execution_count": null,
   "metadata": {},
   "outputs": [],
   "source": []
  }
 ],
 "metadata": {
  "kernelspec": {
   "display_name": ".venv",
   "language": "python",
   "name": "python3"
  },
  "language_info": {
   "codemirror_mode": {
    "name": "ipython",
    "version": 3
   },
   "file_extension": ".py",
   "mimetype": "text/x-python",
   "name": "python",
   "nbconvert_exporter": "python",
   "pygments_lexer": "ipython3",
   "version": "3.11.3"
  }
 },
 "nbformat": 4,
 "nbformat_minor": 2
}
