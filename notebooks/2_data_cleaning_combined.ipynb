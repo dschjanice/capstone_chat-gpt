{
 "cells": [
  {
   "cell_type": "code",
   "execution_count": 198,
   "metadata": {},
   "outputs": [
    {
     "name": "stdout",
     "output_type": "stream",
     "text": [
      "Requirement already satisfied: pyspellchecker in /Users/janice/Documents/Bootcamp/Git/Capstone/capstone_chat-gpt/.venv/lib/python3.11/site-packages (0.7.2)\n",
      "Requirement already satisfied: langdetect in /Users/janice/Documents/Bootcamp/Git/Capstone/capstone_chat-gpt/.venv/lib/python3.11/site-packages (1.0.7)\n",
      "Requirement already satisfied: six in /Users/janice/Documents/Bootcamp/Git/Capstone/capstone_chat-gpt/.venv/lib/python3.11/site-packages (from langdetect) (1.16.0)\n",
      "Requirement already satisfied: demoji in /Users/janice/Documents/Bootcamp/Git/Capstone/capstone_chat-gpt/.venv/lib/python3.11/site-packages (1.1.0)\n"
     ]
    }
   ],
   "source": [
    "!pip install pyspellchecker\n",
    "!pip install langdetect\n",
    "!pip install demoji"
   ]
  },
  {
   "cell_type": "code",
   "execution_count": 199,
   "metadata": {},
   "outputs": [
    {
     "name": "stderr",
     "output_type": "stream",
     "text": [
      "[nltk_data] Downloading package wordnet to /Users/janice/nltk_data...\n",
      "[nltk_data]   Package wordnet is already up-to-date!\n",
      "[nltk_data] Downloading package omw-1.4 to /Users/janice/nltk_data...\n",
      "[nltk_data]   Package omw-1.4 is already up-to-date!\n",
      "[nltk_data] Downloading package punkt to /Users/janice/nltk_data...\n",
      "[nltk_data]   Package punkt is already up-to-date!\n"
     ]
    },
    {
     "data": {
      "text/plain": [
       "True"
      ]
     },
     "execution_count": 199,
     "metadata": {},
     "output_type": "execute_result"
    }
   ],
   "source": [
    "import pandas as pd\n",
    "import numpy as np\n",
    "\n",
    "from sklearn.model_selection import train_test_split\n",
    "from sklearn.feature_extraction.text import CountVectorizer, TfidfVectorizer\n",
    "from sklearn.linear_model import LogisticRegression\n",
    "from sklearn.metrics import roc_auc_score\n",
    "from spellchecker import SpellChecker\n",
    "from langdetect import detect\n",
    "\n",
    "\n",
    "from tqdm import tqdm\n",
    "\n",
    "import nltk\n",
    "import re\n",
    "import demoji\n",
    "nltk.download('wordnet')\n",
    "nltk.download('omw-1.4')\n",
    "nltk.download('punkt') "
   ]
  },
  {
   "cell_type": "code",
   "execution_count": 228,
   "metadata": {},
   "outputs": [],
   "source": [
    "df_google = pd.read_csv(\"../data/ChatGPT-play-reviews.csv\", \n",
    "                 parse_dates=[\"at\", \"repliedAt\"])\n",
    "\n",
    "#df_apple_1 = pd.read_csv(\"../data/all_apple_reviews_2023-11-09.csv\", parse_dates=[\"date\"])\n",
    "df_apple_1 = pd.read_csv(\"../data/all_apple_reviews_janice.csv\", parse_dates=[\"date\"])\n",
    "df_apple_2 = pd.read_csv(\"../data/all_apple_reviews_09_11_2023.csv\", parse_dates=[\"date\"])\n",
    "\n",
    "df_apple = pd.concat([df_apple_1, df_apple_2])\n",
    "\n",
    "df_apple[\"content\"] = df_apple[\"title\"] + \". \" + df_apple[\"review\"]\n",
    "df_apple[\"Source\"] = \"Apple\"\n",
    "\n",
    "df_google = df_google.drop('reviewCreatedVersion', axis=1)\n",
    "df_google[\"Source\"] = \"Google\""
   ]
  },
  {
   "cell_type": "code",
   "execution_count": 229,
   "metadata": {},
   "outputs": [
    {
     "name": "stdout",
     "output_type": "stream",
     "text": [
      "Index(['Unnamed: 0', 'date', 'review', 'rating', 'isEdited', 'userName',\n",
      "       'title', 'country', 'content', 'Source'],\n",
      "      dtype='object') (22698, 10)\n",
      "Index(['reviewId', 'userName', 'content', 'score', 'thumbsUpCount', 'at',\n",
      "       'replyContent', 'repliedAt', 'appVersion', 'Source'],\n",
      "      dtype='object') (30956, 10)\n"
     ]
    }
   ],
   "source": [
    "print(df_apple.columns, df_apple.shape)\n",
    "print(df_google.columns, df_google.shape)"
   ]
  },
  {
   "cell_type": "code",
   "execution_count": 230,
   "metadata": {},
   "outputs": [
    {
     "data": {
      "text/html": [
       "<div>\n",
       "<style scoped>\n",
       "    .dataframe tbody tr th:only-of-type {\n",
       "        vertical-align: middle;\n",
       "    }\n",
       "\n",
       "    .dataframe tbody tr th {\n",
       "        vertical-align: top;\n",
       "    }\n",
       "\n",
       "    .dataframe thead th {\n",
       "        text-align: right;\n",
       "    }\n",
       "</style>\n",
       "<table border=\"1\" class=\"dataframe\">\n",
       "  <thead>\n",
       "    <tr style=\"text-align: right;\">\n",
       "      <th></th>\n",
       "      <th>Unnamed: 0</th>\n",
       "      <th>date</th>\n",
       "      <th>review</th>\n",
       "      <th>rating</th>\n",
       "      <th>isEdited</th>\n",
       "      <th>userName</th>\n",
       "      <th>title</th>\n",
       "      <th>content</th>\n",
       "      <th>Source</th>\n",
       "    </tr>\n",
       "    <tr>\n",
       "      <th>country</th>\n",
       "      <th></th>\n",
       "      <th></th>\n",
       "      <th></th>\n",
       "      <th></th>\n",
       "      <th></th>\n",
       "      <th></th>\n",
       "      <th></th>\n",
       "      <th></th>\n",
       "      <th></th>\n",
       "    </tr>\n",
       "  </thead>\n",
       "  <tbody>\n",
       "    <tr>\n",
       "      <th>AE</th>\n",
       "      <td>111</td>\n",
       "      <td>111</td>\n",
       "      <td>111</td>\n",
       "      <td>111</td>\n",
       "      <td>111</td>\n",
       "      <td>111</td>\n",
       "      <td>111</td>\n",
       "      <td>111</td>\n",
       "      <td>111</td>\n",
       "    </tr>\n",
       "    <tr>\n",
       "      <th>AL</th>\n",
       "      <td>8</td>\n",
       "      <td>8</td>\n",
       "      <td>8</td>\n",
       "      <td>8</td>\n",
       "      <td>8</td>\n",
       "      <td>8</td>\n",
       "      <td>8</td>\n",
       "      <td>8</td>\n",
       "      <td>8</td>\n",
       "    </tr>\n",
       "    <tr>\n",
       "      <th>AM</th>\n",
       "      <td>2</td>\n",
       "      <td>2</td>\n",
       "      <td>2</td>\n",
       "      <td>2</td>\n",
       "      <td>2</td>\n",
       "      <td>2</td>\n",
       "      <td>2</td>\n",
       "      <td>2</td>\n",
       "      <td>2</td>\n",
       "    </tr>\n",
       "    <tr>\n",
       "      <th>AO</th>\n",
       "      <td>14</td>\n",
       "      <td>14</td>\n",
       "      <td>14</td>\n",
       "      <td>14</td>\n",
       "      <td>14</td>\n",
       "      <td>14</td>\n",
       "      <td>14</td>\n",
       "      <td>14</td>\n",
       "      <td>14</td>\n",
       "    </tr>\n",
       "    <tr>\n",
       "      <th>AR</th>\n",
       "      <td>84</td>\n",
       "      <td>84</td>\n",
       "      <td>84</td>\n",
       "      <td>84</td>\n",
       "      <td>84</td>\n",
       "      <td>84</td>\n",
       "      <td>84</td>\n",
       "      <td>84</td>\n",
       "      <td>84</td>\n",
       "    </tr>\n",
       "    <tr>\n",
       "      <th>...</th>\n",
       "      <td>...</td>\n",
       "      <td>...</td>\n",
       "      <td>...</td>\n",
       "      <td>...</td>\n",
       "      <td>...</td>\n",
       "      <td>...</td>\n",
       "      <td>...</td>\n",
       "      <td>...</td>\n",
       "      <td>...</td>\n",
       "    </tr>\n",
       "    <tr>\n",
       "      <th>pk</th>\n",
       "      <td>74</td>\n",
       "      <td>74</td>\n",
       "      <td>74</td>\n",
       "      <td>74</td>\n",
       "      <td>74</td>\n",
       "      <td>74</td>\n",
       "      <td>74</td>\n",
       "      <td>74</td>\n",
       "      <td>74</td>\n",
       "    </tr>\n",
       "    <tr>\n",
       "      <th>ru</th>\n",
       "      <td>1</td>\n",
       "      <td>1</td>\n",
       "      <td>1</td>\n",
       "      <td>1</td>\n",
       "      <td>1</td>\n",
       "      <td>1</td>\n",
       "      <td>1</td>\n",
       "      <td>1</td>\n",
       "      <td>1</td>\n",
       "    </tr>\n",
       "    <tr>\n",
       "      <th>tr</th>\n",
       "      <td>297</td>\n",
       "      <td>297</td>\n",
       "      <td>297</td>\n",
       "      <td>297</td>\n",
       "      <td>297</td>\n",
       "      <td>297</td>\n",
       "      <td>297</td>\n",
       "      <td>297</td>\n",
       "      <td>297</td>\n",
       "    </tr>\n",
       "    <tr>\n",
       "      <th>us</th>\n",
       "      <td>9678</td>\n",
       "      <td>9678</td>\n",
       "      <td>9678</td>\n",
       "      <td>9678</td>\n",
       "      <td>9678</td>\n",
       "      <td>9678</td>\n",
       "      <td>9678</td>\n",
       "      <td>9678</td>\n",
       "      <td>9678</td>\n",
       "    </tr>\n",
       "    <tr>\n",
       "      <th>vn</th>\n",
       "      <td>24</td>\n",
       "      <td>24</td>\n",
       "      <td>24</td>\n",
       "      <td>24</td>\n",
       "      <td>24</td>\n",
       "      <td>24</td>\n",
       "      <td>24</td>\n",
       "      <td>24</td>\n",
       "      <td>24</td>\n",
       "    </tr>\n",
       "  </tbody>\n",
       "</table>\n",
       "<p>143 rows × 9 columns</p>\n",
       "</div>"
      ],
      "text/plain": [
       "         Unnamed: 0  date  review  rating  isEdited  userName  title  content  \\\n",
       "country                                                                         \n",
       "AE              111   111     111     111       111       111    111      111   \n",
       "AL                8     8       8       8         8         8      8        8   \n",
       "AM                2     2       2       2         2         2      2        2   \n",
       "AO               14    14      14      14        14        14     14       14   \n",
       "AR               84    84      84      84        84        84     84       84   \n",
       "...             ...   ...     ...     ...       ...       ...    ...      ...   \n",
       "pk               74    74      74      74        74        74     74       74   \n",
       "ru                1     1       1       1         1         1      1        1   \n",
       "tr              297   297     297     297       297       297    297      297   \n",
       "us             9678  9678    9678    9678      9678      9678   9678     9678   \n",
       "vn               24    24      24      24        24        24     24       24   \n",
       "\n",
       "         Source  \n",
       "country          \n",
       "AE          111  \n",
       "AL            8  \n",
       "AM            2  \n",
       "AO           14  \n",
       "AR           84  \n",
       "...         ...  \n",
       "pk           74  \n",
       "ru            1  \n",
       "tr          297  \n",
       "us         9678  \n",
       "vn           24  \n",
       "\n",
       "[143 rows x 9 columns]"
      ]
     },
     "execution_count": 230,
     "metadata": {},
     "output_type": "execute_result"
    }
   ],
   "source": [
    "df_apple.groupby('country').count()"
   ]
  },
  {
   "cell_type": "code",
   "execution_count": 231,
   "metadata": {},
   "outputs": [],
   "source": [
    "df_apple = df_apple.drop(\n",
    "    columns=['Unnamed: 0', 'isEdited', 'country', 'title', 'review']).rename(\n",
    "    {'date': 'at', 'review': 'content', 'rating': 'score'}, axis='columns')"
   ]
  },
  {
   "cell_type": "code",
   "execution_count": 232,
   "metadata": {},
   "outputs": [],
   "source": [
    "df = pd.concat([df_apple, df_google], axis = 0)"
   ]
  },
  {
   "cell_type": "code",
   "execution_count": 233,
   "metadata": {},
   "outputs": [],
   "source": [
    "# var for review received response\n",
    "df[\"reply\"] = np.where(df.replyContent.isnull(), 0, 1)\n",
    "df['score'] = df['score'].astype(int)\n",
    "df['Reviews'] = 1\n",
    "df['Original content'] = df['content']\n",
    "df[\"score_cat\"] = np.where(df.score == 5, \"positive\", np.where(df.score == 4, \"neutral\", \"negative\"))"
   ]
  },
  {
   "cell_type": "code",
   "execution_count": 234,
   "metadata": {},
   "outputs": [],
   "source": [
    "# generate new date features from at\n",
    "df['at_ymd'] = df['at'].dt.strftime('%D')\n",
    "# Create new column for year-quarter\n",
    "df['at_q'] = df['at'].dt.quarter\n",
    "# Create new column for year-month\n",
    "df['at_ym'] = df['at'].dt.strftime('%Y-%m')\n",
    "# Create new column for month\n",
    "df['at_m'] = df['at'].dt.strftime('%B')\n",
    "# Create new column for year-month\n",
    "df['at_wd'] = df['at'].dt.strftime('%A')\n",
    "df['at_w'] = df['at'].dt.isocalendar().week\n",
    "#df['at'] = df['at'].dt.date"
   ]
  },
  {
   "cell_type": "code",
   "execution_count": 235,
   "metadata": {},
   "outputs": [
    {
     "data": {
      "text/plain": [
       "at                      0\n",
       "score                   0\n",
       "userName                1\n",
       "content                 0\n",
       "Source                  0\n",
       "reviewId            22698\n",
       "thumbsUpCount       22698\n",
       "replyContent        53222\n",
       "repliedAt           53222\n",
       "appVersion          27612\n",
       "reply                   0\n",
       "Reviews                 0\n",
       "Original content        0\n",
       "at_ymd                  0\n",
       "at_q                    0\n",
       "at_ym                   0\n",
       "at_m                    0\n",
       "at_wd                   0\n",
       "at_w                    0\n",
       "dtype: int64"
      ]
     },
     "execution_count": 235,
     "metadata": {},
     "output_type": "execute_result"
    }
   ],
   "source": [
    "# display number of missing values per column\n",
    "df.isna().sum()"
   ]
  },
  {
   "cell_type": "markdown",
   "metadata": {},
   "source": [
    "Cleaning Costumer Reviews: \n",
    "Remove URLs, emails, phone numbers & punctuations.\n",
    "Remove tags, emojis, symbols & pictographs.\n",
    "Remove stop words.\n",
    "Convert to lowercase and lemmatization.\n",
    "Duplicates removal.\n",
    "Spell checking.\n",
    "Non-English reviews removal.\n",
    "Remove stop words. "
   ]
  },
  {
   "cell_type": "markdown",
   "metadata": {},
   "source": [
    "### Remove duplicates"
   ]
  },
  {
   "cell_type": "code",
   "execution_count": 237,
   "metadata": {},
   "outputs": [
    {
     "data": {
      "text/plain": [
       "8592"
      ]
     },
     "execution_count": 237,
     "metadata": {},
     "output_type": "execute_result"
    }
   ],
   "source": [
    "count_duplicates = df.duplicated().sum()\n",
    "count_duplicates"
   ]
  },
  {
   "cell_type": "code",
   "execution_count": null,
   "metadata": {},
   "outputs": [],
   "source": [
    "df.drop_duplicates(inplace=True)"
   ]
  },
  {
   "cell_type": "markdown",
   "metadata": {},
   "source": [
    "### Remove NAs"
   ]
  },
  {
   "cell_type": "code",
   "execution_count": 238,
   "metadata": {},
   "outputs": [
    {
     "data": {
      "text/plain": [
       "at                      0\n",
       "score                   0\n",
       "userName                1\n",
       "content                 0\n",
       "Source                  0\n",
       "reviewId            22698\n",
       "thumbsUpCount       22698\n",
       "replyContent        53222\n",
       "repliedAt           53222\n",
       "appVersion          27612\n",
       "reply                   0\n",
       "Reviews                 0\n",
       "Original content        0\n",
       "at_ymd                  0\n",
       "at_q                    0\n",
       "at_ym                   0\n",
       "at_m                    0\n",
       "at_wd                   0\n",
       "at_w                    0\n",
       "dtype: int64"
      ]
     },
     "execution_count": 238,
     "metadata": {},
     "output_type": "execute_result"
    }
   ],
   "source": [
    "df.isna().sum()"
   ]
  },
  {
   "cell_type": "markdown",
   "metadata": {},
   "source": [
    "### Remove emojis and symbols, standardize mentions of ChatGPT and OpenAI"
   ]
  },
  {
   "cell_type": "code",
   "execution_count": 212,
   "metadata": {},
   "outputs": [
    {
     "ename": "SyntaxError",
     "evalue": "invalid syntax (4251488716.py, line 1)",
     "output_type": "error",
     "traceback": [
      "\u001b[0;36m  Cell \u001b[0;32mIn[212], line 1\u001b[0;36m\u001b[0m\n\u001b[0;31m    def tqdm(pre_process(text)):\u001b[0m\n\u001b[0m                        ^\u001b[0m\n\u001b[0;31mSyntaxError\u001b[0m\u001b[0;31m:\u001b[0m invalid syntax\n"
     ]
    }
   ],
   "source": [
    "def pre_process(text):\n",
    "\n",
    "    # remove emojis\n",
    "    emoji_pattern = re.compile(\"[\"\n",
    "         u\"\\U00002700-\\U000027BF\"  # Dingbats\n",
    "         u\"\\U0001F600-\\U0001F64F\"  # Emoticons\n",
    "         u\"\\U00002600-\\U000026FF\"  # Miscellaneous Symbols\n",
    "         u\"\\U0001F300-\\U0001F5FF\"  # Miscellaneous Symbols And Pictographs\n",
    "         u\"\\U0001F900-\\U0001F9FF\"  # Supplemental Symbols and Pictographs\n",
    "         u\"\\U0001FA70-\\U0001FAFF\"  # Symbols and Pictographs Extended-A\n",
    "         u\"\\U0001F680-\\U0001F6FF\"  # Transport and Map Symbols\n",
    "                       \"]+\", re.UNICODE)\n",
    "    text = emoji_pattern.sub(r'', text)\n",
    "\n",
    "    dem = demoji.findall(text)\n",
    "    for item in dem.keys():\n",
    "        text = text.replace(item, '')\n",
    "    \n",
    "    # remove all characters that are not alphanumeric\n",
    "    #text = re.sub(r'[^a-zA-Z0-9\\s]', '', text)\n",
    "\n",
    "    # remove symbols\n",
    "    symbol_pattern = re.compile(r'[@#$%^&*()_+{}\\[\\]\"\\<>,/\\\\|`~]+')\n",
    "    text = symbol_pattern.sub(r'', text)\n",
    "\n",
    "    # remove - \n",
    "    dash_pattern = re.compile(r'-+')\n",
    "    text = dash_pattern.sub(r'', text)\n",
    "\n",
    "    #split the string into separate tokens\n",
    "    tokens = re.split(r\"\\s+\",text)\n",
    "\n",
    "    # normalise all words into lowercase\n",
    "    text = \" \".join([t.lower() for t in tokens])\n",
    "\n",
    "    # standardize\n",
    "    text = text.replace(\"chat gpt\", \"chatgpt\")\n",
    "    text = text.replace(\"open ai\", \"openai\")\n",
    "\n",
    "    # return final list of tokens\n",
    "    return text"
   ]
  },
  {
   "cell_type": "code",
   "execution_count": 213,
   "metadata": {},
   "outputs": [
    {
     "name": "stderr",
     "output_type": "stream",
     "text": [
      "100%|██████████| 39576/39576 [00:17<00:00, 2323.65it/s] \n"
     ]
    }
   ],
   "source": [
    "tqdm.pandas()\n",
    "df['content'] = df['content'].progress_apply(pre_process)"
   ]
  },
  {
   "cell_type": "code",
   "execution_count": 214,
   "metadata": {},
   "outputs": [
    {
     "data": {
      "text/plain": [
       "30866         yo tengo\n",
       "30867    thank chatgpt\n",
       "30868       1st review\n",
       "30869         just wow\n",
       "30870     تطبيق احتراف\n",
       "             ...      \n",
       "30951             ️️️️\n",
       "30952             ️️️️\n",
       "30953             ️️️️\n",
       "30954                ️\n",
       "30955                5\n",
       "Name: content, Length: 90, dtype: object"
      ]
     },
     "execution_count": 214,
     "metadata": {},
     "output_type": "execute_result"
    }
   ],
   "source": [
    "df['content'].tail(90)"
   ]
  },
  {
   "cell_type": "code",
   "execution_count": 162,
   "metadata": {},
   "outputs": [],
   "source": [
    "# test_text = \"Amaznig and extremely handy app for many uses.... 🤍 it's like an extension of one's fingers ⭐️⭐️. #ChatGPT Chat GPT OpenAI Open AI HTML Google\""
   ]
  },
  {
   "cell_type": "code",
   "execution_count": 163,
   "metadata": {},
   "outputs": [],
   "source": [
    "#corrected_text = pre_process(test_text)\n",
    "#print(test_text)\n",
    "#print(corrected_text)"
   ]
  },
  {
   "cell_type": "code",
   "execution_count": 164,
   "metadata": {},
   "outputs": [],
   "source": [
    "# def remove_hashtags(text): \n",
    "#     hashtag_pattern = re.compile(r'#\\S+')\n",
    "#     return hashtag_pattern.sub('', text)\n",
    "# df['content'] = df['content'].apply(remove_hashtags)"
   ]
  },
  {
   "cell_type": "markdown",
   "metadata": {},
   "source": [
    "### Detect language "
   ]
  },
  {
   "cell_type": "code",
   "execution_count": 217,
   "metadata": {},
   "outputs": [],
   "source": [
    "def detect_language(comment):\n",
    "    try:\n",
    "        return detect(comment)\n",
    "    except:\n",
    "        return 'unknown' "
   ]
  },
  {
   "cell_type": "code",
   "execution_count": 218,
   "metadata": {},
   "outputs": [
    {
     "name": "stderr",
     "output_type": "stream",
     "text": [
      "100%|██████████| 39576/39576 [02:16<00:00, 290.23it/s]\n"
     ]
    }
   ],
   "source": [
    "tqdm.pandas()\n",
    "df['detected_language'] = df['content'].progress_apply(detect_language)"
   ]
  },
  {
   "cell_type": "code",
   "execution_count": 219,
   "metadata": {},
   "outputs": [
    {
     "data": {
      "text/plain": [
       "array(['en', 'nl', 'fr', 'no', 'af', 'da', 'cy', 'it', 'tl', 'ro', 'et',\n",
       "       'sv', 'ca', 'hr', 'sl', 'sw', 'so', 'hu', 'pl', 'de', 'unknown',\n",
       "       'id', 'sq', 'sk', 'fi', 'zh-cn', 'ko', 'pt', 'es', 'lt', 'ru',\n",
       "       'lv', 'vi', 'ar', 'tr', 'ja', 'ur', 'uk', 'fa', 'cs', 'ml', 'ta',\n",
       "       'hi', 'bn', 'ne', 'el', 'te', 'gu', 'mr', 'th', 'kn', 'he', 'bg',\n",
       "       'mk'], dtype=object)"
      ]
     },
     "execution_count": 219,
     "metadata": {},
     "output_type": "execute_result"
    }
   ],
   "source": [
    "df['detected_language'].unique()"
   ]
  },
  {
   "cell_type": "code",
   "execution_count": 220,
   "metadata": {},
   "outputs": [
    {
     "name": "stdout",
     "output_type": "stream",
     "text": [
      "<class 'pandas.core.frame.DataFrame'>\n",
      "Index: 27949 entries, 0 to 30923\n",
      "Data columns (total 21 columns):\n",
      " #   Column             Non-Null Count  Dtype         \n",
      "---  ------             --------------  -----         \n",
      " 0   at                 27949 non-null  object        \n",
      " 1   score              27949 non-null  int64         \n",
      " 2   userName           27948 non-null  object        \n",
      " 3   content            27949 non-null  object        \n",
      " 4   Source             27949 non-null  object        \n",
      " 5   reviewId           21370 non-null  object        \n",
      " 6   thumbsUpCount      21370 non-null  float64       \n",
      " 7   replyContent       387 non-null    object        \n",
      " 8   repliedAt          387 non-null    datetime64[ns]\n",
      " 9   appVersion         18095 non-null  object        \n",
      " 10  reply              27949 non-null  int64         \n",
      " 11  Reviews            27949 non-null  int64         \n",
      " 12  Original content   27949 non-null  object        \n",
      " 13  at_ymd             27949 non-null  object        \n",
      " 14  at_q               27949 non-null  int32         \n",
      " 15  at_ym              27949 non-null  object        \n",
      " 16  at_m               27949 non-null  object        \n",
      " 17  at_wd              27949 non-null  object        \n",
      " 18  at_w               27949 non-null  UInt32        \n",
      " 19  score_cat          27949 non-null  object        \n",
      " 20  detected_language  27949 non-null  object        \n",
      "dtypes: UInt32(1), datetime64[ns](1), float64(1), int32(1), int64(3), object(14)\n",
      "memory usage: 4.5+ MB\n"
     ]
    }
   ],
   "source": [
    "lang = df[df['detected_language'] == \"en\"]\n",
    "lang.info()"
   ]
  },
  {
   "cell_type": "code",
   "execution_count": 171,
   "metadata": {},
   "outputs": [],
   "source": [
    "#df.to_csv(\"../data/chatgpt_short_clean_all_languages.csv\")"
   ]
  },
  {
   "cell_type": "markdown",
   "metadata": {},
   "source": [
    "### Split into short (review-wise) and long format (sentence-wise)"
   ]
  },
  {
   "cell_type": "code",
   "execution_count": 172,
   "metadata": {},
   "outputs": [],
   "source": [
    "df_en = df[df['detected_language'] == \"en\"]"
   ]
  },
  {
   "cell_type": "code",
   "execution_count": 221,
   "metadata": {},
   "outputs": [
    {
     "name": "stderr",
     "output_type": "stream",
     "text": [
      "100%|██████████| 39576/39576 [00:00<00:00, 44548.17it/s]\n"
     ]
    }
   ],
   "source": [
    "df_en_long = df_en\n",
    "\n",
    "# Function to apply nltk.sent_tokenize() to a text column and create a new row for each sentence\n",
    "def tokenize_sentences(text):\n",
    "    sentences = nltk.sent_tokenize(text)\n",
    "    return sentences\n",
    "\n",
    "# Apply the function to the 'text_column' and explode the list of rows into individual rows\n",
    "tqdm.pandas()\n",
    "df_en_long['sentence'] = df_en_long.content.progress_apply(tokenize_sentences)\n",
    "df_en_long = df_en_long.explode('sentence')"
   ]
  },
  {
   "cell_type": "markdown",
   "metadata": {},
   "source": [
    "### Spell checking"
   ]
  },
  {
   "cell_type": "code",
   "execution_count": 173,
   "metadata": {},
   "outputs": [],
   "source": [
    "spell = SpellChecker()\n",
    "exceptions = [\"chatgpt\", \"openai\", \"gpt\", \"html\", \"css\", \"javascript\", \"microsoft\", \"elon\"]"
   ]
  },
  {
   "cell_type": "code",
   "execution_count": 174,
   "metadata": {},
   "outputs": [],
   "source": [
    "def correct_spelling(text): \n",
    "    words = text.split()\n",
    "    corrected_text = []\n",
    "    for word in words:\n",
    "        if word in exceptions:\n",
    "            corrected_text.append(word)\n",
    "        else: \n",
    "            corrected_word = spell.correction(word)\n",
    "            if corrected_word is not None: \n",
    "                corrected_text.append(corrected_word)\n",
    "            else:\n",
    "                corrected_text.append(word)\n",
    "    corrected_text = \" \".join(corrected_text)\n",
    "    return corrected_text"
   ]
  },
  {
   "cell_type": "code",
   "execution_count": 175,
   "metadata": {},
   "outputs": [],
   "source": [
    "# corrected_text2 = correct_spelling(corrected_text)\n",
    "# print(test_text)\n",
    "# print(corrected_text)\n",
    "# print(corrected_text2)"
   ]
  },
  {
   "cell_type": "code",
   "execution_count": 176,
   "metadata": {},
   "outputs": [
    {
     "name": "stderr",
     "output_type": "stream",
     "text": [
      "/var/folders/vl/wpx53sjn0nv5cmny0jckrfjr0000gn/T/ipykernel_13269/1908014393.py:1: SettingWithCopyWarning: \n",
      "A value is trying to be set on a copy of a slice from a DataFrame.\n",
      "Try using .loc[row_indexer,col_indexer] = value instead\n",
      "\n",
      "See the caveats in the documentation: https://pandas.pydata.org/pandas-docs/stable/user_guide/indexing.html#returning-a-view-versus-a-copy\n",
      "  df_en['content'] = df_en['content'].apply(correct_spelling)\n"
     ]
    }
   ],
   "source": [
    "tqdm.pandas()\n",
    "df_en['content'] = df_en['content'].progress_apply(correct_spelling)\n",
    "df_en_long['sentence'] = df_en_long['sentence'].progress_apply(correct_spelling)"
   ]
  },
  {
   "cell_type": "markdown",
   "metadata": {},
   "source": [
    "### Save dataframes"
   ]
  },
  {
   "cell_type": "code",
   "execution_count": 182,
   "metadata": {},
   "outputs": [],
   "source": [
    "df_en.to_csv(\"../data/chatgpt_short_clean_combined_en.csv\")\n",
    "df_en_long.to_csv(\"../data/long/chatgpt_clean_combined_en.csv\")"
   ]
  },
  {
   "cell_type": "code",
   "execution_count": 197,
   "metadata": {},
   "outputs": [
    {
     "data": {
      "text/html": [
       "<div>\n",
       "<style scoped>\n",
       "    .dataframe tbody tr th:only-of-type {\n",
       "        vertical-align: middle;\n",
       "    }\n",
       "\n",
       "    .dataframe tbody tr th {\n",
       "        vertical-align: top;\n",
       "    }\n",
       "\n",
       "    .dataframe thead th {\n",
       "        text-align: right;\n",
       "    }\n",
       "</style>\n",
       "<table border=\"1\" class=\"dataframe\">\n",
       "  <thead>\n",
       "    <tr style=\"text-align: right;\">\n",
       "      <th></th>\n",
       "      <th>at</th>\n",
       "      <th>score</th>\n",
       "      <th>userName</th>\n",
       "      <th>content</th>\n",
       "      <th>Source</th>\n",
       "      <th>reviewId</th>\n",
       "      <th>thumbsUpCount</th>\n",
       "      <th>replyContent</th>\n",
       "      <th>repliedAt</th>\n",
       "      <th>appVersion</th>\n",
       "      <th>...</th>\n",
       "      <th>Original content</th>\n",
       "      <th>at_ymd</th>\n",
       "      <th>at_q</th>\n",
       "      <th>at_ym</th>\n",
       "      <th>at_m</th>\n",
       "      <th>at_wd</th>\n",
       "      <th>at_w</th>\n",
       "      <th>score_cat</th>\n",
       "      <th>detected_language</th>\n",
       "      <th>sentence</th>\n",
       "    </tr>\n",
       "  </thead>\n",
       "  <tbody>\n",
       "    <tr>\n",
       "      <th>0</th>\n",
       "      <td>2023-09-12</td>\n",
       "      <td>5</td>\n",
       "      <td>Tj77883344</td>\n",
       "      <td>love it been using it since last years very much love the app way better than google very realistic once it's fed enough data i use it mostly for psychological questions essentially for advice on emotions situations anything of that sort i've done this for long enough that it is very human like it follows a set of rules i've ingrained in it it's spoken very blunt truths on my topics and what its observations are i won't lie once you've spoken to it enough made it clear what you want and have...</td>\n",
       "      <td>Apple</td>\n",
       "      <td>NaN</td>\n",
       "      <td>NaN</td>\n",
       "      <td>NaN</td>\n",
       "      <td>NaT</td>\n",
       "      <td>NaN</td>\n",
       "      <td>...</td>\n",
       "      <td>Love it, been using it since last year. Very much love the app. Way better than Google, very realistic once it’s fed enough data. I use it mostly for psychological questions, essentially for advice on emotions, situations, anything of that sort. I’ve done this for long enough that it is very human like. It follows a set of rules I’ve engrained in it. It’s spoken very blunt truths on my topics and what its observations are. I won’t lie, once you’ve spoken to it enough, made it clear what you ...</td>\n",
       "      <td>09/12/23</td>\n",
       "      <td>3</td>\n",
       "      <td>2023-09</td>\n",
       "      <td>September</td>\n",
       "      <td>Tuesday</td>\n",
       "      <td>37</td>\n",
       "      <td>positive</td>\n",
       "      <td>en</td>\n",
       "      <td>love it been using it since last years very much love the app way better than google very realistic once it's fed enough data i use it mostly for psychological questions essentially for advice on emotions situations anything of that sort i've done this for long enough that it is very human like it follows a set of rules i've ingrained in it it's spoken very blunt truths on my topics and what its observations are i won't lie once you've spoken to it enough made it clear what you want and have...</td>\n",
       "    </tr>\n",
       "    <tr>\n",
       "      <th>1</th>\n",
       "      <td>2023-09-10</td>\n",
       "      <td>4</td>\n",
       "      <td>PDXJavaJunkie</td>\n",
       "      <td>much more accessible for blind users than the web version up to this point i've mostly been using chatgpt on my windows desktop using google chrome while it's doable screen reader navigation is pretty difficult on the desktop site and you really have to be an advanced user to find your way through it i have submitted numerous feedback to openai about this but nothing has changed on that front well the good news i the is app pretty much addresses all of those problems the i seems really clean...</td>\n",
       "      <td>Apple</td>\n",
       "      <td>NaN</td>\n",
       "      <td>NaN</td>\n",
       "      <td>NaN</td>\n",
       "      <td>NaT</td>\n",
       "      <td>NaN</td>\n",
       "      <td>...</td>\n",
       "      <td>Much more accessible for blind users than the web version. Up to this point I’ve mostly been using ChatGPT on my windows desktop using Google Chrome. While it’s doable, screen reader navigation is pretty difficult on the desktop site and you really have to be an advanced user to find your way through it. I have submitted numerous feedbacks to open AI about this but nothing has changed on that front. Well, the good news – the iOS app pretty much addresses all of those problems. The UI seems r...</td>\n",
       "      <td>09/10/23</td>\n",
       "      <td>3</td>\n",
       "      <td>2023-09</td>\n",
       "      <td>September</td>\n",
       "      <td>Sunday</td>\n",
       "      <td>36</td>\n",
       "      <td>neutral</td>\n",
       "      <td>en</td>\n",
       "      <td>much more accessible for blind users than the web version up to this point i've mostly been using chatgpt on my windows desktop using google chrome while it's doable screen reader navigation is pretty difficult on the desktop site and you really have to be an advanced user to find your way through it i have submitted numerous feedback to openai about this but nothing has changed on that front well the good news i the is app pretty much addresses all of those problems the i seems really clean...</td>\n",
       "    </tr>\n",
       "    <tr>\n",
       "      <th>2</th>\n",
       "      <td>2023-07-11</td>\n",
       "      <td>4</td>\n",
       "      <td>Tinny tower addicted</td>\n",
       "      <td>much anticipated wasn't let down i've been a user since it's initial roll out and have been waiting for a mobile application ever since using the web app for reference i'm a software engineering student while working in it full time i have to say gpt is an crucial tools it takes far less time to get information quickly that you'd otherwise have to source from stackoverflow various redhats articles bunt articles searching through software documentation microsoft documentation eat typically ch...</td>\n",
       "      <td>Apple</td>\n",
       "      <td>NaN</td>\n",
       "      <td>NaN</td>\n",
       "      <td>NaN</td>\n",
       "      <td>NaT</td>\n",
       "      <td>NaN</td>\n",
       "      <td>...</td>\n",
       "      <td>Much anticipated, wasn’t let down.. I’ve been a user since it’s initial roll out and have been waiting for a mobile application ever since using the web app. For reference  I’m a software engineering student while working in IT full time. I have to say GPT is an crucial tool. It takes far less time to get information quickly that you’d otherwise have to source from stack-overflow, various red-hat articles, Ubuntu articles, searching through software documentation, Microsoft documentation ect...</td>\n",
       "      <td>07/11/23</td>\n",
       "      <td>3</td>\n",
       "      <td>2023-07</td>\n",
       "      <td>July</td>\n",
       "      <td>Tuesday</td>\n",
       "      <td>28</td>\n",
       "      <td>neutral</td>\n",
       "      <td>en</td>\n",
       "      <td>much anticipated wasn't let down i've been a user since it's initial roll out and have been waiting for a mobile application ever since using the web app for reference i'm a software engineering student while working in it full time i have to say gpt is an crucial tools it takes far less time to get information quickly that you'd otherwise have to source from stackoverflow various redhats articles bunt articles searching through software documentation microsoft documentation eat typically ch...</td>\n",
       "    </tr>\n",
       "    <tr>\n",
       "      <th>3</th>\n",
       "      <td>2023-05-27</td>\n",
       "      <td>4</td>\n",
       "      <td>Would Po</td>\n",
       "      <td>4.5 stars here's why i recently downloaded the app and overall it's a great platform with excellent potential however i did encounter a couple of issues with logging in that i feel need to be addressed firstly the login process was somewhat cumbersome it took me a few attempts to successfully log in as the app didn't always recognize my credentials right away this could be improved by streamlining the login flow and ensuring a smoother user experience secondly the app occasionally experience...</td>\n",
       "      <td>Apple</td>\n",
       "      <td>NaN</td>\n",
       "      <td>NaN</td>\n",
       "      <td>NaN</td>\n",
       "      <td>NaT</td>\n",
       "      <td>NaN</td>\n",
       "      <td>...</td>\n",
       "      <td>4.5 stars, here’s why. I recently downloaded the app and overall, it's a great platform with excellent potential. However, I did encounter a couple of issues with logging in that I feel need to be addressed. Firstly, the login process was somewhat cumbersome. It took me a few attempts to successfully log in, as the app didn't always recognize my credentials right away. This could be improved by streamlining the login flow and ensuring a smoother user experience. Secondly, the app occasionall...</td>\n",
       "      <td>05/27/23</td>\n",
       "      <td>2</td>\n",
       "      <td>2023-05</td>\n",
       "      <td>May</td>\n",
       "      <td>Saturday</td>\n",
       "      <td>21</td>\n",
       "      <td>neutral</td>\n",
       "      <td>en</td>\n",
       "      <td>4.5 stars here's why i recently downloaded the app and overall it's a great platform with excellent potential however i did encounter a couple of issues with logging in that i feel need to be addressed firstly the login process was somewhat cumbersome it took me a few attempts to successfully log in as the app didn't always recognize my credentials right away this could be improved by streamlining the login flow and ensuring a smoother user experience secondly the app occasionally experience...</td>\n",
       "    </tr>\n",
       "    <tr>\n",
       "      <th>4</th>\n",
       "      <td>2023-09-20</td>\n",
       "      <td>5</td>\n",
       "      <td>MORE FREE PAINTINGS!!!</td>\n",
       "      <td>always quick oh my gosh i cannot explain how much i've use this app it's almost like a faster google and more accurate the amount of things this app can do is amazing you can tell her to write a story about anything and it will write that story ask for healthy recipes it'll give it to you even like math problems it is so accurate it's insane like i was sending stories to my friend and she was like oh my gosh how are you doing that how are you doing that and i like chatgpt it's like the best ...</td>\n",
       "      <td>Apple</td>\n",
       "      <td>NaN</td>\n",
       "      <td>NaN</td>\n",
       "      <td>NaN</td>\n",
       "      <td>NaT</td>\n",
       "      <td>NaN</td>\n",
       "      <td>...</td>\n",
       "      <td>Always quick!. Oh my gosh, I cannot explain how much I’ve use this app. It’s almost like a faster Google and more accurate. The amount of things this app can do is amazing. You can tell her to write a story about anything and it will write that story. Ask for healthy recipes it’ll give it to you even like math problems. It is so accurate it’s insane like I was sending stories to my friend and she was like oh my gosh how are you doing that? How are you doing that and I like ChatGPT it’s like ...</td>\n",
       "      <td>09/20/23</td>\n",
       "      <td>3</td>\n",
       "      <td>2023-09</td>\n",
       "      <td>September</td>\n",
       "      <td>Wednesday</td>\n",
       "      <td>38</td>\n",
       "      <td>positive</td>\n",
       "      <td>en</td>\n",
       "      <td>always quick oh my gosh i cannot explain how much i've use this app it's almost like a faster google and more accurate the amount of things this app can do is amazing you can tell her to write a story about anything and it will write that story ask for healthy recipes it'll give it to you even like math problems it is so accurate it's insane like i was sending stories to my friend and she was like oh my gosh how are you doing that how are you doing that and i like chatgpt it's like the best ...</td>\n",
       "    </tr>\n",
       "    <tr>\n",
       "      <th>...</th>\n",
       "      <td>...</td>\n",
       "      <td>...</td>\n",
       "      <td>...</td>\n",
       "      <td>...</td>\n",
       "      <td>...</td>\n",
       "      <td>...</td>\n",
       "      <td>...</td>\n",
       "      <td>...</td>\n",
       "      <td>...</td>\n",
       "      <td>...</td>\n",
       "      <td>...</td>\n",
       "      <td>...</td>\n",
       "      <td>...</td>\n",
       "      <td>...</td>\n",
       "      <td>...</td>\n",
       "      <td>...</td>\n",
       "      <td>...</td>\n",
       "      <td>...</td>\n",
       "      <td>...</td>\n",
       "      <td>...</td>\n",
       "      <td>...</td>\n",
       "    </tr>\n",
       "    <tr>\n",
       "      <th>30912</th>\n",
       "      <td>2023-07-25</td>\n",
       "      <td>5</td>\n",
       "      <td>Yeamin Hossain (Limon)</td>\n",
       "      <td>first review</td>\n",
       "      <td>Google</td>\n",
       "      <td>6bed36cc-bc58-479e-b395-6644d15adeb8</td>\n",
       "      <td>0.0</td>\n",
       "      <td>NaN</td>\n",
       "      <td>NaT</td>\n",
       "      <td>NaN</td>\n",
       "      <td>...</td>\n",
       "      <td>First Review</td>\n",
       "      <td>07/25/23</td>\n",
       "      <td>3</td>\n",
       "      <td>2023-07</td>\n",
       "      <td>July</td>\n",
       "      <td>Tuesday</td>\n",
       "      <td>30</td>\n",
       "      <td>positive</td>\n",
       "      <td>en</td>\n",
       "      <td>first review</td>\n",
       "    </tr>\n",
       "    <tr>\n",
       "      <th>30916</th>\n",
       "      <td>2023-07-25</td>\n",
       "      <td>5</td>\n",
       "      <td>Sarvesh Soni</td>\n",
       "      <td>first downloaded</td>\n",
       "      <td>Google</td>\n",
       "      <td>2ecc7803-920c-4f95-8b15-db9c7b1caa8a</td>\n",
       "      <td>0.0</td>\n",
       "      <td>NaN</td>\n",
       "      <td>NaT</td>\n",
       "      <td>NaN</td>\n",
       "      <td>...</td>\n",
       "      <td>First downloader</td>\n",
       "      <td>07/25/23</td>\n",
       "      <td>3</td>\n",
       "      <td>2023-07</td>\n",
       "      <td>July</td>\n",
       "      <td>Tuesday</td>\n",
       "      <td>30</td>\n",
       "      <td>positive</td>\n",
       "      <td>en</td>\n",
       "      <td>first downloaded</td>\n",
       "    </tr>\n",
       "    <tr>\n",
       "      <th>30918</th>\n",
       "      <td>2023-07-25</td>\n",
       "      <td>5</td>\n",
       "      <td>mostafijur rahman</td>\n",
       "      <td>usually app</td>\n",
       "      <td>Google</td>\n",
       "      <td>0530373c-1bfc-45d2-9dec-9fc0bb9cff4d</td>\n",
       "      <td>0.0</td>\n",
       "      <td>NaN</td>\n",
       "      <td>NaT</td>\n",
       "      <td>NaN</td>\n",
       "      <td>...</td>\n",
       "      <td>Usually app</td>\n",
       "      <td>07/25/23</td>\n",
       "      <td>3</td>\n",
       "      <td>2023-07</td>\n",
       "      <td>July</td>\n",
       "      <td>Tuesday</td>\n",
       "      <td>30</td>\n",
       "      <td>positive</td>\n",
       "      <td>en</td>\n",
       "      <td>usually app</td>\n",
       "    </tr>\n",
       "    <tr>\n",
       "      <th>30921</th>\n",
       "      <td>2023-07-25</td>\n",
       "      <td>5</td>\n",
       "      <td>Carter Gledhill</td>\n",
       "      <td>first comment</td>\n",
       "      <td>Google</td>\n",
       "      <td>4775c835-38dd-48b8-8bf0-c3f38fe8794d</td>\n",
       "      <td>0.0</td>\n",
       "      <td>NaN</td>\n",
       "      <td>NaT</td>\n",
       "      <td>NaN</td>\n",
       "      <td>...</td>\n",
       "      <td>First comment</td>\n",
       "      <td>07/25/23</td>\n",
       "      <td>3</td>\n",
       "      <td>2023-07</td>\n",
       "      <td>July</td>\n",
       "      <td>Tuesday</td>\n",
       "      <td>30</td>\n",
       "      <td>positive</td>\n",
       "      <td>en</td>\n",
       "      <td>first comment</td>\n",
       "    </tr>\n",
       "    <tr>\n",
       "      <th>30923</th>\n",
       "      <td>2023-07-25</td>\n",
       "      <td>5</td>\n",
       "      <td>Rohan Dafare</td>\n",
       "      <td>hum first</td>\n",
       "      <td>Google</td>\n",
       "      <td>beb0b506-732d-4d42-888b-1485a3958ab2</td>\n",
       "      <td>0.0</td>\n",
       "      <td>NaN</td>\n",
       "      <td>NaT</td>\n",
       "      <td>NaN</td>\n",
       "      <td>...</td>\n",
       "      <td>Hum First</td>\n",
       "      <td>07/25/23</td>\n",
       "      <td>3</td>\n",
       "      <td>2023-07</td>\n",
       "      <td>July</td>\n",
       "      <td>Tuesday</td>\n",
       "      <td>30</td>\n",
       "      <td>positive</td>\n",
       "      <td>en</td>\n",
       "      <td>hum first</td>\n",
       "    </tr>\n",
       "  </tbody>\n",
       "</table>\n",
       "<p>30565 rows × 22 columns</p>\n",
       "</div>"
      ],
      "text/plain": [
       "               at  score                userName  \\\n",
       "0      2023-09-12      5              Tj77883344   \n",
       "1      2023-09-10      4           PDXJavaJunkie   \n",
       "2      2023-07-11      4    Tinny tower addicted   \n",
       "3      2023-05-27      4                Would Po   \n",
       "4      2023-09-20      5  MORE FREE PAINTINGS!!!   \n",
       "...           ...    ...                     ...   \n",
       "30912  2023-07-25      5  Yeamin Hossain (Limon)   \n",
       "30916  2023-07-25      5            Sarvesh Soni   \n",
       "30918  2023-07-25      5       mostafijur rahman   \n",
       "30921  2023-07-25      5         Carter Gledhill   \n",
       "30923  2023-07-25      5            Rohan Dafare   \n",
       "\n",
       "                                                                                                                                                                                                                                                                                                                                                                                                                                                                                                                   content  \\\n",
       "0      love it been using it since last years very much love the app way better than google very realistic once it's fed enough data i use it mostly for psychological questions essentially for advice on emotions situations anything of that sort i've done this for long enough that it is very human like it follows a set of rules i've ingrained in it it's spoken very blunt truths on my topics and what its observations are i won't lie once you've spoken to it enough made it clear what you want and have...   \n",
       "1      much more accessible for blind users than the web version up to this point i've mostly been using chatgpt on my windows desktop using google chrome while it's doable screen reader navigation is pretty difficult on the desktop site and you really have to be an advanced user to find your way through it i have submitted numerous feedback to openai about this but nothing has changed on that front well the good news i the is app pretty much addresses all of those problems the i seems really clean...   \n",
       "2      much anticipated wasn't let down i've been a user since it's initial roll out and have been waiting for a mobile application ever since using the web app for reference i'm a software engineering student while working in it full time i have to say gpt is an crucial tools it takes far less time to get information quickly that you'd otherwise have to source from stackoverflow various redhats articles bunt articles searching through software documentation microsoft documentation eat typically ch...   \n",
       "3      4.5 stars here's why i recently downloaded the app and overall it's a great platform with excellent potential however i did encounter a couple of issues with logging in that i feel need to be addressed firstly the login process was somewhat cumbersome it took me a few attempts to successfully log in as the app didn't always recognize my credentials right away this could be improved by streamlining the login flow and ensuring a smoother user experience secondly the app occasionally experience...   \n",
       "4      always quick oh my gosh i cannot explain how much i've use this app it's almost like a faster google and more accurate the amount of things this app can do is amazing you can tell her to write a story about anything and it will write that story ask for healthy recipes it'll give it to you even like math problems it is so accurate it's insane like i was sending stories to my friend and she was like oh my gosh how are you doing that how are you doing that and i like chatgpt it's like the best ...   \n",
       "...                                                                                                                                                                                                                                                                                                                                                                                                                                                                                                                    ...   \n",
       "30912                                                                                                                                                                                                                                                                                                                                                                                                                                                                                                         first review   \n",
       "30916                                                                                                                                                                                                                                                                                                                                                                                                                                                                                                     first downloaded   \n",
       "30918                                                                                                                                                                                                                                                                                                                                                                                                                                                                                                          usually app   \n",
       "30921                                                                                                                                                                                                                                                                                                                                                                                                                                                                                                        first comment   \n",
       "30923                                                                                                                                                                                                                                                                                                                                                                                                                                                                                                            hum first   \n",
       "\n",
       "       Source                              reviewId  thumbsUpCount  \\\n",
       "0       Apple                                   NaN            NaN   \n",
       "1       Apple                                   NaN            NaN   \n",
       "2       Apple                                   NaN            NaN   \n",
       "3       Apple                                   NaN            NaN   \n",
       "4       Apple                                   NaN            NaN   \n",
       "...       ...                                   ...            ...   \n",
       "30912  Google  6bed36cc-bc58-479e-b395-6644d15adeb8            0.0   \n",
       "30916  Google  2ecc7803-920c-4f95-8b15-db9c7b1caa8a            0.0   \n",
       "30918  Google  0530373c-1bfc-45d2-9dec-9fc0bb9cff4d            0.0   \n",
       "30921  Google  4775c835-38dd-48b8-8bf0-c3f38fe8794d            0.0   \n",
       "30923  Google  beb0b506-732d-4d42-888b-1485a3958ab2            0.0   \n",
       "\n",
       "      replyContent repliedAt appVersion  ...  \\\n",
       "0              NaN       NaT        NaN  ...   \n",
       "1              NaN       NaT        NaN  ...   \n",
       "2              NaN       NaT        NaN  ...   \n",
       "3              NaN       NaT        NaN  ...   \n",
       "4              NaN       NaT        NaN  ...   \n",
       "...            ...       ...        ...  ...   \n",
       "30912          NaN       NaT        NaN  ...   \n",
       "30916          NaN       NaT        NaN  ...   \n",
       "30918          NaN       NaT        NaN  ...   \n",
       "30921          NaN       NaT        NaN  ...   \n",
       "30923          NaN       NaT        NaN  ...   \n",
       "\n",
       "                                                                                                                                                                                                                                                                                                                                                                                                                                                                                                          Original content  \\\n",
       "0      Love it, been using it since last year. Very much love the app. Way better than Google, very realistic once it’s fed enough data. I use it mostly for psychological questions, essentially for advice on emotions, situations, anything of that sort. I’ve done this for long enough that it is very human like. It follows a set of rules I’ve engrained in it. It’s spoken very blunt truths on my topics and what its observations are. I won’t lie, once you’ve spoken to it enough, made it clear what you ...   \n",
       "1      Much more accessible for blind users than the web version. Up to this point I’ve mostly been using ChatGPT on my windows desktop using Google Chrome. While it’s doable, screen reader navigation is pretty difficult on the desktop site and you really have to be an advanced user to find your way through it. I have submitted numerous feedbacks to open AI about this but nothing has changed on that front. Well, the good news – the iOS app pretty much addresses all of those problems. The UI seems r...   \n",
       "2      Much anticipated, wasn’t let down.. I’ve been a user since it’s initial roll out and have been waiting for a mobile application ever since using the web app. For reference  I’m a software engineering student while working in IT full time. I have to say GPT is an crucial tool. It takes far less time to get information quickly that you’d otherwise have to source from stack-overflow, various red-hat articles, Ubuntu articles, searching through software documentation, Microsoft documentation ect...   \n",
       "3      4.5 stars, here’s why. I recently downloaded the app and overall, it's a great platform with excellent potential. However, I did encounter a couple of issues with logging in that I feel need to be addressed. Firstly, the login process was somewhat cumbersome. It took me a few attempts to successfully log in, as the app didn't always recognize my credentials right away. This could be improved by streamlining the login flow and ensuring a smoother user experience. Secondly, the app occasionall...   \n",
       "4      Always quick!. Oh my gosh, I cannot explain how much I’ve use this app. It’s almost like a faster Google and more accurate. The amount of things this app can do is amazing. You can tell her to write a story about anything and it will write that story. Ask for healthy recipes it’ll give it to you even like math problems. It is so accurate it’s insane like I was sending stories to my friend and she was like oh my gosh how are you doing that? How are you doing that and I like ChatGPT it’s like ...   \n",
       "...                                                                                                                                                                                                                                                                                                                                                                                                                                                                                                                    ...   \n",
       "30912                                                                                                                                                                                                                                                                                                                                                                                                                                                                                                         First Review   \n",
       "30916                                                                                                                                                                                                                                                                                                                                                                                                                                                                                                     First downloader   \n",
       "30918                                                                                                                                                                                                                                                                                                                                                                                                                                                                                                          Usually app   \n",
       "30921                                                                                                                                                                                                                                                                                                                                                                                                                                                                                                        First comment   \n",
       "30923                                                                                                                                                                                                                                                                                                                                                                                                                                                                                                            Hum First   \n",
       "\n",
       "         at_ymd at_q    at_ym       at_m      at_wd at_w score_cat  \\\n",
       "0      09/12/23    3  2023-09  September    Tuesday   37  positive   \n",
       "1      09/10/23    3  2023-09  September     Sunday   36   neutral   \n",
       "2      07/11/23    3  2023-07       July    Tuesday   28   neutral   \n",
       "3      05/27/23    2  2023-05        May   Saturday   21   neutral   \n",
       "4      09/20/23    3  2023-09  September  Wednesday   38  positive   \n",
       "...         ...  ...      ...        ...        ...  ...       ...   \n",
       "30912  07/25/23    3  2023-07       July    Tuesday   30  positive   \n",
       "30916  07/25/23    3  2023-07       July    Tuesday   30  positive   \n",
       "30918  07/25/23    3  2023-07       July    Tuesday   30  positive   \n",
       "30921  07/25/23    3  2023-07       July    Tuesday   30  positive   \n",
       "30923  07/25/23    3  2023-07       July    Tuesday   30  positive   \n",
       "\n",
       "       detected_language  \\\n",
       "0                     en   \n",
       "1                     en   \n",
       "2                     en   \n",
       "3                     en   \n",
       "4                     en   \n",
       "...                  ...   \n",
       "30912                 en   \n",
       "30916                 en   \n",
       "30918                 en   \n",
       "30921                 en   \n",
       "30923                 en   \n",
       "\n",
       "                                                                                                                                                                                                                                                                                                                                                                                                                                                                                                                  sentence  \n",
       "0      love it been using it since last years very much love the app way better than google very realistic once it's fed enough data i use it mostly for psychological questions essentially for advice on emotions situations anything of that sort i've done this for long enough that it is very human like it follows a set of rules i've ingrained in it it's spoken very blunt truths on my topics and what its observations are i won't lie once you've spoken to it enough made it clear what you want and have...  \n",
       "1      much more accessible for blind users than the web version up to this point i've mostly been using chatgpt on my windows desktop using google chrome while it's doable screen reader navigation is pretty difficult on the desktop site and you really have to be an advanced user to find your way through it i have submitted numerous feedback to openai about this but nothing has changed on that front well the good news i the is app pretty much addresses all of those problems the i seems really clean...  \n",
       "2      much anticipated wasn't let down i've been a user since it's initial roll out and have been waiting for a mobile application ever since using the web app for reference i'm a software engineering student while working in it full time i have to say gpt is an crucial tools it takes far less time to get information quickly that you'd otherwise have to source from stackoverflow various redhats articles bunt articles searching through software documentation microsoft documentation eat typically ch...  \n",
       "3      4.5 stars here's why i recently downloaded the app and overall it's a great platform with excellent potential however i did encounter a couple of issues with logging in that i feel need to be addressed firstly the login process was somewhat cumbersome it took me a few attempts to successfully log in as the app didn't always recognize my credentials right away this could be improved by streamlining the login flow and ensuring a smoother user experience secondly the app occasionally experience...  \n",
       "4      always quick oh my gosh i cannot explain how much i've use this app it's almost like a faster google and more accurate the amount of things this app can do is amazing you can tell her to write a story about anything and it will write that story ask for healthy recipes it'll give it to you even like math problems it is so accurate it's insane like i was sending stories to my friend and she was like oh my gosh how are you doing that how are you doing that and i like chatgpt it's like the best ...  \n",
       "...                                                                                                                                                                                                                                                                                                                                                                                                                                                                                                                    ...  \n",
       "30912                                                                                                                                                                                                                                                                                                                                                                                                                                                                                                         first review  \n",
       "30916                                                                                                                                                                                                                                                                                                                                                                                                                                                                                                     first downloaded  \n",
       "30918                                                                                                                                                                                                                                                                                                                                                                                                                                                                                                          usually app  \n",
       "30921                                                                                                                                                                                                                                                                                                                                                                                                                                                                                                        first comment  \n",
       "30923                                                                                                                                                                                                                                                                                                                                                                                                                                                                                                            hum first  \n",
       "\n",
       "[30565 rows x 22 columns]"
      ]
     },
     "execution_count": 197,
     "metadata": {},
     "output_type": "execute_result"
    }
   ],
   "source": [
    "df_en_long"
   ]
  }
 ],
 "metadata": {
  "kernelspec": {
   "display_name": ".venv",
   "language": "python",
   "name": "python3"
  },
  "language_info": {
   "codemirror_mode": {
    "name": "ipython",
    "version": 3
   },
   "file_extension": ".py",
   "mimetype": "text/x-python",
   "name": "python",
   "nbconvert_exporter": "python",
   "pygments_lexer": "ipython3",
   "version": "3.11.3"
  }
 },
 "nbformat": 4,
 "nbformat_minor": 2
}
