{
 "cells": [
  {
   "cell_type": "markdown",
   "metadata": {},
   "source": [
    "This will be my file to create a plotly dashboard"
   ]
  },
  {
   "cell_type": "code",
   "execution_count": 2,
   "metadata": {},
   "outputs": [],
   "source": [
    "import dash\n",
    "from dash import html, dcc\n",
    "from dash.dependencies import Input, Output, ClientsideFunction\n",
    "\n",
    "import numpy as np\n",
    "import pandas as pd\n",
    "import plotly.express as px\n",
    "import datetime\n",
    "from datetime import datetime as dt\n",
    "import pathlib"
   ]
  },
  {
   "cell_type": "code",
   "execution_count": 3,
   "metadata": {},
   "outputs": [],
   "source": [
    "app = dash.Dash(\n",
    "    __name__,\n",
    "    meta_tags=[{\"name\": \"viewport\", \"content\": \"width=device-width, initial-scale=1\"}],\n",
    ")\n",
    "app.title = \"ChatGPT App Review Dashboard\"\n",
    "\n",
    "server = app.server\n",
    "app.config.suppress_callback_exceptions = True\n"
   ]
  },
  {
   "cell_type": "code",
   "execution_count": 4,
   "metadata": {},
   "outputs": [],
   "source": [
    "# Read data\n",
    "df = pd.read_csv(\"../data/ChatGPT-play-reviews_sentiment.csv\", parse_dates=['at'])\n",
    "df['Reviews'] = 1\n",
    "df['at'] = df['at'].dt.date\n",
    "\n",
    "score_list = df[\"score\"].unique().tolist()\n",
    "version_list = df[\"appVersion\"].sort_values(ascending=True).unique().tolist()\n",
    "\n",
    "topics = [\"feature evaluation\", \"praise\", \"bug report\", \"feature request\", \"performance\", \"usage\"]\n",
    "df[\"topic\"] = np.random.choice(topics, size=len(df), p=[0.2, 0.2, 0.2, 0.2, 0.1, 0.1])\n",
    "topic_list = df[\"topic\"].unique().tolist()"
   ]
  },
  {
   "cell_type": "code",
   "execution_count": 20,
   "metadata": {},
   "outputs": [
    {
     "ename": "NameError",
     "evalue": "name 'initialize_table' is not defined",
     "output_type": "error",
     "traceback": [
      "\u001b[0;31m---------------------------------------------------------------------------\u001b[0m",
      "\u001b[0;31mNameError\u001b[0m                                 Traceback (most recent call last)",
      "\u001b[1;32m/Users/janice/Documents/Bootcamp/Git/Capstone/capstone_chat-gpt/notebooks/x_dashboard.ipynb Zelle 5\u001b[0m line \u001b[0;36m2\n\u001b[1;32m    <a href='vscode-notebook-cell:/Users/janice/Documents/Bootcamp/Git/Capstone/capstone_chat-gpt/notebooks/x_dashboard.ipynb#W3sZmlsZQ%3D%3D?line=157'>158</a>\u001b[0m     layout \u001b[39m=\u001b[39m \u001b[39mdict\u001b[39m(\n\u001b[1;32m    <a href='vscode-notebook-cell:/Users/janice/Documents/Bootcamp/Git/Capstone/capstone_chat-gpt/notebooks/x_dashboard.ipynb#W3sZmlsZQ%3D%3D?line=158'>159</a>\u001b[0m         margin\u001b[39m=\u001b[39m\u001b[39mdict\u001b[39m(l\u001b[39m=\u001b[39m\u001b[39m70\u001b[39m, b\u001b[39m=\u001b[39m\u001b[39m50\u001b[39m, t\u001b[39m=\u001b[39m\u001b[39m50\u001b[39m, r\u001b[39m=\u001b[39m\u001b[39m50\u001b[39m),\n\u001b[1;32m    <a href='vscode-notebook-cell:/Users/janice/Documents/Bootcamp/Git/Capstone/capstone_chat-gpt/notebooks/x_dashboard.ipynb#W3sZmlsZQ%3D%3D?line=159'>160</a>\u001b[0m         modebar\u001b[39m=\u001b[39m{\u001b[39m\"\u001b[39m\u001b[39morientation\u001b[39m\u001b[39m\"\u001b[39m: \u001b[39m\"\u001b[39m\u001b[39mv\u001b[39m\u001b[39m\"\u001b[39m},\n\u001b[0;32m   (...)\u001b[0m\n\u001b[1;32m    <a href='vscode-notebook-cell:/Users/janice/Documents/Bootcamp/Git/Capstone/capstone_chat-gpt/notebooks/x_dashboard.ipynb#W3sZmlsZQ%3D%3D?line=174'>175</a>\u001b[0m         showlegend\u001b[39m=\u001b[39m\u001b[39mFalse\u001b[39;00m,\n\u001b[1;32m    <a href='vscode-notebook-cell:/Users/janice/Documents/Bootcamp/Git/Capstone/capstone_chat-gpt/notebooks/x_dashboard.ipynb#W3sZmlsZQ%3D%3D?line=175'>176</a>\u001b[0m     )\n\u001b[1;32m    <a href='vscode-notebook-cell:/Users/janice/Documents/Bootcamp/Git/Capstone/capstone_chat-gpt/notebooks/x_dashboard.ipynb#W3sZmlsZQ%3D%3D?line=176'>177</a>\u001b[0m     \u001b[39mreturn\u001b[39;00m {\u001b[39m\"\u001b[39m\u001b[39mdata\u001b[39m\u001b[39m\"\u001b[39m: data, \u001b[39m\"\u001b[39m\u001b[39mlayout\u001b[39m\u001b[39m\"\u001b[39m: layout}\n\u001b[1;32m    <a href='vscode-notebook-cell:/Users/janice/Documents/Bootcamp/Git/Capstone/capstone_chat-gpt/notebooks/x_dashboard.ipynb#W3sZmlsZQ%3D%3D?line=178'>179</a>\u001b[0m app\u001b[39m.\u001b[39mlayout \u001b[39m=\u001b[39m html\u001b[39m.\u001b[39mDiv(\n\u001b[1;32m    <a href='vscode-notebook-cell:/Users/janice/Documents/Bootcamp/Git/Capstone/capstone_chat-gpt/notebooks/x_dashboard.ipynb#W3sZmlsZQ%3D%3D?line=179'>180</a>\u001b[0m     \u001b[39mid\u001b[39m\u001b[39m=\u001b[39m\u001b[39m\"\u001b[39m\u001b[39mapp-container\u001b[39m\u001b[39m\"\u001b[39m,\n\u001b[1;32m    <a href='vscode-notebook-cell:/Users/janice/Documents/Bootcamp/Git/Capstone/capstone_chat-gpt/notebooks/x_dashboard.ipynb#W3sZmlsZQ%3D%3D?line=180'>181</a>\u001b[0m     children\u001b[39m=\u001b[39m[\n\u001b[1;32m    <a href='vscode-notebook-cell:/Users/janice/Documents/Bootcamp/Git/Capstone/capstone_chat-gpt/notebooks/x_dashboard.ipynb#W3sZmlsZQ%3D%3D?line=181'>182</a>\u001b[0m         \u001b[39m# Banner\u001b[39;00m\n\u001b[1;32m    <a href='vscode-notebook-cell:/Users/janice/Documents/Bootcamp/Git/Capstone/capstone_chat-gpt/notebooks/x_dashboard.ipynb#W3sZmlsZQ%3D%3D?line=182'>183</a>\u001b[0m         html\u001b[39m.\u001b[39mDiv(\n\u001b[1;32m    <a href='vscode-notebook-cell:/Users/janice/Documents/Bootcamp/Git/Capstone/capstone_chat-gpt/notebooks/x_dashboard.ipynb#W3sZmlsZQ%3D%3D?line=183'>184</a>\u001b[0m             \u001b[39mid\u001b[39m\u001b[39m=\u001b[39m\u001b[39m\"\u001b[39m\u001b[39mbanner\u001b[39m\u001b[39m\"\u001b[39m,\n\u001b[1;32m    <a href='vscode-notebook-cell:/Users/janice/Documents/Bootcamp/Git/Capstone/capstone_chat-gpt/notebooks/x_dashboard.ipynb#W3sZmlsZQ%3D%3D?line=184'>185</a>\u001b[0m             className\u001b[39m=\u001b[39m\u001b[39m\"\u001b[39m\u001b[39mbanner\u001b[39m\u001b[39m\"\u001b[39m,\n\u001b[1;32m    <a href='vscode-notebook-cell:/Users/janice/Documents/Bootcamp/Git/Capstone/capstone_chat-gpt/notebooks/x_dashboard.ipynb#W3sZmlsZQ%3D%3D?line=185'>186</a>\u001b[0m             children\u001b[39m=\u001b[39m[html\u001b[39m.\u001b[39mImg(src\u001b[39m=\u001b[39mapp\u001b[39m.\u001b[39mget_asset_url(\u001b[39m\"\u001b[39m\u001b[39mhttps://upload.wikimedia.org/wikipedia/commons/0/04/ChatGPT_logo.svg\u001b[39m\u001b[39m\"\u001b[39m))],\n\u001b[1;32m    <a href='vscode-notebook-cell:/Users/janice/Documents/Bootcamp/Git/Capstone/capstone_chat-gpt/notebooks/x_dashboard.ipynb#W3sZmlsZQ%3D%3D?line=186'>187</a>\u001b[0m         ),\n\u001b[1;32m    <a href='vscode-notebook-cell:/Users/janice/Documents/Bootcamp/Git/Capstone/capstone_chat-gpt/notebooks/x_dashboard.ipynb#W3sZmlsZQ%3D%3D?line=187'>188</a>\u001b[0m         \u001b[39m# Left column\u001b[39;00m\n\u001b[1;32m    <a href='vscode-notebook-cell:/Users/janice/Documents/Bootcamp/Git/Capstone/capstone_chat-gpt/notebooks/x_dashboard.ipynb#W3sZmlsZQ%3D%3D?line=188'>189</a>\u001b[0m         html\u001b[39m.\u001b[39mDiv(\n\u001b[1;32m    <a href='vscode-notebook-cell:/Users/janice/Documents/Bootcamp/Git/Capstone/capstone_chat-gpt/notebooks/x_dashboard.ipynb#W3sZmlsZQ%3D%3D?line=189'>190</a>\u001b[0m             \u001b[39mid\u001b[39m\u001b[39m=\u001b[39m\u001b[39m\"\u001b[39m\u001b[39mleft-column\u001b[39m\u001b[39m\"\u001b[39m,\n\u001b[1;32m    <a href='vscode-notebook-cell:/Users/janice/Documents/Bootcamp/Git/Capstone/capstone_chat-gpt/notebooks/x_dashboard.ipynb#W3sZmlsZQ%3D%3D?line=190'>191</a>\u001b[0m             className\u001b[39m=\u001b[39m\u001b[39m\"\u001b[39m\u001b[39mfour columns\u001b[39m\u001b[39m\"\u001b[39m,\n\u001b[1;32m    <a href='vscode-notebook-cell:/Users/janice/Documents/Bootcamp/Git/Capstone/capstone_chat-gpt/notebooks/x_dashboard.ipynb#W3sZmlsZQ%3D%3D?line=191'>192</a>\u001b[0m             children\u001b[39m=\u001b[39m[description_card(), generate_control_card()]\n\u001b[1;32m    <a href='vscode-notebook-cell:/Users/janice/Documents/Bootcamp/Git/Capstone/capstone_chat-gpt/notebooks/x_dashboard.ipynb#W3sZmlsZQ%3D%3D?line=192'>193</a>\u001b[0m             \u001b[39m+\u001b[39m [\n\u001b[1;32m    <a href='vscode-notebook-cell:/Users/janice/Documents/Bootcamp/Git/Capstone/capstone_chat-gpt/notebooks/x_dashboard.ipynb#W3sZmlsZQ%3D%3D?line=193'>194</a>\u001b[0m                 html\u001b[39m.\u001b[39mDiv(\n\u001b[1;32m    <a href='vscode-notebook-cell:/Users/janice/Documents/Bootcamp/Git/Capstone/capstone_chat-gpt/notebooks/x_dashboard.ipynb#W3sZmlsZQ%3D%3D?line=194'>195</a>\u001b[0m                     [\u001b[39m\"\u001b[39m\u001b[39minitial child\u001b[39m\u001b[39m\"\u001b[39m], \u001b[39mid\u001b[39m\u001b[39m=\u001b[39m\u001b[39m\"\u001b[39m\u001b[39moutput-clientside\u001b[39m\u001b[39m\"\u001b[39m, style\u001b[39m=\u001b[39m{\u001b[39m\"\u001b[39m\u001b[39mdisplay\u001b[39m\u001b[39m\"\u001b[39m: \u001b[39m\"\u001b[39m\u001b[39mnone\u001b[39m\u001b[39m\"\u001b[39m}\n\u001b[1;32m    <a href='vscode-notebook-cell:/Users/janice/Documents/Bootcamp/Git/Capstone/capstone_chat-gpt/notebooks/x_dashboard.ipynb#W3sZmlsZQ%3D%3D?line=195'>196</a>\u001b[0m                 )\n\u001b[1;32m    <a href='vscode-notebook-cell:/Users/janice/Documents/Bootcamp/Git/Capstone/capstone_chat-gpt/notebooks/x_dashboard.ipynb#W3sZmlsZQ%3D%3D?line=196'>197</a>\u001b[0m             ],\n\u001b[1;32m    <a href='vscode-notebook-cell:/Users/janice/Documents/Bootcamp/Git/Capstone/capstone_chat-gpt/notebooks/x_dashboard.ipynb#W3sZmlsZQ%3D%3D?line=197'>198</a>\u001b[0m         ),\n\u001b[1;32m    <a href='vscode-notebook-cell:/Users/janice/Documents/Bootcamp/Git/Capstone/capstone_chat-gpt/notebooks/x_dashboard.ipynb#W3sZmlsZQ%3D%3D?line=198'>199</a>\u001b[0m         \u001b[39m# Right column\u001b[39;00m\n\u001b[1;32m    <a href='vscode-notebook-cell:/Users/janice/Documents/Bootcamp/Git/Capstone/capstone_chat-gpt/notebooks/x_dashboard.ipynb#W3sZmlsZQ%3D%3D?line=199'>200</a>\u001b[0m         html\u001b[39m.\u001b[39mDiv(\n\u001b[1;32m    <a href='vscode-notebook-cell:/Users/janice/Documents/Bootcamp/Git/Capstone/capstone_chat-gpt/notebooks/x_dashboard.ipynb#W3sZmlsZQ%3D%3D?line=200'>201</a>\u001b[0m             \u001b[39mid\u001b[39m\u001b[39m=\u001b[39m\u001b[39m\"\u001b[39m\u001b[39mright-column\u001b[39m\u001b[39m\"\u001b[39m,\n\u001b[1;32m    <a href='vscode-notebook-cell:/Users/janice/Documents/Bootcamp/Git/Capstone/capstone_chat-gpt/notebooks/x_dashboard.ipynb#W3sZmlsZQ%3D%3D?line=201'>202</a>\u001b[0m             className\u001b[39m=\u001b[39m\u001b[39m\"\u001b[39m\u001b[39meight columns\u001b[39m\u001b[39m\"\u001b[39m,\n\u001b[1;32m    <a href='vscode-notebook-cell:/Users/janice/Documents/Bootcamp/Git/Capstone/capstone_chat-gpt/notebooks/x_dashboard.ipynb#W3sZmlsZQ%3D%3D?line=202'>203</a>\u001b[0m             children\u001b[39m=\u001b[39m[\n\u001b[1;32m    <a href='vscode-notebook-cell:/Users/janice/Documents/Bootcamp/Git/Capstone/capstone_chat-gpt/notebooks/x_dashboard.ipynb#W3sZmlsZQ%3D%3D?line=203'>204</a>\u001b[0m                 \u001b[39m# Chart 1\u001b[39;00m\n\u001b[1;32m    <a href='vscode-notebook-cell:/Users/janice/Documents/Bootcamp/Git/Capstone/capstone_chat-gpt/notebooks/x_dashboard.ipynb#W3sZmlsZQ%3D%3D?line=204'>205</a>\u001b[0m                 html\u001b[39m.\u001b[39mDiv(\n\u001b[1;32m    <a href='vscode-notebook-cell:/Users/janice/Documents/Bootcamp/Git/Capstone/capstone_chat-gpt/notebooks/x_dashboard.ipynb#W3sZmlsZQ%3D%3D?line=205'>206</a>\u001b[0m                     \u001b[39mid\u001b[39m\u001b[39m=\u001b[39m\u001b[39m\"\u001b[39m\u001b[39mpatient_volume_card\u001b[39m\u001b[39m\"\u001b[39m,\n\u001b[1;32m    <a href='vscode-notebook-cell:/Users/janice/Documents/Bootcamp/Git/Capstone/capstone_chat-gpt/notebooks/x_dashboard.ipynb#W3sZmlsZQ%3D%3D?line=206'>207</a>\u001b[0m                     children\u001b[39m=\u001b[39m[\n\u001b[1;32m    <a href='vscode-notebook-cell:/Users/janice/Documents/Bootcamp/Git/Capstone/capstone_chat-gpt/notebooks/x_dashboard.ipynb#W3sZmlsZQ%3D%3D?line=207'>208</a>\u001b[0m                         html\u001b[39m.\u001b[39mB(\u001b[39m\"\u001b[39m\u001b[39mPatient Volume\u001b[39m\u001b[39m\"\u001b[39m),\n\u001b[1;32m    <a href='vscode-notebook-cell:/Users/janice/Documents/Bootcamp/Git/Capstone/capstone_chat-gpt/notebooks/x_dashboard.ipynb#W3sZmlsZQ%3D%3D?line=208'>209</a>\u001b[0m                         html\u001b[39m.\u001b[39mHr(),\n\u001b[1;32m    <a href='vscode-notebook-cell:/Users/janice/Documents/Bootcamp/Git/Capstone/capstone_chat-gpt/notebooks/x_dashboard.ipynb#W3sZmlsZQ%3D%3D?line=209'>210</a>\u001b[0m                         dcc\u001b[39m.\u001b[39mGraph(\u001b[39mid\u001b[39m\u001b[39m=\u001b[39m\u001b[39m\"\u001b[39m\u001b[39mpatient_volume_hm\u001b[39m\u001b[39m\"\u001b[39m),\n\u001b[1;32m    <a href='vscode-notebook-cell:/Users/janice/Documents/Bootcamp/Git/Capstone/capstone_chat-gpt/notebooks/x_dashboard.ipynb#W3sZmlsZQ%3D%3D?line=210'>211</a>\u001b[0m                     ],\n\u001b[1;32m    <a href='vscode-notebook-cell:/Users/janice/Documents/Bootcamp/Git/Capstone/capstone_chat-gpt/notebooks/x_dashboard.ipynb#W3sZmlsZQ%3D%3D?line=211'>212</a>\u001b[0m                 ),\n\u001b[1;32m    <a href='vscode-notebook-cell:/Users/janice/Documents/Bootcamp/Git/Capstone/capstone_chat-gpt/notebooks/x_dashboard.ipynb#W3sZmlsZQ%3D%3D?line=212'>213</a>\u001b[0m                 \u001b[39m# Chart 2\u001b[39;00m\n\u001b[1;32m    <a href='vscode-notebook-cell:/Users/janice/Documents/Bootcamp/Git/Capstone/capstone_chat-gpt/notebooks/x_dashboard.ipynb#W3sZmlsZQ%3D%3D?line=213'>214</a>\u001b[0m                 html\u001b[39m.\u001b[39mDiv(\n\u001b[1;32m    <a href='vscode-notebook-cell:/Users/janice/Documents/Bootcamp/Git/Capstone/capstone_chat-gpt/notebooks/x_dashboard.ipynb#W3sZmlsZQ%3D%3D?line=214'>215</a>\u001b[0m                     \u001b[39mid\u001b[39m\u001b[39m=\u001b[39m\u001b[39m\"\u001b[39m\u001b[39mwait_time_card\u001b[39m\u001b[39m\"\u001b[39m,\n\u001b[1;32m    <a href='vscode-notebook-cell:/Users/janice/Documents/Bootcamp/Git/Capstone/capstone_chat-gpt/notebooks/x_dashboard.ipynb#W3sZmlsZQ%3D%3D?line=215'>216</a>\u001b[0m                     children\u001b[39m=\u001b[39m[\n\u001b[1;32m    <a href='vscode-notebook-cell:/Users/janice/Documents/Bootcamp/Git/Capstone/capstone_chat-gpt/notebooks/x_dashboard.ipynb#W3sZmlsZQ%3D%3D?line=216'>217</a>\u001b[0m                         html\u001b[39m.\u001b[39mB(\u001b[39m\"\u001b[39m\u001b[39mPatient Wait Time and Satisfactory Scores\u001b[39m\u001b[39m\"\u001b[39m),\n\u001b[1;32m    <a href='vscode-notebook-cell:/Users/janice/Documents/Bootcamp/Git/Capstone/capstone_chat-gpt/notebooks/x_dashboard.ipynb#W3sZmlsZQ%3D%3D?line=217'>218</a>\u001b[0m                         html\u001b[39m.\u001b[39mHr(),\n\u001b[0;32m--> <a href='vscode-notebook-cell:/Users/janice/Documents/Bootcamp/Git/Capstone/capstone_chat-gpt/notebooks/x_dashboard.ipynb#W3sZmlsZQ%3D%3D?line=218'>219</a>\u001b[0m                         html\u001b[39m.\u001b[39mDiv(\u001b[39mid\u001b[39m\u001b[39m=\u001b[39m\u001b[39m\"\u001b[39m\u001b[39mwait_time_table\u001b[39m\u001b[39m\"\u001b[39m, children\u001b[39m=\u001b[39minitialize_table()),\n\u001b[1;32m    <a href='vscode-notebook-cell:/Users/janice/Documents/Bootcamp/Git/Capstone/capstone_chat-gpt/notebooks/x_dashboard.ipynb#W3sZmlsZQ%3D%3D?line=219'>220</a>\u001b[0m                     ],\n\u001b[1;32m    <a href='vscode-notebook-cell:/Users/janice/Documents/Bootcamp/Git/Capstone/capstone_chat-gpt/notebooks/x_dashboard.ipynb#W3sZmlsZQ%3D%3D?line=220'>221</a>\u001b[0m                 ),\n\u001b[1;32m    <a href='vscode-notebook-cell:/Users/janice/Documents/Bootcamp/Git/Capstone/capstone_chat-gpt/notebooks/x_dashboard.ipynb#W3sZmlsZQ%3D%3D?line=221'>222</a>\u001b[0m             ],\n\u001b[1;32m    <a href='vscode-notebook-cell:/Users/janice/Documents/Bootcamp/Git/Capstone/capstone_chat-gpt/notebooks/x_dashboard.ipynb#W3sZmlsZQ%3D%3D?line=222'>223</a>\u001b[0m         ),\n\u001b[1;32m    <a href='vscode-notebook-cell:/Users/janice/Documents/Bootcamp/Git/Capstone/capstone_chat-gpt/notebooks/x_dashboard.ipynb#W3sZmlsZQ%3D%3D?line=223'>224</a>\u001b[0m     ],\n\u001b[1;32m    <a href='vscode-notebook-cell:/Users/janice/Documents/Bootcamp/Git/Capstone/capstone_chat-gpt/notebooks/x_dashboard.ipynb#W3sZmlsZQ%3D%3D?line=224'>225</a>\u001b[0m )\n\u001b[1;32m    <a href='vscode-notebook-cell:/Users/janice/Documents/Bootcamp/Git/Capstone/capstone_chat-gpt/notebooks/x_dashboard.ipynb#W3sZmlsZQ%3D%3D?line=227'>228</a>\u001b[0m \u001b[39m@app\u001b[39m\u001b[39m.\u001b[39mcallback(\n\u001b[1;32m    <a href='vscode-notebook-cell:/Users/janice/Documents/Bootcamp/Git/Capstone/capstone_chat-gpt/notebooks/x_dashboard.ipynb#W3sZmlsZQ%3D%3D?line=228'>229</a>\u001b[0m     \u001b[39m#Output(\"patient_volume_hm\", \"figure\"),\u001b[39;00m\n\u001b[1;32m    <a href='vscode-notebook-cell:/Users/janice/Documents/Bootcamp/Git/Capstone/capstone_chat-gpt/notebooks/x_dashboard.ipynb#W3sZmlsZQ%3D%3D?line=229'>230</a>\u001b[0m     [\n\u001b[0;32m   (...)\u001b[0m\n\u001b[1;32m    <a href='vscode-notebook-cell:/Users/janice/Documents/Bootcamp/Git/Capstone/capstone_chat-gpt/notebooks/x_dashboard.ipynb#W3sZmlsZQ%3D%3D?line=268'>269</a>\u001b[0m )\n\u001b[1;32m    <a href='vscode-notebook-cell:/Users/janice/Documents/Bootcamp/Git/Capstone/capstone_chat-gpt/notebooks/x_dashboard.ipynb#W3sZmlsZQ%3D%3D?line=269'>270</a>\u001b[0m \u001b[39mdef\u001b[39;00m \u001b[39mupdate_table\u001b[39m(start, end, version_list, topic_list, reset_click, \u001b[39m*\u001b[39margs):\n\u001b[1;32m    <a href='vscode-notebook-cell:/Users/janice/Documents/Bootcamp/Git/Capstone/capstone_chat-gpt/notebooks/x_dashboard.ipynb#W3sZmlsZQ%3D%3D?line=270'>271</a>\u001b[0m     start \u001b[39m=\u001b[39m start \u001b[39m+\u001b[39m \u001b[39m\"\u001b[39m\u001b[39m 00:00:00\u001b[39m\u001b[39m\"\u001b[39m\n",
      "\u001b[0;31mNameError\u001b[0m: name 'initialize_table' is not defined"
     ]
    }
   ],
   "source": [
    "# Date\n",
    "# # Format checkin Time\n",
    "# df[\"at\"] = df[\"at\"].apply(\n",
    "#     lambda x: dt.strptime(x, \"%Y-%m-%d %I:%M:%S %p\")\n",
    "# )  # String -> Datetime\n",
    "\n",
    "# # Insert weekday and hour of checkin time\n",
    "# df[\"at_wd\"] = df[\"Check-In Hour\"] = df[\"at\"]\n",
    "# df[\"at_wd\"] = df[\"at_wd\"].apply(\n",
    "#     lambda x: dt.strftime(x, \"%A\")\n",
    "# )  # Datetime -> weekday string\n",
    "\n",
    "# df[\"Review Hour\"] = df[\"at\"].apply(\n",
    "#     lambda x: dt.strftime(x, \"%I %p\")\n",
    "# )  # Datetime -> int(hour) + AM/PM\n",
    "\n",
    "# check_in_duration = df[\"Check-In Time\"].describe()\n",
    "\n",
    "# # Register all departments for callbacks\n",
    "# all_departments = df[\"Department\"].unique().tolist()\n",
    "# wait_time_inputs = [\n",
    "#     Input((i + \"_wait_time_graph\"), \"selectedData\") for i in all_departments\n",
    "# ]\n",
    "# score_inputs = [Input((i + \"_score_graph\"), \"selectedData\") for i in all_departments]\n",
    "\n",
    "\n",
    "def description_card():\n",
    "    \"\"\"\n",
    "\n",
    "    :return: A Div containing dashboard title & descriptions.\n",
    "    \"\"\"\n",
    "    return html.Div(\n",
    "        id=\"description-card\",\n",
    "        children=[\n",
    "            html.H5(\"Market Research on AI Apps\"),\n",
    "            html.H3(\"Welcome to the AInalyzer\"),\n",
    "            html.Div(\n",
    "                id=\"intro\",\n",
    "                children=\"Explore satisfaction and needs for the gold standard on the current market for AI Apps: The ChatGPT App.\",\n",
    "            ),\n",
    "        ],\n",
    "    )\n",
    "\n",
    "\n",
    "def generate_control_card():\n",
    "    \"\"\"\n",
    "\n",
    "    :return: A Div containing controls for graphs.\n",
    "    \"\"\"\n",
    "    return html.Div(\n",
    "        id=\"control-card\",\n",
    "        children=[\n",
    "            html.P(\"Select App Version\"),\n",
    "            dcc.Dropdown(\n",
    "                id=\"version-select\",\n",
    "                options=[{\"label\": i, \"value\": i} for i in score_list],\n",
    "                value=version_list[0],\n",
    "            ),\n",
    "            html.Br(),\n",
    "            html.P(\"Select Review Date\"),\n",
    "            dcc.DatePickerRange(\n",
    "                id=\"date-picker-select\",\n",
    "                start_date=pd.to_datetime(df['at']).min(), # dt(2014, 1, 1),\n",
    "                end_date=pd.to_datetime(df['at']).max(), #dt(2014, 1, 15),\n",
    "                min_date_allowed=pd.to_datetime(df['at']).min(),\n",
    "                max_date_allowed=pd.to_datetime(df['at']).max(),\n",
    "                initial_visible_month=dt(2023, 10, 1),\n",
    "            ),\n",
    "            html.Br(),\n",
    "            html.Br(),\n",
    "            html.P(\"Select Review Topic\"),\n",
    "            dcc.Dropdown(\n",
    "                id=\"topic-select\",\n",
    "                options=[{\"label\": i, \"value\": i} for i in topic_list],\n",
    "                value=topic_list[:],\n",
    "                multi=True,\n",
    "            ),\n",
    "            html.Br(),\n",
    "            html.Div(\n",
    "                id=\"reset-btn-outer\",\n",
    "                children=html.Button(id=\"reset-btn\", children=\"Reset\", n_clicks=0),\n",
    "            ),\n",
    "        ],\n",
    "    )\n",
    "\n",
    "\n",
    "def generate_patient_volume_heatmap(start, end, version_list, topic_list, reset):\n",
    "    \"\"\"\n",
    "    :param: start: start date from selection.\n",
    "    :param: end: end date from selection.\n",
    "    :param: version_list: version_list from selection.\n",
    "    :param: hm_click: clickData from heatmap.\n",
    "    :param: topic_list: admission type from selection.\n",
    "    :param: reset (boolean): reset heatmap graph if True.\n",
    "\n",
    "    :return: Patient volume annotated heatmap.\n",
    "    \"\"\"\n",
    "\n",
    "    filtered_df = df[\n",
    "        (df[\"appVersion\"] == version_list) & (df[\"topic\"].isin(topic_list))\n",
    "    ]\n",
    "    filtered_df = filtered_df.sort_values(\"at\").set_index(\"at\")[\n",
    "        start:end\n",
    "    ]\n",
    "\n",
    "    x_axis = [datetime.time(i).strftime(\"%I %p\") for i in range(24)]  # 24hr time list\n",
    "    y_axis = topic_list\n",
    "\n",
    "    hour_of_day = \"\"\n",
    "    weekday = \"\"\n",
    "    shapes = []\n",
    "\n",
    "    # Get z value : sum(number of records) based on x, y,\n",
    "\n",
    "    z = np.zeros((7, 24))\n",
    "    annotations = []\n",
    "\n",
    "    for ind_y, day in enumerate(y_axis):\n",
    "        filtered_day = filtered_df[filtered_df[\"at_wd\"] == day]\n",
    "        for ind_x, x_val in enumerate(x_axis):\n",
    "            sum_of_record = filtered_day[filtered_day[\"Check-In Hour\"] == x_val][\n",
    "                \"Number of Records\"\n",
    "            ].sum()\n",
    "            z[ind_y][ind_x] = sum_of_record\n",
    "\n",
    "            annotation_dict = dict(\n",
    "                showarrow=False,\n",
    "                text=\"<b>\" + str(sum_of_record) + \"<b>\",\n",
    "                xref=\"x\",\n",
    "                yref=\"y\",\n",
    "                x=x_val,\n",
    "                y=day,\n",
    "                font=dict(family=\"sans-serif\"),\n",
    "            )\n",
    "            # Highlight annotation text by self-click\n",
    "            if x_val == hour_of_day and day == weekday:\n",
    "                if not reset:\n",
    "                    annotation_dict.update(size=15, font=dict(color=\"#ff6347\"))\n",
    "\n",
    "            annotations.append(annotation_dict)\n",
    "\n",
    "    # Heatmap\n",
    "    hovertemplate = \"<b> %{y}  %{x} <br><br> %{z} Patient Records\"\n",
    "\n",
    "    data = [\n",
    "        dict(\n",
    "            x=x_axis,\n",
    "            y=y_axis,\n",
    "            z=z,\n",
    "            type=\"heatmap\",\n",
    "            name=\"\",\n",
    "            hovertemplate=hovertemplate,\n",
    "            showscale=False,\n",
    "            colorscale=[[0, \"#caf3ff\"], [1, \"#2c82ff\"]],\n",
    "        )\n",
    "    ]\n",
    "\n",
    "    layout = dict(\n",
    "        margin=dict(l=70, b=50, t=50, r=50),\n",
    "        modebar={\"orientation\": \"v\"},\n",
    "        font=dict(family=\"Open Sans\"),\n",
    "        annotations=annotations,\n",
    "        shapes=shapes,\n",
    "        xaxis=dict(\n",
    "            side=\"top\",\n",
    "            ticks=\"\",\n",
    "            ticklen=2,\n",
    "            tickfont=dict(family=\"sans-serif\"),\n",
    "            tickcolor=\"#ffffff\",\n",
    "        ),\n",
    "        yaxis=dict(\n",
    "            side=\"left\", ticks=\"\", tickfont=dict(family=\"sans-serif\"), ticksuffix=\" \"\n",
    "        ),\n",
    "        hovermode=\"closest\",\n",
    "        showlegend=False,\n",
    "    )\n",
    "    return {\"data\": data, \"layout\": layout}\n",
    "\n",
    "app.layout = html.Div(\n",
    "    id=\"app-container\",\n",
    "    children=[\n",
    "        # Banner\n",
    "        html.Div(\n",
    "            id=\"banner\",\n",
    "            className=\"banner\",\n",
    "            children=[html.Img(src=app.get_asset_url(\"https://upload.wikimedia.org/wikipedia/commons/0/04/ChatGPT_logo.svg\"))],\n",
    "        ),\n",
    "        # Left column\n",
    "        html.Div(\n",
    "            id=\"left-column\",\n",
    "            className=\"four columns\",\n",
    "            children=[description_card(), generate_control_card()]\n",
    "            + [\n",
    "                html.Div(\n",
    "                    [\"initial child\"], id=\"output-clientside\", style={\"display\": \"none\"}\n",
    "                )\n",
    "            ],\n",
    "        ),\n",
    "        # Right column\n",
    "        html.Div(\n",
    "            id=\"right-column\",\n",
    "            className=\"eight columns\",\n",
    "            children=[\n",
    "                # Chart 1\n",
    "                html.Div(\n",
    "                    id=\"patient_volume_card\",\n",
    "                    children=[\n",
    "                        html.B(\"Patient Volume\"),\n",
    "                        html.Hr(),\n",
    "                        dcc.Graph(id=\"patient_volume_hm\"),\n",
    "                    ],\n",
    "                ),\n",
    "                # Chart 2\n",
    "                html.Div(\n",
    "                    id=\"wait_time_card\",\n",
    "                    children=[\n",
    "                        html.B(\"Patient Wait Time and Satisfactory Scores\"),\n",
    "                        html.Hr(),\n",
    "                        html.Div(id=\"wait_time_table\", children=initialize_table()),\n",
    "                    ],\n",
    "                ),\n",
    "            ],\n",
    "        ),\n",
    "    ],\n",
    ")\n",
    "\n",
    "\n",
    "@app.callback(\n",
    "    #Output(\"patient_volume_hm\", \"figure\"),\n",
    "    [\n",
    "        Input(\"date-picker-select\", \"start_date\"),\n",
    "        Input(\"date-picker-select\", \"end_date\"),\n",
    "        Input(\"version-select\", \"value\"),\n",
    "        #Input(\"patient_volume_hm\", \"clickData\"),\n",
    "        Input(\"topic-select\", \"value\"),\n",
    "        Input(\"reset-btn\", \"n_clicks\"),\n",
    "    ],\n",
    ")\n",
    "# def update_heatmap(start, end, version_list, topic_list, reset_click):\n",
    "#     start = start + \" 00:00:00\"\n",
    "#     end = end + \" 00:00:00\"\n",
    "\n",
    "#     reset = False\n",
    "#     # Find which one has been triggered\n",
    "#     ctx = dash.callback_context\n",
    "\n",
    "#     if ctx.triggered:\n",
    "#         prop_id = ctx.triggered[0][\"prop_id\"].split(\".\")[0]\n",
    "#         if prop_id == \"reset-btn\":\n",
    "#             reset = True\n",
    "\n",
    "#     # Return to original hm(no colored annotation) by resetting\n",
    "#     return generate_patient_volume_heatmap(\n",
    "#         start, end, version_list, hm_click, topic_list, reset\n",
    "#     )\n",
    "\n",
    "\n",
    "\n",
    "\n",
    "@app.callback(\n",
    "    #Output(\"wait_time_table\", \"children\"),\n",
    "    [\n",
    "        Input(\"date-picker-select\", \"start_date\"),\n",
    "        Input(\"date-picker-select\", \"end_date\"),\n",
    "        Input(\"version-select\", \"value\"),\n",
    "        Input(\"topic-select\", \"value\"),\n",
    "        Input(\"reset-btn\", \"n_clicks\"),\n",
    "    ]\n",
    ")\n",
    "def update_table(start, end, version_list, topic_list, reset_click, *args):\n",
    "    start = start + \" 00:00:00\"\n",
    "    end = end + \" 00:00:00\"\n",
    "\n",
    "    # Find which one has been triggered\n",
    "    ctx = dash.callback_context\n",
    "\n",
    "    prop_id = \"\"\n",
    "    prop_type = \"\"\n",
    "    triggered_value = None\n",
    "    if ctx.triggered:\n",
    "        prop_id = ctx.triggered[0][\"prop_id\"].split(\".\")[0]\n",
    "        prop_type = ctx.triggered[0][\"prop_id\"].split(\".\")[1]\n",
    "        triggered_value = ctx.triggered[0][\"value\"]\n",
    "\n",
    "    # filter data\n",
    "    filtered_df = df[\n",
    "        (df[\"appVersion\"] == version_list) & (df[\"topic\"].isin(topic_list))\n",
    "    ]\n",
    "    filtered_df = filtered_df.sort_values(\"at\").set_index(\"at\")[\n",
    "        start:end\n",
    "    ]\n",
    "\n",
    "\n",
    "# Run the server\n",
    "if __name__ == \"__main__\":\n",
    "    app.run_server(debug=True)"
   ]
  },
  {
   "cell_type": "code",
   "execution_count": null,
   "metadata": {},
   "outputs": [],
   "source": [
    "from dash import Dash, dcc, html, Input, Output\n",
    "import plotly.express as px\n",
    "\n",
    "app = Dash(__name__)\n",
    "\n",
    "\n",
    "app.layout = html.Div([\n",
    "    html.H4(children='ChatGPT - AI Market Insights', style={'textAlign':'center'}),\n",
    "    dcc.Graph(id=\"graph\"),\n",
    "    dcc.Checklist(\n",
    "        id=\"checklist\",\n",
    "        options=[0, 1, 2, 3, 4, 5],\n",
    "        value=[0, 1, 2, 3, 4, 5],\n",
    "        inline=True,\n",
    "    ),\n",
    "])\n",
    "\n",
    "\n",
    "@app.callback(\n",
    "    Output(\"graph\", \"figure\"), \n",
    "    Input(\"checklist\", \"value\"))\n",
    "def update_line_chart(scores):\n",
    "    mask = df.score.isin(scores)\n",
    "    title = 'Number of Reviews'\n",
    "    fig = px.line(df[mask], x='at', y='Reviews', title=title, color='score')\n",
    "    fig.update_layout(xaxis_title='Month',\n",
    "                   yaxis_title='Reviews')\n",
    "    return fig\n",
    "\n",
    "app.run_server(debug=True)"
   ]
  },
  {
   "cell_type": "code",
   "execution_count": 15,
   "metadata": {},
   "outputs": [
    {
     "ename": "AttributeError",
     "evalue": "'DataFrame' object has no attribute 'country'",
     "output_type": "error",
     "traceback": [
      "\u001b[0;31m---------------------------------------------------------------------------\u001b[0m",
      "\u001b[0;31mAttributeError\u001b[0m                            Traceback (most recent call last)",
      "\u001b[0;32m/var/folders/vl/wpx53sjn0nv5cmny0jckrfjr0000gn/T/ipykernel_59105/1522357001.py\u001b[0m in \u001b[0;36m?\u001b[0;34m()\u001b[0m\n\u001b[1;32m      1\u001b[0m \u001b[0mapp\u001b[0m \u001b[0;34m=\u001b[0m \u001b[0mDash\u001b[0m\u001b[0;34m(\u001b[0m\u001b[0m__name__\u001b[0m\u001b[0;34m)\u001b[0m\u001b[0;34m\u001b[0m\u001b[0;34m\u001b[0m\u001b[0m\n\u001b[1;32m      2\u001b[0m \u001b[0;34m\u001b[0m\u001b[0m\n\u001b[1;32m      3\u001b[0m app.layout = html.Div([\n\u001b[1;32m      4\u001b[0m     \u001b[0mhtml\u001b[0m\u001b[0;34m.\u001b[0m\u001b[0mH1\u001b[0m\u001b[0;34m(\u001b[0m\u001b[0mchildren\u001b[0m\u001b[0;34m=\u001b[0m\u001b[0;34m'Title of Dash App'\u001b[0m\u001b[0;34m,\u001b[0m \u001b[0mstyle\u001b[0m\u001b[0;34m=\u001b[0m\u001b[0;34m{\u001b[0m\u001b[0;34m'textAlign'\u001b[0m\u001b[0;34m:\u001b[0m\u001b[0;34m'center'\u001b[0m\u001b[0;34m}\u001b[0m\u001b[0;34m)\u001b[0m\u001b[0;34m,\u001b[0m\u001b[0;34m\u001b[0m\u001b[0;34m\u001b[0m\u001b[0m\n\u001b[0;32m----> 5\u001b[0;31m     \u001b[0mdcc\u001b[0m\u001b[0;34m.\u001b[0m\u001b[0mDropdown\u001b[0m\u001b[0;34m(\u001b[0m\u001b[0mdf\u001b[0m\u001b[0;34m.\u001b[0m\u001b[0mcountry\u001b[0m\u001b[0;34m.\u001b[0m\u001b[0munique\u001b[0m\u001b[0;34m(\u001b[0m\u001b[0;34m)\u001b[0m\u001b[0;34m,\u001b[0m \u001b[0;34m'Canada'\u001b[0m\u001b[0;34m,\u001b[0m \u001b[0mid\u001b[0m\u001b[0;34m=\u001b[0m\u001b[0;34m'dropdown-selection'\u001b[0m\u001b[0;34m)\u001b[0m\u001b[0;34m,\u001b[0m\u001b[0;34m\u001b[0m\u001b[0;34m\u001b[0m\u001b[0m\n\u001b[0m\u001b[1;32m      6\u001b[0m     \u001b[0mdcc\u001b[0m\u001b[0;34m.\u001b[0m\u001b[0mGraph\u001b[0m\u001b[0;34m(\u001b[0m\u001b[0mid\u001b[0m\u001b[0;34m=\u001b[0m\u001b[0;34m'graph-content'\u001b[0m\u001b[0;34m)\u001b[0m\u001b[0;34m\u001b[0m\u001b[0;34m\u001b[0m\u001b[0m\n\u001b[1;32m      7\u001b[0m ])\n\u001b[1;32m      8\u001b[0m \u001b[0;34m\u001b[0m\u001b[0m\n",
      "\u001b[0;32m~/Documents/Bootcamp/Git/Capstone/capstone_chat-gpt/.venv/lib/python3.11/site-packages/pandas/core/generic.py\u001b[0m in \u001b[0;36m?\u001b[0;34m(self, name)\u001b[0m\n\u001b[1;32m   5985\u001b[0m             \u001b[0;32mand\u001b[0m \u001b[0mname\u001b[0m \u001b[0;32mnot\u001b[0m \u001b[0;32min\u001b[0m \u001b[0mself\u001b[0m\u001b[0;34m.\u001b[0m\u001b[0m_accessors\u001b[0m\u001b[0;34m\u001b[0m\u001b[0;34m\u001b[0m\u001b[0m\n\u001b[1;32m   5986\u001b[0m             \u001b[0;32mand\u001b[0m \u001b[0mself\u001b[0m\u001b[0;34m.\u001b[0m\u001b[0m_info_axis\u001b[0m\u001b[0;34m.\u001b[0m\u001b[0m_can_hold_identifiers_and_holds_name\u001b[0m\u001b[0;34m(\u001b[0m\u001b[0mname\u001b[0m\u001b[0;34m)\u001b[0m\u001b[0;34m\u001b[0m\u001b[0;34m\u001b[0m\u001b[0m\n\u001b[1;32m   5987\u001b[0m         ):\n\u001b[1;32m   5988\u001b[0m             \u001b[0;32mreturn\u001b[0m \u001b[0mself\u001b[0m\u001b[0;34m[\u001b[0m\u001b[0mname\u001b[0m\u001b[0;34m]\u001b[0m\u001b[0;34m\u001b[0m\u001b[0;34m\u001b[0m\u001b[0m\n\u001b[0;32m-> 5989\u001b[0;31m         \u001b[0;32mreturn\u001b[0m \u001b[0mobject\u001b[0m\u001b[0;34m.\u001b[0m\u001b[0m__getattribute__\u001b[0m\u001b[0;34m(\u001b[0m\u001b[0mself\u001b[0m\u001b[0;34m,\u001b[0m \u001b[0mname\u001b[0m\u001b[0;34m)\u001b[0m\u001b[0;34m\u001b[0m\u001b[0;34m\u001b[0m\u001b[0m\n\u001b[0m",
      "\u001b[0;31mAttributeError\u001b[0m: 'DataFrame' object has no attribute 'country'"
     ]
    }
   ],
   "source": [
    "app = Dash(__name__)\n",
    "\n",
    "app.layout = html.Div([\n",
    "    html.H1(children='Title of Dash App', style={'textAlign':'center'}),\n",
    "    dcc.Dropdown(df.topic.unique(), 'Canada', id='dropdown-selection'),\n",
    "    dcc.Graph(id='graph-content')\n",
    "])\n",
    "\n",
    "@callback(\n",
    "    Output('graph-content', 'figure'),\n",
    "    Input('dropdown-selection', 'value')\n",
    ")\n",
    "def update_graph(value):\n",
    "    dff = df[df.topic==value]\n",
    "    return px.line(dff, x='year', y='pop')\n",
    "\n",
    "if __name__ == '__main__':\n",
    "    app.run(debug=True)"
   ]
  },
  {
   "cell_type": "markdown",
   "metadata": {},
   "source": []
  },
  {
   "cell_type": "code",
   "execution_count": 9,
   "metadata": {},
   "outputs": [
    {
     "data": {
      "text/html": [
       "\n",
       "        <iframe\n",
       "            width=\"100%\"\n",
       "            height=\"650\"\n",
       "            src=\"http://127.0.0.1:8050/\"\n",
       "            frameborder=\"0\"\n",
       "            allowfullscreen\n",
       "            \n",
       "        ></iframe>\n",
       "        "
      ],
      "text/plain": [
       "<IPython.lib.display.IFrame at 0x1081c53d0>"
      ]
     },
     "metadata": {},
     "output_type": "display_data"
    },
    {
     "name": "stdout",
     "output_type": "stream",
     "text": [
      "\u001b[1;31m---------------------------------------------------------------------------\u001b[0m\n",
      "\u001b[1;31mValueError\u001b[0m                                Traceback (most recent call last)\n",
      "File \u001b[1;32m~/Documents/Bootcamp/Git/Capstone/capstone_chat-gpt/.venv/lib/python3.11/site-packages/plotly/express/_chart_types.py:264\u001b[0m, in \u001b[0;36mline\u001b[1;34m(\n",
      "    data_frame=                                 reviewId       ...56  feature evaluation  \n",
      "\n",
      "[400 rows x 35 columns],\n",
      "    x='at',\n",
      "    y='Reviews',\n",
      "    line_group=None,\n",
      "    color='score',\n",
      "    line_dash=None,\n",
      "    symbol=None,\n",
      "    hover_name=None,\n",
      "    hover_data=None,\n",
      "    custom_data=None,\n",
      "    text=None,\n",
      "    facet_row=None,\n",
      "    facet_col=None,\n",
      "    facet_col_wrap=0,\n",
      "    facet_row_spacing=None,\n",
      "    facet_col_spacing=None,\n",
      "    error_x=None,\n",
      "    error_x_minus=None,\n",
      "    error_y=None,\n",
      "    error_y_minus=None,\n",
      "    animation_frame=None,\n",
      "    animation_group=None,\n",
      "    category_orders=None,\n",
      "    labels=None,\n",
      "    orientation=None,\n",
      "    color_discrete_sequence=None,\n",
      "    color_discrete_map=None,\n",
      "    line_dash_sequence=None,\n",
      "    line_dash_map=None,\n",
      "    symbol_sequence=None,\n",
      "    symbol_map=None,\n",
      "    markers=False,\n",
      "    log_x=False,\n",
      "    log_y=False,\n",
      "    range_x=None,\n",
      "    range_y=None,\n",
      "    line_shape=None,\n",
      "    render_mode='auto',\n",
      "    title='Number of Reviews',\n",
      "    template=None,\n",
      "    width=None,\n",
      "    height=None\n",
      ")\u001b[0m\n",
      "\u001b[0;32m    216\u001b[0m \u001b[38;5;28;01mdef\u001b[39;00m \u001b[38;5;21mline\u001b[39m(\n",
      "\u001b[0;32m    217\u001b[0m     data_frame\u001b[38;5;241m=\u001b[39m\u001b[38;5;28;01mNone\u001b[39;00m,\n",
      "\u001b[0;32m    218\u001b[0m     x\u001b[38;5;241m=\u001b[39m\u001b[38;5;28;01mNone\u001b[39;00m,\n",
      "\u001b[1;32m   (...)\u001b[0m\n",
      "\u001b[0;32m    258\u001b[0m     height\u001b[38;5;241m=\u001b[39m\u001b[38;5;28;01mNone\u001b[39;00m,\n",
      "\u001b[0;32m    259\u001b[0m ) \u001b[38;5;241m-\u001b[39m\u001b[38;5;241m>\u001b[39m go\u001b[38;5;241m.\u001b[39mFigure:\n",
      "\u001b[0;32m    260\u001b[0m \u001b[38;5;250m    \u001b[39m\u001b[38;5;124;03m\"\"\"\u001b[39;00m\n",
      "\u001b[0;32m    261\u001b[0m \u001b[38;5;124;03m    In a 2D line plot, each row of `data_frame` is represented as vertex of\u001b[39;00m\n",
      "\u001b[0;32m    262\u001b[0m \u001b[38;5;124;03m    a polyline mark in 2D space.\u001b[39;00m\n",
      "\u001b[0;32m    263\u001b[0m \u001b[38;5;124;03m    \"\"\"\u001b[39;00m\n",
      "\u001b[1;32m--> 264\u001b[0m     \u001b[38;5;28;01mreturn\u001b[39;00m \u001b[43mmake_figure\u001b[49m\u001b[43m(\u001b[49m\u001b[43margs\u001b[49m\u001b[38;5;241;43m=\u001b[39;49m\u001b[38;5;28;43mlocals\u001b[39;49m\u001b[43m(\u001b[49m\u001b[43m)\u001b[49m\u001b[43m,\u001b[49m\u001b[43m \u001b[49m\u001b[43mconstructor\u001b[49m\u001b[38;5;241;43m=\u001b[39;49m\u001b[43mgo\u001b[49m\u001b[38;5;241;43m.\u001b[39;49m\u001b[43mScatter\u001b[49m\u001b[43m)\u001b[49m\n",
      "        go \u001b[1;34m= <module 'plotly.graph_objs' from '/Users/janice/Documents/Bootcamp/Git/Capstone/capstone_chat-gpt/.venv/lib/python3.11/site-packages/plotly/graph_objs/__init__.py'>\u001b[0m\n",
      "\n",
      "File \u001b[1;32m~/Documents/Bootcamp/Git/Capstone/capstone_chat-gpt/.venv/lib/python3.11/site-packages/plotly/express/_core.py:2076\u001b[0m, in \u001b[0;36mmake_figure\u001b[1;34m(\n",
      "    args={'animation_frame': None, 'animation_group': None, 'category_orders': None, 'color': 'score', 'color_discrete_map': None, 'color_discrete_sequence': None, 'custom_data': None, 'data_frame':                                  reviewId       ...56  feature evaluation  \n",
      "\n",
      "[400 rows x 35 columns], 'error_x': None, 'error_x_minus': None, ...},\n",
      "    constructor=<class 'plotly.graph_objs._scatter.Scatter'>,\n",
      "    trace_patch={},\n",
      "    layout_patch={}\n",
      ")\u001b[0m\n",
      "\u001b[0;32m   2073\u001b[0m layout_patch \u001b[38;5;241m=\u001b[39m layout_patch \u001b[38;5;129;01mor\u001b[39;00m {}\n",
      "\u001b[0;32m   2074\u001b[0m apply_default_cascade(args)\n",
      "\u001b[1;32m-> 2076\u001b[0m args \u001b[38;5;241m=\u001b[39m \u001b[43mbuild_dataframe\u001b[49m\u001b[43m(\u001b[49m\u001b[43margs\u001b[49m\u001b[43m,\u001b[49m\u001b[43m \u001b[49m\u001b[43mconstructor\u001b[49m\u001b[43m)\u001b[49m\n",
      "        args \u001b[1;34m= {'data_frame':                                  reviewId              userName  \\\n",
      "0    36b7f28e-151d-4b98-8a13-41bd017e0d25             Lin Cheng   \n",
      "1    36b7f28e-151d-4b98-8a13-41bd017e0d25             Lin Cheng   \n",
      "2    36b7f28e-151d-4b98-8a13-41bd017e0d25             Lin Cheng   \n",
      "3    36b7f28e-151d-4b98-8a13-41bd017e0d25             Lin Cheng   \n",
      "4    36b7f28e-151d-4b98-8a13-41bd017e0d25             Lin Cheng   \n",
      "..                                    ...                   ...   \n",
      "395  09553634-4637-46d0-9b2e-bc63fe5105dc           Ryan Kargel   \n",
      "396  09553634-4637-46d0-9b2e-bc63fe5105dc           Ryan Kargel   \n",
      "397  09553634-4637-46d0-9b2e-bc63fe5105dc           Ryan Kargel   \n",
      "398  09553634-4637-46d0-9b2e-bc63fe5105dc           Ryan Kargel   \n",
      "399  f8973c62-a909-4685-bd08-fc8ef698ebd0  Prabhat Kumar (P.K.)   \n",
      "\n",
      "                                               content  score  thumbsUpCount  \\\n",
      "0    ChatGPT on Android is a solid app with seamles...      4              5   \n",
      "1    ChatGPT on Android is a solid app with seamles...      4              5   \n",
      "2    ChatGPT on Android is a solid app with seamles...      4              5   \n",
      "3    ChatGPT on Android is a solid app with seamles...      4              5   \n",
      "4    ChatGPT on Android is a solid app with seamles...      4              5   \n",
      "..                                                 ...    ...            ...   \n",
      "395  Very useful for learning. Often times I will d...      5              0   \n",
      "396  Very useful for learning. Often times I will d...      5              0   \n",
      "397  Very useful for learning. Often times I will d...      5              0   \n",
      "398  Very useful for learning. Often times I will d...      5              0   \n",
      "399  Can't open fast app open hone ke bad w\"After o...      4              0   \n",
      "\n",
      "                      at replyContent repliedAt  appVersion  reply  ...  \\\n",
      "0    2023-10-19 19:26:19          NaN       NaN  1.2023.284      0  ...   \n",
      "1    2023-10-19 19:26:19          NaN       NaN  1.2023.284      0  ...   \n",
      "2    2023-10-19 19:26:19          NaN       NaN  1.2023.284      0  ...   \n",
      "3    2023-10-19 19:26:19          NaN       NaN  1.2023.284      0  ...   \n",
      "4    2023-10-19 19:26:19          NaN       NaN  1.2023.284      0  ...   \n",
      "..                   ...          ...       ...         ...    ...  ...   \n",
      "395  2023-10-19 21:29:05          NaN       NaN  1.2023.284      0  ...   \n",
      "396  2023-10-19 21:29:05          NaN       NaN  1.2023.284      0  ...   \n",
      "397  2023-10-19 21:29:05          NaN       NaN  1.2023.284      0  ...   \n",
      "398  2023-10-19 21:29:05          NaN       NaN  1.2023.284      0  ...   \n",
      "399  2023-10-16 04:50:42          NaN       NaN  1.2023.281      0  ...   \n",
      "\n",
      "    vader_cat vader_neg vader_neu  vader_pos  blob_polarity blob_subjectivity  \\\n",
      "0         neu     0.000     0.778      0.222       0.166667          0.233333   \n",
      "1         neu     0.000     0.778      0.222      -0.400000          0.700000   \n",
      "2         neu     0.000     0.778      0.222       0.000000          0.000000   \n",
      "3         neu     0.000     0.778      0.222      -0.166667          0.166667   \n",
      "4         neu     0.000     1.000      0.000       0.600000          0.800000   \n",
      "..        ...       ...       ...        ...            ...               ...   \n",
      "395  compound     0.046     0.726      0.228       0.390000          0.000000   \n",
      "396       neu     0.000     0.876      0.124       0.122222          0.472222   \n",
      "397       neu     0.000     0.876      0.124       0.300000          0.411111   \n",
      "398       neu     0.000     0.876      0.124       0.218750          0.593750   \n",
      "399       neu     0.000     0.876      0.124      -0.140000          0.473333   \n",
      "\n",
      "     pipe_cat  pipe_neg  pipe_pos               topic  \n",
      "0    POSITIVE  0.000709  0.999291          bug report  \n",
      "1    NEGATIVE  0.585292  0.414708  feature evaluation  \n",
      "2    NEGATIVE  0.999632  0.000368          bug report  \n",
      "3    NEGATIVE  0.999521  0.000479         performance  \n",
      "4    POSITIVE  0.000518  0.999482          bug report  \n",
      "..        ...       ...       ...                 ...  \n",
      "395  POSITIVE  0.000226  0.999774     feature request  \n",
      "396  NEGATIVE  0.952157  0.047843          bug report  \n",
      "397  POSITIVE  0.014980  0.985020              praise  \n",
      "398  POSITIVE  0.014863  0.985137               usage  \n",
      "399  NEGATIVE  0.997344  0.002656  feature evaluation  \n",
      "\n",
      "[400 rows x 35 columns], 'x': 'at', 'y': 'Reviews', 'line_group': None, 'color': 'score', 'line_dash': None, 'symbol': None, 'hover_name': None, 'hover_data': None, 'custom_data': None, 'text': None, 'facet_row': None, 'facet_col': None, 'facet_col_wrap': 0, 'facet_row_spacing': None, 'facet_col_spacing': None, 'error_x': None, 'error_x_minus': None, 'error_y': None, 'error_y_minus': None, 'animation_frame': None, 'animation_group': None, 'category_orders': None, 'labels': None, 'orientation': None, 'color_discrete_sequence': None, 'color_discrete_map': None, 'line_dash_sequence': None, 'line_dash_map': None, 'symbol_sequence': None, 'symbol_map': None, 'markers': False, 'log_x': False, 'log_y': False, 'range_x': None, 'range_y': None, 'line_shape': None, 'render_mode': 'auto', 'title': 'Number of Reviews', 'template': None, 'width': None, 'height': None}\u001b[0m\u001b[1;34m\n",
      "        \u001b[0mconstructor \u001b[1;34m= <class 'plotly.graph_objs._scatter.Scatter'>\u001b[0m\n",
      "\u001b[0;32m   2077\u001b[0m \u001b[38;5;28;01mif\u001b[39;00m constructor \u001b[38;5;129;01min\u001b[39;00m [go\u001b[38;5;241m.\u001b[39mTreemap, go\u001b[38;5;241m.\u001b[39mSunburst, go\u001b[38;5;241m.\u001b[39mIcicle] \u001b[38;5;129;01mand\u001b[39;00m args[\u001b[38;5;124m\"\u001b[39m\u001b[38;5;124mpath\u001b[39m\u001b[38;5;124m\"\u001b[39m] \u001b[38;5;129;01mis\u001b[39;00m \u001b[38;5;129;01mnot\u001b[39;00m \u001b[38;5;28;01mNone\u001b[39;00m:\n",
      "\u001b[0;32m   2078\u001b[0m     args \u001b[38;5;241m=\u001b[39m process_dataframe_hierarchy(args)\n",
      "\n",
      "File \u001b[1;32m~/Documents/Bootcamp/Git/Capstone/capstone_chat-gpt/.venv/lib/python3.11/site-packages/plotly/express/_core.py:1485\u001b[0m, in \u001b[0;36mbuild_dataframe\u001b[1;34m(\n",
      "    args={'animation_frame': None, 'animation_group': None, 'category_orders': None, 'color': 'score', 'color_discrete_map': None, 'color_discrete_sequence': None, 'custom_data': None, 'data_frame':                                  reviewId       ...56  feature evaluation  \n",
      "\n",
      "[400 rows x 35 columns], 'error_x': None, 'error_x_minus': None, ...},\n",
      "    constructor=<class 'plotly.graph_objs._scatter.Scatter'>\n",
      ")\u001b[0m\n",
      "\u001b[0;32m   1482\u001b[0m     args[\u001b[38;5;124m\"\u001b[39m\u001b[38;5;124mcolor\u001b[39m\u001b[38;5;124m\"\u001b[39m] \u001b[38;5;241m=\u001b[39m \u001b[38;5;28;01mNone\u001b[39;00m\n",
      "\u001b[0;32m   1483\u001b[0m \u001b[38;5;66;03m# now that things have been prepped, we do the systematic rewriting of `args`\u001b[39;00m\n",
      "\u001b[1;32m-> 1485\u001b[0m df_output, wide_id_vars \u001b[38;5;241m=\u001b[39m \u001b[43mprocess_args_into_dataframe\u001b[49m\u001b[43m(\u001b[49m\n",
      "        args \u001b[1;34m= {'data_frame':                                  reviewId              userName  \\\n",
      "0    36b7f28e-151d-4b98-8a13-41bd017e0d25             Lin Cheng   \n",
      "1    36b7f28e-151d-4b98-8a13-41bd017e0d25             Lin Cheng   \n",
      "2    36b7f28e-151d-4b98-8a13-41bd017e0d25             Lin Cheng   \n",
      "3    36b7f28e-151d-4b98-8a13-41bd017e0d25             Lin Cheng   \n",
      "4    36b7f28e-151d-4b98-8a13-41bd017e0d25             Lin Cheng   \n",
      "..                                    ...                   ...   \n",
      "395  09553634-4637-46d0-9b2e-bc63fe5105dc           Ryan Kargel   \n",
      "396  09553634-4637-46d0-9b2e-bc63fe5105dc           Ryan Kargel   \n",
      "397  09553634-4637-46d0-9b2e-bc63fe5105dc           Ryan Kargel   \n",
      "398  09553634-4637-46d0-9b2e-bc63fe5105dc           Ryan Kargel   \n",
      "399  f8973c62-a909-4685-bd08-fc8ef698ebd0  Prabhat Kumar (P.K.)   \n",
      "\n",
      "                                               content  score  thumbsUpCount  \\\n",
      "0    ChatGPT on Android is a solid app with seamles...      4              5   \n",
      "1    ChatGPT on Android is a solid app with seamles...      4              5   \n",
      "2    ChatGPT on Android is a solid app with seamles...      4              5   \n",
      "3    ChatGPT on Android is a solid app with seamles...      4              5   \n",
      "4    ChatGPT on Android is a solid app with seamles...      4              5   \n",
      "..                                                 ...    ...            ...   \n",
      "395  Very useful for learning. Often times I will d...      5              0   \n",
      "396  Very useful for learning. Often times I will d...      5              0   \n",
      "397  Very useful for learning. Often times I will d...      5              0   \n",
      "398  Very useful for learning. Often times I will d...      5              0   \n",
      "399  Can't open fast app open hone ke bad w\"After o...      4              0   \n",
      "\n",
      "                      at replyContent repliedAt  appVersion  reply  ...  \\\n",
      "0    2023-10-19 19:26:19          NaN       NaN  1.2023.284      0  ...   \n",
      "1    2023-10-19 19:26:19          NaN       NaN  1.2023.284      0  ...   \n",
      "2    2023-10-19 19:26:19          NaN       NaN  1.2023.284      0  ...   \n",
      "3    2023-10-19 19:26:19          NaN       NaN  1.2023.284      0  ...   \n",
      "4    2023-10-19 19:26:19          NaN       NaN  1.2023.284      0  ...   \n",
      "..                   ...          ...       ...         ...    ...  ...   \n",
      "395  2023-10-19 21:29:05          NaN       NaN  1.2023.284      0  ...   \n",
      "396  2023-10-19 21:29:05          NaN       NaN  1.2023.284      0  ...   \n",
      "397  2023-10-19 21:29:05          NaN       NaN  1.2023.284      0  ...   \n",
      "398  2023-10-19 21:29:05          NaN       NaN  1.2023.284      0  ...   \n",
      "399  2023-10-16 04:50:42          NaN       NaN  1.2023.281      0  ...   \n",
      "\n",
      "    vader_cat vader_neg vader_neu  vader_pos  blob_polarity blob_subjectivity  \\\n",
      "0         neu     0.000     0.778      0.222       0.166667          0.233333   \n",
      "1         neu     0.000     0.778      0.222      -0.400000          0.700000   \n",
      "2         neu     0.000     0.778      0.222       0.000000          0.000000   \n",
      "3         neu     0.000     0.778      0.222      -0.166667          0.166667   \n",
      "4         neu     0.000     1.000      0.000       0.600000          0.800000   \n",
      "..        ...       ...       ...        ...            ...               ...   \n",
      "395  compound     0.046     0.726      0.228       0.390000          0.000000   \n",
      "396       neu     0.000     0.876      0.124       0.122222          0.472222   \n",
      "397       neu     0.000     0.876      0.124       0.300000          0.411111   \n",
      "398       neu     0.000     0.876      0.124       0.218750          0.593750   \n",
      "399       neu     0.000     0.876      0.124      -0.140000          0.473333   \n",
      "\n",
      "     pipe_cat  pipe_neg  pipe_pos               topic  \n",
      "0    POSITIVE  0.000709  0.999291          bug report  \n",
      "1    NEGATIVE  0.585292  0.414708  feature evaluation  \n",
      "2    NEGATIVE  0.999632  0.000368          bug report  \n",
      "3    NEGATIVE  0.999521  0.000479         performance  \n",
      "4    POSITIVE  0.000518  0.999482          bug report  \n",
      "..        ...       ...       ...                 ...  \n",
      "395  POSITIVE  0.000226  0.999774     feature request  \n",
      "396  NEGATIVE  0.952157  0.047843          bug report  \n",
      "397  POSITIVE  0.014980  0.985020              praise  \n",
      "398  POSITIVE  0.014863  0.985137               usage  \n",
      "399  NEGATIVE  0.997344  0.002656  feature evaluation  \n",
      "\n",
      "[400 rows x 35 columns], 'x': 'at', 'y': 'Reviews', 'line_group': None, 'color': 'score', 'line_dash': None, 'symbol': None, 'hover_name': None, 'hover_data': None, 'custom_data': None, 'text': None, 'facet_row': None, 'facet_col': None, 'facet_col_wrap': 0, 'facet_row_spacing': None, 'facet_col_spacing': None, 'error_x': None, 'error_x_minus': None, 'error_y': None, 'error_y_minus': None, 'animation_frame': None, 'animation_group': None, 'category_orders': None, 'labels': None, 'orientation': None, 'color_discrete_sequence': None, 'color_discrete_map': None, 'line_dash_sequence': None, 'line_dash_map': None, 'symbol_sequence': None, 'symbol_map': None, 'markers': False, 'log_x': False, 'log_y': False, 'range_x': None, 'range_y': None, 'line_shape': None, 'render_mode': 'auto', 'title': 'Number of Reviews', 'template': None, 'width': None, 'height': None}\u001b[0m\u001b[1;34m\n",
      "        \u001b[0mwide_mode \u001b[1;34m= False\u001b[0m\u001b[1;34m\n",
      "        \u001b[0mvar_name \u001b[1;34m= None\u001b[0m\u001b[1;34m\n",
      "        \u001b[0mvalue_name \u001b[1;34m= None\u001b[0m\n",
      "\u001b[0;32m   1486\u001b[0m \u001b[43m    \u001b[49m\u001b[43margs\u001b[49m\u001b[43m,\u001b[49m\u001b[43m \u001b[49m\u001b[43mwide_mode\u001b[49m\u001b[43m,\u001b[49m\u001b[43m \u001b[49m\u001b[43mvar_name\u001b[49m\u001b[43m,\u001b[49m\u001b[43m \u001b[49m\u001b[43mvalue_name\u001b[49m\n",
      "\u001b[0;32m   1487\u001b[0m \u001b[43m\u001b[49m\u001b[43m)\u001b[49m\n",
      "\u001b[0;32m   1489\u001b[0m \u001b[38;5;66;03m# now that `df_output` exists and `args` contains only references, we complete\u001b[39;00m\n",
      "\u001b[0;32m   1490\u001b[0m \u001b[38;5;66;03m# the special-case and wide-mode handling by further rewriting args and/or mutating\u001b[39;00m\n",
      "\u001b[0;32m   1491\u001b[0m \u001b[38;5;66;03m# df_output\u001b[39;00m\n",
      "\u001b[0;32m   1493\u001b[0m count_name \u001b[38;5;241m=\u001b[39m _escape_col_name(df_output, \u001b[38;5;124m\"\u001b[39m\u001b[38;5;124mcount\u001b[39m\u001b[38;5;124m\"\u001b[39m, [var_name, value_name])\n",
      "\n",
      "File \u001b[1;32m~/Documents/Bootcamp/Git/Capstone/capstone_chat-gpt/.venv/lib/python3.11/site-packages/plotly/express/_core.py:1210\u001b[0m, in \u001b[0;36mprocess_args_into_dataframe\u001b[1;34m(\n",
      "    args={'animation_frame': None, 'animation_group': None, 'category_orders': None, 'color': 'score', 'color_discrete_map': None, 'color_discrete_sequence': None, 'custom_data': None, 'data_frame':                                  reviewId       ...56  feature evaluation  \n",
      "\n",
      "[400 rows x 35 columns], 'error_x': None, 'error_x_minus': None, ...},\n",
      "    wide_mode=False,\n",
      "    var_name=None,\n",
      "    value_name=None\n",
      ")\u001b[0m\n",
      "\u001b[0;32m   1208\u001b[0m         \u001b[38;5;28;01mif\u001b[39;00m argument \u001b[38;5;241m==\u001b[39m \u001b[38;5;124m\"\u001b[39m\u001b[38;5;124mindex\u001b[39m\u001b[38;5;124m\"\u001b[39m:\n",
      "\u001b[0;32m   1209\u001b[0m             err_msg \u001b[38;5;241m+\u001b[39m\u001b[38;5;241m=\u001b[39m \u001b[38;5;124m\"\u001b[39m\u001b[38;5;130;01m\\n\u001b[39;00m\u001b[38;5;124m To use the index, pass it in directly as `df.index`.\u001b[39m\u001b[38;5;124m\"\u001b[39m\n",
      "\u001b[1;32m-> 1210\u001b[0m         \u001b[38;5;28;01mraise\u001b[39;00m \u001b[38;5;167;01mValueError\u001b[39;00m(err_msg)\n",
      "        err_msg \u001b[1;34m= \"Value of 'y' is not the name of a column in 'data_frame'. Expected one of ['reviewId', 'userName', 'content', 'score', 'thumbsUpCount', 'at', 'replyContent', 'repliedAt', 'appVersion', 'reply', 'at_ym', 'at_m', 'at_wd', 'at_q', 'at_d', 'at_ymd', 'score_cat', 'index', 'sentence', 'positive_score', 'neutral_score', 'negative_score', 'category_negative', 'category_neutral', 'category_positive', 'vader_cat', 'vader_neg', 'vader_neu', 'vader_pos', 'blob_polarity', 'blob_subjectivity', 'pipe_cat', 'pipe_neg', 'pipe_pos', 'topic'] but received: Reviews\"\u001b[0m\n",
      "\u001b[0;32m   1211\u001b[0m \u001b[38;5;28;01melif\u001b[39;00m length \u001b[38;5;129;01mand\u001b[39;00m \u001b[38;5;28mlen\u001b[39m(df_input[argument]) \u001b[38;5;241m!=\u001b[39m length:\n",
      "\u001b[0;32m   1212\u001b[0m     \u001b[38;5;28;01mraise\u001b[39;00m \u001b[38;5;167;01mValueError\u001b[39;00m(\n",
      "\u001b[0;32m   1213\u001b[0m         \u001b[38;5;124m\"\u001b[39m\u001b[38;5;124mAll arguments should have the same length. \u001b[39m\u001b[38;5;124m\"\u001b[39m\n",
      "\u001b[0;32m   1214\u001b[0m         \u001b[38;5;124m\"\u001b[39m\u001b[38;5;124mThe length of column argument `df[\u001b[39m\u001b[38;5;132;01m%s\u001b[39;00m\u001b[38;5;124m]` is \u001b[39m\u001b[38;5;132;01m%d\u001b[39;00m\u001b[38;5;124m, whereas the \u001b[39m\u001b[38;5;124m\"\u001b[39m\n",
      "\u001b[1;32m   (...)\u001b[0m\n",
      "\u001b[0;32m   1221\u001b[0m         )\n",
      "\u001b[0;32m   1222\u001b[0m     )\n",
      "\n",
      "\u001b[1;31mValueError\u001b[0m: Value of 'y' is not the name of a column in 'data_frame'. Expected one of ['reviewId', 'userName', 'content', 'score', 'thumbsUpCount', 'at', 'replyContent', 'repliedAt', 'appVersion', 'reply', 'at_ym', 'at_m', 'at_wd', 'at_q', 'at_d', 'at_ymd', 'score_cat', 'index', 'sentence', 'positive_score', 'neutral_score', 'negative_score', 'category_negative', 'category_neutral', 'category_positive', 'vader_cat', 'vader_neg', 'vader_neu', 'vader_pos', 'blob_polarity', 'blob_subjectivity', 'pipe_cat', 'pipe_neg', 'pipe_pos', 'topic'] but received: Reviews\n",
      "\n"
     ]
    }
   ],
   "source": [
    "from dash import Dash, dcc, html, Input, Output\n",
    "import plotly.express as px\n",
    "\n",
    "app = Dash(__name__)\n",
    "\n",
    "df_long_plus['at']).dt.date.\n",
    "\n",
    "\n",
    "app.layout = html.Div([\n",
    "    html.H4(children='ChatGPT - AI Market Insights', style={'textAlign':'center'}),\n",
    "    dcc.Graph(id=\"graph\"),\n",
    "    dcc.Checklist(\n",
    "        id=\"checklist\",\n",
    "        options=[0, 1, 2, 3, 4, 5],\n",
    "        value=[0, 1, 2, 3, 4, 5],\n",
    "        inline=True,\n",
    "    ),\n",
    "])\n",
    "\n",
    "\n",
    "@app.callback(\n",
    "    Output(\"graph\", \"figure\"), \n",
    "    Input(\"checklist\", \"value\"))\n",
    "def update_line_chart(scores):\n",
    "    mask = df.score.isin(scores)\n",
    "    title = 'Number of Reviews'\n",
    "    fig = px.line(df[mask], x='at', y='Reviews', title=title, color='score')\n",
    "    fig.update_layout(xaxis_title='Month',\n",
    "                   yaxis_title='Reviews')\n",
    "    return fig\n",
    "\n",
    "app.run_server(debug=True)\n"
   ]
  },
  {
   "cell_type": "code",
   "execution_count": 50,
   "metadata": {},
   "outputs": [
    {
     "data": {
      "application/vnd.plotly.v1+json": {
       "config": {
        "plotlyServerURL": "https://plot.ly"
       },
       "data": [
        {
         "alignmentgroup": "True",
         "bingroup": "y",
         "histfunc": "sum",
         "histnorm": "percent",
         "hovertemplate": "percent of sum of x=%{x}<br>y=%{y}<extra></extra>",
         "legendgroup": "",
         "marker": {
          "color": "#636efa",
          "pattern": {
           "shape": ""
          }
         },
         "name": "",
         "offsetgroup": "",
         "orientation": "h",
         "showlegend": false,
         "type": "histogram",
         "x": [
          1,
          1,
          1,
          1,
          1,
          1,
          1,
          1,
          1,
          1,
          1,
          1,
          1,
          1,
          1,
          1,
          1,
          1,
          1,
          1,
          1,
          1,
          1,
          1,
          1,
          1,
          1,
          1,
          1,
          1,
          1,
          1,
          1,
          1,
          1,
          1,
          1,
          1,
          1,
          1,
          1,
          1,
          1,
          1,
          1,
          1,
          1,
          1,
          1,
          1,
          1,
          1,
          1,
          1,
          1,
          1,
          1,
          1,
          1,
          1,
          1,
          1,
          1,
          1,
          1,
          1,
          1,
          1,
          1,
          1,
          1,
          1,
          1,
          1,
          1,
          1,
          1,
          1,
          1,
          1,
          1,
          1,
          1,
          1,
          1,
          1,
          1,
          1,
          1,
          1,
          1,
          1,
          1,
          1,
          1,
          1,
          1,
          1,
          1,
          1,
          1,
          1,
          1,
          1,
          1,
          1,
          1,
          1,
          1,
          1,
          1,
          1,
          1,
          1,
          1,
          1,
          1,
          1,
          1,
          1,
          1,
          1,
          1,
          1,
          1,
          1,
          1,
          1,
          1,
          1,
          1,
          1,
          1,
          1,
          1,
          1,
          1,
          1,
          1,
          1,
          1,
          1,
          1,
          1,
          1,
          1,
          1,
          1,
          1,
          1,
          1,
          1,
          1,
          1,
          1,
          1,
          1,
          1,
          1,
          1,
          1,
          1,
          1,
          1,
          1,
          1,
          1,
          1,
          1,
          1,
          1,
          1,
          1,
          1,
          1,
          1,
          1,
          1,
          1,
          1,
          1,
          1,
          1,
          1,
          1,
          1,
          1,
          1,
          1,
          1,
          1,
          1,
          1,
          1,
          1,
          1,
          1,
          1,
          1,
          1,
          1,
          1,
          1,
          1,
          1,
          1,
          1,
          1,
          1,
          1,
          1,
          1,
          1,
          1,
          1,
          1,
          1,
          1,
          1,
          1,
          1,
          1,
          1,
          1,
          1,
          1,
          1,
          1,
          1,
          1,
          1,
          1,
          1,
          1,
          1,
          1,
          1,
          1,
          1,
          1,
          1,
          1,
          1,
          1,
          1,
          1,
          1,
          1,
          1,
          1,
          1,
          1,
          1,
          1,
          1,
          1,
          1,
          1,
          1,
          1,
          1,
          1,
          1,
          1,
          1,
          1,
          1,
          1,
          1,
          1,
          1,
          1,
          1,
          1,
          1,
          1,
          1,
          1,
          1,
          1,
          1,
          1,
          1,
          1,
          1,
          1,
          1,
          1,
          1,
          1,
          1,
          1,
          1,
          1,
          1,
          1,
          1,
          1,
          1,
          1,
          1,
          1,
          1,
          1,
          1,
          1,
          1,
          1,
          1,
          1,
          1,
          1,
          1,
          1,
          1,
          1,
          1,
          1,
          1,
          1,
          1,
          1,
          1,
          1,
          1,
          1,
          1,
          1,
          1,
          1,
          1,
          1,
          1,
          1,
          1,
          1,
          1,
          1,
          1,
          1,
          1,
          1,
          1,
          1,
          1,
          1,
          1,
          1,
          1,
          1,
          1,
          1,
          1,
          1,
          1,
          1,
          1,
          1,
          1,
          1,
          1,
          1,
          1,
          1,
          1,
          1,
          1,
          1,
          1,
          1,
          1,
          1,
          1,
          1,
          1,
          1,
          1,
          1,
          1,
          1,
          1,
          1,
          1,
          1,
          1,
          1,
          1,
          1,
          1,
          1,
          1,
          1,
          1,
          1,
          1,
          1,
          1,
          1,
          1,
          1,
          1,
          1,
          1,
          1,
          1,
          1,
          1,
          1,
          1,
          1,
          1,
          1,
          1,
          1,
          1,
          1,
          1,
          1,
          1,
          1,
          1,
          1,
          1,
          1,
          1,
          1,
          1,
          1,
          1,
          1,
          1,
          1,
          1,
          1,
          1,
          1,
          1,
          1,
          1,
          1,
          1,
          1,
          1,
          1,
          1,
          1,
          1,
          1,
          1,
          1,
          1,
          1,
          1,
          1,
          1,
          1,
          1,
          1,
          1,
          1,
          1,
          1,
          1,
          1,
          1,
          1,
          1,
          1,
          1,
          1,
          1,
          1,
          1,
          1,
          1,
          1,
          1,
          1,
          1,
          1,
          1,
          1,
          1,
          1,
          1,
          1,
          1,
          1,
          1,
          1,
          1,
          1,
          1,
          1,
          1,
          1,
          1,
          1,
          1,
          1,
          1,
          1,
          1,
          1,
          1,
          1,
          1,
          1,
          1,
          1,
          1,
          1,
          1,
          1,
          1,
          1,
          1,
          1,
          1,
          1,
          1,
          1,
          1,
          1,
          1,
          1,
          1,
          1,
          1,
          1,
          1,
          1,
          1,
          1,
          1,
          1,
          1,
          1,
          1,
          1,
          1,
          1,
          1,
          1,
          1,
          1,
          1,
          1
         ],
         "xaxis": "x",
         "y": [
          "praise",
          "praise",
          "usage",
          "praise",
          "feature evaluation",
          "praise",
          "feature request",
          "bug report",
          "feature evaluation",
          "feature request",
          "usage",
          "praise",
          "praise",
          "usage",
          "feature request",
          "bug report",
          "praise",
          "feature request",
          "praise",
          "feature request",
          "bug report",
          "bug report",
          "bug report",
          "praise",
          "bug report",
          "performance",
          "bug report",
          "performance",
          "feature request",
          "feature evaluation",
          "feature request",
          "feature evaluation",
          "feature request",
          "feature request",
          "performance",
          "bug report",
          "praise",
          "feature request",
          "praise",
          "praise",
          "praise",
          "feature request",
          "bug report",
          "feature request",
          "feature request",
          "praise",
          "praise",
          "feature request",
          "praise",
          "feature evaluation",
          "feature evaluation",
          "feature request",
          "feature evaluation",
          "bug report",
          "feature request",
          "performance",
          "bug report",
          "usage",
          "bug report",
          "feature evaluation",
          "usage",
          "bug report",
          "feature evaluation",
          "feature request",
          "bug report",
          "feature request",
          "praise",
          "feature request",
          "praise",
          "praise",
          "feature request",
          "feature request",
          "feature evaluation",
          "usage",
          "praise",
          "praise",
          "praise",
          "feature evaluation",
          "bug report",
          "performance",
          "feature request",
          "feature evaluation",
          "performance",
          "praise",
          "bug report",
          "usage",
          "feature request",
          "feature request",
          "usage",
          "bug report",
          "feature request",
          "bug report",
          "praise",
          "feature evaluation",
          "bug report",
          "performance",
          "performance",
          "performance",
          "feature request",
          "feature evaluation",
          "usage",
          "performance",
          "usage",
          "performance",
          "bug report",
          "bug report",
          "bug report",
          "feature request",
          "usage",
          "performance",
          "feature request",
          "feature evaluation",
          "feature evaluation",
          "usage",
          "praise",
          "feature request",
          "performance",
          "praise",
          "bug report",
          "feature evaluation",
          "performance",
          "praise",
          "praise",
          "feature request",
          "bug report",
          "bug report",
          "praise",
          "praise",
          "usage",
          "bug report",
          "bug report",
          "feature evaluation",
          "praise",
          "praise",
          "bug report",
          "feature evaluation",
          "praise",
          "bug report",
          "bug report",
          "feature request",
          "performance",
          "feature evaluation",
          "feature evaluation",
          "praise",
          "bug report",
          "praise",
          "praise",
          "feature evaluation",
          "feature evaluation",
          "bug report",
          "performance",
          "praise",
          "feature request",
          "feature evaluation",
          "praise",
          "feature request",
          "feature evaluation",
          "praise",
          "performance",
          "praise",
          "feature request",
          "praise",
          "bug report",
          "bug report",
          "performance",
          "performance",
          "usage",
          "feature request",
          "feature evaluation",
          "feature request",
          "usage",
          "bug report",
          "praise",
          "usage",
          "feature request",
          "feature request",
          "bug report",
          "feature evaluation",
          "praise",
          "feature evaluation",
          "praise",
          "bug report",
          "usage",
          "performance",
          "bug report",
          "bug report",
          "feature evaluation",
          "feature request",
          "performance",
          "feature evaluation",
          "feature evaluation",
          "feature evaluation",
          "performance",
          "performance",
          "performance",
          "praise",
          "bug report",
          "feature evaluation",
          "feature request",
          "praise",
          "feature request",
          "feature request",
          "feature evaluation",
          "feature request",
          "feature request",
          "praise",
          "bug report",
          "feature evaluation",
          "praise",
          "performance",
          "performance",
          "praise",
          "feature evaluation",
          "usage",
          "feature evaluation",
          "feature evaluation",
          "praise",
          "usage",
          "bug report",
          "bug report",
          "feature request",
          "bug report",
          "bug report",
          "feature request",
          "bug report",
          "praise",
          "performance",
          "praise",
          "praise",
          "praise",
          "feature evaluation",
          "feature request",
          "feature evaluation",
          "praise",
          "bug report",
          "praise",
          "praise",
          "praise",
          "feature evaluation",
          "usage",
          "praise",
          "praise",
          "praise",
          "bug report",
          "praise",
          "feature request",
          "performance",
          "praise",
          "feature request",
          "feature request",
          "performance",
          "bug report",
          "performance",
          "praise",
          "praise",
          "usage",
          "bug report",
          "bug report",
          "praise",
          "bug report",
          "feature request",
          "performance",
          "feature request",
          "praise",
          "bug report",
          "praise",
          "feature request",
          "performance",
          "feature evaluation",
          "feature request",
          "bug report",
          "feature request",
          "feature evaluation",
          "praise",
          "bug report",
          "praise",
          "praise",
          "feature evaluation",
          "praise",
          "bug report",
          "praise",
          "usage",
          "feature evaluation",
          "feature evaluation",
          "usage",
          "feature request",
          "feature request",
          "performance",
          "performance",
          "bug report",
          "praise",
          "feature request",
          "feature evaluation",
          "bug report",
          "bug report",
          "bug report",
          "praise",
          "feature evaluation",
          "feature evaluation",
          "performance",
          "feature request",
          "feature evaluation",
          "usage",
          "feature request",
          "usage",
          "performance",
          "praise",
          "feature evaluation",
          "praise",
          "performance",
          "feature evaluation",
          "bug report",
          "bug report",
          "praise",
          "praise",
          "bug report",
          "feature evaluation",
          "feature request",
          "feature request",
          "usage",
          "feature evaluation",
          "praise",
          "bug report",
          "feature request",
          "praise",
          "bug report",
          "usage",
          "feature evaluation",
          "bug report",
          "feature evaluation",
          "praise",
          "feature evaluation",
          "praise",
          "usage",
          "feature evaluation",
          "performance",
          "usage",
          "feature request",
          "feature evaluation",
          "feature request",
          "bug report",
          "feature request",
          "feature request",
          "performance",
          "praise",
          "usage",
          "praise",
          "feature request",
          "feature evaluation",
          "feature request",
          "praise",
          "performance",
          "performance",
          "bug report",
          "feature evaluation",
          "bug report",
          "feature evaluation",
          "performance",
          "performance",
          "feature request",
          "usage",
          "bug report",
          "usage",
          "praise",
          "feature evaluation",
          "performance",
          "praise",
          "performance",
          "praise",
          "feature request",
          "usage",
          "feature request",
          "bug report",
          "feature request",
          "feature request",
          "performance",
          "feature evaluation",
          "feature evaluation",
          "bug report",
          "performance",
          "performance",
          "performance",
          "feature request",
          "performance",
          "praise",
          "performance",
          "praise",
          "bug report",
          "bug report",
          "praise",
          "usage",
          "usage",
          "usage",
          "feature evaluation",
          "bug report",
          "bug report",
          "praise",
          "feature request",
          "feature request",
          "praise",
          "praise",
          "feature evaluation",
          "feature request",
          "praise",
          "feature request",
          "feature evaluation",
          "performance",
          "bug report",
          "bug report",
          "feature request",
          "praise",
          "feature evaluation",
          "feature request",
          "bug report",
          "praise",
          "praise",
          "praise",
          "bug report",
          "performance",
          "feature request",
          "feature evaluation",
          "performance",
          "praise",
          "praise",
          "performance",
          "usage",
          "praise",
          "bug report",
          "performance",
          "usage",
          "praise",
          "feature request",
          "performance",
          "feature evaluation",
          "usage",
          "feature evaluation",
          "usage",
          "feature evaluation",
          "feature request",
          "praise",
          "feature request",
          "feature evaluation",
          "feature request",
          "bug report",
          "usage",
          "usage",
          "praise",
          "feature request",
          "praise",
          "praise",
          "praise",
          "feature request",
          "feature evaluation",
          "bug report",
          "bug report",
          "feature request",
          "usage",
          "praise",
          "bug report",
          "performance",
          "feature evaluation",
          "bug report",
          "bug report",
          "feature evaluation",
          "feature request",
          "feature evaluation",
          "bug report",
          "praise",
          "performance",
          "usage",
          "feature request",
          "feature evaluation",
          "praise",
          "usage",
          "bug report",
          "bug report",
          "bug report",
          "feature request",
          "feature request",
          "bug report",
          "usage",
          "praise",
          "bug report",
          "feature evaluation",
          "bug report",
          "feature request",
          "praise",
          "bug report",
          "feature evaluation",
          "performance",
          "performance",
          "feature request",
          "usage",
          "feature request",
          "praise",
          "feature evaluation",
          "usage",
          "feature request",
          "feature request",
          "feature request",
          "usage",
          "feature evaluation",
          "bug report",
          "bug report",
          "bug report",
          "feature evaluation",
          "bug report",
          "performance",
          "feature request",
          "performance",
          "performance",
          "feature evaluation",
          "praise",
          "feature evaluation",
          "feature request",
          "feature request",
          "praise",
          "usage",
          "bug report",
          "bug report",
          "feature request",
          "performance",
          "praise",
          "feature evaluation",
          "usage",
          "bug report",
          "feature evaluation",
          "usage",
          "feature evaluation",
          "praise",
          "bug report",
          "feature evaluation",
          "performance",
          "performance",
          "bug report",
          "feature request",
          "bug report",
          "bug report",
          "feature evaluation",
          "feature evaluation",
          "usage",
          "usage",
          "usage",
          "feature request",
          "praise",
          "feature request",
          "praise",
          "feature request"
         ],
         "yaxis": "y"
        }
       ],
       "layout": {
        "barmode": "relative",
        "legend": {
         "tracegroupgap": 0
        },
        "margin": {
         "t": 60
        },
        "template": {
         "data": {
          "bar": [
           {
            "error_x": {
             "color": "#2a3f5f"
            },
            "error_y": {
             "color": "#2a3f5f"
            },
            "marker": {
             "line": {
              "color": "#E5ECF6",
              "width": 0.5
             },
             "pattern": {
              "fillmode": "overlay",
              "size": 10,
              "solidity": 0.2
             }
            },
            "type": "bar"
           }
          ],
          "barpolar": [
           {
            "marker": {
             "line": {
              "color": "#E5ECF6",
              "width": 0.5
             },
             "pattern": {
              "fillmode": "overlay",
              "size": 10,
              "solidity": 0.2
             }
            },
            "type": "barpolar"
           }
          ],
          "carpet": [
           {
            "aaxis": {
             "endlinecolor": "#2a3f5f",
             "gridcolor": "white",
             "linecolor": "white",
             "minorgridcolor": "white",
             "startlinecolor": "#2a3f5f"
            },
            "baxis": {
             "endlinecolor": "#2a3f5f",
             "gridcolor": "white",
             "linecolor": "white",
             "minorgridcolor": "white",
             "startlinecolor": "#2a3f5f"
            },
            "type": "carpet"
           }
          ],
          "choropleth": [
           {
            "colorbar": {
             "outlinewidth": 0,
             "ticks": ""
            },
            "type": "choropleth"
           }
          ],
          "contour": [
           {
            "colorbar": {
             "outlinewidth": 0,
             "ticks": ""
            },
            "colorscale": [
             [
              0,
              "#0d0887"
             ],
             [
              0.1111111111111111,
              "#46039f"
             ],
             [
              0.2222222222222222,
              "#7201a8"
             ],
             [
              0.3333333333333333,
              "#9c179e"
             ],
             [
              0.4444444444444444,
              "#bd3786"
             ],
             [
              0.5555555555555556,
              "#d8576b"
             ],
             [
              0.6666666666666666,
              "#ed7953"
             ],
             [
              0.7777777777777778,
              "#fb9f3a"
             ],
             [
              0.8888888888888888,
              "#fdca26"
             ],
             [
              1,
              "#f0f921"
             ]
            ],
            "type": "contour"
           }
          ],
          "contourcarpet": [
           {
            "colorbar": {
             "outlinewidth": 0,
             "ticks": ""
            },
            "type": "contourcarpet"
           }
          ],
          "heatmap": [
           {
            "colorbar": {
             "outlinewidth": 0,
             "ticks": ""
            },
            "colorscale": [
             [
              0,
              "#0d0887"
             ],
             [
              0.1111111111111111,
              "#46039f"
             ],
             [
              0.2222222222222222,
              "#7201a8"
             ],
             [
              0.3333333333333333,
              "#9c179e"
             ],
             [
              0.4444444444444444,
              "#bd3786"
             ],
             [
              0.5555555555555556,
              "#d8576b"
             ],
             [
              0.6666666666666666,
              "#ed7953"
             ],
             [
              0.7777777777777778,
              "#fb9f3a"
             ],
             [
              0.8888888888888888,
              "#fdca26"
             ],
             [
              1,
              "#f0f921"
             ]
            ],
            "type": "heatmap"
           }
          ],
          "heatmapgl": [
           {
            "colorbar": {
             "outlinewidth": 0,
             "ticks": ""
            },
            "colorscale": [
             [
              0,
              "#0d0887"
             ],
             [
              0.1111111111111111,
              "#46039f"
             ],
             [
              0.2222222222222222,
              "#7201a8"
             ],
             [
              0.3333333333333333,
              "#9c179e"
             ],
             [
              0.4444444444444444,
              "#bd3786"
             ],
             [
              0.5555555555555556,
              "#d8576b"
             ],
             [
              0.6666666666666666,
              "#ed7953"
             ],
             [
              0.7777777777777778,
              "#fb9f3a"
             ],
             [
              0.8888888888888888,
              "#fdca26"
             ],
             [
              1,
              "#f0f921"
             ]
            ],
            "type": "heatmapgl"
           }
          ],
          "histogram": [
           {
            "marker": {
             "pattern": {
              "fillmode": "overlay",
              "size": 10,
              "solidity": 0.2
             }
            },
            "type": "histogram"
           }
          ],
          "histogram2d": [
           {
            "colorbar": {
             "outlinewidth": 0,
             "ticks": ""
            },
            "colorscale": [
             [
              0,
              "#0d0887"
             ],
             [
              0.1111111111111111,
              "#46039f"
             ],
             [
              0.2222222222222222,
              "#7201a8"
             ],
             [
              0.3333333333333333,
              "#9c179e"
             ],
             [
              0.4444444444444444,
              "#bd3786"
             ],
             [
              0.5555555555555556,
              "#d8576b"
             ],
             [
              0.6666666666666666,
              "#ed7953"
             ],
             [
              0.7777777777777778,
              "#fb9f3a"
             ],
             [
              0.8888888888888888,
              "#fdca26"
             ],
             [
              1,
              "#f0f921"
             ]
            ],
            "type": "histogram2d"
           }
          ],
          "histogram2dcontour": [
           {
            "colorbar": {
             "outlinewidth": 0,
             "ticks": ""
            },
            "colorscale": [
             [
              0,
              "#0d0887"
             ],
             [
              0.1111111111111111,
              "#46039f"
             ],
             [
              0.2222222222222222,
              "#7201a8"
             ],
             [
              0.3333333333333333,
              "#9c179e"
             ],
             [
              0.4444444444444444,
              "#bd3786"
             ],
             [
              0.5555555555555556,
              "#d8576b"
             ],
             [
              0.6666666666666666,
              "#ed7953"
             ],
             [
              0.7777777777777778,
              "#fb9f3a"
             ],
             [
              0.8888888888888888,
              "#fdca26"
             ],
             [
              1,
              "#f0f921"
             ]
            ],
            "type": "histogram2dcontour"
           }
          ],
          "mesh3d": [
           {
            "colorbar": {
             "outlinewidth": 0,
             "ticks": ""
            },
            "type": "mesh3d"
           }
          ],
          "parcoords": [
           {
            "line": {
             "colorbar": {
              "outlinewidth": 0,
              "ticks": ""
             }
            },
            "type": "parcoords"
           }
          ],
          "pie": [
           {
            "automargin": true,
            "type": "pie"
           }
          ],
          "scatter": [
           {
            "fillpattern": {
             "fillmode": "overlay",
             "size": 10,
             "solidity": 0.2
            },
            "type": "scatter"
           }
          ],
          "scatter3d": [
           {
            "line": {
             "colorbar": {
              "outlinewidth": 0,
              "ticks": ""
             }
            },
            "marker": {
             "colorbar": {
              "outlinewidth": 0,
              "ticks": ""
             }
            },
            "type": "scatter3d"
           }
          ],
          "scattercarpet": [
           {
            "marker": {
             "colorbar": {
              "outlinewidth": 0,
              "ticks": ""
             }
            },
            "type": "scattercarpet"
           }
          ],
          "scattergeo": [
           {
            "marker": {
             "colorbar": {
              "outlinewidth": 0,
              "ticks": ""
             }
            },
            "type": "scattergeo"
           }
          ],
          "scattergl": [
           {
            "marker": {
             "colorbar": {
              "outlinewidth": 0,
              "ticks": ""
             }
            },
            "type": "scattergl"
           }
          ],
          "scattermapbox": [
           {
            "marker": {
             "colorbar": {
              "outlinewidth": 0,
              "ticks": ""
             }
            },
            "type": "scattermapbox"
           }
          ],
          "scatterpolar": [
           {
            "marker": {
             "colorbar": {
              "outlinewidth": 0,
              "ticks": ""
             }
            },
            "type": "scatterpolar"
           }
          ],
          "scatterpolargl": [
           {
            "marker": {
             "colorbar": {
              "outlinewidth": 0,
              "ticks": ""
             }
            },
            "type": "scatterpolargl"
           }
          ],
          "scatterternary": [
           {
            "marker": {
             "colorbar": {
              "outlinewidth": 0,
              "ticks": ""
             }
            },
            "type": "scatterternary"
           }
          ],
          "surface": [
           {
            "colorbar": {
             "outlinewidth": 0,
             "ticks": ""
            },
            "colorscale": [
             [
              0,
              "#0d0887"
             ],
             [
              0.1111111111111111,
              "#46039f"
             ],
             [
              0.2222222222222222,
              "#7201a8"
             ],
             [
              0.3333333333333333,
              "#9c179e"
             ],
             [
              0.4444444444444444,
              "#bd3786"
             ],
             [
              0.5555555555555556,
              "#d8576b"
             ],
             [
              0.6666666666666666,
              "#ed7953"
             ],
             [
              0.7777777777777778,
              "#fb9f3a"
             ],
             [
              0.8888888888888888,
              "#fdca26"
             ],
             [
              1,
              "#f0f921"
             ]
            ],
            "type": "surface"
           }
          ],
          "table": [
           {
            "cells": {
             "fill": {
              "color": "#EBF0F8"
             },
             "line": {
              "color": "white"
             }
            },
            "header": {
             "fill": {
              "color": "#C8D4E3"
             },
             "line": {
              "color": "white"
             }
            },
            "type": "table"
           }
          ]
         },
         "layout": {
          "annotationdefaults": {
           "arrowcolor": "#2a3f5f",
           "arrowhead": 0,
           "arrowwidth": 1
          },
          "autotypenumbers": "strict",
          "coloraxis": {
           "colorbar": {
            "outlinewidth": 0,
            "ticks": ""
           }
          },
          "colorscale": {
           "diverging": [
            [
             0,
             "#8e0152"
            ],
            [
             0.1,
             "#c51b7d"
            ],
            [
             0.2,
             "#de77ae"
            ],
            [
             0.3,
             "#f1b6da"
            ],
            [
             0.4,
             "#fde0ef"
            ],
            [
             0.5,
             "#f7f7f7"
            ],
            [
             0.6,
             "#e6f5d0"
            ],
            [
             0.7,
             "#b8e186"
            ],
            [
             0.8,
             "#7fbc41"
            ],
            [
             0.9,
             "#4d9221"
            ],
            [
             1,
             "#276419"
            ]
           ],
           "sequential": [
            [
             0,
             "#0d0887"
            ],
            [
             0.1111111111111111,
             "#46039f"
            ],
            [
             0.2222222222222222,
             "#7201a8"
            ],
            [
             0.3333333333333333,
             "#9c179e"
            ],
            [
             0.4444444444444444,
             "#bd3786"
            ],
            [
             0.5555555555555556,
             "#d8576b"
            ],
            [
             0.6666666666666666,
             "#ed7953"
            ],
            [
             0.7777777777777778,
             "#fb9f3a"
            ],
            [
             0.8888888888888888,
             "#fdca26"
            ],
            [
             1,
             "#f0f921"
            ]
           ],
           "sequentialminus": [
            [
             0,
             "#0d0887"
            ],
            [
             0.1111111111111111,
             "#46039f"
            ],
            [
             0.2222222222222222,
             "#7201a8"
            ],
            [
             0.3333333333333333,
             "#9c179e"
            ],
            [
             0.4444444444444444,
             "#bd3786"
            ],
            [
             0.5555555555555556,
             "#d8576b"
            ],
            [
             0.6666666666666666,
             "#ed7953"
            ],
            [
             0.7777777777777778,
             "#fb9f3a"
            ],
            [
             0.8888888888888888,
             "#fdca26"
            ],
            [
             1,
             "#f0f921"
            ]
           ]
          },
          "colorway": [
           "#636efa",
           "#EF553B",
           "#00cc96",
           "#ab63fa",
           "#FFA15A",
           "#19d3f3",
           "#FF6692",
           "#B6E880",
           "#FF97FF",
           "#FECB52"
          ],
          "font": {
           "color": "#2a3f5f"
          },
          "geo": {
           "bgcolor": "white",
           "lakecolor": "white",
           "landcolor": "#E5ECF6",
           "showlakes": true,
           "showland": true,
           "subunitcolor": "white"
          },
          "hoverlabel": {
           "align": "left"
          },
          "hovermode": "closest",
          "mapbox": {
           "style": "light"
          },
          "paper_bgcolor": "white",
          "plot_bgcolor": "#E5ECF6",
          "polar": {
           "angularaxis": {
            "gridcolor": "white",
            "linecolor": "white",
            "ticks": ""
           },
           "bgcolor": "#E5ECF6",
           "radialaxis": {
            "gridcolor": "white",
            "linecolor": "white",
            "ticks": ""
           }
          },
          "scene": {
           "xaxis": {
            "backgroundcolor": "#E5ECF6",
            "gridcolor": "white",
            "gridwidth": 2,
            "linecolor": "white",
            "showbackground": true,
            "ticks": "",
            "zerolinecolor": "white"
           },
           "yaxis": {
            "backgroundcolor": "#E5ECF6",
            "gridcolor": "white",
            "gridwidth": 2,
            "linecolor": "white",
            "showbackground": true,
            "ticks": "",
            "zerolinecolor": "white"
           },
           "zaxis": {
            "backgroundcolor": "#E5ECF6",
            "gridcolor": "white",
            "gridwidth": 2,
            "linecolor": "white",
            "showbackground": true,
            "ticks": "",
            "zerolinecolor": "white"
           }
          },
          "shapedefaults": {
           "line": {
            "color": "#2a3f5f"
           }
          },
          "ternary": {
           "aaxis": {
            "gridcolor": "white",
            "linecolor": "white",
            "ticks": ""
           },
           "baxis": {
            "gridcolor": "white",
            "linecolor": "white",
            "ticks": ""
           },
           "bgcolor": "#E5ECF6",
           "caxis": {
            "gridcolor": "white",
            "linecolor": "white",
            "ticks": ""
           }
          },
          "title": {
           "x": 0.05
          },
          "xaxis": {
           "automargin": true,
           "gridcolor": "white",
           "linecolor": "white",
           "ticks": "",
           "title": {
            "standoff": 15
           },
           "zerolinecolor": "white",
           "zerolinewidth": 2
          },
          "yaxis": {
           "automargin": true,
           "gridcolor": "white",
           "linecolor": "white",
           "ticks": "",
           "title": {
            "standoff": 15
           },
           "zerolinecolor": "white",
           "zerolinewidth": 2
          }
         }
        },
        "xaxis": {
         "anchor": "y",
         "domain": [
          0,
          1
         ],
         "title": {
          "text": "percent of sum of x"
         }
        },
        "yaxis": {
         "anchor": "x",
         "domain": [
          0,
          1
         ],
         "title": {
          "text": "y"
         }
        }
       }
      }
     },
     "metadata": {},
     "output_type": "display_data"
    }
   ],
   "source": [
    "mask = df[\"score\"] == 2\n",
    "px.histogram(df[mask], \n",
    "       y=df[mask].topic, \n",
    "       x=df[mask].Reviews,\n",
    "       orientation='h',\n",
    "       histnorm = 'percent')"
   ]
  },
  {
   "cell_type": "code",
   "execution_count": 36,
   "metadata": {},
   "outputs": [
    {
     "name": "stderr",
     "output_type": "stream",
     "text": [
      "/var/folders/vl/wpx53sjn0nv5cmny0jckrfjr0000gn/T/ipykernel_24189/2927401002.py:1: UserWarning:\n",
      "\n",
      "Boolean Series key will be reindexed to match DataFrame index.\n",
      "\n"
     ]
    },
    {
     "data": {
      "text/html": [
       "<div>\n",
       "<style scoped>\n",
       "    .dataframe tbody tr th:only-of-type {\n",
       "        vertical-align: middle;\n",
       "    }\n",
       "\n",
       "    .dataframe tbody tr th {\n",
       "        vertical-align: top;\n",
       "    }\n",
       "\n",
       "    .dataframe thead th {\n",
       "        text-align: right;\n",
       "    }\n",
       "</style>\n",
       "<table border=\"1\" class=\"dataframe\">\n",
       "  <thead>\n",
       "    <tr style=\"text-align: right;\">\n",
       "      <th></th>\n",
       "      <th>at_ym</th>\n",
       "      <th>Reviews</th>\n",
       "    </tr>\n",
       "  </thead>\n",
       "  <tbody>\n",
       "    <tr>\n",
       "      <th>0</th>\n",
       "      <td>2023-07</td>\n",
       "      <td>1152</td>\n",
       "    </tr>\n",
       "    <tr>\n",
       "      <th>1</th>\n",
       "      <td>2023-08</td>\n",
       "      <td>739</td>\n",
       "    </tr>\n",
       "    <tr>\n",
       "      <th>2</th>\n",
       "      <td>2023-09</td>\n",
       "      <td>1062</td>\n",
       "    </tr>\n",
       "    <tr>\n",
       "      <th>3</th>\n",
       "      <td>2023-10</td>\n",
       "      <td>1112</td>\n",
       "    </tr>\n",
       "  </tbody>\n",
       "</table>\n",
       "</div>"
      ],
      "text/plain": [
       "     at_ym  Reviews\n",
       "0  2023-07     1152\n",
       "1  2023-08      739\n",
       "2  2023-09     1062\n",
       "3  2023-10     1112"
      ]
     },
     "execution_count": 36,
     "metadata": {},
     "output_type": "execute_result"
    }
   ],
   "source": [
    "df_chart[mask].groupby('at_ym', as_index=False).sum('Reviews')"
   ]
  },
  {
   "cell_type": "code",
   "execution_count": 8,
   "metadata": {},
   "outputs": [
    {
     "data": {
      "application/vnd.plotly.v1+json": {
       "config": {
        "plotlyServerURL": "https://plot.ly"
       },
       "data": [
        {
         "hovertemplate": "Review Date=%{x|%B %d, %Y}<br>Reviews=%{text}<extra></extra>",
         "legendgroup": "",
         "line": {
          "color": "#F8766D",
          "dash": "solid"
         },
         "marker": {
          "symbol": "circle"
         },
         "mode": "text+markers+lines",
         "name": "",
         "orientation": "v",
         "showlegend": false,
         "text": [
          721,
          644,
          670,
          438
         ],
         "type": "scatter",
         "x": [
          "2023-07",
          "2023-08",
          "2023-09",
          "2023-10"
         ],
         "xaxis": "x",
         "y": [
          721,
          644,
          670,
          438
         ],
         "yaxis": "y"
        }
       ],
       "layout": {
        "legend": {
         "tracegroupgap": 0
        },
        "margin": {
         "t": 60
        },
        "template": {
         "data": {
          "bar": [
           {
            "error_x": {
             "color": "rgb(51,51,51)"
            },
            "error_y": {
             "color": "rgb(51,51,51)"
            },
            "marker": {
             "line": {
              "color": "rgb(237,237,237)",
              "width": 0.5
             },
             "pattern": {
              "fillmode": "overlay",
              "size": 10,
              "solidity": 0.2
             }
            },
            "type": "bar"
           }
          ],
          "barpolar": [
           {
            "marker": {
             "line": {
              "color": "rgb(237,237,237)",
              "width": 0.5
             },
             "pattern": {
              "fillmode": "overlay",
              "size": 10,
              "solidity": 0.2
             }
            },
            "type": "barpolar"
           }
          ],
          "carpet": [
           {
            "aaxis": {
             "endlinecolor": "rgb(51,51,51)",
             "gridcolor": "white",
             "linecolor": "white",
             "minorgridcolor": "white",
             "startlinecolor": "rgb(51,51,51)"
            },
            "baxis": {
             "endlinecolor": "rgb(51,51,51)",
             "gridcolor": "white",
             "linecolor": "white",
             "minorgridcolor": "white",
             "startlinecolor": "rgb(51,51,51)"
            },
            "type": "carpet"
           }
          ],
          "choropleth": [
           {
            "colorbar": {
             "outlinewidth": 0,
             "tickcolor": "rgb(237,237,237)",
             "ticklen": 6,
             "ticks": "inside"
            },
            "type": "choropleth"
           }
          ],
          "contour": [
           {
            "colorbar": {
             "outlinewidth": 0,
             "tickcolor": "rgb(237,237,237)",
             "ticklen": 6,
             "ticks": "inside"
            },
            "colorscale": [
             [
              0,
              "rgb(20,44,66)"
             ],
             [
              1,
              "rgb(90,179,244)"
             ]
            ],
            "type": "contour"
           }
          ],
          "contourcarpet": [
           {
            "colorbar": {
             "outlinewidth": 0,
             "tickcolor": "rgb(237,237,237)",
             "ticklen": 6,
             "ticks": "inside"
            },
            "type": "contourcarpet"
           }
          ],
          "heatmap": [
           {
            "colorbar": {
             "outlinewidth": 0,
             "tickcolor": "rgb(237,237,237)",
             "ticklen": 6,
             "ticks": "inside"
            },
            "colorscale": [
             [
              0,
              "rgb(20,44,66)"
             ],
             [
              1,
              "rgb(90,179,244)"
             ]
            ],
            "type": "heatmap"
           }
          ],
          "heatmapgl": [
           {
            "colorbar": {
             "outlinewidth": 0,
             "tickcolor": "rgb(237,237,237)",
             "ticklen": 6,
             "ticks": "inside"
            },
            "colorscale": [
             [
              0,
              "rgb(20,44,66)"
             ],
             [
              1,
              "rgb(90,179,244)"
             ]
            ],
            "type": "heatmapgl"
           }
          ],
          "histogram": [
           {
            "marker": {
             "pattern": {
              "fillmode": "overlay",
              "size": 10,
              "solidity": 0.2
             }
            },
            "type": "histogram"
           }
          ],
          "histogram2d": [
           {
            "colorbar": {
             "outlinewidth": 0,
             "tickcolor": "rgb(237,237,237)",
             "ticklen": 6,
             "ticks": "inside"
            },
            "colorscale": [
             [
              0,
              "rgb(20,44,66)"
             ],
             [
              1,
              "rgb(90,179,244)"
             ]
            ],
            "type": "histogram2d"
           }
          ],
          "histogram2dcontour": [
           {
            "colorbar": {
             "outlinewidth": 0,
             "tickcolor": "rgb(237,237,237)",
             "ticklen": 6,
             "ticks": "inside"
            },
            "colorscale": [
             [
              0,
              "rgb(20,44,66)"
             ],
             [
              1,
              "rgb(90,179,244)"
             ]
            ],
            "type": "histogram2dcontour"
           }
          ],
          "mesh3d": [
           {
            "colorbar": {
             "outlinewidth": 0,
             "tickcolor": "rgb(237,237,237)",
             "ticklen": 6,
             "ticks": "inside"
            },
            "type": "mesh3d"
           }
          ],
          "parcoords": [
           {
            "line": {
             "colorbar": {
              "outlinewidth": 0,
              "tickcolor": "rgb(237,237,237)",
              "ticklen": 6,
              "ticks": "inside"
             }
            },
            "type": "parcoords"
           }
          ],
          "pie": [
           {
            "automargin": true,
            "type": "pie"
           }
          ],
          "scatter": [
           {
            "fillpattern": {
             "fillmode": "overlay",
             "size": 10,
             "solidity": 0.2
            },
            "type": "scatter"
           }
          ],
          "scatter3d": [
           {
            "line": {
             "colorbar": {
              "outlinewidth": 0,
              "tickcolor": "rgb(237,237,237)",
              "ticklen": 6,
              "ticks": "inside"
             }
            },
            "marker": {
             "colorbar": {
              "outlinewidth": 0,
              "tickcolor": "rgb(237,237,237)",
              "ticklen": 6,
              "ticks": "inside"
             }
            },
            "type": "scatter3d"
           }
          ],
          "scattercarpet": [
           {
            "marker": {
             "colorbar": {
              "outlinewidth": 0,
              "tickcolor": "rgb(237,237,237)",
              "ticklen": 6,
              "ticks": "inside"
             }
            },
            "type": "scattercarpet"
           }
          ],
          "scattergeo": [
           {
            "marker": {
             "colorbar": {
              "outlinewidth": 0,
              "tickcolor": "rgb(237,237,237)",
              "ticklen": 6,
              "ticks": "inside"
             }
            },
            "type": "scattergeo"
           }
          ],
          "scattergl": [
           {
            "marker": {
             "colorbar": {
              "outlinewidth": 0,
              "tickcolor": "rgb(237,237,237)",
              "ticklen": 6,
              "ticks": "inside"
             }
            },
            "type": "scattergl"
           }
          ],
          "scattermapbox": [
           {
            "marker": {
             "colorbar": {
              "outlinewidth": 0,
              "tickcolor": "rgb(237,237,237)",
              "ticklen": 6,
              "ticks": "inside"
             }
            },
            "type": "scattermapbox"
           }
          ],
          "scatterpolar": [
           {
            "marker": {
             "colorbar": {
              "outlinewidth": 0,
              "tickcolor": "rgb(237,237,237)",
              "ticklen": 6,
              "ticks": "inside"
             }
            },
            "type": "scatterpolar"
           }
          ],
          "scatterpolargl": [
           {
            "marker": {
             "colorbar": {
              "outlinewidth": 0,
              "tickcolor": "rgb(237,237,237)",
              "ticklen": 6,
              "ticks": "inside"
             }
            },
            "type": "scatterpolargl"
           }
          ],
          "scatterternary": [
           {
            "marker": {
             "colorbar": {
              "outlinewidth": 0,
              "tickcolor": "rgb(237,237,237)",
              "ticklen": 6,
              "ticks": "inside"
             }
            },
            "type": "scatterternary"
           }
          ],
          "surface": [
           {
            "colorbar": {
             "outlinewidth": 0,
             "tickcolor": "rgb(237,237,237)",
             "ticklen": 6,
             "ticks": "inside"
            },
            "colorscale": [
             [
              0,
              "rgb(20,44,66)"
             ],
             [
              1,
              "rgb(90,179,244)"
             ]
            ],
            "type": "surface"
           }
          ],
          "table": [
           {
            "cells": {
             "fill": {
              "color": "rgb(237,237,237)"
             },
             "line": {
              "color": "white"
             }
            },
            "header": {
             "fill": {
              "color": "rgb(217,217,217)"
             },
             "line": {
              "color": "white"
             }
            },
            "type": "table"
           }
          ]
         },
         "layout": {
          "annotationdefaults": {
           "arrowhead": 0,
           "arrowwidth": 1
          },
          "autotypenumbers": "strict",
          "coloraxis": {
           "colorbar": {
            "outlinewidth": 0,
            "tickcolor": "rgb(237,237,237)",
            "ticklen": 6,
            "ticks": "inside"
           }
          },
          "colorscale": {
           "sequential": [
            [
             0,
             "rgb(20,44,66)"
            ],
            [
             1,
             "rgb(90,179,244)"
            ]
           ],
           "sequentialminus": [
            [
             0,
             "rgb(20,44,66)"
            ],
            [
             1,
             "rgb(90,179,244)"
            ]
           ]
          },
          "colorway": [
           "#F8766D",
           "#A3A500",
           "#00BF7D",
           "#00B0F6",
           "#E76BF3"
          ],
          "font": {
           "color": "rgb(51,51,51)"
          },
          "geo": {
           "bgcolor": "white",
           "lakecolor": "white",
           "landcolor": "rgb(237,237,237)",
           "showlakes": true,
           "showland": true,
           "subunitcolor": "white"
          },
          "hoverlabel": {
           "align": "left"
          },
          "hovermode": "closest",
          "paper_bgcolor": "white",
          "plot_bgcolor": "rgb(237,237,237)",
          "polar": {
           "angularaxis": {
            "gridcolor": "white",
            "linecolor": "white",
            "showgrid": true,
            "tickcolor": "rgb(51,51,51)",
            "ticks": "outside"
           },
           "bgcolor": "rgb(237,237,237)",
           "radialaxis": {
            "gridcolor": "white",
            "linecolor": "white",
            "showgrid": true,
            "tickcolor": "rgb(51,51,51)",
            "ticks": "outside"
           }
          },
          "scene": {
           "xaxis": {
            "backgroundcolor": "rgb(237,237,237)",
            "gridcolor": "white",
            "gridwidth": 2,
            "linecolor": "white",
            "showbackground": true,
            "showgrid": true,
            "tickcolor": "rgb(51,51,51)",
            "ticks": "outside",
            "zerolinecolor": "white"
           },
           "yaxis": {
            "backgroundcolor": "rgb(237,237,237)",
            "gridcolor": "white",
            "gridwidth": 2,
            "linecolor": "white",
            "showbackground": true,
            "showgrid": true,
            "tickcolor": "rgb(51,51,51)",
            "ticks": "outside",
            "zerolinecolor": "white"
           },
           "zaxis": {
            "backgroundcolor": "rgb(237,237,237)",
            "gridcolor": "white",
            "gridwidth": 2,
            "linecolor": "white",
            "showbackground": true,
            "showgrid": true,
            "tickcolor": "rgb(51,51,51)",
            "ticks": "outside",
            "zerolinecolor": "white"
           }
          },
          "shapedefaults": {
           "fillcolor": "black",
           "line": {
            "width": 0
           },
           "opacity": 0.3
          },
          "ternary": {
           "aaxis": {
            "gridcolor": "white",
            "linecolor": "white",
            "showgrid": true,
            "tickcolor": "rgb(51,51,51)",
            "ticks": "outside"
           },
           "baxis": {
            "gridcolor": "white",
            "linecolor": "white",
            "showgrid": true,
            "tickcolor": "rgb(51,51,51)",
            "ticks": "outside"
           },
           "bgcolor": "rgb(237,237,237)",
           "caxis": {
            "gridcolor": "white",
            "linecolor": "white",
            "showgrid": true,
            "tickcolor": "rgb(51,51,51)",
            "ticks": "outside"
           }
          },
          "xaxis": {
           "automargin": true,
           "gridcolor": "white",
           "linecolor": "white",
           "showgrid": true,
           "tickcolor": "rgb(51,51,51)",
           "ticks": "outside",
           "title": {
            "standoff": 15
           },
           "zerolinecolor": "white"
          },
          "yaxis": {
           "automargin": true,
           "gridcolor": "white",
           "linecolor": "white",
           "showgrid": true,
           "tickcolor": "rgb(51,51,51)",
           "ticks": "outside",
           "title": {
            "standoff": 15
           },
           "zerolinecolor": "white"
          }
         }
        },
        "xaxis": {
         "anchor": "y",
         "domain": [
          0,
          1
         ],
         "dtick": "M1",
         "tickformat": "%B\n%Y",
         "title": {
          "text": "Review Date"
         }
        },
        "yaxis": {
         "anchor": "x",
         "domain": [
          0,
          1
         ],
         "title": {
          "text": "Reviews"
         }
        }
       }
      }
     },
     "metadata": {},
     "output_type": "display_data"
    }
   ],
   "source": [
    "mask = df[\"score\"] == 4\n",
    "fig = px.line(df[mask].groupby('at_ym', as_index=False).sum('Reviews'), \n",
    "       y='Reviews', \n",
    "       x='at_ym',\n",
    "       title=\"Monthly Number of Reviews\"\n",
    "       text='Reviews',\n",
    "       labels={'at_ym': 'Review Date'},\n",
    "       template='ggplot2',\n",
    "       hover_data={\"at_ym\": \"|%B %d, %Y\"},)\n",
    "fig.update_xaxes(\n",
    "    dtick=\"M1\",\n",
    "    tickformat=\"%B\\n%Y\")\n",
    "fig.show()"
   ]
  },
  {
   "cell_type": "code",
   "execution_count": 15,
   "metadata": {},
   "outputs": [
    {
     "data": {
      "application/vnd.plotly.v1+json": {
       "config": {
        "plotlyServerURL": "https://plot.ly"
       },
       "data": [
        {
         "hovertemplate": "appVersion=1.0.0016<br>at=%{x|%B %d, %Y}<br>Reviews=%{y}<extra></extra>",
         "legendgroup": "1.0.0016",
         "line": {
          "color": "#F8766D",
          "dash": "solid"
         },
         "marker": {
          "symbol": "circle"
         },
         "mode": "lines",
         "name": "1.0.0016",
         "orientation": "v",
         "showlegend": true,
         "type": "scatter",
         "x": [
          "2023-07-25",
          "2023-07-26",
          "2023-07-27",
          "2023-07-28",
          "2023-07-29",
          "2023-07-30",
          "2023-07-31",
          "2023-08-01",
          "2023-08-10",
          "2023-08-13",
          "2023-08-15"
         ],
         "xaxis": "x",
         "y": [
          224,
          33,
          5,
          1,
          2,
          1,
          1,
          1,
          1,
          1,
          1
         ],
         "yaxis": "y"
        },
        {
         "hovertemplate": "appVersion=1.0.0022<br>at=%{x|%B %d, %Y}<br>Reviews=%{y}<extra></extra>",
         "legendgroup": "1.0.0022",
         "line": {
          "color": "#A3A500",
          "dash": "solid"
         },
         "marker": {
          "symbol": "circle"
         },
         "mode": "lines",
         "name": "1.0.0022",
         "orientation": "v",
         "showlegend": true,
         "type": "scatter",
         "x": [
          "2023-07-25",
          "2023-07-26",
          "2023-07-27",
          "2023-07-28",
          "2023-07-30",
          "2023-08-01",
          "2023-08-03"
         ],
         "xaxis": "x",
         "y": [
          2,
          139,
          16,
          4,
          1,
          1,
          1
         ],
         "yaxis": "y"
        },
        {
         "hovertemplate": "appVersion=1.0.0023<br>at=%{x|%B %d, %Y}<br>Reviews=%{y}<extra></extra>",
         "legendgroup": "1.0.0023",
         "line": {
          "color": "#00BF7D",
          "dash": "solid"
         },
         "marker": {
          "symbol": "circle"
         },
         "mode": "lines",
         "name": "1.0.0023",
         "orientation": "v",
         "showlegend": true,
         "type": "scatter",
         "x": [
          "2023-07-26",
          "2023-07-27",
          "2023-07-28",
          "2023-07-29",
          "2023-07-30",
          "2023-07-31",
          "2023-08-01",
          "2023-08-02",
          "2023-08-03",
          "2023-08-04",
          "2023-08-05",
          "2023-08-09",
          "2023-08-19",
          "2023-08-22",
          "2023-08-24",
          "2023-08-29",
          "2023-09-08",
          "2023-09-09",
          "2023-09-22",
          "2023-09-24"
         ],
         "xaxis": "x",
         "y": [
          4,
          60,
          48,
          22,
          10,
          49,
          63,
          23,
          8,
          3,
          2,
          1,
          1,
          1,
          1,
          1,
          1,
          1,
          1,
          1
         ],
         "yaxis": "y"
        },
        {
         "hovertemplate": "appVersion=1.0.0026<br>at=%{x|%B %d, %Y}<br>Reviews=%{y}<extra></extra>",
         "legendgroup": "1.0.0026",
         "line": {
          "color": "#00B0F6",
          "dash": "solid"
         },
         "marker": {
          "symbol": "circle"
         },
         "mode": "lines",
         "name": "1.0.0026",
         "orientation": "v",
         "showlegend": true,
         "type": "scatter",
         "x": [
          "2023-08-01",
          "2023-08-02",
          "2023-08-03",
          "2023-08-04",
          "2023-08-05",
          "2023-08-06",
          "2023-08-07",
          "2023-08-08",
          "2023-08-09",
          "2023-08-10",
          "2023-08-12",
          "2023-08-29",
          "2023-09-24"
         ],
         "xaxis": "x",
         "y": [
          1,
          6,
          11,
          8,
          8,
          5,
          10,
          4,
          9,
          3,
          1,
          1,
          1
         ],
         "yaxis": "y"
        },
        {
         "hovertemplate": "appVersion=1.0.0030<br>at=%{x|%B %d, %Y}<br>Reviews=%{y}<extra></extra>",
         "legendgroup": "1.0.0030",
         "line": {
          "color": "#E76BF3",
          "dash": "solid"
         },
         "marker": {
          "symbol": "circle"
         },
         "mode": "lines",
         "name": "1.0.0030",
         "orientation": "v",
         "showlegend": true,
         "type": "scatter",
         "x": [
          "2023-08-09",
          "2023-08-10",
          "2023-08-11",
          "2023-08-12",
          "2023-08-13",
          "2023-08-16",
          "2023-08-18",
          "2023-08-23",
          "2023-08-24",
          "2023-08-30",
          "2023-09-25"
         ],
         "xaxis": "x",
         "y": [
          11,
          20,
          4,
          3,
          3,
          2,
          1,
          1,
          1,
          1,
          1
         ],
         "yaxis": "y"
        },
        {
         "hovertemplate": "appVersion=1.0.0031<br>at=%{x|%B %d, %Y}<br>Reviews=%{y}<extra></extra>",
         "legendgroup": "1.0.0031",
         "line": {
          "color": "#F8766D",
          "dash": "solid"
         },
         "marker": {
          "symbol": "circle"
         },
         "mode": "lines",
         "name": "1.0.0031",
         "orientation": "v",
         "showlegend": true,
         "type": "scatter",
         "x": [
          "2023-08-10",
          "2023-08-11",
          "2023-08-12",
          "2023-08-13",
          "2023-08-14",
          "2023-08-15",
          "2023-08-16",
          "2023-08-17",
          "2023-08-18",
          "2023-08-19",
          "2023-08-20",
          "2023-08-21",
          "2023-08-27",
          "2023-08-28",
          "2023-08-30",
          "2023-09-01"
         ],
         "xaxis": "x",
         "y": [
          1,
          10,
          11,
          7,
          9,
          9,
          4,
          1,
          1,
          2,
          1,
          1,
          2,
          1,
          1,
          1
         ],
         "yaxis": "y"
        },
        {
         "hovertemplate": "appVersion=1.0.0032<br>at=%{x|%B %d, %Y}<br>Reviews=%{y}<extra></extra>",
         "legendgroup": "1.0.0032",
         "line": {
          "color": "#A3A500",
          "dash": "solid"
         },
         "marker": {
          "symbol": "circle"
         },
         "mode": "lines",
         "name": "1.0.0032",
         "orientation": "v",
         "showlegend": true,
         "type": "scatter",
         "x": [
          "2023-08-12",
          "2023-08-13",
          "2023-08-14",
          "2023-08-15",
          "2023-08-16",
          "2023-08-17",
          "2023-08-18",
          "2023-08-19",
          "2023-08-20",
          "2023-08-21",
          "2023-08-22",
          "2023-08-23",
          "2023-08-24",
          "2023-08-25",
          "2023-08-26",
          "2023-08-27",
          "2023-08-29",
          "2023-08-31",
          "2023-09-03",
          "2023-09-04",
          "2023-09-07",
          "2023-09-12",
          "2023-09-14",
          "2023-09-18",
          "2023-09-23",
          "2023-09-26",
          "2023-09-27"
         ],
         "xaxis": "x",
         "y": [
          3,
          5,
          3,
          9,
          8,
          21,
          14,
          13,
          15,
          13,
          11,
          8,
          4,
          6,
          2,
          1,
          1,
          1,
          1,
          1,
          1,
          1,
          1,
          1,
          1,
          1,
          1
         ],
         "yaxis": "y"
        },
        {
         "hovertemplate": "appVersion=1.0.0035<br>at=%{x|%B %d, %Y}<br>Reviews=%{y}<extra></extra>",
         "legendgroup": "1.0.0035",
         "line": {
          "color": "#00BF7D",
          "dash": "solid"
         },
         "marker": {
          "symbol": "circle"
         },
         "mode": "lines",
         "name": "1.0.0035",
         "orientation": "v",
         "showlegend": true,
         "type": "scatter",
         "x": [
          "2023-08-21",
          "2023-08-22",
          "2023-08-23",
          "2023-08-24",
          "2023-08-25",
          "2023-08-26",
          "2023-08-27",
          "2023-08-28",
          "2023-08-29",
          "2023-09-01",
          "2023-09-02",
          "2023-09-03",
          "2023-09-04",
          "2023-09-10",
          "2023-09-11",
          "2023-09-12",
          "2023-09-14",
          "2023-09-17",
          "2023-09-18",
          "2023-09-21",
          "2023-09-23",
          "2023-09-25",
          "2023-09-27",
          "2023-09-30",
          "2023-10-03",
          "2023-10-04",
          "2023-10-05",
          "2023-10-09",
          "2023-10-11"
         ],
         "xaxis": "x",
         "y": [
          1,
          5,
          10,
          11,
          14,
          21,
          23,
          18,
          19,
          3,
          2,
          2,
          1,
          3,
          1,
          2,
          2,
          1,
          2,
          2,
          1,
          1,
          2,
          1,
          1,
          1,
          2,
          1,
          1
         ],
         "yaxis": "y"
        },
        {
         "hovertemplate": "appVersion=1.0.0039<br>at=%{x|%B %d, %Y}<br>Reviews=%{y}<extra></extra>",
         "legendgroup": "1.0.0039",
         "line": {
          "color": "#00B0F6",
          "dash": "solid"
         },
         "marker": {
          "symbol": "circle"
         },
         "mode": "lines",
         "name": "1.0.0039",
         "orientation": "v",
         "showlegend": true,
         "type": "scatter",
         "x": [
          "2023-08-28",
          "2023-08-29",
          "2023-08-30",
          "2023-08-31",
          "2023-09-01",
          "2023-09-02",
          "2023-09-03",
          "2023-09-04",
          "2023-09-05",
          "2023-09-06",
          "2023-09-07",
          "2023-09-08",
          "2023-09-09",
          "2023-09-10",
          "2023-09-11",
          "2023-09-12",
          "2023-09-13",
          "2023-09-14",
          "2023-09-15",
          "2023-09-17",
          "2023-09-18",
          "2023-09-19",
          "2023-09-20",
          "2023-09-23",
          "2023-09-27",
          "2023-09-28",
          "2023-09-29",
          "2023-09-30",
          "2023-10-04",
          "2023-10-05",
          "2023-10-06",
          "2023-10-08",
          "2023-10-09",
          "2023-10-11",
          "2023-10-13",
          "2023-10-14",
          "2023-10-19"
         ],
         "xaxis": "x",
         "y": [
          1,
          7,
          13,
          19,
          20,
          19,
          21,
          23,
          18,
          18,
          5,
          8,
          5,
          4,
          5,
          3,
          4,
          5,
          3,
          1,
          1,
          4,
          1,
          2,
          1,
          2,
          1,
          1,
          1,
          1,
          1,
          1,
          1,
          1,
          1,
          1,
          1
         ],
         "yaxis": "y"
        },
        {
         "hovertemplate": "appVersion=1.2023.242<br>at=%{x|%B %d, %Y}<br>Reviews=%{y}<extra></extra>",
         "legendgroup": "1.2023.242",
         "line": {
          "color": "#E76BF3",
          "dash": "solid"
         },
         "marker": {
          "symbol": "circle"
         },
         "mode": "lines",
         "name": "1.2023.242",
         "orientation": "v",
         "showlegend": true,
         "type": "scatter",
         "x": [
          "2023-09-06",
          "2023-09-07",
          "2023-09-08",
          "2023-09-09",
          "2023-09-10",
          "2023-09-11",
          "2023-09-12",
          "2023-09-13",
          "2023-09-14",
          "2023-09-15",
          "2023-09-16",
          "2023-09-17",
          "2023-09-18",
          "2023-09-19",
          "2023-09-21",
          "2023-09-22",
          "2023-09-24",
          "2023-09-26",
          "2023-09-27",
          "2023-09-30",
          "2023-10-01",
          "2023-10-09",
          "2023-10-12"
         ],
         "xaxis": "x",
         "y": [
          8,
          23,
          12,
          11,
          19,
          18,
          14,
          9,
          6,
          1,
          4,
          1,
          2,
          1,
          1,
          2,
          1,
          1,
          2,
          1,
          1,
          1,
          1
         ],
         "yaxis": "y"
        },
        {
         "hovertemplate": "appVersion=1.2023.243<br>at=%{x|%B %d, %Y}<br>Reviews=%{y}<extra></extra>",
         "legendgroup": "1.2023.243",
         "line": {
          "color": "#F8766D",
          "dash": "solid"
         },
         "marker": {
          "symbol": "circle"
         },
         "mode": "lines",
         "name": "1.2023.243",
         "orientation": "v",
         "showlegend": true,
         "type": "scatter",
         "x": [
          "2023-09-12",
          "2023-09-13",
          "2023-09-14",
          "2023-09-15",
          "2023-09-16",
          "2023-09-17",
          "2023-09-18",
          "2023-09-19",
          "2023-09-20",
          "2023-09-21"
         ],
         "xaxis": "x",
         "y": [
          7,
          9,
          8,
          6,
          15,
          13,
          15,
          17,
          7,
          1
         ],
         "yaxis": "y"
        },
        {
         "hovertemplate": "appVersion=1.2023.256<br>at=%{x|%B %d, %Y}<br>Reviews=%{y}<extra></extra>",
         "legendgroup": "1.2023.256",
         "line": {
          "color": "#A3A500",
          "dash": "solid"
         },
         "marker": {
          "symbol": "circle"
         },
         "mode": "lines",
         "name": "1.2023.256",
         "orientation": "v",
         "showlegend": true,
         "type": "scatter",
         "x": [
          "2023-09-19",
          "2023-09-20",
          "2023-09-21",
          "2023-09-22",
          "2023-09-23",
          "2023-09-24",
          "2023-09-25",
          "2023-09-26",
          "2023-09-27",
          "2023-09-28",
          "2023-10-01",
          "2023-10-02",
          "2023-10-03",
          "2023-10-07",
          "2023-10-09",
          "2023-10-11"
         ],
         "xaxis": "x",
         "y": [
          1,
          4,
          5,
          15,
          11,
          3,
          2,
          4,
          3,
          1,
          2,
          1,
          1,
          1,
          1,
          1
         ],
         "yaxis": "y"
        },
        {
         "hovertemplate": "appVersion=1.2023.263<br>at=%{x|%B %d, %Y}<br>Reviews=%{y}<extra></extra>",
         "legendgroup": "1.2023.263",
         "line": {
          "color": "#00BF7D",
          "dash": "solid"
         },
         "marker": {
          "symbol": "circle"
         },
         "mode": "lines",
         "name": "1.2023.263",
         "orientation": "v",
         "showlegend": true,
         "type": "scatter",
         "x": [
          "2023-09-23",
          "2023-09-24",
          "2023-09-25",
          "2023-09-26",
          "2023-09-27",
          "2023-09-28",
          "2023-09-29",
          "2023-09-30",
          "2023-10-01",
          "2023-10-02",
          "2023-10-03",
          "2023-10-04",
          "2023-10-05",
          "2023-10-06",
          "2023-10-07",
          "2023-10-08",
          "2023-10-09",
          "2023-10-10",
          "2023-10-11",
          "2023-10-12",
          "2023-10-13",
          "2023-10-14",
          "2023-10-15",
          "2023-10-16",
          "2023-10-17",
          "2023-10-18",
          "2023-10-19",
          "2023-10-20"
         ],
         "xaxis": "x",
         "y": [
          2,
          9,
          21,
          14,
          20,
          18,
          15,
          10,
          24,
          15,
          10,
          19,
          14,
          6,
          15,
          16,
          19,
          16,
          21,
          26,
          13,
          10,
          2,
          1,
          2,
          2,
          4,
          3
         ],
         "yaxis": "y"
        },
        {
         "hovertemplate": "appVersion=1.2023.275<br>at=%{x|%B %d, %Y}<br>Reviews=%{y}<extra></extra>",
         "legendgroup": "1.2023.275",
         "line": {
          "color": "#00B0F6",
          "dash": "solid"
         },
         "marker": {
          "symbol": "circle"
         },
         "mode": "lines",
         "name": "1.2023.275",
         "orientation": "v",
         "showlegend": true,
         "type": "scatter",
         "x": [
          "2023-10-04"
         ],
         "xaxis": "x",
         "y": [
          1
         ],
         "yaxis": "y"
        },
        {
         "hovertemplate": "appVersion=1.2023.278<br>at=%{x|%B %d, %Y}<br>Reviews=%{y}<extra></extra>",
         "legendgroup": "1.2023.278",
         "line": {
          "color": "#E76BF3",
          "dash": "solid"
         },
         "marker": {
          "symbol": "circle"
         },
         "mode": "lines",
         "name": "1.2023.278",
         "orientation": "v",
         "showlegend": true,
         "type": "scatter",
         "x": [
          "2023-10-05",
          "2023-10-08",
          "2023-10-10"
         ],
         "xaxis": "x",
         "y": [
          1,
          1,
          1
         ],
         "yaxis": "y"
        },
        {
         "hovertemplate": "appVersion=1.2023.281<br>at=%{x|%B %d, %Y}<br>Reviews=%{y}<extra></extra>",
         "legendgroup": "1.2023.281",
         "line": {
          "color": "#F8766D",
          "dash": "solid"
         },
         "marker": {
          "symbol": "circle"
         },
         "mode": "lines",
         "name": "1.2023.281",
         "orientation": "v",
         "showlegend": true,
         "type": "scatter",
         "x": [
          "2023-10-11",
          "2023-10-12",
          "2023-10-13",
          "2023-10-14",
          "2023-10-15",
          "2023-10-16",
          "2023-10-17",
          "2023-10-18"
         ],
         "xaxis": "x",
         "y": [
          1,
          2,
          4,
          8,
          9,
          16,
          22,
          11
         ],
         "yaxis": "y"
        },
        {
         "hovertemplate": "appVersion=1.2023.284<br>at=%{x|%B %d, %Y}<br>Reviews=%{y}<extra></extra>",
         "legendgroup": "1.2023.284",
         "line": {
          "color": "#A3A500",
          "dash": "solid"
         },
         "marker": {
          "symbol": "circle"
         },
         "mode": "lines",
         "name": "1.2023.284",
         "orientation": "v",
         "showlegend": true,
         "type": "scatter",
         "x": [
          "2023-10-17",
          "2023-10-18",
          "2023-10-19",
          "2023-10-20",
          "2023-10-21",
          "2023-10-22"
         ],
         "xaxis": "x",
         "y": [
          2,
          1,
          10,
          8,
          17,
          10
         ],
         "yaxis": "y"
        }
       ],
       "layout": {
        "legend": {
         "title": {
          "text": "appVersion"
         },
         "tracegroupgap": 0
        },
        "margin": {
         "t": 60
        },
        "template": {
         "data": {
          "bar": [
           {
            "error_x": {
             "color": "rgb(51,51,51)"
            },
            "error_y": {
             "color": "rgb(51,51,51)"
            },
            "marker": {
             "line": {
              "color": "rgb(237,237,237)",
              "width": 0.5
             },
             "pattern": {
              "fillmode": "overlay",
              "size": 10,
              "solidity": 0.2
             }
            },
            "type": "bar"
           }
          ],
          "barpolar": [
           {
            "marker": {
             "line": {
              "color": "rgb(237,237,237)",
              "width": 0.5
             },
             "pattern": {
              "fillmode": "overlay",
              "size": 10,
              "solidity": 0.2
             }
            },
            "type": "barpolar"
           }
          ],
          "carpet": [
           {
            "aaxis": {
             "endlinecolor": "rgb(51,51,51)",
             "gridcolor": "white",
             "linecolor": "white",
             "minorgridcolor": "white",
             "startlinecolor": "rgb(51,51,51)"
            },
            "baxis": {
             "endlinecolor": "rgb(51,51,51)",
             "gridcolor": "white",
             "linecolor": "white",
             "minorgridcolor": "white",
             "startlinecolor": "rgb(51,51,51)"
            },
            "type": "carpet"
           }
          ],
          "choropleth": [
           {
            "colorbar": {
             "outlinewidth": 0,
             "tickcolor": "rgb(237,237,237)",
             "ticklen": 6,
             "ticks": "inside"
            },
            "type": "choropleth"
           }
          ],
          "contour": [
           {
            "colorbar": {
             "outlinewidth": 0,
             "tickcolor": "rgb(237,237,237)",
             "ticklen": 6,
             "ticks": "inside"
            },
            "colorscale": [
             [
              0,
              "rgb(20,44,66)"
             ],
             [
              1,
              "rgb(90,179,244)"
             ]
            ],
            "type": "contour"
           }
          ],
          "contourcarpet": [
           {
            "colorbar": {
             "outlinewidth": 0,
             "tickcolor": "rgb(237,237,237)",
             "ticklen": 6,
             "ticks": "inside"
            },
            "type": "contourcarpet"
           }
          ],
          "heatmap": [
           {
            "colorbar": {
             "outlinewidth": 0,
             "tickcolor": "rgb(237,237,237)",
             "ticklen": 6,
             "ticks": "inside"
            },
            "colorscale": [
             [
              0,
              "rgb(20,44,66)"
             ],
             [
              1,
              "rgb(90,179,244)"
             ]
            ],
            "type": "heatmap"
           }
          ],
          "heatmapgl": [
           {
            "colorbar": {
             "outlinewidth": 0,
             "tickcolor": "rgb(237,237,237)",
             "ticklen": 6,
             "ticks": "inside"
            },
            "colorscale": [
             [
              0,
              "rgb(20,44,66)"
             ],
             [
              1,
              "rgb(90,179,244)"
             ]
            ],
            "type": "heatmapgl"
           }
          ],
          "histogram": [
           {
            "marker": {
             "pattern": {
              "fillmode": "overlay",
              "size": 10,
              "solidity": 0.2
             }
            },
            "type": "histogram"
           }
          ],
          "histogram2d": [
           {
            "colorbar": {
             "outlinewidth": 0,
             "tickcolor": "rgb(237,237,237)",
             "ticklen": 6,
             "ticks": "inside"
            },
            "colorscale": [
             [
              0,
              "rgb(20,44,66)"
             ],
             [
              1,
              "rgb(90,179,244)"
             ]
            ],
            "type": "histogram2d"
           }
          ],
          "histogram2dcontour": [
           {
            "colorbar": {
             "outlinewidth": 0,
             "tickcolor": "rgb(237,237,237)",
             "ticklen": 6,
             "ticks": "inside"
            },
            "colorscale": [
             [
              0,
              "rgb(20,44,66)"
             ],
             [
              1,
              "rgb(90,179,244)"
             ]
            ],
            "type": "histogram2dcontour"
           }
          ],
          "mesh3d": [
           {
            "colorbar": {
             "outlinewidth": 0,
             "tickcolor": "rgb(237,237,237)",
             "ticklen": 6,
             "ticks": "inside"
            },
            "type": "mesh3d"
           }
          ],
          "parcoords": [
           {
            "line": {
             "colorbar": {
              "outlinewidth": 0,
              "tickcolor": "rgb(237,237,237)",
              "ticklen": 6,
              "ticks": "inside"
             }
            },
            "type": "parcoords"
           }
          ],
          "pie": [
           {
            "automargin": true,
            "type": "pie"
           }
          ],
          "scatter": [
           {
            "fillpattern": {
             "fillmode": "overlay",
             "size": 10,
             "solidity": 0.2
            },
            "type": "scatter"
           }
          ],
          "scatter3d": [
           {
            "line": {
             "colorbar": {
              "outlinewidth": 0,
              "tickcolor": "rgb(237,237,237)",
              "ticklen": 6,
              "ticks": "inside"
             }
            },
            "marker": {
             "colorbar": {
              "outlinewidth": 0,
              "tickcolor": "rgb(237,237,237)",
              "ticklen": 6,
              "ticks": "inside"
             }
            },
            "type": "scatter3d"
           }
          ],
          "scattercarpet": [
           {
            "marker": {
             "colorbar": {
              "outlinewidth": 0,
              "tickcolor": "rgb(237,237,237)",
              "ticklen": 6,
              "ticks": "inside"
             }
            },
            "type": "scattercarpet"
           }
          ],
          "scattergeo": [
           {
            "marker": {
             "colorbar": {
              "outlinewidth": 0,
              "tickcolor": "rgb(237,237,237)",
              "ticklen": 6,
              "ticks": "inside"
             }
            },
            "type": "scattergeo"
           }
          ],
          "scattergl": [
           {
            "marker": {
             "colorbar": {
              "outlinewidth": 0,
              "tickcolor": "rgb(237,237,237)",
              "ticklen": 6,
              "ticks": "inside"
             }
            },
            "type": "scattergl"
           }
          ],
          "scattermapbox": [
           {
            "marker": {
             "colorbar": {
              "outlinewidth": 0,
              "tickcolor": "rgb(237,237,237)",
              "ticklen": 6,
              "ticks": "inside"
             }
            },
            "type": "scattermapbox"
           }
          ],
          "scatterpolar": [
           {
            "marker": {
             "colorbar": {
              "outlinewidth": 0,
              "tickcolor": "rgb(237,237,237)",
              "ticklen": 6,
              "ticks": "inside"
             }
            },
            "type": "scatterpolar"
           }
          ],
          "scatterpolargl": [
           {
            "marker": {
             "colorbar": {
              "outlinewidth": 0,
              "tickcolor": "rgb(237,237,237)",
              "ticklen": 6,
              "ticks": "inside"
             }
            },
            "type": "scatterpolargl"
           }
          ],
          "scatterternary": [
           {
            "marker": {
             "colorbar": {
              "outlinewidth": 0,
              "tickcolor": "rgb(237,237,237)",
              "ticklen": 6,
              "ticks": "inside"
             }
            },
            "type": "scatterternary"
           }
          ],
          "surface": [
           {
            "colorbar": {
             "outlinewidth": 0,
             "tickcolor": "rgb(237,237,237)",
             "ticklen": 6,
             "ticks": "inside"
            },
            "colorscale": [
             [
              0,
              "rgb(20,44,66)"
             ],
             [
              1,
              "rgb(90,179,244)"
             ]
            ],
            "type": "surface"
           }
          ],
          "table": [
           {
            "cells": {
             "fill": {
              "color": "rgb(237,237,237)"
             },
             "line": {
              "color": "white"
             }
            },
            "header": {
             "fill": {
              "color": "rgb(217,217,217)"
             },
             "line": {
              "color": "white"
             }
            },
            "type": "table"
           }
          ]
         },
         "layout": {
          "annotationdefaults": {
           "arrowhead": 0,
           "arrowwidth": 1
          },
          "autotypenumbers": "strict",
          "coloraxis": {
           "colorbar": {
            "outlinewidth": 0,
            "tickcolor": "rgb(237,237,237)",
            "ticklen": 6,
            "ticks": "inside"
           }
          },
          "colorscale": {
           "sequential": [
            [
             0,
             "rgb(20,44,66)"
            ],
            [
             1,
             "rgb(90,179,244)"
            ]
           ],
           "sequentialminus": [
            [
             0,
             "rgb(20,44,66)"
            ],
            [
             1,
             "rgb(90,179,244)"
            ]
           ]
          },
          "colorway": [
           "#F8766D",
           "#A3A500",
           "#00BF7D",
           "#00B0F6",
           "#E76BF3"
          ],
          "font": {
           "color": "rgb(51,51,51)"
          },
          "geo": {
           "bgcolor": "white",
           "lakecolor": "white",
           "landcolor": "rgb(237,237,237)",
           "showlakes": true,
           "showland": true,
           "subunitcolor": "white"
          },
          "hoverlabel": {
           "align": "left"
          },
          "hovermode": "closest",
          "paper_bgcolor": "white",
          "plot_bgcolor": "rgb(237,237,237)",
          "polar": {
           "angularaxis": {
            "gridcolor": "white",
            "linecolor": "white",
            "showgrid": true,
            "tickcolor": "rgb(51,51,51)",
            "ticks": "outside"
           },
           "bgcolor": "rgb(237,237,237)",
           "radialaxis": {
            "gridcolor": "white",
            "linecolor": "white",
            "showgrid": true,
            "tickcolor": "rgb(51,51,51)",
            "ticks": "outside"
           }
          },
          "scene": {
           "xaxis": {
            "backgroundcolor": "rgb(237,237,237)",
            "gridcolor": "white",
            "gridwidth": 2,
            "linecolor": "white",
            "showbackground": true,
            "showgrid": true,
            "tickcolor": "rgb(51,51,51)",
            "ticks": "outside",
            "zerolinecolor": "white"
           },
           "yaxis": {
            "backgroundcolor": "rgb(237,237,237)",
            "gridcolor": "white",
            "gridwidth": 2,
            "linecolor": "white",
            "showbackground": true,
            "showgrid": true,
            "tickcolor": "rgb(51,51,51)",
            "ticks": "outside",
            "zerolinecolor": "white"
           },
           "zaxis": {
            "backgroundcolor": "rgb(237,237,237)",
            "gridcolor": "white",
            "gridwidth": 2,
            "linecolor": "white",
            "showbackground": true,
            "showgrid": true,
            "tickcolor": "rgb(51,51,51)",
            "ticks": "outside",
            "zerolinecolor": "white"
           }
          },
          "shapedefaults": {
           "fillcolor": "black",
           "line": {
            "width": 0
           },
           "opacity": 0.3
          },
          "ternary": {
           "aaxis": {
            "gridcolor": "white",
            "linecolor": "white",
            "showgrid": true,
            "tickcolor": "rgb(51,51,51)",
            "ticks": "outside"
           },
           "baxis": {
            "gridcolor": "white",
            "linecolor": "white",
            "showgrid": true,
            "tickcolor": "rgb(51,51,51)",
            "ticks": "outside"
           },
           "bgcolor": "rgb(237,237,237)",
           "caxis": {
            "gridcolor": "white",
            "linecolor": "white",
            "showgrid": true,
            "tickcolor": "rgb(51,51,51)",
            "ticks": "outside"
           }
          },
          "xaxis": {
           "automargin": true,
           "gridcolor": "white",
           "linecolor": "white",
           "showgrid": true,
           "tickcolor": "rgb(51,51,51)",
           "ticks": "outside",
           "title": {
            "standoff": 15
           },
           "zerolinecolor": "white"
          },
          "yaxis": {
           "automargin": true,
           "gridcolor": "white",
           "linecolor": "white",
           "showgrid": true,
           "tickcolor": "rgb(51,51,51)",
           "ticks": "outside",
           "title": {
            "standoff": 15
           },
           "zerolinecolor": "white"
          }
         }
        },
        "xaxis": {
         "anchor": "y",
         "domain": [
          0,
          1
         ],
         "dtick": "M1",
         "tickformat": "%d.%B\n%Y",
         "title": {
          "text": "at"
         }
        },
        "yaxis": {
         "anchor": "x",
         "domain": [
          0,
          1
         ],
         "title": {
          "text": "Reviews"
         }
        }
       }
      }
     },
     "metadata": {},
     "output_type": "display_data"
    }
   ],
   "source": [
    "mask = df[\"score\"] == 4\n",
    "fig = px.line(df[mask].groupby(['at', 'appVersion'], as_index=False).sum('Reviews'), \n",
    "       y='Reviews', \n",
    "       x='at',\n",
    "       title=\"Daily Number of Reviews by AppVersion\"\n",
    "       labels={'at_ym': 'Review Date'},\n",
    "       template='ggplot2',\n",
    "       hover_data={\"at\": \"|%B %d, %Y\"},\n",
    "       color='appVersion')\n",
    "fig.update_xaxes(\n",
    "    dtick=\"M1\",\n",
    "    tickformat=\"%d.%B\\n%Y\")\n",
    "fig.show()"
   ]
  },
  {
   "cell_type": "code",
   "execution_count": 43,
   "metadata": {},
   "outputs": [
    {
     "data": {
      "application/vnd.plotly.v1+json": {
       "config": {
        "plotlyServerURL": "https://plot.ly"
       },
       "data": [
        {
         "hovertemplate": "appVersion=1.0.0016<br>at=%{x}<br>Reviews=%{y}<extra></extra>",
         "legendgroup": "1.0.0016",
         "line": {
          "color": "#636efa",
          "dash": "solid"
         },
         "marker": {
          "symbol": "circle"
         },
         "mode": "lines",
         "name": "1.0.0016",
         "orientation": "h",
         "showlegend": true,
         "type": "scatter",
         "x": [
          "2023-07-25",
          "2023-07-26",
          "2023-07-27",
          "2023-07-28",
          "2023-07-29",
          "2023-07-30",
          "2023-07-31",
          "2023-08-01",
          "2023-08-10",
          "2023-08-13",
          "2023-08-15"
         ],
         "xaxis": "x",
         "y": [
          224,
          33,
          5,
          1,
          2,
          1,
          1,
          1,
          1,
          1,
          1
         ],
         "yaxis": "y"
        },
        {
         "hovertemplate": "appVersion=1.0.0022<br>at=%{x}<br>Reviews=%{y}<extra></extra>",
         "legendgroup": "1.0.0022",
         "line": {
          "color": "#EF553B",
          "dash": "solid"
         },
         "marker": {
          "symbol": "circle"
         },
         "mode": "lines",
         "name": "1.0.0022",
         "orientation": "h",
         "showlegend": true,
         "type": "scatter",
         "x": [
          "2023-07-25",
          "2023-07-26",
          "2023-07-27",
          "2023-07-28",
          "2023-07-30",
          "2023-08-01",
          "2023-08-03"
         ],
         "xaxis": "x",
         "y": [
          2,
          139,
          16,
          4,
          1,
          1,
          1
         ],
         "yaxis": "y"
        },
        {
         "hovertemplate": "appVersion=1.0.0023<br>at=%{x}<br>Reviews=%{y}<extra></extra>",
         "legendgroup": "1.0.0023",
         "line": {
          "color": "#00cc96",
          "dash": "solid"
         },
         "marker": {
          "symbol": "circle"
         },
         "mode": "lines",
         "name": "1.0.0023",
         "orientation": "h",
         "showlegend": true,
         "type": "scatter",
         "x": [
          "2023-07-26",
          "2023-07-27",
          "2023-07-28",
          "2023-07-29",
          "2023-07-30",
          "2023-07-31",
          "2023-08-01",
          "2023-08-02",
          "2023-08-03",
          "2023-08-04",
          "2023-08-05",
          "2023-08-09",
          "2023-08-19",
          "2023-08-22",
          "2023-08-24",
          "2023-08-29",
          "2023-09-08",
          "2023-09-09",
          "2023-09-22",
          "2023-09-24"
         ],
         "xaxis": "x",
         "y": [
          4,
          60,
          48,
          22,
          10,
          49,
          63,
          23,
          8,
          3,
          2,
          1,
          1,
          1,
          1,
          1,
          1,
          1,
          1,
          1
         ],
         "yaxis": "y"
        },
        {
         "hovertemplate": "appVersion=1.0.0026<br>at=%{x}<br>Reviews=%{y}<extra></extra>",
         "legendgroup": "1.0.0026",
         "line": {
          "color": "#ab63fa",
          "dash": "solid"
         },
         "marker": {
          "symbol": "circle"
         },
         "mode": "lines",
         "name": "1.0.0026",
         "orientation": "h",
         "showlegend": true,
         "type": "scatter",
         "x": [
          "2023-08-01",
          "2023-08-02",
          "2023-08-03",
          "2023-08-04",
          "2023-08-05",
          "2023-08-06",
          "2023-08-07",
          "2023-08-08",
          "2023-08-09",
          "2023-08-10",
          "2023-08-12",
          "2023-08-29",
          "2023-09-24"
         ],
         "xaxis": "x",
         "y": [
          1,
          6,
          11,
          8,
          8,
          5,
          10,
          4,
          9,
          3,
          1,
          1,
          1
         ],
         "yaxis": "y"
        },
        {
         "hovertemplate": "appVersion=1.0.0030<br>at=%{x}<br>Reviews=%{y}<extra></extra>",
         "legendgroup": "1.0.0030",
         "line": {
          "color": "#FFA15A",
          "dash": "solid"
         },
         "marker": {
          "symbol": "circle"
         },
         "mode": "lines",
         "name": "1.0.0030",
         "orientation": "h",
         "showlegend": true,
         "type": "scatter",
         "x": [
          "2023-08-09",
          "2023-08-10",
          "2023-08-11",
          "2023-08-12",
          "2023-08-13",
          "2023-08-16",
          "2023-08-18",
          "2023-08-23",
          "2023-08-24",
          "2023-08-30",
          "2023-09-25"
         ],
         "xaxis": "x",
         "y": [
          11,
          20,
          4,
          3,
          3,
          2,
          1,
          1,
          1,
          1,
          1
         ],
         "yaxis": "y"
        },
        {
         "hovertemplate": "appVersion=1.0.0031<br>at=%{x}<br>Reviews=%{y}<extra></extra>",
         "legendgroup": "1.0.0031",
         "line": {
          "color": "#19d3f3",
          "dash": "solid"
         },
         "marker": {
          "symbol": "circle"
         },
         "mode": "lines",
         "name": "1.0.0031",
         "orientation": "h",
         "showlegend": true,
         "type": "scatter",
         "x": [
          "2023-08-10",
          "2023-08-11",
          "2023-08-12",
          "2023-08-13",
          "2023-08-14",
          "2023-08-15",
          "2023-08-16",
          "2023-08-17",
          "2023-08-18",
          "2023-08-19",
          "2023-08-20",
          "2023-08-21",
          "2023-08-27",
          "2023-08-28",
          "2023-08-30",
          "2023-09-01"
         ],
         "xaxis": "x",
         "y": [
          1,
          10,
          11,
          7,
          9,
          9,
          4,
          1,
          1,
          2,
          1,
          1,
          2,
          1,
          1,
          1
         ],
         "yaxis": "y"
        },
        {
         "hovertemplate": "appVersion=1.0.0032<br>at=%{x}<br>Reviews=%{y}<extra></extra>",
         "legendgroup": "1.0.0032",
         "line": {
          "color": "#FF6692",
          "dash": "solid"
         },
         "marker": {
          "symbol": "circle"
         },
         "mode": "lines",
         "name": "1.0.0032",
         "orientation": "h",
         "showlegend": true,
         "type": "scatter",
         "x": [
          "2023-08-12",
          "2023-08-13",
          "2023-08-14",
          "2023-08-15",
          "2023-08-16",
          "2023-08-17",
          "2023-08-18",
          "2023-08-19",
          "2023-08-20",
          "2023-08-21",
          "2023-08-22",
          "2023-08-23",
          "2023-08-24",
          "2023-08-25",
          "2023-08-26",
          "2023-08-27",
          "2023-08-29",
          "2023-08-31",
          "2023-09-03",
          "2023-09-04",
          "2023-09-07",
          "2023-09-12",
          "2023-09-14",
          "2023-09-18",
          "2023-09-23",
          "2023-09-26",
          "2023-09-27"
         ],
         "xaxis": "x",
         "y": [
          3,
          5,
          3,
          9,
          8,
          21,
          14,
          13,
          15,
          13,
          11,
          8,
          4,
          6,
          2,
          1,
          1,
          1,
          1,
          1,
          1,
          1,
          1,
          1,
          1,
          1,
          1
         ],
         "yaxis": "y"
        },
        {
         "hovertemplate": "appVersion=1.0.0035<br>at=%{x}<br>Reviews=%{y}<extra></extra>",
         "legendgroup": "1.0.0035",
         "line": {
          "color": "#B6E880",
          "dash": "solid"
         },
         "marker": {
          "symbol": "circle"
         },
         "mode": "lines",
         "name": "1.0.0035",
         "orientation": "h",
         "showlegend": true,
         "type": "scatter",
         "x": [
          "2023-08-21",
          "2023-08-22",
          "2023-08-23",
          "2023-08-24",
          "2023-08-25",
          "2023-08-26",
          "2023-08-27",
          "2023-08-28",
          "2023-08-29",
          "2023-09-01",
          "2023-09-02",
          "2023-09-03",
          "2023-09-04",
          "2023-09-10",
          "2023-09-11",
          "2023-09-12",
          "2023-09-14",
          "2023-09-17",
          "2023-09-18",
          "2023-09-21",
          "2023-09-23",
          "2023-09-25",
          "2023-09-27",
          "2023-09-30",
          "2023-10-03",
          "2023-10-04",
          "2023-10-05",
          "2023-10-09",
          "2023-10-11"
         ],
         "xaxis": "x",
         "y": [
          1,
          5,
          10,
          11,
          14,
          21,
          23,
          18,
          19,
          3,
          2,
          2,
          1,
          3,
          1,
          2,
          2,
          1,
          2,
          2,
          1,
          1,
          2,
          1,
          1,
          1,
          2,
          1,
          1
         ],
         "yaxis": "y"
        },
        {
         "hovertemplate": "appVersion=1.0.0039<br>at=%{x}<br>Reviews=%{y}<extra></extra>",
         "legendgroup": "1.0.0039",
         "line": {
          "color": "#FF97FF",
          "dash": "solid"
         },
         "marker": {
          "symbol": "circle"
         },
         "mode": "lines",
         "name": "1.0.0039",
         "orientation": "h",
         "showlegend": true,
         "type": "scatter",
         "x": [
          "2023-08-28",
          "2023-08-29",
          "2023-08-30",
          "2023-08-31",
          "2023-09-01",
          "2023-09-02",
          "2023-09-03",
          "2023-09-04",
          "2023-09-05",
          "2023-09-06",
          "2023-09-07",
          "2023-09-08",
          "2023-09-09",
          "2023-09-10",
          "2023-09-11",
          "2023-09-12",
          "2023-09-13",
          "2023-09-14",
          "2023-09-15",
          "2023-09-17",
          "2023-09-18",
          "2023-09-19",
          "2023-09-20",
          "2023-09-23",
          "2023-09-27",
          "2023-09-28",
          "2023-09-29",
          "2023-09-30",
          "2023-10-04",
          "2023-10-05",
          "2023-10-06",
          "2023-10-08",
          "2023-10-09",
          "2023-10-11",
          "2023-10-13",
          "2023-10-14",
          "2023-10-19"
         ],
         "xaxis": "x",
         "y": [
          1,
          7,
          13,
          19,
          20,
          19,
          21,
          23,
          18,
          18,
          5,
          8,
          5,
          4,
          5,
          3,
          4,
          5,
          3,
          1,
          1,
          4,
          1,
          2,
          1,
          2,
          1,
          1,
          1,
          1,
          1,
          1,
          1,
          1,
          1,
          1,
          1
         ],
         "yaxis": "y"
        },
        {
         "hovertemplate": "appVersion=1.2023.242<br>at=%{x}<br>Reviews=%{y}<extra></extra>",
         "legendgroup": "1.2023.242",
         "line": {
          "color": "#FECB52",
          "dash": "solid"
         },
         "marker": {
          "symbol": "circle"
         },
         "mode": "lines",
         "name": "1.2023.242",
         "orientation": "h",
         "showlegend": true,
         "type": "scatter",
         "x": [
          "2023-09-06",
          "2023-09-07",
          "2023-09-08",
          "2023-09-09",
          "2023-09-10",
          "2023-09-11",
          "2023-09-12",
          "2023-09-13",
          "2023-09-14",
          "2023-09-15",
          "2023-09-16",
          "2023-09-17",
          "2023-09-18",
          "2023-09-19",
          "2023-09-21",
          "2023-09-22",
          "2023-09-24",
          "2023-09-26",
          "2023-09-27",
          "2023-09-30",
          "2023-10-01",
          "2023-10-09",
          "2023-10-12"
         ],
         "xaxis": "x",
         "y": [
          8,
          23,
          12,
          11,
          19,
          18,
          14,
          9,
          6,
          1,
          4,
          1,
          2,
          1,
          1,
          2,
          1,
          1,
          2,
          1,
          1,
          1,
          1
         ],
         "yaxis": "y"
        },
        {
         "hovertemplate": "appVersion=1.2023.243<br>at=%{x}<br>Reviews=%{y}<extra></extra>",
         "legendgroup": "1.2023.243",
         "line": {
          "color": "#636efa",
          "dash": "solid"
         },
         "marker": {
          "symbol": "circle"
         },
         "mode": "lines",
         "name": "1.2023.243",
         "orientation": "h",
         "showlegend": true,
         "type": "scatter",
         "x": [
          "2023-09-12",
          "2023-09-13",
          "2023-09-14",
          "2023-09-15",
          "2023-09-16",
          "2023-09-17",
          "2023-09-18",
          "2023-09-19",
          "2023-09-20",
          "2023-09-21"
         ],
         "xaxis": "x",
         "y": [
          7,
          9,
          8,
          6,
          15,
          13,
          15,
          17,
          7,
          1
         ],
         "yaxis": "y"
        },
        {
         "hovertemplate": "appVersion=1.2023.256<br>at=%{x}<br>Reviews=%{y}<extra></extra>",
         "legendgroup": "1.2023.256",
         "line": {
          "color": "#EF553B",
          "dash": "solid"
         },
         "marker": {
          "symbol": "circle"
         },
         "mode": "lines",
         "name": "1.2023.256",
         "orientation": "h",
         "showlegend": true,
         "type": "scatter",
         "x": [
          "2023-09-19",
          "2023-09-20",
          "2023-09-21",
          "2023-09-22",
          "2023-09-23",
          "2023-09-24",
          "2023-09-25",
          "2023-09-26",
          "2023-09-27",
          "2023-09-28",
          "2023-10-01",
          "2023-10-02",
          "2023-10-03",
          "2023-10-07",
          "2023-10-09",
          "2023-10-11"
         ],
         "xaxis": "x",
         "y": [
          1,
          4,
          5,
          15,
          11,
          3,
          2,
          4,
          3,
          1,
          2,
          1,
          1,
          1,
          1,
          1
         ],
         "yaxis": "y"
        },
        {
         "hovertemplate": "appVersion=1.2023.263<br>at=%{x}<br>Reviews=%{y}<extra></extra>",
         "legendgroup": "1.2023.263",
         "line": {
          "color": "#00cc96",
          "dash": "solid"
         },
         "marker": {
          "symbol": "circle"
         },
         "mode": "lines",
         "name": "1.2023.263",
         "orientation": "h",
         "showlegend": true,
         "type": "scatter",
         "x": [
          "2023-09-23",
          "2023-09-24",
          "2023-09-25",
          "2023-09-26",
          "2023-09-27",
          "2023-09-28",
          "2023-09-29",
          "2023-09-30",
          "2023-10-01",
          "2023-10-02",
          "2023-10-03",
          "2023-10-04",
          "2023-10-05",
          "2023-10-06",
          "2023-10-07",
          "2023-10-08",
          "2023-10-09",
          "2023-10-10",
          "2023-10-11",
          "2023-10-12",
          "2023-10-13",
          "2023-10-14",
          "2023-10-15",
          "2023-10-16",
          "2023-10-17",
          "2023-10-18",
          "2023-10-19",
          "2023-10-20"
         ],
         "xaxis": "x",
         "y": [
          2,
          9,
          21,
          14,
          20,
          18,
          15,
          10,
          24,
          15,
          10,
          19,
          14,
          6,
          15,
          16,
          19,
          16,
          21,
          26,
          13,
          10,
          2,
          1,
          2,
          2,
          4,
          3
         ],
         "yaxis": "y"
        },
        {
         "hovertemplate": "appVersion=1.2023.275<br>at=%{x}<br>Reviews=%{y}<extra></extra>",
         "legendgroup": "1.2023.275",
         "line": {
          "color": "#ab63fa",
          "dash": "solid"
         },
         "marker": {
          "symbol": "circle"
         },
         "mode": "lines",
         "name": "1.2023.275",
         "orientation": "h",
         "showlegend": true,
         "type": "scatter",
         "x": [
          "2023-10-04"
         ],
         "xaxis": "x",
         "y": [
          1
         ],
         "yaxis": "y"
        },
        {
         "hovertemplate": "appVersion=1.2023.278<br>at=%{x}<br>Reviews=%{y}<extra></extra>",
         "legendgroup": "1.2023.278",
         "line": {
          "color": "#FFA15A",
          "dash": "solid"
         },
         "marker": {
          "symbol": "circle"
         },
         "mode": "lines",
         "name": "1.2023.278",
         "orientation": "h",
         "showlegend": true,
         "type": "scatter",
         "x": [
          "2023-10-05",
          "2023-10-08",
          "2023-10-10"
         ],
         "xaxis": "x",
         "y": [
          1,
          1,
          1
         ],
         "yaxis": "y"
        },
        {
         "hovertemplate": "appVersion=1.2023.281<br>at=%{x}<br>Reviews=%{y}<extra></extra>",
         "legendgroup": "1.2023.281",
         "line": {
          "color": "#19d3f3",
          "dash": "solid"
         },
         "marker": {
          "symbol": "circle"
         },
         "mode": "lines",
         "name": "1.2023.281",
         "orientation": "h",
         "showlegend": true,
         "type": "scatter",
         "x": [
          "2023-10-11",
          "2023-10-12",
          "2023-10-13",
          "2023-10-14",
          "2023-10-15",
          "2023-10-16",
          "2023-10-17",
          "2023-10-18"
         ],
         "xaxis": "x",
         "y": [
          1,
          2,
          4,
          8,
          9,
          16,
          22,
          11
         ],
         "yaxis": "y"
        },
        {
         "hovertemplate": "appVersion=1.2023.284<br>at=%{x}<br>Reviews=%{y}<extra></extra>",
         "legendgroup": "1.2023.284",
         "line": {
          "color": "#FF6692",
          "dash": "solid"
         },
         "marker": {
          "symbol": "circle"
         },
         "mode": "lines",
         "name": "1.2023.284",
         "orientation": "h",
         "showlegend": true,
         "type": "scatter",
         "x": [
          "2023-10-17",
          "2023-10-18",
          "2023-10-19",
          "2023-10-20",
          "2023-10-21",
          "2023-10-22"
         ],
         "xaxis": "x",
         "y": [
          2,
          1,
          10,
          8,
          17,
          10
         ],
         "yaxis": "y"
        }
       ],
       "layout": {
        "legend": {
         "title": {
          "text": "appVersion"
         },
         "tracegroupgap": 0
        },
        "margin": {
         "t": 60
        },
        "template": {
         "data": {
          "bar": [
           {
            "error_x": {
             "color": "#2a3f5f"
            },
            "error_y": {
             "color": "#2a3f5f"
            },
            "marker": {
             "line": {
              "color": "#E5ECF6",
              "width": 0.5
             },
             "pattern": {
              "fillmode": "overlay",
              "size": 10,
              "solidity": 0.2
             }
            },
            "type": "bar"
           }
          ],
          "barpolar": [
           {
            "marker": {
             "line": {
              "color": "#E5ECF6",
              "width": 0.5
             },
             "pattern": {
              "fillmode": "overlay",
              "size": 10,
              "solidity": 0.2
             }
            },
            "type": "barpolar"
           }
          ],
          "carpet": [
           {
            "aaxis": {
             "endlinecolor": "#2a3f5f",
             "gridcolor": "white",
             "linecolor": "white",
             "minorgridcolor": "white",
             "startlinecolor": "#2a3f5f"
            },
            "baxis": {
             "endlinecolor": "#2a3f5f",
             "gridcolor": "white",
             "linecolor": "white",
             "minorgridcolor": "white",
             "startlinecolor": "#2a3f5f"
            },
            "type": "carpet"
           }
          ],
          "choropleth": [
           {
            "colorbar": {
             "outlinewidth": 0,
             "ticks": ""
            },
            "type": "choropleth"
           }
          ],
          "contour": [
           {
            "colorbar": {
             "outlinewidth": 0,
             "ticks": ""
            },
            "colorscale": [
             [
              0,
              "#0d0887"
             ],
             [
              0.1111111111111111,
              "#46039f"
             ],
             [
              0.2222222222222222,
              "#7201a8"
             ],
             [
              0.3333333333333333,
              "#9c179e"
             ],
             [
              0.4444444444444444,
              "#bd3786"
             ],
             [
              0.5555555555555556,
              "#d8576b"
             ],
             [
              0.6666666666666666,
              "#ed7953"
             ],
             [
              0.7777777777777778,
              "#fb9f3a"
             ],
             [
              0.8888888888888888,
              "#fdca26"
             ],
             [
              1,
              "#f0f921"
             ]
            ],
            "type": "contour"
           }
          ],
          "contourcarpet": [
           {
            "colorbar": {
             "outlinewidth": 0,
             "ticks": ""
            },
            "type": "contourcarpet"
           }
          ],
          "heatmap": [
           {
            "colorbar": {
             "outlinewidth": 0,
             "ticks": ""
            },
            "colorscale": [
             [
              0,
              "#0d0887"
             ],
             [
              0.1111111111111111,
              "#46039f"
             ],
             [
              0.2222222222222222,
              "#7201a8"
             ],
             [
              0.3333333333333333,
              "#9c179e"
             ],
             [
              0.4444444444444444,
              "#bd3786"
             ],
             [
              0.5555555555555556,
              "#d8576b"
             ],
             [
              0.6666666666666666,
              "#ed7953"
             ],
             [
              0.7777777777777778,
              "#fb9f3a"
             ],
             [
              0.8888888888888888,
              "#fdca26"
             ],
             [
              1,
              "#f0f921"
             ]
            ],
            "type": "heatmap"
           }
          ],
          "heatmapgl": [
           {
            "colorbar": {
             "outlinewidth": 0,
             "ticks": ""
            },
            "colorscale": [
             [
              0,
              "#0d0887"
             ],
             [
              0.1111111111111111,
              "#46039f"
             ],
             [
              0.2222222222222222,
              "#7201a8"
             ],
             [
              0.3333333333333333,
              "#9c179e"
             ],
             [
              0.4444444444444444,
              "#bd3786"
             ],
             [
              0.5555555555555556,
              "#d8576b"
             ],
             [
              0.6666666666666666,
              "#ed7953"
             ],
             [
              0.7777777777777778,
              "#fb9f3a"
             ],
             [
              0.8888888888888888,
              "#fdca26"
             ],
             [
              1,
              "#f0f921"
             ]
            ],
            "type": "heatmapgl"
           }
          ],
          "histogram": [
           {
            "marker": {
             "pattern": {
              "fillmode": "overlay",
              "size": 10,
              "solidity": 0.2
             }
            },
            "type": "histogram"
           }
          ],
          "histogram2d": [
           {
            "colorbar": {
             "outlinewidth": 0,
             "ticks": ""
            },
            "colorscale": [
             [
              0,
              "#0d0887"
             ],
             [
              0.1111111111111111,
              "#46039f"
             ],
             [
              0.2222222222222222,
              "#7201a8"
             ],
             [
              0.3333333333333333,
              "#9c179e"
             ],
             [
              0.4444444444444444,
              "#bd3786"
             ],
             [
              0.5555555555555556,
              "#d8576b"
             ],
             [
              0.6666666666666666,
              "#ed7953"
             ],
             [
              0.7777777777777778,
              "#fb9f3a"
             ],
             [
              0.8888888888888888,
              "#fdca26"
             ],
             [
              1,
              "#f0f921"
             ]
            ],
            "type": "histogram2d"
           }
          ],
          "histogram2dcontour": [
           {
            "colorbar": {
             "outlinewidth": 0,
             "ticks": ""
            },
            "colorscale": [
             [
              0,
              "#0d0887"
             ],
             [
              0.1111111111111111,
              "#46039f"
             ],
             [
              0.2222222222222222,
              "#7201a8"
             ],
             [
              0.3333333333333333,
              "#9c179e"
             ],
             [
              0.4444444444444444,
              "#bd3786"
             ],
             [
              0.5555555555555556,
              "#d8576b"
             ],
             [
              0.6666666666666666,
              "#ed7953"
             ],
             [
              0.7777777777777778,
              "#fb9f3a"
             ],
             [
              0.8888888888888888,
              "#fdca26"
             ],
             [
              1,
              "#f0f921"
             ]
            ],
            "type": "histogram2dcontour"
           }
          ],
          "mesh3d": [
           {
            "colorbar": {
             "outlinewidth": 0,
             "ticks": ""
            },
            "type": "mesh3d"
           }
          ],
          "parcoords": [
           {
            "line": {
             "colorbar": {
              "outlinewidth": 0,
              "ticks": ""
             }
            },
            "type": "parcoords"
           }
          ],
          "pie": [
           {
            "automargin": true,
            "type": "pie"
           }
          ],
          "scatter": [
           {
            "fillpattern": {
             "fillmode": "overlay",
             "size": 10,
             "solidity": 0.2
            },
            "type": "scatter"
           }
          ],
          "scatter3d": [
           {
            "line": {
             "colorbar": {
              "outlinewidth": 0,
              "ticks": ""
             }
            },
            "marker": {
             "colorbar": {
              "outlinewidth": 0,
              "ticks": ""
             }
            },
            "type": "scatter3d"
           }
          ],
          "scattercarpet": [
           {
            "marker": {
             "colorbar": {
              "outlinewidth": 0,
              "ticks": ""
             }
            },
            "type": "scattercarpet"
           }
          ],
          "scattergeo": [
           {
            "marker": {
             "colorbar": {
              "outlinewidth": 0,
              "ticks": ""
             }
            },
            "type": "scattergeo"
           }
          ],
          "scattergl": [
           {
            "marker": {
             "colorbar": {
              "outlinewidth": 0,
              "ticks": ""
             }
            },
            "type": "scattergl"
           }
          ],
          "scattermapbox": [
           {
            "marker": {
             "colorbar": {
              "outlinewidth": 0,
              "ticks": ""
             }
            },
            "type": "scattermapbox"
           }
          ],
          "scatterpolar": [
           {
            "marker": {
             "colorbar": {
              "outlinewidth": 0,
              "ticks": ""
             }
            },
            "type": "scatterpolar"
           }
          ],
          "scatterpolargl": [
           {
            "marker": {
             "colorbar": {
              "outlinewidth": 0,
              "ticks": ""
             }
            },
            "type": "scatterpolargl"
           }
          ],
          "scatterternary": [
           {
            "marker": {
             "colorbar": {
              "outlinewidth": 0,
              "ticks": ""
             }
            },
            "type": "scatterternary"
           }
          ],
          "surface": [
           {
            "colorbar": {
             "outlinewidth": 0,
             "ticks": ""
            },
            "colorscale": [
             [
              0,
              "#0d0887"
             ],
             [
              0.1111111111111111,
              "#46039f"
             ],
             [
              0.2222222222222222,
              "#7201a8"
             ],
             [
              0.3333333333333333,
              "#9c179e"
             ],
             [
              0.4444444444444444,
              "#bd3786"
             ],
             [
              0.5555555555555556,
              "#d8576b"
             ],
             [
              0.6666666666666666,
              "#ed7953"
             ],
             [
              0.7777777777777778,
              "#fb9f3a"
             ],
             [
              0.8888888888888888,
              "#fdca26"
             ],
             [
              1,
              "#f0f921"
             ]
            ],
            "type": "surface"
           }
          ],
          "table": [
           {
            "cells": {
             "fill": {
              "color": "#EBF0F8"
             },
             "line": {
              "color": "white"
             }
            },
            "header": {
             "fill": {
              "color": "#C8D4E3"
             },
             "line": {
              "color": "white"
             }
            },
            "type": "table"
           }
          ]
         },
         "layout": {
          "annotationdefaults": {
           "arrowcolor": "#2a3f5f",
           "arrowhead": 0,
           "arrowwidth": 1
          },
          "autotypenumbers": "strict",
          "coloraxis": {
           "colorbar": {
            "outlinewidth": 0,
            "ticks": ""
           }
          },
          "colorscale": {
           "diverging": [
            [
             0,
             "#8e0152"
            ],
            [
             0.1,
             "#c51b7d"
            ],
            [
             0.2,
             "#de77ae"
            ],
            [
             0.3,
             "#f1b6da"
            ],
            [
             0.4,
             "#fde0ef"
            ],
            [
             0.5,
             "#f7f7f7"
            ],
            [
             0.6,
             "#e6f5d0"
            ],
            [
             0.7,
             "#b8e186"
            ],
            [
             0.8,
             "#7fbc41"
            ],
            [
             0.9,
             "#4d9221"
            ],
            [
             1,
             "#276419"
            ]
           ],
           "sequential": [
            [
             0,
             "#0d0887"
            ],
            [
             0.1111111111111111,
             "#46039f"
            ],
            [
             0.2222222222222222,
             "#7201a8"
            ],
            [
             0.3333333333333333,
             "#9c179e"
            ],
            [
             0.4444444444444444,
             "#bd3786"
            ],
            [
             0.5555555555555556,
             "#d8576b"
            ],
            [
             0.6666666666666666,
             "#ed7953"
            ],
            [
             0.7777777777777778,
             "#fb9f3a"
            ],
            [
             0.8888888888888888,
             "#fdca26"
            ],
            [
             1,
             "#f0f921"
            ]
           ],
           "sequentialminus": [
            [
             0,
             "#0d0887"
            ],
            [
             0.1111111111111111,
             "#46039f"
            ],
            [
             0.2222222222222222,
             "#7201a8"
            ],
            [
             0.3333333333333333,
             "#9c179e"
            ],
            [
             0.4444444444444444,
             "#bd3786"
            ],
            [
             0.5555555555555556,
             "#d8576b"
            ],
            [
             0.6666666666666666,
             "#ed7953"
            ],
            [
             0.7777777777777778,
             "#fb9f3a"
            ],
            [
             0.8888888888888888,
             "#fdca26"
            ],
            [
             1,
             "#f0f921"
            ]
           ]
          },
          "colorway": [
           "#636efa",
           "#EF553B",
           "#00cc96",
           "#ab63fa",
           "#FFA15A",
           "#19d3f3",
           "#FF6692",
           "#B6E880",
           "#FF97FF",
           "#FECB52"
          ],
          "font": {
           "color": "#2a3f5f"
          },
          "geo": {
           "bgcolor": "white",
           "lakecolor": "white",
           "landcolor": "#E5ECF6",
           "showlakes": true,
           "showland": true,
           "subunitcolor": "white"
          },
          "hoverlabel": {
           "align": "left"
          },
          "hovermode": "closest",
          "mapbox": {
           "style": "light"
          },
          "paper_bgcolor": "white",
          "plot_bgcolor": "#E5ECF6",
          "polar": {
           "angularaxis": {
            "gridcolor": "white",
            "linecolor": "white",
            "ticks": ""
           },
           "bgcolor": "#E5ECF6",
           "radialaxis": {
            "gridcolor": "white",
            "linecolor": "white",
            "ticks": ""
           }
          },
          "scene": {
           "xaxis": {
            "backgroundcolor": "#E5ECF6",
            "gridcolor": "white",
            "gridwidth": 2,
            "linecolor": "white",
            "showbackground": true,
            "ticks": "",
            "zerolinecolor": "white"
           },
           "yaxis": {
            "backgroundcolor": "#E5ECF6",
            "gridcolor": "white",
            "gridwidth": 2,
            "linecolor": "white",
            "showbackground": true,
            "ticks": "",
            "zerolinecolor": "white"
           },
           "zaxis": {
            "backgroundcolor": "#E5ECF6",
            "gridcolor": "white",
            "gridwidth": 2,
            "linecolor": "white",
            "showbackground": true,
            "ticks": "",
            "zerolinecolor": "white"
           }
          },
          "shapedefaults": {
           "line": {
            "color": "#2a3f5f"
           }
          },
          "ternary": {
           "aaxis": {
            "gridcolor": "white",
            "linecolor": "white",
            "ticks": ""
           },
           "baxis": {
            "gridcolor": "white",
            "linecolor": "white",
            "ticks": ""
           },
           "bgcolor": "#E5ECF6",
           "caxis": {
            "gridcolor": "white",
            "linecolor": "white",
            "ticks": ""
           }
          },
          "title": {
           "x": 0.05
          },
          "xaxis": {
           "automargin": true,
           "gridcolor": "white",
           "linecolor": "white",
           "ticks": "",
           "title": {
            "standoff": 15
           },
           "zerolinecolor": "white",
           "zerolinewidth": 2
          },
          "yaxis": {
           "automargin": true,
           "gridcolor": "white",
           "linecolor": "white",
           "ticks": "",
           "title": {
            "standoff": 15
           },
           "zerolinecolor": "white",
           "zerolinewidth": 2
          }
         }
        },
        "xaxis": {
         "anchor": "y",
         "domain": [
          0,
          1
         ],
         "title": {
          "text": "at"
         }
        },
        "yaxis": {
         "anchor": "x",
         "domain": [
          0,
          1
         ],
         "title": {
          "text": "Reviews"
         }
        }
       }
      }
     },
     "metadata": {},
     "output_type": "display_data"
    }
   ],
   "source": [
    "mask = df[\"score\"] == 4\n",
    "px.line(df[mask].groupby(['at', 'appVersion'], as_index=False).sum('Reviews'), \n",
    "       y='Reviews', \n",
    "       x='at',\n",
    "       orientation='h',\n",
    "       color='appVersion')"
   ]
  },
  {
   "cell_type": "code",
   "execution_count": 1,
   "metadata": {},
   "outputs": [
    {
     "ename": "SyntaxError",
     "evalue": "invalid syntax (3944461912.py, line 165)",
     "output_type": "error",
     "traceback": [
      "\u001b[0;36m  Cell \u001b[0;32mIn[1], line 165\u001b[0;36m\u001b[0m\n\u001b[0;31m    if __name__ == \"__main__\":\u001b[0m\n\u001b[0m    ^\u001b[0m\n\u001b[0;31mSyntaxError\u001b[0m\u001b[0;31m:\u001b[0m invalid syntax\n"
     ]
    }
   ],
   "source": [
    "from dash import Dash, dcc, html, Input, Output\n",
    "import plotly.express as px\n",
    "\n",
    "app = Dash(__name__)\n",
    "\n",
    "def description_card():\n",
    "    \"\"\"\n",
    "\n",
    "    :return: A Div containing dashboard title & descriptions.\n",
    "    \"\"\"\n",
    "    return html.Div(\n",
    "        id=\"description-card\",\n",
    "        children=[\n",
    "            html.H5(\"Market Research on AI Apps\"),\n",
    "            html.H3(\"Welcome to the AInalyzer\"),\n",
    "            html.Div(\n",
    "                id=\"intro\",\n",
    "                children=\"Explore satisfaction and needs for the gold standard on the current market for AI Apps: The ChatGPT App.\",\n",
    "            ),\n",
    "        ],\n",
    "    )\n",
    "\n",
    "\n",
    "def generate_control_card():\n",
    "    \"\"\"\n",
    "\n",
    "    :return: A Div containing controls for graphs.\n",
    "    \"\"\"\n",
    "    return html.Div(\n",
    "        id=\"control-card\",\n",
    "        children=[\n",
    "            html.P(\"Select App Version\"),\n",
    "            dcc.Dropdown(\n",
    "                id=\"version-select\",\n",
    "                options=[{\"label\": i, \"value\": i} for i in version_list],\n",
    "                value=version_list,\n",
    "            ),\n",
    "            html.Br(),\n",
    "            html.P(\"Select Review Date\"),\n",
    "            dcc.DatePickerRange(\n",
    "                id=\"date-picker-select\",\n",
    "                start_date=pd.to_datetime(df['at']).min(), # dt(2014, 1, 1),\n",
    "                end_date=pd.to_datetime(df['at']).max(), #dt(2014, 1, 15),\n",
    "                min_date_allowed=pd.to_datetime(df['at']).min(),\n",
    "                max_date_allowed=pd.to_datetime(df['at']).max(),\n",
    "                initial_visible_month=dt(2023, 10, 1),\n",
    "            ),\n",
    "            html.Br(),\n",
    "            html.Br(),\n",
    "            html.P(\"Select Review Topic\"),\n",
    "            dcc.Dropdown(\n",
    "                id=\"topic-select\",\n",
    "                options=[{\"label\": i, \"value\": i} for i in topic_list],\n",
    "                value=topic_list[:],\n",
    "                multi=True,\n",
    "            ),\n",
    "            html.Br(),\n",
    "            html.Div(\n",
    "                id=\"reset-btn-outer\",\n",
    "                children=html.Button(id=\"reset-btn\", children=\"Reset\", n_clicks=0),\n",
    "            ),\n",
    "        ],\n",
    "    )\n",
    "\n",
    "\n",
    "\n",
    "app.layout = html.Div([\n",
    "    html.H4('Life expentancy progression of countries per continents'),\n",
    "    dcc.Graph(id=\"graph\"),\n",
    "    html.P(\"Select stock:\"),\n",
    "    dcc.Checklist(\n",
    "        id=\"checklist\",\n",
    "        options=version_list,\n",
    "        value=version_list,\n",
    "        inline=True\n",
    "    ),\n",
    "])\n",
    "\n",
    "\n",
    "@app.callback(\n",
    "    Output(\"graph\", \"figure\"), \n",
    "    Input(\"checklist\", \"value\"))\n",
    "def display_line_chart(start, end, version_list, topic_list, reset):\n",
    "    filtered_df = df[\n",
    "        (df[\"appVersion\"] == version_list) & (df[\"topic\"].isin(topic_list))\n",
    "    ]\n",
    "    filtered_df = filtered_df.sort_values(\"at\").set_index(\"at\")[\n",
    "        start:end\n",
    "    ]\n",
    "    fig = px.line(filtered_df.groupby(['at', 'score'], as_index=False).sum('Reviews'), \n",
    "        y='Reviews', \n",
    "        x='at',\n",
    "        title=\"Daily Number of Reviews by AppVersion\",\n",
    "        labels={'at_ym': 'Review Date'},\n",
    "        template='ggplot2',\n",
    "        hover_data={\"at\": \"|%B %d, %Y\"},\n",
    "        color='score')\n",
    "    fig.update_xaxes(\n",
    "        dtick=\"M1\",\n",
    "        tickformat=\"%d.%B\\n%Y\")\n",
    "    return fig\n",
    "    \n",
    "app.layout = html.Div(\n",
    "    id=\"app-container\",\n",
    "    children=[\n",
    "        # Banner\n",
    "        html.Div(\n",
    "            id=\"banner\",\n",
    "            className=\"banner\",\n",
    "            children=[html.Img(src=app.get_asset_url(\"https://upload.wikimedia.org/wikipedia/commons/0/04/ChatGPT_logo.svg\"))],\n",
    "        ),\n",
    "        # Left column\n",
    "        html.Div(\n",
    "            id=\"left-column\",\n",
    "            className=\"four columns\",\n",
    "            children=[description_card(), generate_control_card()]\n",
    "            + [\n",
    "                html.Div(\n",
    "                    [\"initial child\"], id=\"output-clientside\", style={\"display\": \"none\"}\n",
    "                )\n",
    "            ],\n",
    "        ),\n",
    "        # Right column\n",
    "        html.Div(\n",
    "            id=\"right-column\",\n",
    "            className=\"eight columns\",\n",
    "            children=[\n",
    "                # Chart 1\n",
    "                html.Div(\n",
    "                    id=\"line_graph\",\n",
    "                    children=[\n",
    "                        html.B(\"Daily Number of Reviews\"),\n",
    "                        html.Hr(),\n",
    "                        dcc.Graph(id=\"line_graph\"),\n",
    "                    ],\n",
    "                ),\n",
    "                # # Chart 2\n",
    "                # html.Div(\n",
    "                #     id=\"wait_time_card\",\n",
    "                #     children=[\n",
    "                #         html.B(\"Patient Wait Time and Satisfactory Scores\"),\n",
    "                #         html.Hr(),\n",
    "                #         html.Div(id=\"wait_time_table\", children=initialize_table()),\n",
    "                #     ],\n",
    "                # ),\n",
    "            ],\n",
    "        ),\n",
    "    ],\n",
    ")\n",
    "\n",
    "\n",
    "@app.callback(\n",
    "    Output(\"graph\", \"figure\"),\n",
    "    [\n",
    "        Input(\"date-picker-select\", \"start_date\"),\n",
    "        Input(\"date-picker-select\", \"end_date\"),\n",
    "        Input(\"version-select\", \"value\"),\n",
    "        Input(\"topic-select\", \"value\"),\n",
    "        Input(\"reset-btn\", \"n_clicks\"),\n",
    "    ],\n",
    ")\n",
    "\n",
    "\n",
    "# Run the server\n",
    "if __name__ == \"__main__\":\n",
    "    app.run_server(debug=True)\n"
   ]
  }
 ],
 "metadata": {
  "kernelspec": {
   "display_name": ".venv",
   "language": "python",
   "name": "python3"
  },
  "language_info": {
   "codemirror_mode": {
    "name": "ipython",
    "version": 3
   },
   "file_extension": ".py",
   "mimetype": "text/x-python",
   "name": "python",
   "nbconvert_exporter": "python",
   "pygments_lexer": "ipython3",
   "version": "3.11.3"
  }
 },
 "nbformat": 4,
 "nbformat_minor": 2
}
