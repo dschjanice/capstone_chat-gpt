{
 "cells": [
  {
   "cell_type": "markdown",
   "metadata": {},
   "source": [
    "# This notebook is about feature engineering with sentiment analysis and classification"
   ]
  },
  {
   "cell_type": "markdown",
   "metadata": {},
   "source": [
    "#### Load useful libraries and df"
   ]
  },
  {
   "cell_type": "code",
   "execution_count": 8,
   "metadata": {},
   "outputs": [
    {
     "name": "stderr",
     "output_type": "stream",
     "text": [
      "[nltk_data] Downloading package wordnet to /Users/janice/nltk_data...\n",
      "[nltk_data]   Package wordnet is already up-to-date!\n",
      "[nltk_data] Downloading package omw-1.4 to /Users/janice/nltk_data...\n",
      "[nltk_data]   Package omw-1.4 is already up-to-date!\n"
     ]
    },
    {
     "data": {
      "text/plain": [
       "True"
      ]
     },
     "execution_count": 8,
     "metadata": {},
     "output_type": "execute_result"
    }
   ],
   "source": [
    "import pandas as pd\n",
    "import numpy as np\n",
    "\n",
    "from sklearn.model_selection import train_test_split\n",
    "from sklearn.feature_extraction.text import CountVectorizer, TfidfVectorizer\n",
    "from sklearn.linear_model import LogisticRegression\n",
    "from sklearn.metrics import roc_auc_score\n",
    "\n",
    "\n",
    "from tqdm import tqdm\n",
    "\n",
    "import nltk\n",
    "nltk.download('wordnet')\n",
    "nltk.download('omw-1.4')"
   ]
  },
  {
   "cell_type": "code",
   "execution_count": 9,
   "metadata": {},
   "outputs": [],
   "source": [
    "# Load df\n",
    "df = pd.read_csv(\n",
    "    \"../data/chatgpt_short_clean_en.csv\",\n",
    "    encoding=\"utf-8\",\n",
    ")"
   ]
  },
  {
   "cell_type": "code",
   "execution_count": 10,
   "metadata": {},
   "outputs": [
    {
     "data": {
      "text/plain": [
       "(21352, 17)"
      ]
     },
     "execution_count": 10,
     "metadata": {},
     "output_type": "execute_result"
    }
   ],
   "source": [
    "df.shape"
   ]
  },
  {
   "cell_type": "code",
   "execution_count": 11,
   "metadata": {},
   "outputs": [],
   "source": [
    "from transformers import pipeline\n",
    "#import torch"
   ]
  },
  {
   "cell_type": "code",
   "execution_count": 12,
   "metadata": {},
   "outputs": [
    {
     "name": "stderr",
     "output_type": "stream",
     "text": [
      "No model was supplied, defaulted to facebook/bart-large-mnli and revision c626438 (https://huggingface.co/facebook/bart-large-mnli).\n",
      "Using a pipeline without specifying a model name and revision in production is not recommended.\n"
     ]
    }
   ],
   "source": [
    "classifier = pipeline(\"zero-shot-classification\")"
   ]
  },
  {
   "cell_type": "code",
   "execution_count": 13,
   "metadata": {},
   "outputs": [],
   "source": [
    "#candidate_labels = [\"feature evaluation\", \"praise\", \"bug report\", \"feature request\", \"performance\", \"usage\"]\n",
    "candidate_labels = [\"positive\", \"neutral\", \"negative\"]\n",
    "hypothesis_template = \"The sentiment of this review is {}.\""
   ]
  },
  {
   "cell_type": "code",
   "execution_count": 14,
   "metadata": {},
   "outputs": [
    {
     "name": "stderr",
     "output_type": "stream",
     "text": [
      "  0%|          | 0/21352 [00:00<?, ?it/s]"
     ]
    },
    {
     "name": "stderr",
     "output_type": "stream",
     "text": [
      "100%|██████████| 21352/21352 [5:46:50<00:00,  1.03it/s]  \n"
     ]
    }
   ],
   "source": [
    "#candidate_labels = list(category_map.values())\n",
    "predictedCategories = []\n",
    "ScoreNegative = []\n",
    "ScoreNeutral = []\n",
    "ScorePositive = []\n",
    "\n",
    "for i in tqdm(range(len(df))): # len(df)\n",
    "    text = df.iloc[i,]['content']\n",
    "    res = classifier(text, candidate_labels, hypothesis_template=hypothesis_template, multi_label=True)\n",
    "    labels = res['labels'] \n",
    "    scores = res['scores'] #extracting the scores associated with the labels\n",
    "    res_dict = {label : score for label,score in zip(labels, scores)}\n",
    "    sorted_dict = dict(sorted(res_dict.items(), key=lambda x:x[1],reverse = True)) #sorting the dictionary of labels in descending order based on their score\n",
    "    categories  = next(k for i, (k,v) in enumerate(sorted_dict.items()))\n",
    "\n",
    "    ScorePositive.append(sorted_dict['positive'])\n",
    "    ScoreNeutral.append(sorted_dict['neutral'])\n",
    "    ScoreNegative.append(sorted_dict['negative'])\n",
    "    predictedCategories.append(categories)"
   ]
  },
  {
   "cell_type": "code",
   "execution_count": 15,
   "metadata": {},
   "outputs": [],
   "source": [
    "df_zero_prep = pd.DataFrame({  'category': predictedCategories, \n",
    "                                    'positive_score': ScorePositive, \n",
    "                                    'neutral_score': ScoreNeutral, \n",
    "                                    'negative_score': ScoreNegative})\n",
    "df_zero = pd.merge(df, df_zero_prep, left_index=True, right_index=True)"
   ]
  },
  {
   "cell_type": "code",
   "execution_count": 16,
   "metadata": {},
   "outputs": [
    {
     "data": {
      "text/html": [
       "<div>\n",
       "<style scoped>\n",
       "    .dataframe tbody tr th:only-of-type {\n",
       "        vertical-align: middle;\n",
       "    }\n",
       "\n",
       "    .dataframe tbody tr th {\n",
       "        vertical-align: top;\n",
       "    }\n",
       "\n",
       "    .dataframe thead th {\n",
       "        text-align: right;\n",
       "    }\n",
       "</style>\n",
       "<table border=\"1\" class=\"dataframe\">\n",
       "  <thead>\n",
       "    <tr style=\"text-align: right;\">\n",
       "      <th></th>\n",
       "      <th>Unnamed: 0</th>\n",
       "      <th>reviewId</th>\n",
       "      <th>userName</th>\n",
       "      <th>content</th>\n",
       "      <th>score</th>\n",
       "      <th>thumbsUpCount</th>\n",
       "      <th>at</th>\n",
       "      <th>replyContent</th>\n",
       "      <th>repliedAt</th>\n",
       "      <th>appVersion</th>\n",
       "      <th>...</th>\n",
       "      <th>at_q</th>\n",
       "      <th>at_ym</th>\n",
       "      <th>at_m</th>\n",
       "      <th>at_wd</th>\n",
       "      <th>score_cat</th>\n",
       "      <th>detected_language</th>\n",
       "      <th>category</th>\n",
       "      <th>positive_score</th>\n",
       "      <th>neutral_score</th>\n",
       "      <th>negative_score</th>\n",
       "    </tr>\n",
       "  </thead>\n",
       "  <tbody>\n",
       "    <tr>\n",
       "      <th>0</th>\n",
       "      <td>0</td>\n",
       "      <td>36b7f28e-151d-4b98-8a13-41bd017e0d25</td>\n",
       "      <td>Lin Cheng</td>\n",
       "      <td>chatgpt on android is a solid app with seamles...</td>\n",
       "      <td>4</td>\n",
       "      <td>5</td>\n",
       "      <td>2023-10-19 19:26:19</td>\n",
       "      <td>NaN</td>\n",
       "      <td>NaN</td>\n",
       "      <td>1.2023.284</td>\n",
       "      <td>...</td>\n",
       "      <td>4</td>\n",
       "      <td>2023-10</td>\n",
       "      <td>October</td>\n",
       "      <td>Thursday</td>\n",
       "      <td>neutral</td>\n",
       "      <td>en</td>\n",
       "      <td>positive</td>\n",
       "      <td>0.993198</td>\n",
       "      <td>0.068540</td>\n",
       "      <td>0.002369</td>\n",
       "    </tr>\n",
       "    <tr>\n",
       "      <th>1</th>\n",
       "      <td>1</td>\n",
       "      <td>2bc253b6-c804-47e9-b6f2-3a21027efab4</td>\n",
       "      <td>Alim</td>\n",
       "      <td>i've been using chatgpt for a while but i've j...</td>\n",
       "      <td>5</td>\n",
       "      <td>139</td>\n",
       "      <td>2023-09-29 20:24:38</td>\n",
       "      <td>NaN</td>\n",
       "      <td>NaN</td>\n",
       "      <td>1.2023.263</td>\n",
       "      <td>...</td>\n",
       "      <td>3</td>\n",
       "      <td>2023-09</td>\n",
       "      <td>September</td>\n",
       "      <td>Friday</td>\n",
       "      <td>positive</td>\n",
       "      <td>en</td>\n",
       "      <td>positive</td>\n",
       "      <td>0.994487</td>\n",
       "      <td>0.061399</td>\n",
       "      <td>0.000494</td>\n",
       "    </tr>\n",
       "    <tr>\n",
       "      <th>2</th>\n",
       "      <td>2</td>\n",
       "      <td>5f084727-ab85-40b3-bd42-a7a49502fc1f</td>\n",
       "      <td>Theo Healy</td>\n",
       "      <td>the chatgpt android app has completely blown m...</td>\n",
       "      <td>4</td>\n",
       "      <td>247</td>\n",
       "      <td>2023-07-28 10:29:10</td>\n",
       "      <td>NaN</td>\n",
       "      <td>NaN</td>\n",
       "      <td>1.0.0023</td>\n",
       "      <td>...</td>\n",
       "      <td>3</td>\n",
       "      <td>2023-07</td>\n",
       "      <td>July</td>\n",
       "      <td>Friday</td>\n",
       "      <td>neutral</td>\n",
       "      <td>en</td>\n",
       "      <td>positive</td>\n",
       "      <td>0.999619</td>\n",
       "      <td>0.043285</td>\n",
       "      <td>0.000417</td>\n",
       "    </tr>\n",
       "    <tr>\n",
       "      <th>3</th>\n",
       "      <td>3</td>\n",
       "      <td>5df90de5-b8e2-4dc2-b6ff-520aa3a25eae</td>\n",
       "      <td>Elliot Limberg</td>\n",
       "      <td>no subscription free and accurate unbiased ans...</td>\n",
       "      <td>5</td>\n",
       "      <td>272</td>\n",
       "      <td>2023-07-30 19:38:37</td>\n",
       "      <td>NaN</td>\n",
       "      <td>NaN</td>\n",
       "      <td>1.0.0023</td>\n",
       "      <td>...</td>\n",
       "      <td>3</td>\n",
       "      <td>2023-07</td>\n",
       "      <td>July</td>\n",
       "      <td>Sunday</td>\n",
       "      <td>positive</td>\n",
       "      <td>en</td>\n",
       "      <td>positive</td>\n",
       "      <td>0.998958</td>\n",
       "      <td>0.952186</td>\n",
       "      <td>0.000676</td>\n",
       "    </tr>\n",
       "    <tr>\n",
       "      <th>4</th>\n",
       "      <td>4</td>\n",
       "      <td>bb66c666-865d-4a31-b27f-4933df3ff829</td>\n",
       "      <td>Phoebe Moraes</td>\n",
       "      <td>i use this app for learning languages which ch...</td>\n",
       "      <td>4</td>\n",
       "      <td>126</td>\n",
       "      <td>2023-08-09 18:23:33</td>\n",
       "      <td>NaN</td>\n",
       "      <td>NaN</td>\n",
       "      <td>1.0.0030</td>\n",
       "      <td>...</td>\n",
       "      <td>3</td>\n",
       "      <td>2023-08</td>\n",
       "      <td>August</td>\n",
       "      <td>Wednesday</td>\n",
       "      <td>neutral</td>\n",
       "      <td>en</td>\n",
       "      <td>neutral</td>\n",
       "      <td>0.177005</td>\n",
       "      <td>0.264018</td>\n",
       "      <td>0.035760</td>\n",
       "    </tr>\n",
       "    <tr>\n",
       "      <th>...</th>\n",
       "      <td>...</td>\n",
       "      <td>...</td>\n",
       "      <td>...</td>\n",
       "      <td>...</td>\n",
       "      <td>...</td>\n",
       "      <td>...</td>\n",
       "      <td>...</td>\n",
       "      <td>...</td>\n",
       "      <td>...</td>\n",
       "      <td>...</td>\n",
       "      <td>...</td>\n",
       "      <td>...</td>\n",
       "      <td>...</td>\n",
       "      <td>...</td>\n",
       "      <td>...</td>\n",
       "      <td>...</td>\n",
       "      <td>...</td>\n",
       "      <td>...</td>\n",
       "      <td>...</td>\n",
       "      <td>...</td>\n",
       "      <td>...</td>\n",
       "    </tr>\n",
       "    <tr>\n",
       "      <th>21347</th>\n",
       "      <td>30912</td>\n",
       "      <td>6bed36cc-bc58-479e-b395-6644d15adeb8</td>\n",
       "      <td>Yeamin Hossain (Limon)</td>\n",
       "      <td>first review</td>\n",
       "      <td>5</td>\n",
       "      <td>0</td>\n",
       "      <td>2023-07-25 17:47:09</td>\n",
       "      <td>NaN</td>\n",
       "      <td>NaN</td>\n",
       "      <td>NaN</td>\n",
       "      <td>...</td>\n",
       "      <td>3</td>\n",
       "      <td>2023-07</td>\n",
       "      <td>July</td>\n",
       "      <td>Tuesday</td>\n",
       "      <td>positive</td>\n",
       "      <td>en</td>\n",
       "      <td>positive</td>\n",
       "      <td>0.816886</td>\n",
       "      <td>0.671854</td>\n",
       "      <td>0.675763</td>\n",
       "    </tr>\n",
       "    <tr>\n",
       "      <th>21348</th>\n",
       "      <td>30916</td>\n",
       "      <td>2ecc7803-920c-4f95-8b15-db9c7b1caa8a</td>\n",
       "      <td>Sarvesh Soni</td>\n",
       "      <td>first downloaded</td>\n",
       "      <td>5</td>\n",
       "      <td>0</td>\n",
       "      <td>2023-07-25 17:08:33</td>\n",
       "      <td>NaN</td>\n",
       "      <td>NaN</td>\n",
       "      <td>NaN</td>\n",
       "      <td>...</td>\n",
       "      <td>3</td>\n",
       "      <td>2023-07</td>\n",
       "      <td>July</td>\n",
       "      <td>Tuesday</td>\n",
       "      <td>positive</td>\n",
       "      <td>en</td>\n",
       "      <td>positive</td>\n",
       "      <td>0.888082</td>\n",
       "      <td>0.590217</td>\n",
       "      <td>0.632305</td>\n",
       "    </tr>\n",
       "    <tr>\n",
       "      <th>21349</th>\n",
       "      <td>30918</td>\n",
       "      <td>0530373c-1bfc-45d2-9dec-9fc0bb9cff4d</td>\n",
       "      <td>mostafijur rahman</td>\n",
       "      <td>usually app</td>\n",
       "      <td>5</td>\n",
       "      <td>0</td>\n",
       "      <td>2023-07-25 17:15:19</td>\n",
       "      <td>NaN</td>\n",
       "      <td>NaN</td>\n",
       "      <td>NaN</td>\n",
       "      <td>...</td>\n",
       "      <td>3</td>\n",
       "      <td>2023-07</td>\n",
       "      <td>July</td>\n",
       "      <td>Tuesday</td>\n",
       "      <td>positive</td>\n",
       "      <td>en</td>\n",
       "      <td>positive</td>\n",
       "      <td>0.846591</td>\n",
       "      <td>0.450016</td>\n",
       "      <td>0.367502</td>\n",
       "    </tr>\n",
       "    <tr>\n",
       "      <th>21350</th>\n",
       "      <td>30921</td>\n",
       "      <td>4775c835-38dd-48b8-8bf0-c3f38fe8794d</td>\n",
       "      <td>Carter Gledhill</td>\n",
       "      <td>first comment</td>\n",
       "      <td>5</td>\n",
       "      <td>0</td>\n",
       "      <td>2023-07-25 21:05:55</td>\n",
       "      <td>NaN</td>\n",
       "      <td>NaN</td>\n",
       "      <td>NaN</td>\n",
       "      <td>...</td>\n",
       "      <td>3</td>\n",
       "      <td>2023-07</td>\n",
       "      <td>July</td>\n",
       "      <td>Tuesday</td>\n",
       "      <td>positive</td>\n",
       "      <td>en</td>\n",
       "      <td>positive</td>\n",
       "      <td>0.815224</td>\n",
       "      <td>0.392924</td>\n",
       "      <td>0.659263</td>\n",
       "    </tr>\n",
       "    <tr>\n",
       "      <th>21351</th>\n",
       "      <td>30923</td>\n",
       "      <td>beb0b506-732d-4d42-888b-1485a3958ab2</td>\n",
       "      <td>Rohan Dafare</td>\n",
       "      <td>hum first</td>\n",
       "      <td>5</td>\n",
       "      <td>0</td>\n",
       "      <td>2023-07-25 17:09:58</td>\n",
       "      <td>NaN</td>\n",
       "      <td>NaN</td>\n",
       "      <td>NaN</td>\n",
       "      <td>...</td>\n",
       "      <td>3</td>\n",
       "      <td>2023-07</td>\n",
       "      <td>July</td>\n",
       "      <td>Tuesday</td>\n",
       "      <td>positive</td>\n",
       "      <td>en</td>\n",
       "      <td>neutral</td>\n",
       "      <td>0.328944</td>\n",
       "      <td>0.929507</td>\n",
       "      <td>0.774788</td>\n",
       "    </tr>\n",
       "  </tbody>\n",
       "</table>\n",
       "<p>21352 rows × 21 columns</p>\n",
       "</div>"
      ],
      "text/plain": [
       "       Unnamed: 0                              reviewId  \\\n",
       "0               0  36b7f28e-151d-4b98-8a13-41bd017e0d25   \n",
       "1               1  2bc253b6-c804-47e9-b6f2-3a21027efab4   \n",
       "2               2  5f084727-ab85-40b3-bd42-a7a49502fc1f   \n",
       "3               3  5df90de5-b8e2-4dc2-b6ff-520aa3a25eae   \n",
       "4               4  bb66c666-865d-4a31-b27f-4933df3ff829   \n",
       "...           ...                                   ...   \n",
       "21347       30912  6bed36cc-bc58-479e-b395-6644d15adeb8   \n",
       "21348       30916  2ecc7803-920c-4f95-8b15-db9c7b1caa8a   \n",
       "21349       30918  0530373c-1bfc-45d2-9dec-9fc0bb9cff4d   \n",
       "21350       30921  4775c835-38dd-48b8-8bf0-c3f38fe8794d   \n",
       "21351       30923  beb0b506-732d-4d42-888b-1485a3958ab2   \n",
       "\n",
       "                     userName  \\\n",
       "0                   Lin Cheng   \n",
       "1                        Alim   \n",
       "2                  Theo Healy   \n",
       "3              Elliot Limberg   \n",
       "4               Phoebe Moraes   \n",
       "...                       ...   \n",
       "21347  Yeamin Hossain (Limon)   \n",
       "21348            Sarvesh Soni   \n",
       "21349       mostafijur rahman   \n",
       "21350         Carter Gledhill   \n",
       "21351            Rohan Dafare   \n",
       "\n",
       "                                                 content  score  \\\n",
       "0      chatgpt on android is a solid app with seamles...      4   \n",
       "1      i've been using chatgpt for a while but i've j...      5   \n",
       "2      the chatgpt android app has completely blown m...      4   \n",
       "3      no subscription free and accurate unbiased ans...      5   \n",
       "4      i use this app for learning languages which ch...      4   \n",
       "...                                                  ...    ...   \n",
       "21347                                       first review      5   \n",
       "21348                                   first downloaded      5   \n",
       "21349                                        usually app      5   \n",
       "21350                                      first comment      5   \n",
       "21351                                          hum first      5   \n",
       "\n",
       "       thumbsUpCount                   at replyContent repliedAt  appVersion  \\\n",
       "0                  5  2023-10-19 19:26:19          NaN       NaN  1.2023.284   \n",
       "1                139  2023-09-29 20:24:38          NaN       NaN  1.2023.263   \n",
       "2                247  2023-07-28 10:29:10          NaN       NaN    1.0.0023   \n",
       "3                272  2023-07-30 19:38:37          NaN       NaN    1.0.0023   \n",
       "4                126  2023-08-09 18:23:33          NaN       NaN    1.0.0030   \n",
       "...              ...                  ...          ...       ...         ...   \n",
       "21347              0  2023-07-25 17:47:09          NaN       NaN         NaN   \n",
       "21348              0  2023-07-25 17:08:33          NaN       NaN         NaN   \n",
       "21349              0  2023-07-25 17:15:19          NaN       NaN         NaN   \n",
       "21350              0  2023-07-25 21:05:55          NaN       NaN         NaN   \n",
       "21351              0  2023-07-25 17:09:58          NaN       NaN         NaN   \n",
       "\n",
       "       ... at_q    at_ym       at_m      at_wd score_cat detected_language  \\\n",
       "0      ...    4  2023-10    October   Thursday   neutral                en   \n",
       "1      ...    3  2023-09  September     Friday  positive                en   \n",
       "2      ...    3  2023-07       July     Friday   neutral                en   \n",
       "3      ...    3  2023-07       July     Sunday  positive                en   \n",
       "4      ...    3  2023-08     August  Wednesday   neutral                en   \n",
       "...    ...  ...      ...        ...        ...       ...               ...   \n",
       "21347  ...    3  2023-07       July    Tuesday  positive                en   \n",
       "21348  ...    3  2023-07       July    Tuesday  positive                en   \n",
       "21349  ...    3  2023-07       July    Tuesday  positive                en   \n",
       "21350  ...    3  2023-07       July    Tuesday  positive                en   \n",
       "21351  ...    3  2023-07       July    Tuesday  positive                en   \n",
       "\n",
       "       category positive_score  neutral_score  negative_score  \n",
       "0      positive       0.993198       0.068540        0.002369  \n",
       "1      positive       0.994487       0.061399        0.000494  \n",
       "2      positive       0.999619       0.043285        0.000417  \n",
       "3      positive       0.998958       0.952186        0.000676  \n",
       "4       neutral       0.177005       0.264018        0.035760  \n",
       "...         ...            ...            ...             ...  \n",
       "21347  positive       0.816886       0.671854        0.675763  \n",
       "21348  positive       0.888082       0.590217        0.632305  \n",
       "21349  positive       0.846591       0.450016        0.367502  \n",
       "21350  positive       0.815224       0.392924        0.659263  \n",
       "21351   neutral       0.328944       0.929507        0.774788  \n",
       "\n",
       "[21352 rows x 21 columns]"
      ]
     },
     "execution_count": 16,
     "metadata": {},
     "output_type": "execute_result"
    }
   ],
   "source": [
    "df_zero"
   ]
  },
  {
   "cell_type": "code",
   "execution_count": 17,
   "metadata": {},
   "outputs": [
    {
     "data": {
      "text/html": [
       "<div>\n",
       "<style scoped>\n",
       "    .dataframe tbody tr th:only-of-type {\n",
       "        vertical-align: middle;\n",
       "    }\n",
       "\n",
       "    .dataframe tbody tr th {\n",
       "        vertical-align: top;\n",
       "    }\n",
       "\n",
       "    .dataframe thead th {\n",
       "        text-align: right;\n",
       "    }\n",
       "</style>\n",
       "<table border=\"1\" class=\"dataframe\">\n",
       "  <thead>\n",
       "    <tr style=\"text-align: right;\">\n",
       "      <th></th>\n",
       "      <th>Unnamed: 0</th>\n",
       "      <th>score</th>\n",
       "      <th>thumbsUpCount</th>\n",
       "      <th>at_q</th>\n",
       "      <th>positive_score</th>\n",
       "      <th>neutral_score</th>\n",
       "      <th>negative_score</th>\n",
       "    </tr>\n",
       "    <tr>\n",
       "      <th>category</th>\n",
       "      <th></th>\n",
       "      <th></th>\n",
       "      <th></th>\n",
       "      <th></th>\n",
       "      <th></th>\n",
       "      <th></th>\n",
       "      <th></th>\n",
       "    </tr>\n",
       "  </thead>\n",
       "  <tbody>\n",
       "    <tr>\n",
       "      <th>negative</th>\n",
       "      <td>9885.360303</td>\n",
       "      <td>2.413401</td>\n",
       "      <td>1.360809</td>\n",
       "      <td>3.142099</td>\n",
       "      <td>0.068725</td>\n",
       "      <td>0.328319</td>\n",
       "      <td>0.868775</td>\n",
       "    </tr>\n",
       "    <tr>\n",
       "      <th>neutral</th>\n",
       "      <td>10241.694779</td>\n",
       "      <td>3.895582</td>\n",
       "      <td>1.146586</td>\n",
       "      <td>3.148594</td>\n",
       "      <td>0.302813</td>\n",
       "      <td>0.637571</td>\n",
       "      <td>0.242118</td>\n",
       "    </tr>\n",
       "    <tr>\n",
       "      <th>positive</th>\n",
       "      <td>12084.904373</td>\n",
       "      <td>4.777206</td>\n",
       "      <td>1.176815</td>\n",
       "      <td>3.184390</td>\n",
       "      <td>0.960109</td>\n",
       "      <td>0.171645</td>\n",
       "      <td>0.023284</td>\n",
       "    </tr>\n",
       "  </tbody>\n",
       "</table>\n",
       "</div>"
      ],
      "text/plain": [
       "            Unnamed: 0     score  thumbsUpCount      at_q  positive_score  \\\n",
       "category                                                                    \n",
       "negative   9885.360303  2.413401       1.360809  3.142099        0.068725   \n",
       "neutral   10241.694779  3.895582       1.146586  3.148594        0.302813   \n",
       "positive  12084.904373  4.777206       1.176815  3.184390        0.960109   \n",
       "\n",
       "          neutral_score  negative_score  \n",
       "category                                 \n",
       "negative       0.328319        0.868775  \n",
       "neutral        0.637571        0.242118  \n",
       "positive       0.171645        0.023284  "
      ]
     },
     "execution_count": 17,
     "metadata": {},
     "output_type": "execute_result"
    }
   ],
   "source": [
    "df_zero.groupby('category').mean('category')"
   ]
  },
  {
   "cell_type": "code",
   "execution_count": 18,
   "metadata": {},
   "outputs": [
    {
     "data": {
      "image/png": "[encoded data removed]",
      "text/plain": [
       "<Figure size 640x480 with 2 Axes>"
      ]
     },
     "metadata": {},
     "output_type": "display_data"
    }
   ],
   "source": [
    "from sklearn.metrics import confusion_matrix, classification_report, accuracy_score\n",
    "import seaborn as sns\n",
    "import matplotlib.pyplot as plt\n",
    "\n",
    "\n",
    "#Confusion matrix using pandas crosstab\n",
    "conf_matrix = confusion_matrix(df_zero.score_cat, df_zero.category)\n",
    "sns.heatmap(conf_matrix, annot=True, cmap=plt.cm.Oranges, fmt='g'); "
   ]
  },
  {
   "cell_type": "code",
   "execution_count": 19,
   "metadata": {},
   "outputs": [],
   "source": [
    "df_zero.to_csv(\"/Users/janice/Documents/Bootcamp/Git/Capstone/capstone_chat-gpt/data/ChatGPT-play-reviews-zero.csv\", index=False)"
   ]
  },
  {
   "cell_type": "markdown",
   "metadata": {},
   "source": [
    "## VADER (Valence Aware Dictionary for Sentiment Reasoning)"
   ]
  },
  {
   "cell_type": "markdown",
   "metadata": {},
   "source": [
    "Good to know:\n",
    "\n",
    "VADER (Valence Aware Dictionary for Sentiment Reasoning) is a model used for text sentiment analysis that is sensitive to both polarity (positive/negative) and intensity (strength) of emotion. It is available in the NLTK package and can be applied directly to unlabeled text data.\n",
    "\n",
    "VADER sentimental analysis relies on a dictionary that maps lexical features to emotion intensities known as sentiment scores. The sentiment score of a text can be obtained by summing up the intensity of each word in the text.\n",
    "\n",
    "For example, Words like ‘love’, ‘enjoy’, ‘happy’, ‘like’ all convey a positive sentiment. Also VADER is intelligent enough to understand the basic context of these words, such as “did not love” as a negative statement. It also understands the emphasis of capitalization and punctuation, such as “ENJOY”"
   ]
  },
  {
   "cell_type": "markdown",
   "metadata": {},
   "source": [
    "Following code was inspired by the VADER documentation on Git:\n",
    "https://github.com/cjhutto/vaderSentiment#code-examples"
   ]
  },
  {
   "cell_type": "code",
   "execution_count": 20,
   "metadata": {},
   "outputs": [
    {
     "data": {
      "text/plain": [
       "(21352, 21)"
      ]
     },
     "execution_count": 20,
     "metadata": {},
     "output_type": "execute_result"
    }
   ],
   "source": [
    "df_zero = pd.read_csv(\"../data/ChatGPT-play-reviews-zero.csv\",\n",
    "                            encoding=\"utf-8\",\n",
    "                        )\n",
    "\n",
    "df_zero.shape"
   ]
  },
  {
   "cell_type": "code",
   "execution_count": 21,
   "metadata": {},
   "outputs": [],
   "source": [
    "from vaderSentiment.vaderSentiment import SentimentIntensityAnalyzer\n",
    "    #note: depending on how you installed (e.g., using source code download versus pip install), you may need to import like this:\n",
    "    #from vaderSentiment import SentimentIntensityAnalyzer"
   ]
  },
  {
   "cell_type": "code",
   "execution_count": 22,
   "metadata": {},
   "outputs": [
    {
     "name": "stderr",
     "output_type": "stream",
     "text": [
      "100%|██████████| 21352/21352 [02:47<00:00, 127.64it/s]\n"
     ]
    }
   ],
   "source": [
    "from nltk import tokenize\n",
    "\n",
    "#candidate_labels = list(category_map.values())\n",
    "vad_cat = []\n",
    "vad_neg = []\n",
    "vad_neu = []\n",
    "vad_pos = []\n",
    "\n",
    "for sentence in tqdm(df_zero['content']):\n",
    "     sid = SentimentIntensityAnalyzer()\n",
    "     ss = sid.polarity_scores(sentence)\n",
    "     for k in sorted(ss):\n",
    "         vad_cat.append(max(ss, key=ss.get))\n",
    "         vad_neg.append(ss['neg'])\n",
    "         vad_neu.append(ss['neu'])\n",
    "         vad_pos.append(ss['pos'])"
   ]
  },
  {
   "cell_type": "code",
   "execution_count": 23,
   "metadata": {},
   "outputs": [],
   "source": [
    "df_vader_prep = pd.DataFrame({ 'vader_cat': vad_cat, \n",
    "                                'vader_neg': vad_neg, \n",
    "                                'vader_neu': vad_neu, \n",
    "                                'vader_pos': vad_pos})\n",
    "df_vader= pd.merge(df_zero, df_vader_prep, left_index=True, right_index=True)"
   ]
  },
  {
   "cell_type": "code",
   "execution_count": 24,
   "metadata": {},
   "outputs": [],
   "source": [
    "df_vader.to_csv(\"/Users/janice/Documents/Bootcamp/Git/Capstone/capstone_chat-gpt/data/ChatGPT-play-reviews-zero_vader.csv\", index=False)"
   ]
  },
  {
   "cell_type": "markdown",
   "metadata": {},
   "source": [
    "## Sentiment Analysis using TextBlob"
   ]
  },
  {
   "cell_type": "code",
   "execution_count": 25,
   "metadata": {},
   "outputs": [],
   "source": [
    "from textblob import TextBlob"
   ]
  },
  {
   "cell_type": "markdown",
   "metadata": {},
   "source": [
    "Polarity determines the sentiment of the text. Its values lie in [-1,1] where -1 denotes a highly negative sentiment and 1 denotes a highly positive sentiment.\n",
    "\n",
    "Subjectivity determines whether a text input is factual information or a personal opinion. Its value lies between [0,1] where a value closer to 0 denotes a piece of factual information and a value closer to 1 denotes a personal opinion."
   ]
  },
  {
   "cell_type": "code",
   "execution_count": 26,
   "metadata": {},
   "outputs": [
    {
     "name": "stderr",
     "output_type": "stream",
     "text": [
      "100%|██████████| 21352/21352 [00:05<00:00, 3973.63it/s]\n"
     ]
    }
   ],
   "source": [
    "#candidate_labels = list(category_map.values())\n",
    "blob_polarity = []\n",
    "blob_subjectivity = []\n",
    "\n",
    "for sentence in tqdm(df['content']):\n",
    "     blob_polarity.append(TextBlob(sentence).sentiment.polarity)\n",
    "     blob_subjectivity.append(TextBlob(sentence).sentiment.subjectivity)"
   ]
  },
  {
   "cell_type": "code",
   "execution_count": 27,
   "metadata": {},
   "outputs": [],
   "source": [
    "df_blob_prep = pd.DataFrame({ 'blob_polarity': blob_polarity, \n",
    "                                    'blob_subjectivity': blob_subjectivity})\n",
    "df_blob= pd.merge(df_vader, df_blob_prep, left_index=True, right_index=True)"
   ]
  },
  {
   "cell_type": "code",
   "execution_count": 28,
   "metadata": {},
   "outputs": [],
   "source": [
    "df_blob.to_csv(\"../data/ChatGPT-play-reviews-sentiment.csv\", index=False)"
   ]
  },
  {
   "cell_type": "markdown",
   "metadata": {},
   "source": [
    "## Sentiment Analysis using Transformer-Based Models"
   ]
  },
  {
   "cell_type": "code",
   "execution_count": 29,
   "metadata": {},
   "outputs": [
    {
     "name": "stderr",
     "output_type": "stream",
     "text": [
      "No model was supplied, defaulted to distilbert-base-uncased-finetuned-sst-2-english and revision af0f99b (https://huggingface.co/distilbert-base-uncased-finetuned-sst-2-english).\n",
      "Using a pipeline without specifying a model name and revision in production is not recommended.\n",
      "Xformers is not installed correctly. If you want to use memory_efficient_attention to accelerate training use the following command to install Xformers\n",
      "pip install xformers.\n"
     ]
    }
   ],
   "source": [
    "from transformers import pipeline\n",
    "sentiment_pipeline = pipeline(\"sentiment-analysis\")"
   ]
  },
  {
   "cell_type": "code",
   "execution_count": 30,
   "metadata": {},
   "outputs": [
    {
     "name": "stderr",
     "output_type": "stream",
     "text": [
      "100%|██████████| 21352/21352 [13:15:16<00:00,  2.23s/it]    \n"
     ]
    }
   ],
   "source": [
    "#candidate_labels = list(category_map.values())\n",
    "pipe_cat = []\n",
    "pipe_neg = []\n",
    "pipe_pos = []\n",
    "\n",
    "for sentence in tqdm(df['content']):\n",
    "     res = sentiment_pipeline(sentence)\n",
    "     if res[0]['label'] == 'POSITIVE':\n",
    "          pipe_cat.append('POSITIVE')\n",
    "          pipe_neg.append(1-res[0]['score'])\n",
    "          pipe_pos.append(res[0]['score'])\n",
    "     elif res[0]['label'] == 'NEGATIVE':\n",
    "          pipe_cat.append('NEGATIVE')\n",
    "          pipe_neg.append(res[0]['score'])\n",
    "          pipe_pos.append(1-res[0]['score'])"
   ]
  },
  {
   "cell_type": "code",
   "execution_count": 31,
   "metadata": {},
   "outputs": [],
   "source": [
    "df_pipe_prep = pd.DataFrame({ 'pipe_cat': pipe_cat, \n",
    "                                    'pipe_neg': pipe_neg, \n",
    "                                    'pipe_pos': pipe_pos})\n",
    "\n",
    "# Load df\n",
    "df_blob = pd.read_csv(\n",
    "    \"../data/ChatGPT-play-reviews-sentiment.csv\"\n",
    ")\n",
    "\n",
    "df_pipe= pd.merge(df_blob, df_pipe_prep, left_index=True, right_index=True)"
   ]
  },
  {
   "cell_type": "code",
   "execution_count": 32,
   "metadata": {},
   "outputs": [
    {
     "data": {
      "text/plain": [
       "(21352, 27)"
      ]
     },
     "execution_count": 32,
     "metadata": {},
     "output_type": "execute_result"
    }
   ],
   "source": [
    "df_blob.shape"
   ]
  },
  {
   "cell_type": "code",
   "execution_count": 33,
   "metadata": {},
   "outputs": [],
   "source": [
    "df_pipe.to_csv(\"../data/ChatGPT-play-reviews_sentiment.csv\", index=False)"
   ]
  },
  {
   "cell_type": "code",
   "execution_count": 34,
   "metadata": {},
   "outputs": [],
   "source": [
    "# Load df\n",
    "df_pipe = pd.read_csv(\n",
    "    \"../data/ChatGPT-play-reviews_sentiment.csv\"\n",
    ")"
   ]
  },
  {
   "cell_type": "code",
   "execution_count": 1,
   "metadata": {},
   "outputs": [
    {
     "ename": "NameError",
     "evalue": "name 'df_pipe' is not defined",
     "output_type": "error",
     "traceback": [
      "\u001b[0;31m---------------------------------------------------------------------------\u001b[0m",
      "\u001b[0;31mNameError\u001b[0m                                 Traceback (most recent call last)",
      "\u001b[1;32m/Users/janice/Documents/Bootcamp/Git/Capstone/capstone_chat-gpt/notebooks/3_sentiment-reviewwise.ipynb Zelle 36\u001b[0m line \u001b[0;36m1\n\u001b[0;32m----> <a href='vscode-notebook-cell:/Users/janice/Documents/Bootcamp/Git/Capstone/capstone_chat-gpt/notebooks/3_sentiment-reviewwise.ipynb#X50sZmlsZQ%3D%3D?line=0'>1</a>\u001b[0m df_pipe\u001b[39m.\u001b[39mcolumns\n",
      "\u001b[0;31mNameError\u001b[0m: name 'df_pipe' is not defined"
     ]
    }
   ],
   "source": [
    "df_pipe.columns"
   ]
  },
  {
   "cell_type": "code",
   "execution_count": null,
   "metadata": {},
   "outputs": [],
   "source": []
  },
  {
   "cell_type": "code",
   "execution_count": null,
   "metadata": {},
   "outputs": [],
   "source": []
  }
 ],
 "metadata": {
  "kernelspec": {
   "display_name": "Python 3.9.8 ('.nlp': venv)",
   "language": "python",
   "name": "python3"
  },
  "language_info": {
   "codemirror_mode": {
    "name": "ipython",
    "version": 3
   },
   "file_extension": ".py",
   "mimetype": "text/x-python",
   "name": "python",
   "nbconvert_exporter": "python",
   "pygments_lexer": "ipython3",
   "version": "3.11.3"
  },
  "vscode": {
   "interpreter": {
    "hash": "9fb4e7a82a71b285d1d2fdbccfc7dcb00fac1863548a2573de3cd7a5b08c832d"
   }
  }
 },
 "nbformat": 4,
 "nbformat_minor": 4
}
