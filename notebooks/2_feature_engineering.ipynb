{
 "cells": [
  {
   "cell_type": "markdown",
   "metadata": {},
   "source": [
    "# Let's build a spam classifier"
   ]
  },
  {
   "cell_type": "markdown",
   "metadata": {},
   "source": [
    "We will use df from `SMS Spam Collection v. 1` described as:\n",
    "\n",
    "> a public set of SMS labeled messages that have been collected for mobile phone spam research. It has one collection composed by 5,574 English, real and non-encoded messages, tagged according being legitimate (ham) or spam.\n",
    "\n",
    "([source](http://www.dt.fee.unicamp.br/~tiago/smsspamcollection/))"
   ]
  },
  {
   "cell_type": "markdown",
   "metadata": {},
   "source": [
    "#### Load useful libraries and df"
   ]
  },
  {
   "cell_type": "code",
   "execution_count": 24,
   "metadata": {},
   "outputs": [
    {
     "name": "stderr",
     "output_type": "stream",
     "text": [
      "[nltk_data] Downloading package wordnet to /Users/janice/nltk_data...\n",
      "[nltk_data]   Package wordnet is already up-to-date!\n",
      "[nltk_data] Downloading package omw-1.4 to /Users/janice/nltk_data...\n",
      "[nltk_data]   Package omw-1.4 is already up-to-date!\n"
     ]
    },
    {
     "data": {
      "text/plain": [
       "True"
      ]
     },
     "execution_count": 24,
     "metadata": {},
     "output_type": "execute_result"
    }
   ],
   "source": [
    "import pandas as pd\n",
    "import numpy as np\n",
    "\n",
    "from sklearn.model_selection import train_test_split\n",
    "from sklearn.feature_extraction.text import CountVectorizer, TfidfVectorizer\n",
    "from sklearn.linear_model import LogisticRegression\n",
    "from sklearn.metrics import roc_auc_score\n",
    "\n",
    "\n",
    "from tqdm import tqdm\n",
    "\n",
    "import nltk\n",
    "nltk.download('wordnet')\n",
    "nltk.download('omw-1.4')"
   ]
  },
  {
   "cell_type": "code",
   "execution_count": 2,
   "metadata": {},
   "outputs": [],
   "source": [
    "# Load df\n",
    "df = pd.read_csv(\n",
    "    \"../data/ChatGPT-play-reviews_prep.csv\",\n",
    "    encoding=\"utf-8\",\n",
    ")"
   ]
  },
  {
   "cell_type": "code",
   "execution_count": 3,
   "metadata": {},
   "outputs": [
    {
     "data": {
      "text/html": [
       "<div>\n",
       "<style scoped>\n",
       "    .dataframe tbody tr th:only-of-type {\n",
       "        vertical-align: middle;\n",
       "    }\n",
       "\n",
       "    .dataframe tbody tr th {\n",
       "        vertical-align: top;\n",
       "    }\n",
       "\n",
       "    .dataframe thead th {\n",
       "        text-align: right;\n",
       "    }\n",
       "</style>\n",
       "<table border=\"1\" class=\"dataframe\">\n",
       "  <thead>\n",
       "    <tr style=\"text-align: right;\">\n",
       "      <th></th>\n",
       "      <th>reviewId</th>\n",
       "      <th>userName</th>\n",
       "      <th>content</th>\n",
       "      <th>score</th>\n",
       "      <th>thumbsUpCount</th>\n",
       "      <th>at</th>\n",
       "      <th>replyContent</th>\n",
       "      <th>repliedAt</th>\n",
       "      <th>appVersion</th>\n",
       "      <th>reply</th>\n",
       "      <th>at_ym</th>\n",
       "      <th>at_m</th>\n",
       "      <th>at_wd</th>\n",
       "      <th>at_q</th>\n",
       "      <th>at_d</th>\n",
       "      <th>at_ymd</th>\n",
       "    </tr>\n",
       "  </thead>\n",
       "  <tbody>\n",
       "    <tr>\n",
       "      <th>6333</th>\n",
       "      <td>a58ae6d0-17a2-4cf9-b14a-e4d1c734fcda</td>\n",
       "      <td>WaHeEd BaLoCh Ms</td>\n",
       "      <td>App is fantastic but there should be image abi...</td>\n",
       "      <td>4</td>\n",
       "      <td>0</td>\n",
       "      <td>2023-08-02 07:58:07</td>\n",
       "      <td>NaN</td>\n",
       "      <td>NaN</td>\n",
       "      <td>1.0.0023</td>\n",
       "      <td>0</td>\n",
       "      <td>2023-08</td>\n",
       "      <td>August</td>\n",
       "      <td>Wednesday</td>\n",
       "      <td>3</td>\n",
       "      <td>2</td>\n",
       "      <td>08/02/23</td>\n",
       "    </tr>\n",
       "    <tr>\n",
       "      <th>26842</th>\n",
       "      <td>7882b5cc-01fc-4059-8efb-84b7207d852c</td>\n",
       "      <td>Aaa Aaa</td>\n",
       "      <td>Behatareen</td>\n",
       "      <td>5</td>\n",
       "      <td>0</td>\n",
       "      <td>2023-08-18 20:05:23</td>\n",
       "      <td>NaN</td>\n",
       "      <td>NaN</td>\n",
       "      <td>1.0.0026</td>\n",
       "      <td>0</td>\n",
       "      <td>2023-08</td>\n",
       "      <td>August</td>\n",
       "      <td>Friday</td>\n",
       "      <td>3</td>\n",
       "      <td>18</td>\n",
       "      <td>08/18/23</td>\n",
       "    </tr>\n",
       "    <tr>\n",
       "      <th>11040</th>\n",
       "      <td>18ba3dd5-90a6-401d-bfe1-fcacb9a7551a</td>\n",
       "      <td>mohammed mujtaba ali</td>\n",
       "      <td>I am loving it more than web version.!</td>\n",
       "      <td>5</td>\n",
       "      <td>0</td>\n",
       "      <td>2023-07-30 09:45:45</td>\n",
       "      <td>NaN</td>\n",
       "      <td>NaN</td>\n",
       "      <td>1.0.0023</td>\n",
       "      <td>0</td>\n",
       "      <td>2023-07</td>\n",
       "      <td>July</td>\n",
       "      <td>Sunday</td>\n",
       "      <td>3</td>\n",
       "      <td>30</td>\n",
       "      <td>07/30/23</td>\n",
       "    </tr>\n",
       "    <tr>\n",
       "      <th>27</th>\n",
       "      <td>75f60c3c-629d-4fe9-9d06-643e10a4ec15</td>\n",
       "      <td>Mysoul Hurts</td>\n",
       "      <td>This app is better than I expected. The interf...</td>\n",
       "      <td>4</td>\n",
       "      <td>151</td>\n",
       "      <td>2023-07-31 19:54:58</td>\n",
       "      <td>NaN</td>\n",
       "      <td>NaN</td>\n",
       "      <td>1.0.0023</td>\n",
       "      <td>0</td>\n",
       "      <td>2023-07</td>\n",
       "      <td>July</td>\n",
       "      <td>Monday</td>\n",
       "      <td>3</td>\n",
       "      <td>31</td>\n",
       "      <td>07/31/23</td>\n",
       "    </tr>\n",
       "    <tr>\n",
       "      <th>1800</th>\n",
       "      <td>358d07a6-45d3-49db-9432-00486912a85d</td>\n",
       "      <td>Orçun Altundağ</td>\n",
       "      <td>Requires privacy invasive Google Chrome just t...</td>\n",
       "      <td>1</td>\n",
       "      <td>0</td>\n",
       "      <td>2023-08-03 15:47:23</td>\n",
       "      <td>Thank you for your feedback. We've improved lo...</td>\n",
       "      <td>2023-08-09 22:41:24</td>\n",
       "      <td>1.0.0026</td>\n",
       "      <td>1</td>\n",
       "      <td>2023-08</td>\n",
       "      <td>August</td>\n",
       "      <td>Thursday</td>\n",
       "      <td>3</td>\n",
       "      <td>3</td>\n",
       "      <td>08/03/23</td>\n",
       "    </tr>\n",
       "    <tr>\n",
       "      <th>16394</th>\n",
       "      <td>5041eef1-8d39-458f-914b-de1841633357</td>\n",
       "      <td>Vishal Kumar</td>\n",
       "      <td>Really fabulous 😻, sam love u for creating it</td>\n",
       "      <td>5</td>\n",
       "      <td>0</td>\n",
       "      <td>2023-07-25 19:12:54</td>\n",
       "      <td>NaN</td>\n",
       "      <td>NaN</td>\n",
       "      <td>1.0.0016</td>\n",
       "      <td>0</td>\n",
       "      <td>2023-07</td>\n",
       "      <td>July</td>\n",
       "      <td>Tuesday</td>\n",
       "      <td>3</td>\n",
       "      <td>25</td>\n",
       "      <td>07/25/23</td>\n",
       "    </tr>\n",
       "    <tr>\n",
       "      <th>4948</th>\n",
       "      <td>824e7846-fee1-4375-b19e-965bc2c819b4</td>\n",
       "      <td>Mr Himanshu Tyagi</td>\n",
       "      <td>Chat GPT is good application for every person....</td>\n",
       "      <td>5</td>\n",
       "      <td>0</td>\n",
       "      <td>2023-07-26 08:56:05</td>\n",
       "      <td>NaN</td>\n",
       "      <td>NaN</td>\n",
       "      <td>1.0.0022</td>\n",
       "      <td>0</td>\n",
       "      <td>2023-07</td>\n",
       "      <td>July</td>\n",
       "      <td>Wednesday</td>\n",
       "      <td>3</td>\n",
       "      <td>26</td>\n",
       "      <td>07/26/23</td>\n",
       "    </tr>\n",
       "    <tr>\n",
       "      <th>13971</th>\n",
       "      <td>076808e0-a156-45f1-b552-5245933824d9</td>\n",
       "      <td>Manioq V</td>\n",
       "      <td>When new training data</td>\n",
       "      <td>5</td>\n",
       "      <td>0</td>\n",
       "      <td>2023-09-17 11:32:35</td>\n",
       "      <td>NaN</td>\n",
       "      <td>NaN</td>\n",
       "      <td>1.2023.242</td>\n",
       "      <td>0</td>\n",
       "      <td>2023-09</td>\n",
       "      <td>September</td>\n",
       "      <td>Sunday</td>\n",
       "      <td>3</td>\n",
       "      <td>17</td>\n",
       "      <td>09/17/23</td>\n",
       "    </tr>\n",
       "    <tr>\n",
       "      <th>24878</th>\n",
       "      <td>4e2cc766-f362-42b7-965b-a36861c92868</td>\n",
       "      <td>Soch Prosper</td>\n",
       "      <td>Awesome</td>\n",
       "      <td>5</td>\n",
       "      <td>0</td>\n",
       "      <td>2023-09-04 19:36:24</td>\n",
       "      <td>NaN</td>\n",
       "      <td>NaN</td>\n",
       "      <td>1.0.0039</td>\n",
       "      <td>0</td>\n",
       "      <td>2023-09</td>\n",
       "      <td>September</td>\n",
       "      <td>Monday</td>\n",
       "      <td>3</td>\n",
       "      <td>4</td>\n",
       "      <td>09/04/23</td>\n",
       "    </tr>\n",
       "    <tr>\n",
       "      <th>10793</th>\n",
       "      <td>b16f30e1-c088-4815-a57f-ffbff83ad87c</td>\n",
       "      <td>Piyush Unjiya</td>\n",
       "      <td>This app is very awesome and wrote fast ⚡</td>\n",
       "      <td>5</td>\n",
       "      <td>0</td>\n",
       "      <td>2023-09-05 15:35:18</td>\n",
       "      <td>NaN</td>\n",
       "      <td>NaN</td>\n",
       "      <td>1.0.0039</td>\n",
       "      <td>0</td>\n",
       "      <td>2023-09</td>\n",
       "      <td>September</td>\n",
       "      <td>Tuesday</td>\n",
       "      <td>3</td>\n",
       "      <td>5</td>\n",
       "      <td>09/05/23</td>\n",
       "    </tr>\n",
       "  </tbody>\n",
       "</table>\n",
       "</div>"
      ],
      "text/plain": [
       "                                   reviewId              userName  \\\n",
       "6333   a58ae6d0-17a2-4cf9-b14a-e4d1c734fcda      WaHeEd BaLoCh Ms   \n",
       "26842  7882b5cc-01fc-4059-8efb-84b7207d852c               Aaa Aaa   \n",
       "11040  18ba3dd5-90a6-401d-bfe1-fcacb9a7551a  mohammed mujtaba ali   \n",
       "27     75f60c3c-629d-4fe9-9d06-643e10a4ec15          Mysoul Hurts   \n",
       "1800   358d07a6-45d3-49db-9432-00486912a85d        Orçun Altundağ   \n",
       "16394  5041eef1-8d39-458f-914b-de1841633357          Vishal Kumar   \n",
       "4948   824e7846-fee1-4375-b19e-965bc2c819b4     Mr Himanshu Tyagi   \n",
       "13971  076808e0-a156-45f1-b552-5245933824d9              Manioq V   \n",
       "24878  4e2cc766-f362-42b7-965b-a36861c92868          Soch Prosper   \n",
       "10793  b16f30e1-c088-4815-a57f-ffbff83ad87c         Piyush Unjiya   \n",
       "\n",
       "                                                 content  score  \\\n",
       "6333   App is fantastic but there should be image abi...      4   \n",
       "26842                                         Behatareen      5   \n",
       "11040             I am loving it more than web version.!      5   \n",
       "27     This app is better than I expected. The interf...      4   \n",
       "1800   Requires privacy invasive Google Chrome just t...      1   \n",
       "16394      Really fabulous 😻, sam love u for creating it      5   \n",
       "4948   Chat GPT is good application for every person....      5   \n",
       "13971                             When new training data      5   \n",
       "24878                                            Awesome      5   \n",
       "10793          This app is very awesome and wrote fast ⚡      5   \n",
       "\n",
       "       thumbsUpCount                   at  \\\n",
       "6333               0  2023-08-02 07:58:07   \n",
       "26842              0  2023-08-18 20:05:23   \n",
       "11040              0  2023-07-30 09:45:45   \n",
       "27               151  2023-07-31 19:54:58   \n",
       "1800               0  2023-08-03 15:47:23   \n",
       "16394              0  2023-07-25 19:12:54   \n",
       "4948               0  2023-07-26 08:56:05   \n",
       "13971              0  2023-09-17 11:32:35   \n",
       "24878              0  2023-09-04 19:36:24   \n",
       "10793              0  2023-09-05 15:35:18   \n",
       "\n",
       "                                            replyContent            repliedAt  \\\n",
       "6333                                                 NaN                  NaN   \n",
       "26842                                                NaN                  NaN   \n",
       "11040                                                NaN                  NaN   \n",
       "27                                                   NaN                  NaN   \n",
       "1800   Thank you for your feedback. We've improved lo...  2023-08-09 22:41:24   \n",
       "16394                                                NaN                  NaN   \n",
       "4948                                                 NaN                  NaN   \n",
       "13971                                                NaN                  NaN   \n",
       "24878                                                NaN                  NaN   \n",
       "10793                                                NaN                  NaN   \n",
       "\n",
       "       appVersion  reply    at_ym       at_m      at_wd  at_q  at_d    at_ymd  \n",
       "6333     1.0.0023      0  2023-08     August  Wednesday     3     2  08/02/23  \n",
       "26842    1.0.0026      0  2023-08     August     Friday     3    18  08/18/23  \n",
       "11040    1.0.0023      0  2023-07       July     Sunday     3    30  07/30/23  \n",
       "27       1.0.0023      0  2023-07       July     Monday     3    31  07/31/23  \n",
       "1800     1.0.0026      1  2023-08     August   Thursday     3     3  08/03/23  \n",
       "16394    1.0.0016      0  2023-07       July    Tuesday     3    25  07/25/23  \n",
       "4948     1.0.0022      0  2023-07       July  Wednesday     3    26  07/26/23  \n",
       "13971  1.2023.242      0  2023-09  September     Sunday     3    17  09/17/23  \n",
       "24878    1.0.0039      0  2023-09  September     Monday     3     4  09/04/23  \n",
       "10793    1.0.0039      0  2023-09  September    Tuesday     3     5  09/05/23  "
      ]
     },
     "execution_count": 3,
     "metadata": {},
     "output_type": "execute_result"
    }
   ],
   "source": [
    "# Looking at a sample of our df\n",
    "df.sample(10)"
   ]
  },
  {
   "cell_type": "markdown",
   "metadata": {},
   "source": [
    "## Classification\n",
    "\n",
    "We will here build a \"vanilla\" classifier, without pouring too many thoughts about what the actual messages, spam or not, look like. To improve your model you can of course have a closer look and investigate the df more in detail. "
   ]
  },
  {
   "cell_type": "code",
   "execution_count": 4,
   "metadata": {},
   "outputs": [],
   "source": [
    "# Split dataset between train and test sets\n",
    "X_train, X_test, y_train, y_test = train_test_split(\n",
    "    df['content'], df[\"reply\"], random_state=0\n",
    ")"
   ]
  },
  {
   "cell_type": "code",
   "execution_count": 5,
   "metadata": {},
   "outputs": [
    {
     "data": {
      "text/plain": [
       "25900                                    Superb experience\n",
       "11411    Waited for the app for too long,Now,It's here,...\n",
       "11831                 Neet to enable the copy to clipboard\n",
       "7576     Very useful for those who need opinions of oth...\n",
       "27941                                        Excellent app\n",
       "Name: content, dtype: object"
      ]
     },
     "execution_count": 5,
     "metadata": {},
     "output_type": "execute_result"
    }
   ],
   "source": [
    "X_train.head()"
   ]
  },
  {
   "cell_type": "markdown",
   "metadata": {},
   "source": [
    "### CountVectorizer"
   ]
  },
  {
   "cell_type": "code",
   "execution_count": 6,
   "metadata": {},
   "outputs": [],
   "source": [
    "# Fit the CountVectorizer to the training df\n",
    "vect = CountVectorizer().fit(df['content'])\n",
    "\n",
    "# transform the documents in the training df to a document-term matrix\n",
    "X_train_vectorized = vect.transform(df['content'])\n",
    "# print(\"X_train_vectorized: \", X_train_vectorized)"
   ]
  },
  {
   "cell_type": "code",
   "execution_count": 7,
   "metadata": {},
   "outputs": [
    {
     "name": "stdout",
     "output_type": "stream",
     "text": [
      "X_train shape = (30956,)\n",
      "Vocabulary length = 15245\n"
     ]
    }
   ],
   "source": [
    "print(\"X_train shape = {}\".format(df['content'].shape))\n",
    "print(\"Vocabulary length = {}\".format(len(vect.vocabulary_)))"
   ]
  },
  {
   "cell_type": "markdown",
   "metadata": {},
   "source": [
    "So in 30.956 messages we found 15.245 different words."
   ]
  },
  {
   "cell_type": "code",
   "execution_count": 8,
   "metadata": {},
   "outputs": [
    {
     "data": {
      "text/plain": [
       "[('5g', 200),\n",
       " ('5he', 201),\n",
       " ('5k', 202),\n",
       " ('5lacs', 203),\n",
       " ('5m', 204),\n",
       " ('5mb', 205),\n",
       " ('5o', 206),\n",
       " ('5star', 207),\n",
       " ('5stars', 208),\n",
       " ('5th', 209),\n",
       " ('60', 210),\n",
       " ('600', 211),\n",
       " ('62851', 212),\n",
       " ('64', 213),\n",
       " ('64th', 214),\n",
       " ('65', 215),\n",
       " ('68', 216),\n",
       " ('69', 217),\n",
       " ('6a', 218),\n",
       " ('6th', 219),\n",
       " ('70', 220),\n",
       " ('750', 221),\n",
       " ('777ffmahima', 222),\n",
       " ('78898', 223),\n",
       " ('7a', 224),\n",
       " ('7c', 225),\n",
       " ('7ec556a4dde829ea', 226),\n",
       " ('7ec5c6a5eb2dfb28', 227),\n",
       " ('7p', 228),\n",
       " ('7sdni', 229),\n",
       " ('7th', 230),\n",
       " ('7yati', 231),\n",
       " ('80', 232),\n",
       " ('800', 233),\n",
       " ('80286', 234),\n",
       " ('80mbps', 235),\n",
       " ('819', 236),\n",
       " ('838', 237),\n",
       " ('84', 238),\n",
       " ('841', 239)]"
      ]
     },
     "execution_count": 8,
     "metadata": {},
     "output_type": "execute_result"
    }
   ],
   "source": [
    "# Let's look at our vocabulary list (sorted alphabetically)\n",
    "# Does it look like you expected?\n",
    "sorted(vect.vocabulary_.items(), key=lambda x: x[1])[200:240]"
   ]
  },
  {
   "cell_type": "code",
   "execution_count": 9,
   "metadata": {},
   "outputs": [
    {
     "name": "stdout",
     "output_type": "stream",
     "text": [
      "[[0 0 0 ... 0 0 0]\n",
      " [0 0 0 ... 0 0 0]\n",
      " [0 0 0 ... 0 0 0]\n",
      " ...\n",
      " [0 0 0 ... 0 0 0]\n",
      " [0 0 0 ... 0 0 0]\n",
      " [0 0 0 ... 0 0 0]]\n"
     ]
    }
   ],
   "source": [
    "# We can also print the newly created feature matrix\n",
    "# Note: you see its a sparse matrix with many 0 values. \n",
    "# with .toarray() the compressed sparse matrix form is converted to a normal numpy array\n",
    "print(X_train_vectorized.toarray())"
   ]
  },
  {
   "cell_type": "code",
   "execution_count": 10,
   "metadata": {},
   "outputs": [],
   "source": [
    "# # Train the model\n",
    "# model = LogisticRegression(max_iter=1500)\n",
    "# model.fit(X_train_vectorized, y_train)\n",
    "\n",
    "# # Predict the transformed test documents\n",
    "# predictions = model.predict(vect.transform(X_test))\n",
    "# predict_probab = model.predict_proba(vect.transform(X_test))[:,1]\n",
    "\n",
    "# print(\"AUC = {:.3f}\".format(roc_auc_score(y_test, predict_probab)))"
   ]
  },
  {
   "cell_type": "code",
   "execution_count": 11,
   "metadata": {},
   "outputs": [],
   "source": [
    "# # get the feature names as numpy array\n",
    "# feature_names = np.array(vect.get_feature_names_out())\n",
    "\n",
    "# # Sort the coefficients from the model (from lowest to highest values)\n",
    "# sorted_coef_index = model.coef_[0].argsort()\n",
    "\n",
    "# # Find the 10 smallest and 10 largest coefficients\n",
    "# # The 10 largest coefficients are being indexed using [:-11:-1]\n",
    "# # so the list returned is in order of largest to smallest\n",
    "# print(\"Smallest Coefs:\\n{}\\n\".format(feature_names[sorted_coef_index[:10]]))\n",
    "# print(\"Largest Coefs: \\n{}\".format(feature_names[sorted_coef_index[:-11:-1]]))"
   ]
  },
  {
   "attachments": {},
   "cell_type": "markdown",
   "metadata": {},
   "source": [
    "The AUC of our first model was already pretty good (~0.95). Let's see if we can improve this with another transformation of our df. Therefore, we will test the TF-IDF transformation next.\n"
   ]
  },
  {
   "cell_type": "markdown",
   "metadata": {},
   "source": [
    "\n",
    "\n",
    "### TF-IDF\n",
    "\n",
    "TF-IDF is short for **Term Frequency - Inverse Document Frequency**. \n",
    "\n",
    "It measure how important a word is to a document in a set of texts (in our case all SMS we collected). A frequent word in a document that is also frequent in the corpus is less important to a document than a frequent word in a document that is not frequent in the corpus.\n",
    "\n",
    "\n"
   ]
  },
  {
   "cell_type": "code",
   "execution_count": 12,
   "metadata": {},
   "outputs": [
    {
     "data": {
      "text/plain": [
       "[('absolutely', 10),\n",
       " ('access', 11),\n",
       " ('accessible', 12),\n",
       " ('account', 13),\n",
       " ('accuracy', 14),\n",
       " ('accurate', 15),\n",
       " ('across', 16),\n",
       " ('actually', 17),\n",
       " ('add', 18),\n",
       " ('added', 19),\n",
       " ('adding', 20),\n",
       " ('addition', 21),\n",
       " ('ads', 22),\n",
       " ('advanced', 23),\n",
       " ('advice', 24),\n",
       " ('after', 25),\n",
       " ('again', 26),\n",
       " ('age', 27),\n",
       " ('ago', 28),\n",
       " ('ai', 29)]"
      ]
     },
     "execution_count": 12,
     "metadata": {},
     "output_type": "execute_result"
    }
   ],
   "source": [
    "# Fit the TfidfVectorizer to the training df specifiying a minimum document frequency of 30\n",
    "# This means a word should have been used in at least 30 reviews\n",
    "vect = TfidfVectorizer(min_df=30).fit(df['content'])\n",
    "\n",
    "# transform the documents in the training df to a document-term matrix\n",
    "X_train_vectorized = vect.transform(df['content'])\n",
    "\n",
    "# let's look of some of the words gathered with this method\n",
    "sorted(vect.vocabulary_.items(), key=lambda x: x[1])[10:30]"
   ]
  },
  {
   "cell_type": "code",
   "execution_count": 13,
   "metadata": {},
   "outputs": [
    {
     "data": {
      "text/plain": [
       "1010"
      ]
     },
     "execution_count": 13,
     "metadata": {},
     "output_type": "execute_result"
    }
   ],
   "source": [
    "# how many words appear in more than 20 text messages\n",
    "len(sorted(vect.vocabulary_.items(), key=lambda x: x[1]))"
   ]
  },
  {
   "cell_type": "markdown",
   "metadata": {},
   "source": [
    "We can check which words created the largest tfidf values for the texts."
   ]
  },
  {
   "cell_type": "code",
   "execution_count": 14,
   "metadata": {},
   "outputs": [
    {
     "name": "stdout",
     "output_type": "stream",
     "text": [
      "Smallest tfidf:\n",
      "['exceeded' 'processing' 'consistently' 'versatility' 'powered' 'coherent'\n",
      " 'natural' 'however' 'whether' 'interactions']\n",
      "\n",
      "Largest tfidf: \n",
      "['কর' 'size' 'kudos' 'la' 'language' 'learning' 'let' 'level' 'life'\n",
      " 'like']\n"
     ]
    }
   ],
   "source": [
    "# save all feature names == words in an array\n",
    "feature_names = np.array(vect.get_feature_names_out())\n",
    "\n",
    "#sort for the column names according to highest tfidf value in the column\n",
    "sorted_tfidf_index = X_train_vectorized.toarray().max(0).argsort()\n",
    "\n",
    "# print words with highest and lowest tfidf values\n",
    "print(\"Smallest tfidf:\\n{}\\n\".format(feature_names[sorted_tfidf_index[:10]]))\n",
    "print(\"Largest tfidf: \\n{}\".format(feature_names[sorted_tfidf_index[:-11:-1]]))"
   ]
  },
  {
   "cell_type": "code",
   "execution_count": 15,
   "metadata": {},
   "outputs": [],
   "source": [
    "# # Train the model\n",
    "# model = LogisticRegression(max_iter=1500)\n",
    "# model.fit(X_train_vectorized, y_train)\n",
    "\n",
    "# # Predict the transformed test documents\n",
    "# predictions = model.predict_proba(vect.transform(X_test))[:,1]\n",
    "\n",
    "# print(\"AUC = {:.3f}\".format(roc_auc_score(y_test, predictions)))"
   ]
  },
  {
   "cell_type": "code",
   "execution_count": 16,
   "metadata": {},
   "outputs": [],
   "source": [
    "# # Sort the coefficients from the model\n",
    "# sorted_coef_index = model.coef_[0].argsort()\n",
    "\n",
    "# # Find the 10 smallest and 10 largest coefficients\n",
    "# # The 10 largest coefficients are being indexed using [:-11:-1]\n",
    "# # so the list returned is in order of largest to smallest\n",
    "# print(\"Smallest Coefs:\\n{}\\n\".format(feature_names[sorted_coef_index[:10]]))\n",
    "# print(\"Largest Coefs: \\n{}\".format(feature_names[sorted_coef_index[:-11:-1]]))"
   ]
  },
  {
   "cell_type": "markdown",
   "metadata": {},
   "source": [
    "### Stemming\n",
    "\n",
    "Stemming reduces a word to its stem. The result is less readable to humans, but makes the text more comparable across observations.\n",
    "\n",
    "For example, the words \"consult\", \"consultant\", \"consulting\", \" consultative\", \"consultants\" have the same stem **\"consult \"**.\n",
    "\n",
    "We will now add stemming as a preprocessing step to our workflow. The nltk PorterStemmer will generate the stems of the words. These features will be used in the CountVectorizer to create a matrix with the number of features (stemmed words)."
   ]
  },
  {
   "cell_type": "code",
   "execution_count": 17,
   "metadata": {},
   "outputs": [],
   "source": [
    "# Initializing stemmer and countvectorizer \n",
    "stemmer = nltk.PorterStemmer()\n",
    "cv_analyzer = CountVectorizer().build_analyzer()\n",
    "# tfidf_analyzer = TfidfVectorizer(min_df=15).build_analyzer()\n",
    "\n",
    "def stemmed_words(doc):\n",
    "    return (stemmer.stem(w) for w in cv_analyzer(doc))\n",
    "\n",
    "# define CountVectorizer with stemming function \n",
    "stem_vectorizer = CountVectorizer(analyzer = stemmed_words)\n",
    "# stem_vectorizer = TfidfVectorizer(min_df=15, analyzer = stemmed_words)\n",
    "\n",
    "\n",
    "# Transform X_train\n",
    "df_content_stem_vectorized = stem_vectorizer.fit_transform(df['content'])"
   ]
  },
  {
   "cell_type": "code",
   "execution_count": 18,
   "metadata": {},
   "outputs": [
    {
     "name": "stdout",
     "output_type": "stream",
     "text": [
      "Sample Text -  I'm really amazed 👏 this kind of ai also exists in the world 😇\n",
      "------------------------------\n",
      "Text after passing through build_analyzer -  ['really', 'amazed', 'this', 'kind', 'of', 'ai', 'also', 'exists', 'in', 'the', 'world']\n",
      "------------------------------\n",
      "Text after stemming -  ['realli', 'amaz', 'thi', 'kind', 'of', 'ai', 'also', 'exist', 'in', 'the', 'world']\n"
     ]
    }
   ],
   "source": [
    "r = 300\n",
    "sample_text = X_train[r:r+1]\n",
    "print(\"Sample Text - \", sample_text[sample_text.index[0]])\n",
    "print(\"-\"*30)\n",
    "print(\"Text after passing through build_analyzer - \", cv_analyzer(sample_text[sample_text.index[0]]))\n",
    "print(\"-\"*30)\n",
    "print(\"Text after stemming - \",[stemmer.stem(w) for w in cv_analyzer(sample_text[sample_text.index[0]])])\n"
   ]
  },
  {
   "attachments": {},
   "cell_type": "markdown",
   "metadata": {},
   "source": [
    "You can also try uncommenting the tfidf lines in the cell above, so instead of using CountVectorizer you can also use TfIDF"
   ]
  },
  {
   "cell_type": "markdown",
   "metadata": {},
   "source": [
    "### Lemmatization\n",
    "\n",
    "The same way we used stemming we can also apply lemmatization to our df.\n",
    "Lemmatization reduces variant forms to base form (eg. am, are, is --> be; car, cars, car's, cars' --> car).\n"
   ]
  },
  {
   "cell_type": "code",
   "execution_count": 19,
   "metadata": {},
   "outputs": [],
   "source": [
    "# Initialization\n",
    "WNlemma = nltk.WordNetLemmatizer()\n",
    "cv_analyzer = CountVectorizer().build_analyzer()\n",
    "# cv_analyzer = TfidfVectorizer(min_df=15).build_analyzer()\n",
    "\n",
    "def lemmatize_word(doc):\n",
    "    return (WNlemma.lemmatize(t) for t in cv_analyzer(doc))\n",
    "\n",
    "lemm_vectorizer = CountVectorizer(analyzer = lemmatize_word)\n",
    "# lemm_vectorizer = TfidfVectorizer(min_df=15, analyzer=lemmatize_word)\n",
    "\n",
    "# Transform X_train\n",
    "df_content_lemm_vectorized = lemm_vectorizer.fit_transform(df['content'])"
   ]
  },
  {
   "cell_type": "code",
   "execution_count": 20,
   "metadata": {},
   "outputs": [
    {
     "data": {
      "text/plain": [
       "(30956, 14215)"
      ]
     },
     "execution_count": 20,
     "metadata": {},
     "output_type": "execute_result"
    }
   ],
   "source": [
    "df_content_lemm_vectorized.shape"
   ]
  },
  {
   "cell_type": "code",
   "execution_count": 21,
   "metadata": {},
   "outputs": [
    {
     "name": "stdout",
     "output_type": "stream",
     "text": [
      "Sample Text -  🥰🥰⚡ ⚡🔥🔥\n",
      "------------------------------\n",
      "Text after passing through build_analyzer -  []\n",
      "------------------------------\n",
      "Text after stemming -  []\n"
     ]
    }
   ],
   "source": [
    "r = 500\n",
    "sample_text = X_train[r:r+1]\n",
    "print(\"Sample Text - \", sample_text[sample_text.index[0]])\n",
    "print(\"-\"*30)\n",
    "print(\"Text after passing through build_analyzer - \", cv_analyzer(sample_text[sample_text.index[0]]))\n",
    "print(\"-\"*30)\n",
    "print(\"Text after stemming - \",[WNlemma.lemmatize(t) for t in cv_analyzer(sample_text[sample_text.index[0]])])"
   ]
  },
  {
   "cell_type": "code",
   "execution_count": 22,
   "metadata": {},
   "outputs": [],
   "source": [
    "from transformers import pipeline\n",
    "from tqdm import tqdm"
   ]
  },
  {
   "cell_type": "code",
   "execution_count": 23,
   "metadata": {},
   "outputs": [
    {
     "name": "stderr",
     "output_type": "stream",
     "text": [
      "No model was supplied, defaulted to roberta-large-mnli and revision 130fb28 (https://huggingface.co/roberta-large-mnli).\n",
      "Using a pipeline without specifying a model name and revision in production is not recommended.\n",
      "All PyTorch model weights were used when initializing TFRobertaForSequenceClassification.\n",
      "\n",
      "All the weights of TFRobertaForSequenceClassification were initialized from the PyTorch model.\n",
      "If your task is similar to the task the model of the checkpoint was trained on, you can already use TFRobertaForSequenceClassification for predictions without further training.\n"
     ]
    }
   ],
   "source": [
    "classifier = pipeline(\"zero-shot-classification\",device = 0)"
   ]
  },
  {
   "cell_type": "code",
   "execution_count": 37,
   "metadata": {},
   "outputs": [],
   "source": [
    "#candidate_labels = [\"feature evaluation\", \"praise\", \"bug report\", \"feature request\", \"performance\", \"usage\"]\n",
    "candidate_labels = [\"positive\", \"neutral\", \"negative\"]"
   ]
  },
  {
   "cell_type": "code",
   "execution_count": 38,
   "metadata": {},
   "outputs": [
    {
     "name": "stderr",
     "output_type": "stream",
     "text": [
      "100%|██████████| 50/50 [01:24<00:00,  1.68s/it]\n"
     ]
    }
   ],
   "source": [
    "#candidate_labels = list(category_map.values())\n",
    "predictedCategories = []\n",
    "Content = []\n",
    "Star = []\n",
    "#trueCategories = []\n",
    "for i in tqdm(range(50)):\n",
    "    text = df.iloc[i,]['content']\n",
    "    star = df.iloc[i,]['score']\n",
    "    #cat = [df.iloc[i,]['target']]\n",
    "    res = classifier(text, candidate_labels, multi_label=False)\n",
    "    labels = res['labels'] \n",
    "    scores = res['scores'] #extracting the scores associated with the labels\n",
    "    res_dict = {label : score for label,score in zip(labels, scores)}\n",
    "    sorted_dict = dict(sorted(res_dict.items(), key=lambda x:x[1],reverse = True)) #sorting the dictionary of labels in descending order based on their score\n",
    "    categories  = next(k for i, (k,v) in enumerate(sorted_dict.items()))\n",
    "\n",
    "    predictedCategories.append(categories)\n",
    "    Content.append(text)"
   ]
  },
  {
   "cell_type": "code",
   "execution_count": 44,
   "metadata": {},
   "outputs": [
    {
     "data": {
      "text/plain": [
       "0     4\n",
       "1     5\n",
       "2     4\n",
       "3     5\n",
       "4     4\n",
       "     ..\n",
       "95    5\n",
       "96    1\n",
       "97    5\n",
       "98    5\n",
       "99    5\n",
       "Name: score, Length: 100, dtype: int64"
      ]
     },
     "execution_count": 44,
     "metadata": {},
     "output_type": "execute_result"
    }
   ],
   "source": [
    "df.iloc[0:100,]['score']"
   ]
  },
  {
   "cell_type": "code",
   "execution_count": 39,
   "metadata": {},
   "outputs": [
    {
     "data": {
      "text/plain": [
       "{'sequence': \"Generally useful. I wish that it would offer the option to read aloud it's response to me, or even better, detect that I provided voice (to text) input in forming my query and THEN respond by reading aloud. Also, I appreciate that the app, by default, adjusts it's UI theme based on my system settings. Well done. However, that only kicked in after I had logged in after installation. It's initial login/setup screen used the default BRIGHT WHITE high contrast scheme that is very painful for me\",\n",
       " 'labels': ['positive', 'neutral', 'negative'],\n",
       " 'scores': [0.45063674449920654, 0.2816002368927002, 0.26776307821273804]}"
      ]
     },
     "execution_count": 39,
     "metadata": {},
     "output_type": "execute_result"
    }
   ],
   "source": [
    "res"
   ]
  },
  {
   "cell_type": "markdown",
   "metadata": {},
   "source": [
    "predictedCategories"
   ]
  },
  {
   "cell_type": "code",
   "execution_count": 46,
   "metadata": {},
   "outputs": [],
   "source": [
    "dataset = pd.DataFrame({'Category': predictedCategories, 'Content': Content, 'Star': df.iloc[0:50,]['score']})"
   ]
  },
  {
   "cell_type": "code",
   "execution_count": 47,
   "metadata": {},
   "outputs": [
    {
     "data": {
      "text/html": [
       "<div>\n",
       "<style scoped>\n",
       "    .dataframe tbody tr th:only-of-type {\n",
       "        vertical-align: middle;\n",
       "    }\n",
       "\n",
       "    .dataframe tbody tr th {\n",
       "        vertical-align: top;\n",
       "    }\n",
       "\n",
       "    .dataframe thead th {\n",
       "        text-align: right;\n",
       "    }\n",
       "</style>\n",
       "<table border=\"1\" class=\"dataframe\">\n",
       "  <thead>\n",
       "    <tr style=\"text-align: right;\">\n",
       "      <th></th>\n",
       "      <th>Category</th>\n",
       "      <th>Content</th>\n",
       "      <th>Star</th>\n",
       "    </tr>\n",
       "  </thead>\n",
       "  <tbody>\n",
       "    <tr>\n",
       "      <th>0</th>\n",
       "      <td>negative</td>\n",
       "      <td>ChatGPT on Android is a solid app with seamless OpenAI server connectivity, ensuring smooth interactions. However, it falls behind its Apple counterpart in features and updates. The voice input can be prematurely triggered by pauses, unlike on Apple. Additionally, the lack of a search function for previous messages is a drawback. Despite these, it remains a commendable app, deserving a 4-5 star rating. With minor improvements, it can match its Apple version.</td>\n",
       "      <td>4</td>\n",
       "    </tr>\n",
       "    <tr>\n",
       "      <th>44</th>\n",
       "      <td>negative</td>\n",
       "      <td>Good at explaining things in specific ways i could never instantly get a person to do. Only issue is that there should be some options: Such as, being able to delete certain segments of a long conversation that you no longer want to be shown. Or at least being able to search a chat for mentions of a word. Things like that which prevent ppl from having to scroll through everything in a chat that's been going on for a while. This app is very helpful AND entertaining though lol</td>\n",
       "      <td>4</td>\n",
       "    </tr>\n",
       "    <tr>\n",
       "      <th>43</th>\n",
       "      <td>negative</td>\n",
       "      <td>I have been using the ChatGPT since its release, and while I see its potential, there are a few issues that need to be addressed to enhance the user experience. I noticed that when I input a prompt text and press the backspace key, it unnecessarily removes the space between two immediate words. This can be quite frustrating as it disrupts the flow of my queries and makes the conversation feel disjointed.</td>\n",
       "      <td>3</td>\n",
       "    </tr>\n",
       "    <tr>\n",
       "      <th>37</th>\n",
       "      <td>negative</td>\n",
       "      <td>I generally really like it but it's annoying that you have to press a button to get to the history, instead of it just being in the sidebar. Especially if you want to klick on multiple chats in a row it's REALLY annoying that you have to scroll down every time and find the chat where you left off. It also bugs me that editing a message isn't possible like it is on the website, because that's VERY useful. Also the option to add a secondary language would be nice, because I use German and English.</td>\n",
       "      <td>4</td>\n",
       "    </tr>\n",
       "    <tr>\n",
       "      <th>36</th>\n",
       "      <td>negative</td>\n",
       "      <td>The animation that appears when I open the app runs twice, so if I start writing right away, everything I wrote disappears when the animation runs the second time and the big dot remains on the screen. It's annoying having to wait for the second animation or having to write everything all over again.</td>\n",
       "      <td>3</td>\n",
       "    </tr>\n",
       "    <tr>\n",
       "      <th>35</th>\n",
       "      <td>negative</td>\n",
       "      <td>Solid app, very clean interface. However it'd be nice if there was an option to have your history on the sidebar like on the web version. More importantly, I find it a little baffling that there is no option to edit and re-submit a query on the app. That's arguably one of the key features of ChatGPT, so I'm disappointed that it didn't make it's way to the official android application.</td>\n",
       "      <td>3</td>\n",
       "    </tr>\n",
       "    <tr>\n",
       "      <th>34</th>\n",
       "      <td>negative</td>\n",
       "      <td>The app mostly does what I expect it to : it's a good alternative from using ChatGPT in the browser on mobile. However, a feature that is present in the web version and that is missing in this app is the ability to render latex. This is a really important feature to me, as I don't want to have to go back and forth between the app and a latex/markdown renderer to discuss maths with ChatGPT, and the lack of this feature is the reason for the missing 2 stars in my review.</td>\n",
       "      <td>3</td>\n",
       "    </tr>\n",
       "    <tr>\n",
       "      <th>30</th>\n",
       "      <td>negative</td>\n",
       "      <td>Definitely more handy than opening browser for the web version, but inferior in all other aspects. The biggest problem for me is that I can't edit my prompts. As a plus subscriber I find the lack of beta features to be inconvenient. Another thing is that the UI is too big. This is especially annoying when reading and code snippets, as only a few words can fit in a row of text.</td>\n",
       "      <td>3</td>\n",
       "    </tr>\n",
       "    <tr>\n",
       "      <th>25</th>\n",
       "      <td>negative</td>\n",
       "      <td>Smooth design and wonderful experience. However, I have some criticisms: - I would like to have easy access to my conversation history without having to go through the entire chat history. - When I open an old conversation, it scrolls from the first text I sent to the last one, causing a long waiting time. - The code blocks don't come with colors; they only display as black text on a white background.\"</td>\n",
       "      <td>4</td>\n",
       "    </tr>\n",
       "    <tr>\n",
       "      <th>18</th>\n",
       "      <td>negative</td>\n",
       "      <td>Easily the best app I've ever downloaded. Highly impressed. I only have 1 concern at the moment, and that is the fear of potentially losing a chat or chats getting too long for the AI to \"remember\" past details. Would love to see 1.) A way to save chats permanently. 2.) A search function so that I can search for past information, so that I can copy and paste it to \"refresh\" the AI's memory for context that has fallen outside it's context window.</td>\n",
       "      <td>5</td>\n",
       "    </tr>\n",
       "    <tr>\n",
       "      <th>14</th>\n",
       "      <td>negative</td>\n",
       "      <td>The \"Voice Conversations\" feature is fantastic but has some shortcomings that need to be fixed. First, when I use it in the car, it drops out periodically and doesn't realize that I never heard the missing part. Instead, it should pause or restart when it reestablishes connection. Ideally, it sends the audio stream ahead of time so that a cell network glitch isn't noticeable by the end-user. It would also be good if it remembered our previous conversation instead of losing context.</td>\n",
       "      <td>5</td>\n",
       "    </tr>\n",
       "    <tr>\n",
       "      <th>12</th>\n",
       "      <td>negative</td>\n",
       "      <td>The app is way better than the website! I have only two issues though: first, it requires phone number for sign up (but it asks you on website too); second, that's a very little bug (I didn't found any other bug, even small), but when I scroll down the chat I must wait a couple of seconds and once down it appears the button to go down anyway. However it's not that annoying. It also have long-term memory and can learn rapidly. You deserve 5 stars at all.</td>\n",
       "      <td>5</td>\n",
       "    </tr>\n",
       "    <tr>\n",
       "      <th>24</th>\n",
       "      <td>negative</td>\n",
       "      <td>Amazing, it's sleek and professional looking, without looking overly \"corporate\", and the performance is faster than using a browser in mobile. Only complaint is that, in the process of making it simple, they removed some quality-of-life features, such as editing prompts, hiding edited prompts that were made in the browser and anything before and after regenerating a prompt in both browser and app, and placing all previous chats into a history section instead of just putting it in the sidebar.</td>\n",
       "      <td>4</td>\n",
       "    </tr>\n",
       "    <tr>\n",
       "      <th>5</th>\n",
       "      <td>negative</td>\n",
       "      <td>Seems to work now. App seems nice but has two issues. The website mentions that users can enable voice conversations in \"Settings → App → New Features → Voice conversations (toggle on)\" but this setting doesn't exist. Also, when using voice dictation to compose a prompt, it writes mandarin text using simplified characters rather than standard form/traditional characters.</td>\n",
       "      <td>3</td>\n",
       "    </tr>\n",
       "    <tr>\n",
       "      <th>4</th>\n",
       "      <td>negative</td>\n",
       "      <td>I use this app for learning languages, which chatgpt is amazing at. However, there are a few things I'd like added. 1. A search function. Being able to search a word that's several tokens back would be great. 2. Ability to highlight a word and 'search with Google'. 3. An AI voice that can read back chatgpt's outputs. For language learning especially, it'd be very useful to hear how certain words are pronounced. But still, great client for chatgpt! Can't wait for future improvements</td>\n",
       "      <td>4</td>\n",
       "    </tr>\n",
       "    <tr>\n",
       "      <th>9</th>\n",
       "      <td>negative</td>\n",
       "      <td>I love the app so far, and voice is great, but a few issues need to be ironed out before a five star is reasonable: 1. Voice doesn’t recognize for about a second or a little less. Once it tells you to talk, you have to wait about a second before it actually recognizes what you say. 2. When you leave voice to go back to messages, you always have to scroll down. 3. The scroll-to-bottom button appears even if you are at the bottom. 4. No way to view message log during voice communication.</td>\n",
       "      <td>3</td>\n",
       "    </tr>\n",
       "    <tr>\n",
       "      <th>8</th>\n",
       "      <td>negative</td>\n",
       "      <td>Voice conversations choppy, doesn't work anymore. It was working great, but then one day all of the voices never choppy and clicky. I can't make out what they're saying anymore. It also has a much harder time picking up what I'm saying. Sometimes it thinks I'm just saying \"bye\". Cleared cache, reinstalled, didn't help. Anyways, great app otherwise - looking forward to fixes!</td>\n",
       "      <td>3</td>\n",
       "    </tr>\n",
       "    <tr>\n",
       "      <th>6</th>\n",
       "      <td>neutral</td>\n",
       "      <td>This app is a mixed bag. On one hand, response times are vastly superior to those in the browser, custom instructions set in the browser are carried over and the ability to say what you want as a message is a crucial accessibility feature. On the other hand, messages are not possible to edit, which is a severe shortcoming in my opinion. The app is also quite basic, and any discussions done in the browser can't be continued in the app. Overall, it has great potential and can easily be improved.</td>\n",
       "      <td>3</td>\n",
       "    </tr>\n",
       "    <tr>\n",
       "      <th>13</th>\n",
       "      <td>positive</td>\n",
       "      <td>\"I've been using this AI app for a while now, and I'm truly impressed with its capabilities. It consistently exceeds my expectations. The app's user-friendly interface makes it incredibly easy to navigate and utilize its features effectively. The AI's responses are not only prompt but also remarkably accurate. I appreciate how it adapts to my preferences and provides personalized recommendations. Whether it's helping me with research, answering questions, or even just engaging in casual conver</td>\n",
       "      <td>5</td>\n",
       "    </tr>\n",
       "    <tr>\n",
       "      <th>3</th>\n",
       "      <td>positive</td>\n",
       "      <td>No subscription, free and accurate, unbiased answers. No fresh data since September 2021 but that doesn't make this app less accurate. I'm loving the fact it can even generate basic ASCII ART other than just text. The text is excellent, grammar precise and a great plethora of vocabulary. I can't wait for the next update and to see what that brings.</td>\n",
       "      <td>5</td>\n",
       "    </tr>\n",
       "    <tr>\n",
       "      <th>38</th>\n",
       "      <td>positive</td>\n",
       "      <td>I am incredibly impressed with this app! The app features is unparalleled, providing unlimited and accurate responses to all my questions. The app's interface is intuitive and easy to use, making my conversations with the AI incredibly smooth. I appreciate the wealth of knowledge and helpfulness it offers. Thank you for creating such an exceptional tool! I wholeheartedly recommend this app to anyone!</td>\n",
       "      <td>5</td>\n",
       "    </tr>\n",
       "    <tr>\n",
       "      <th>39</th>\n",
       "      <td>positive</td>\n",
       "      <td>The ChatGPT Android app is an absolute delight! Its user-friendly design, informative answers, and engaging conversations make it a standout choice. I hope it remains simple and functional as new features are added. The app's adaptability and vast knowledge base are truly impressive, making it an invaluable companion in daily life. Kudos to the developers for striking the right balance between innovation and usability. I look forward to the app's continuous growth and hope it does go bad</td>\n",
       "      <td>5</td>\n",
       "    </tr>\n",
       "    <tr>\n",
       "      <th>40</th>\n",
       "      <td>positive</td>\n",
       "      <td>I am thoroughly impressed by the ChatGPT Android app. Its exceptional language capabilities and user-friendly interface make it an invaluable tool for various tasks. The app's ability to provide accurate and coherent responses across diverse topics is truly remarkable. Its quick and intuitive nature ensures a seamless user experience. Without a doubt, a game-changer for anyone seeking efficient and reliable AI-driven conversations.</td>\n",
       "      <td>5</td>\n",
       "    </tr>\n",
       "    <tr>\n",
       "      <th>41</th>\n",
       "      <td>positive</td>\n",
       "      <td>The ChatGPT app is a fantastic tool for communication and assistance. Its AI-powered responses are impressively accurate, and it provides valuable information on various topics. The interface is user-friendly, making interactions seamless and enjoyable. However, it could benefit from more frequent updates to stay up-to-date with the latest developments and improve performance further. Overall, the ChatGPT app is a reliable and helpful companion for anyone seeking quick answers and engaging conve</td>\n",
       "      <td>5</td>\n",
       "    </tr>\n",
       "    <tr>\n",
       "      <th>42</th>\n",
       "      <td>positive</td>\n",
       "      <td>ChatGPT is impressive! Its responses are contextually relevant and informative. It covers various topics well. However, it can still generate incorrect or biased content. The Android app's interface is user-friendly, allowing for interactive conversations. Data privacy measures are in place. It would be even better if it asked clarifying questions when faced with ambiguity. Overall, ChatGPT is a valuable language model, but users should verify critical information from reliable sources.</td>\n",
       "      <td>5</td>\n",
       "    </tr>\n",
       "    <tr>\n",
       "      <th>2</th>\n",
       "      <td>positive</td>\n",
       "      <td>The ChatGPT Android app has completely blown me away with its exceptional performance and versatility! As an AI language model, it consistently delivers impressive responses to my queries and provides insightful suggestions. The ease of use and intuitive interface make chatting with ChatGPT a delightful experience. In all seriousness, it's good. It works. I would still recommend using the browser though, as the app lacks a few features, such as editing a message after it's sent.</td>\n",
       "      <td>4</td>\n",
       "    </tr>\n",
       "    <tr>\n",
       "      <th>1</th>\n",
       "      <td>positive</td>\n",
       "      <td>I've been using chatGPT for a while but I've just tested out the microphone speech recognition option for the first time, and let's say... I'M COMPLETELY BLOWN AWAY. NO, SERIOUSLY. It literally puts ALL the expressions, punctuation, in the right place. No matter how you talk, it converts it without a problem. It's amazing and I will probably will never type to ChatGPT again! Still though... that's some outstanding work. Now we wait for voice responses from the Bot! Hopefully...</td>\n",
       "      <td>5</td>\n",
       "    </tr>\n",
       "    <tr>\n",
       "      <th>45</th>\n",
       "      <td>positive</td>\n",
       "      <td>🪲BUG🪲: When scrolling down, the v arrow still shows even if I'm at the bottom, only going away if I press it. Pretty annoying. 10/10 good for digital minimalism to get fast answers without being tempted to scroll through images, basically Google but better, and we all know Google is the best thing since sliced bread and penicillin, this is even better. Use custom instructions to make it act as you want, basically Character.ai but for an OC. This part needs better support for other languages.</td>\n",
       "      <td>5</td>\n",
       "    </tr>\n",
       "    <tr>\n",
       "      <th>46</th>\n",
       "      <td>positive</td>\n",
       "      <td>So far my experience has been interestingly engaging and interactive. I likely found the AI model to be responsive and capable of understanding and generating coherent responses to prompts. The conversations feel so natural, as ChatGPT is able to maintain context and provide relevant information or suggestions at the fastest rate. Although, I'm quite aware of its limitations but so far I'm enjoying every bit of its use. Surely, I must recommend this app to family, friends and colleagues...</td>\n",
       "      <td>5</td>\n",
       "    </tr>\n",
       "    <tr>\n",
       "      <th>47</th>\n",
       "      <td>positive</td>\n",
       "      <td>ChatGPT is an incredibly powerful AI language model. It's a versatile tool for generating text-based content and answering questions. While it's not flawless and occasionally provides inaccurate information, it's a valuable resource for various tasks. The user interface could be more user-friendly, but regular updates make it promising.</td>\n",
       "      <td>5</td>\n",
       "    </tr>\n",
       "    <tr>\n",
       "      <th>33</th>\n",
       "      <td>positive</td>\n",
       "      <td>ChatGPT App is an absolute game-changer in text-based communication. With its intuitive design and exceptional AI-powered responses, it has taken my daily interactions to the next level. The interface is user-friendly, making it suitable for both novices and experts alike. Whether it's a simple question or a complex query, the app provides accurate and timely responses. The free version is robust, and the paid plans offer even more advanced features. Highly recommend!</td>\n",
       "      <td>5</td>\n",
       "    </tr>\n",
       "    <tr>\n",
       "      <th>32</th>\n",
       "      <td>positive</td>\n",
       "      <td>I really think I am in love with this app because it is incredibly helpful. As a writer, I usually rely on it to generate creative ideas for my stories and assist me with my grammar mistakes. I must also mention that it helps me with other aspects as well. Edit: Idk what happened, but whenever I sent a message now it says connection error and I can't see any response this has just become way too bad!! Edit 2: Well it's working again but I think they can improve the UI very much.</td>\n",
       "      <td>4</td>\n",
       "    </tr>\n",
       "    <tr>\n",
       "      <th>31</th>\n",
       "      <td>positive</td>\n",
       "      <td>Lovely service but I would like to make a few recommendations. Simple interface but it's too basic. Allow the use to have faster access to the previous chats. An interface similar to that of the browser. Consider adding the audio to text option on the free version. This will help train the system and help incorporate more languages into it. Other than this, lovely app and great work on Chatgpt.</td>\n",
       "      <td>2</td>\n",
       "    </tr>\n",
       "    <tr>\n",
       "      <th>7</th>\n",
       "      <td>positive</td>\n",
       "      <td>You've been using ChatGPT AI for a while, and it's among the best AI companions. It's lightning-fast and responsive, aiding you effectively. However, the app lags behind the web version in performance. The AI provides insightful and accurate responses for various tasks. The app interface is clean and user-friendly, but it can stutter compared to the web version. Despite this, it's a game-changer and a great on-the-go tool. Some performance optimizations could make it perfect</td>\n",
       "      <td>5</td>\n",
       "    </tr>\n",
       "    <tr>\n",
       "      <th>10</th>\n",
       "      <td>positive</td>\n",
       "      <td>The app is good, but there's an issue with chat history syncing. Conversations initiated on the web version don't appear in the app, significantly affecting the app's usefulness. Additionally, attempting to refresh the chat history brings up an \"error occurred\" message. In essence, this is an app that actually limits access to the model.</td>\n",
       "      <td>2</td>\n",
       "    </tr>\n",
       "    <tr>\n",
       "      <th>15</th>\n",
       "      <td>positive</td>\n",
       "      <td>This app is improving by the moment. With minimal input from me, just a few times, I have marked a response as being a \"Good Response,\" it has continually improved the way it responds to me specifically. I'm no programmer, but I had imagined what the interactions would be like with a personal AI assistant, and with each interaction, it gets closer to that ideal. Using this app for only the most basic if it's capabilities, I have freed up hours of time each week. 11 hr/wk so far, to be specific.</td>\n",
       "      <td>5</td>\n",
       "    </tr>\n",
       "    <tr>\n",
       "      <th>16</th>\n",
       "      <td>positive</td>\n",
       "      <td>I've been using the ChatGPT app for some time now, and it has truly impressed me. The AI's responses are consistently helpful, informative, and engaging. The interface is user-friendly, and it's easy to have meaningful conversations on a wide range of topics. I particularly appreciate the app's reliability and the convenience of having access to this AI assistant on my mobile device. Overall, ChatGPT is a valuable tool that enhances productivity and provides answers to various questions. I highl</td>\n",
       "      <td>5</td>\n",
       "    </tr>\n",
       "    <tr>\n",
       "      <th>17</th>\n",
       "      <td>positive</td>\n",
       "      <td>I updated my review from 2 to 4 stars because the app now works on my Chromebook, after a recent update. Earlier, I was not able to log in with the Chromebook because the app could not find any suitable browsers. Now it can. In my case, the app found and used Edge, which was not the \"default\" browser. I want to point out that the app never had any issues on my Android phone. The app seems to have all the features that I liked in the web version. Convenient speech to text is a plus.</td>\n",
       "      <td>4</td>\n",
       "    </tr>\n",
       "    <tr>\n",
       "      <th>19</th>\n",
       "      <td>positive</td>\n",
       "      <td>Overall, the app is quite useful, but there are a couple of bugs that need attention. Firstly, the code syntax doesn't have a distinct visual style from the normal text, which makes it challenging to differentiate. Secondly, when the text edit box is expanded in dark theme, the text appears black, making it difficult to read. I hope these issues get fixed soon as they would greatly improve the app's usability.</td>\n",
       "      <td>4</td>\n",
       "    </tr>\n",
       "    <tr>\n",
       "      <th>20</th>\n",
       "      <td>positive</td>\n",
       "      <td>The App interface is simple and easy to use, but I have some suggestions : 1- add optional audio reader for answers. 2- when asking the AI using microphone 🎤 it's better to send the question automatically without the need to press the sending button, so it gives the atmosphere of real-life conversation. Please take it into consideration, thanks for your efforts, keep it up!</td>\n",
       "      <td>4</td>\n",
       "    </tr>\n",
       "    <tr>\n",
       "      <th>11</th>\n",
       "      <td>positive</td>\n",
       "      <td>The ChatGPT app is absolutely phenomenal! It's become an indispensable tool in my daily life. The app's ability to provide quick, accurate, and insightful information across a wide range of topics is truly impressive. The interface is user-friendly, making it a breeze to interact with this AI. Whether I need answers to complex questions, assistance with language and writing, or just some casual conversation, ChatGPT excels at it all. It's like having a knowledgeable friend in your pocket at all</td>\n",
       "      <td>5</td>\n",
       "    </tr>\n",
       "    <tr>\n",
       "      <th>21</th>\n",
       "      <td>positive</td>\n",
       "      <td>It's like having a personal assistant who is capable of doing most simple tasks instantaneously. Write an email, give you instructions on how to do many web-based tasks, help you do research... those are just some of the most basic things the app can do. I think the most involved aspect of using this app, is figuring out, and exploring all of the things it can do!</td>\n",
       "      <td>4</td>\n",
       "    </tr>\n",
       "    <tr>\n",
       "      <th>23</th>\n",
       "      <td>positive</td>\n",
       "      <td>It's a good start! There are a few additions that would make it great though. 1) Enable an option to choose v4 by default. One less click. 2) After asking a question, the keyboard remains on screen taking up a third of the screen space and I have to manually minimize it. Automatically hiding it would be a better UX. One less click. 3) Include same options on the web version, including access to custom instructions, plugins and new beta features. 4) Include a text to speech option.</td>\n",
       "      <td>3</td>\n",
       "    </tr>\n",
       "    <tr>\n",
       "      <th>48</th>\n",
       "      <td>positive</td>\n",
       "      <td>Pretty awesome so far. The only thing new I want to see added is a widget for it that I can place right below my Google search bar on my phone. Edit. I would also like to see an export option where I could export my entire conversations as a text file. Sometimes I want to share what I asked or put into the app and the apps responses with my friends. Or just generally save the conversation externally. The current method of just copying each response or entry isn't enough.</td>\n",
       "      <td>5</td>\n",
       "    </tr>\n",
       "    <tr>\n",
       "      <th>26</th>\n",
       "      <td>positive</td>\n",
       "      <td>I use ChatGPT a lot for my studies and was happy when they announced the app. The app is cool and simple but it'd be great to bring some of the features on the website into the app. Like the design and Layout. For example, it's a bit long to have to go through the history to get my chats. And it would really also help if they added a search feature so you can search for keywords in your previous responses.</td>\n",
       "      <td>4</td>\n",
       "    </tr>\n",
       "    <tr>\n",
       "      <th>27</th>\n",
       "      <td>positive</td>\n",
       "      <td>This app is better than I expected. The interface is minimalist just like the site and the responses are quick. it doesn't take much space either but I noticed it uses a lot of internet traffic/mobile data(considering it runs on cloud based systems) but either way, I really appreciate this mobile app! Easy to use, straight to the point.</td>\n",
       "      <td>4</td>\n",
       "    </tr>\n",
       "    <tr>\n",
       "      <th>28</th>\n",
       "      <td>positive</td>\n",
       "      <td>I'm very impressed with my experience. Especially with how fast the response is and the clean interface just makes it better. AI's ability to answer questions, solve problems and help with personal tasks is totally insane. The fact that it's just the beginning and as time progresses and tech gets better so does our lives is just awesome. To summarize into a single sentence 'I love it'.</td>\n",
       "      <td>5</td>\n",
       "    </tr>\n",
       "    <tr>\n",
       "      <th>29</th>\n",
       "      <td>positive</td>\n",
       "      <td>Amazingly informative 👌. It would be extremely beneficial if the developers added a function to \"SELECT ALL\" and \"PRINT\" for a full day's worth of communication rather than having to try to copy and paste multiple sections. Going back and forth between two apps on a phone is very inconvenient.</td>\n",
       "      <td>5</td>\n",
       "    </tr>\n",
       "    <tr>\n",
       "      <th>22</th>\n",
       "      <td>positive</td>\n",
       "      <td>I've been using the ChatGPT for a while now, and I'm thoroughly impressed with its capabilities. The AI-generated responses are surprisingly natural &amp; making conversations feel smooth and engaging. The app's ability to understand context and provide relevant answers is truly remarkable. I've found it to be a valuable tool for brainstorming, getting quick information, and even just for some lighthearted conversations. While there's room for improvement in occasional unders</td>\n",
       "      <td>5</td>\n",
       "    </tr>\n",
       "    <tr>\n",
       "      <th>49</th>\n",
       "      <td>positive</td>\n",
       "      <td>Generally useful. I wish that it would offer the option to read aloud it's response to me, or even better, detect that I provided voice (to text) input in forming my query and THEN respond by reading aloud. Also, I appreciate that the app, by default, adjusts it's UI theme based on my system settings. Well done. However, that only kicked in after I had logged in after installation. It's initial login/setup screen used the default BRIGHT WHITE high contrast scheme that is very painful for me</td>\n",
       "      <td>3</td>\n",
       "    </tr>\n",
       "  </tbody>\n",
       "</table>\n",
       "</div>"
      ],
      "text/plain": [
       "    Category  \\\n",
       "0   negative   \n",
       "44  negative   \n",
       "43  negative   \n",
       "37  negative   \n",
       "36  negative   \n",
       "35  negative   \n",
       "34  negative   \n",
       "30  negative   \n",
       "25  negative   \n",
       "18  negative   \n",
       "14  negative   \n",
       "12  negative   \n",
       "24  negative   \n",
       "5   negative   \n",
       "4   negative   \n",
       "9   negative   \n",
       "8   negative   \n",
       "6    neutral   \n",
       "13  positive   \n",
       "3   positive   \n",
       "38  positive   \n",
       "39  positive   \n",
       "40  positive   \n",
       "41  positive   \n",
       "42  positive   \n",
       "2   positive   \n",
       "1   positive   \n",
       "45  positive   \n",
       "46  positive   \n",
       "47  positive   \n",
       "33  positive   \n",
       "32  positive   \n",
       "31  positive   \n",
       "7   positive   \n",
       "10  positive   \n",
       "15  positive   \n",
       "16  positive   \n",
       "17  positive   \n",
       "19  positive   \n",
       "20  positive   \n",
       "11  positive   \n",
       "21  positive   \n",
       "23  positive   \n",
       "48  positive   \n",
       "26  positive   \n",
       "27  positive   \n",
       "28  positive   \n",
       "29  positive   \n",
       "22  positive   \n",
       "49  positive   \n",
       "\n",
       "                                                                                                                                                                                                                                                                                                                                                                                                                                                                                                                 Content  \\\n",
       "0                                         ChatGPT on Android is a solid app with seamless OpenAI server connectivity, ensuring smooth interactions. However, it falls behind its Apple counterpart in features and updates. The voice input can be prematurely triggered by pauses, unlike on Apple. Additionally, the lack of a search function for previous messages is a drawback. Despite these, it remains a commendable app, deserving a 4-5 star rating. With minor improvements, it can match its Apple version.   \n",
       "44                       Good at explaining things in specific ways i could never instantly get a person to do. Only issue is that there should be some options: Such as, being able to delete certain segments of a long conversation that you no longer want to be shown. Or at least being able to search a chat for mentions of a word. Things like that which prevent ppl from having to scroll through everything in a chat that's been going on for a while. This app is very helpful AND entertaining though lol   \n",
       "43                                                                                               I have been using the ChatGPT since its release, and while I see its potential, there are a few issues that need to be addressed to enhance the user experience. I noticed that when I input a prompt text and press the backspace key, it unnecessarily removes the space between two immediate words. This can be quite frustrating as it disrupts the flow of my queries and makes the conversation feel disjointed.   \n",
       "37  I generally really like it but it's annoying that you have to press a button to get to the history, instead of it just being in the sidebar. Especially if you want to klick on multiple chats in a row it's REALLY annoying that you have to scroll down every time and find the chat where you left off. It also bugs me that editing a message isn't possible like it is on the website, because that's VERY useful. Also the option to add a secondary language would be nice, because I use German and English.   \n",
       "36                                                                                                                                                                                                         The animation that appears when I open the app runs twice, so if I start writing right away, everything I wrote disappears when the animation runs the second time and the big dot remains on the screen. It's annoying having to wait for the second animation or having to write everything all over again.   \n",
       "35                                                                                                                   Solid app, very clean interface. However it'd be nice if there was an option to have your history on the sidebar like on the web version. More importantly, I find it a little baffling that there is no option to edit and re-submit a query on the app. That's arguably one of the key features of ChatGPT, so I'm disappointed that it didn't make it's way to the official android application.   \n",
       "34                             The app mostly does what I expect it to : it's a good alternative from using ChatGPT in the browser on mobile. However, a feature that is present in the web version and that is missing in this app is the ability to render latex. This is a really important feature to me, as I don't want to have to go back and forth between the app and a latex/markdown renderer to discuss maths with ChatGPT, and the lack of this feature is the reason for the missing 2 stars in my review.   \n",
       "30                                                                                                                           Definitely more handy than opening browser for the web version, but inferior in all other aspects. The biggest problem for me is that I can't edit my prompts. As a plus subscriber I find the lack of beta features to be inconvenient. Another thing is that the UI is too big. This is especially annoying when reading and code snippets, as only a few words can fit in a row of text.   \n",
       "25                                                                                                 Smooth design and wonderful experience. However, I have some criticisms: - I would like to have easy access to my conversation history without having to go through the entire chat history. - When I open an old conversation, it scrolls from the first text I sent to the last one, causing a long waiting time. - The code blocks don't come with colors; they only display as black text on a white background.\"   \n",
       "18                                                     Easily the best app I've ever downloaded. Highly impressed. I only have 1 concern at the moment, and that is the fear of potentially losing a chat or chats getting too long for the AI to \"remember\" past details. Would love to see 1.) A way to save chats permanently. 2.) A search function so that I can search for past information, so that I can copy and paste it to \"refresh\" the AI's memory for context that has fallen outside it's context window.   \n",
       "14                The \"Voice Conversations\" feature is fantastic but has some shortcomings that need to be fixed. First, when I use it in the car, it drops out periodically and doesn't realize that I never heard the missing part. Instead, it should pause or restart when it reestablishes connection. Ideally, it sends the audio stream ahead of time so that a cell network glitch isn't noticeable by the end-user. It would also be good if it remembered our previous conversation instead of losing context.   \n",
       "12                                             The app is way better than the website! I have only two issues though: first, it requires phone number for sign up (but it asks you on website too); second, that's a very little bug (I didn't found any other bug, even small), but when I scroll down the chat I must wait a couple of seconds and once down it appears the button to go down anyway. However it's not that annoying. It also have long-term memory and can learn rapidly. You deserve 5 stars at all.   \n",
       "24    Amazing, it's sleek and professional looking, without looking overly \"corporate\", and the performance is faster than using a browser in mobile. Only complaint is that, in the process of making it simple, they removed some quality-of-life features, such as editing prompts, hiding edited prompts that were made in the browser and anything before and after regenerating a prompt in both browser and app, and placing all previous chats into a history section instead of just putting it in the sidebar.   \n",
       "5                                                                                                                                  Seems to work now. App seems nice but has two issues. The website mentions that users can enable voice conversations in \"Settings → App → New Features → Voice conversations (toggle on)\" but this setting doesn't exist. Also, when using voice dictation to compose a prompt, it writes mandarin text using simplified characters rather than standard form/traditional characters.   \n",
       "4                 I use this app for learning languages, which chatgpt is amazing at. However, there are a few things I'd like added. 1. A search function. Being able to search a word that's several tokens back would be great. 2. Ability to highlight a word and 'search with Google'. 3. An AI voice that can read back chatgpt's outputs. For language learning especially, it'd be very useful to hear how certain words are pronounced. But still, great client for chatgpt! Can't wait for future improvements   \n",
       "9             I love the app so far, and voice is great, but a few issues need to be ironed out before a five star is reasonable: 1. Voice doesn’t recognize for about a second or a little less. Once it tells you to talk, you have to wait about a second before it actually recognizes what you say. 2. When you leave voice to go back to messages, you always have to scroll down. 3. The scroll-to-bottom button appears even if you are at the bottom. 4. No way to view message log during voice communication.   \n",
       "8                                                                                                                              Voice conversations choppy, doesn't work anymore. It was working great, but then one day all of the voices never choppy and clicky. I can't make out what they're saying anymore. It also has a much harder time picking up what I'm saying. Sometimes it thinks I'm just saying \"bye\". Cleared cache, reinstalled, didn't help. Anyways, great app otherwise - looking forward to fixes!   \n",
       "6     This app is a mixed bag. On one hand, response times are vastly superior to those in the browser, custom instructions set in the browser are carried over and the ability to say what you want as a message is a crucial accessibility feature. On the other hand, messages are not possible to edit, which is a severe shortcoming in my opinion. The app is also quite basic, and any discussions done in the browser can't be continued in the app. Overall, it has great potential and can easily be improved.   \n",
       "13    \"I've been using this AI app for a while now, and I'm truly impressed with its capabilities. It consistently exceeds my expectations. The app's user-friendly interface makes it incredibly easy to navigate and utilize its features effectively. The AI's responses are not only prompt but also remarkably accurate. I appreciate how it adapts to my preferences and provides personalized recommendations. Whether it's helping me with research, answering questions, or even just engaging in casual conver   \n",
       "3                                                                                                                                                         No subscription, free and accurate, unbiased answers. No fresh data since September 2021 but that doesn't make this app less accurate. I'm loving the fact it can even generate basic ASCII ART other than just text. The text is excellent, grammar precise and a great plethora of vocabulary. I can't wait for the next update and to see what that brings.   \n",
       "38                                                                                                   I am incredibly impressed with this app! The app features is unparalleled, providing unlimited and accurate responses to all my questions. The app's interface is intuitive and easy to use, making my conversations with the AI incredibly smooth. I appreciate the wealth of knowledge and helpfulness it offers. Thank you for creating such an exceptional tool! I wholeheartedly recommend this app to anyone!   \n",
       "39          The ChatGPT Android app is an absolute delight! Its user-friendly design, informative answers, and engaging conversations make it a standout choice. I hope it remains simple and functional as new features are added. The app's adaptability and vast knowledge base are truly impressive, making it an invaluable companion in daily life. Kudos to the developers for striking the right balance between innovation and usability. I look forward to the app's continuous growth and hope it does go bad   \n",
       "40                                                                   I am thoroughly impressed by the ChatGPT Android app. Its exceptional language capabilities and user-friendly interface make it an invaluable tool for various tasks. The app's ability to provide accurate and coherent responses across diverse topics is truly remarkable. Its quick and intuitive nature ensures a seamless user experience. Without a doubt, a game-changer for anyone seeking efficient and reliable AI-driven conversations.   \n",
       "41  The ChatGPT app is a fantastic tool for communication and assistance. Its AI-powered responses are impressively accurate, and it provides valuable information on various topics. The interface is user-friendly, making interactions seamless and enjoyable. However, it could benefit from more frequent updates to stay up-to-date with the latest developments and improve performance further. Overall, the ChatGPT app is a reliable and helpful companion for anyone seeking quick answers and engaging conve   \n",
       "42           ChatGPT is impressive! Its responses are contextually relevant and informative. It covers various topics well. However, it can still generate incorrect or biased content. The Android app's interface is user-friendly, allowing for interactive conversations. Data privacy measures are in place. It would be even better if it asked clarifying questions when faced with ambiguity. Overall, ChatGPT is a valuable language model, but users should verify critical information from reliable sources.   \n",
       "2                    The ChatGPT Android app has completely blown me away with its exceptional performance and versatility! As an AI language model, it consistently delivers impressive responses to my queries and provides insightful suggestions. The ease of use and intuitive interface make chatting with ChatGPT a delightful experience. In all seriousness, it's good. It works. I would still recommend using the browser though, as the app lacks a few features, such as editing a message after it's sent.   \n",
       "1                     I've been using chatGPT for a while but I've just tested out the microphone speech recognition option for the first time, and let's say... I'M COMPLETELY BLOWN AWAY. NO, SERIOUSLY. It literally puts ALL the expressions, punctuation, in the right place. No matter how you talk, it converts it without a problem. It's amazing and I will probably will never type to ChatGPT again! Still though... that's some outstanding work. Now we wait for voice responses from the Bot! Hopefully...   \n",
       "45      🪲BUG🪲: When scrolling down, the v arrow still shows even if I'm at the bottom, only going away if I press it. Pretty annoying. 10/10 good for digital minimalism to get fast answers without being tempted to scroll through images, basically Google but better, and we all know Google is the best thing since sliced bread and penicillin, this is even better. Use custom instructions to make it act as you want, basically Character.ai but for an OC. This part needs better support for other languages.   \n",
       "46        So far my experience has been interestingly engaging and interactive. I likely found the AI model to be responsive and capable of understanding and generating coherent responses to prompts. The conversations feel so natural, as ChatGPT is able to maintain context and provide relevant information or suggestions at the fastest rate. Although, I'm quite aware of its limitations but so far I'm enjoying every bit of its use. Surely, I must recommend this app to family, friends and colleagues...   \n",
       "47                                                                                                                                                                    ChatGPT is an incredibly powerful AI language model. It's a versatile tool for generating text-based content and answering questions. While it's not flawless and occasionally provides inaccurate information, it's a valuable resource for various tasks. The user interface could be more user-friendly, but regular updates make it promising.   \n",
       "33                              ChatGPT App is an absolute game-changer in text-based communication. With its intuitive design and exceptional AI-powered responses, it has taken my daily interactions to the next level. The interface is user-friendly, making it suitable for both novices and experts alike. Whether it's a simple question or a complex query, the app provides accurate and timely responses. The free version is robust, and the paid plans offer even more advanced features. Highly recommend!   \n",
       "32                   I really think I am in love with this app because it is incredibly helpful. As a writer, I usually rely on it to generate creative ideas for my stories and assist me with my grammar mistakes. I must also mention that it helps me with other aspects as well. Edit: Idk what happened, but whenever I sent a message now it says connection error and I can't see any response this has just become way too bad!! Edit 2: Well it's working again but I think they can improve the UI very much.   \n",
       "31                                                                                                         Lovely service but I would like to make a few recommendations. Simple interface but it's too basic. Allow the use to have faster access to the previous chats. An interface similar to that of the browser. Consider adding the audio to text option on the free version. This will help train the system and help incorporate more languages into it. Other than this, lovely app and great work on Chatgpt.   \n",
       "7                        You've been using ChatGPT AI for a while, and it's among the best AI companions. It's lightning-fast and responsive, aiding you effectively. However, the app lags behind the web version in performance. The AI provides insightful and accurate responses for various tasks. The app interface is clean and user-friendly, but it can stutter compared to the web version. Despite this, it's a game-changer and a great on-the-go tool. Some performance optimizations could make it perfect   \n",
       "10                                                                                                                                                                   The app is good, but there's an issue with chat history syncing. Conversations initiated on the web version don't appear in the app, significantly affecting the app's usefulness. Additionally, attempting to refresh the chat history brings up an \"error occurred\" message. In essence, this is an app that actually limits access to the model.   \n",
       "15   This app is improving by the moment. With minimal input from me, just a few times, I have marked a response as being a \"Good Response,\" it has continually improved the way it responds to me specifically. I'm no programmer, but I had imagined what the interactions would be like with a personal AI assistant, and with each interaction, it gets closer to that ideal. Using this app for only the most basic if it's capabilities, I have freed up hours of time each week. 11 hr/wk so far, to be specific.   \n",
       "16  I've been using the ChatGPT app for some time now, and it has truly impressed me. The AI's responses are consistently helpful, informative, and engaging. The interface is user-friendly, and it's easy to have meaningful conversations on a wide range of topics. I particularly appreciate the app's reliability and the convenience of having access to this AI assistant on my mobile device. Overall, ChatGPT is a valuable tool that enhances productivity and provides answers to various questions. I highl   \n",
       "17                I updated my review from 2 to 4 stars because the app now works on my Chromebook, after a recent update. Earlier, I was not able to log in with the Chromebook because the app could not find any suitable browsers. Now it can. In my case, the app found and used Edge, which was not the \"default\" browser. I want to point out that the app never had any issues on my Android phone. The app seems to have all the features that I liked in the web version. Convenient speech to text is a plus.   \n",
       "19                                                                                         Overall, the app is quite useful, but there are a couple of bugs that need attention. Firstly, the code syntax doesn't have a distinct visual style from the normal text, which makes it challenging to differentiate. Secondly, when the text edit box is expanded in dark theme, the text appears black, making it difficult to read. I hope these issues get fixed soon as they would greatly improve the app's usability.   \n",
       "20                                                                                                                              The App interface is simple and easy to use, but I have some suggestions : 1- add optional audio reader for answers. 2- when asking the AI using microphone 🎤 it's better to send the question automatically without the need to press the sending button, so it gives the atmosphere of real-life conversation. Please take it into consideration, thanks for your efforts, keep it up!   \n",
       "11   The ChatGPT app is absolutely phenomenal! It's become an indispensable tool in my daily life. The app's ability to provide quick, accurate, and insightful information across a wide range of topics is truly impressive. The interface is user-friendly, making it a breeze to interact with this AI. Whether I need answers to complex questions, assistance with language and writing, or just some casual conversation, ChatGPT excels at it all. It's like having a knowledgeable friend in your pocket at all   \n",
       "21                                                                                                                                        It's like having a personal assistant who is capable of doing most simple tasks instantaneously. Write an email, give you instructions on how to do many web-based tasks, help you do research... those are just some of the most basic things the app can do. I think the most involved aspect of using this app, is figuring out, and exploring all of the things it can do!   \n",
       "23                 It's a good start! There are a few additions that would make it great though. 1) Enable an option to choose v4 by default. One less click. 2) After asking a question, the keyboard remains on screen taking up a third of the screen space and I have to manually minimize it. Automatically hiding it would be a better UX. One less click. 3) Include same options on the web version, including access to custom instructions, plugins and new beta features. 4) Include a text to speech option.   \n",
       "48                           Pretty awesome so far. The only thing new I want to see added is a widget for it that I can place right below my Google search bar on my phone. Edit. I would also like to see an export option where I could export my entire conversations as a text file. Sometimes I want to share what I asked or put into the app and the apps responses with my friends. Or just generally save the conversation externally. The current method of just copying each response or entry isn't enough.   \n",
       "26                                                                                             I use ChatGPT a lot for my studies and was happy when they announced the app. The app is cool and simple but it'd be great to bring some of the features on the website into the app. Like the design and Layout. For example, it's a bit long to have to go through the history to get my chats. And it would really also help if they added a search feature so you can search for keywords in your previous responses.   \n",
       "27                                                                                                                                                                    This app is better than I expected. The interface is minimalist just like the site and the responses are quick. it doesn't take much space either but I noticed it uses a lot of internet traffic/mobile data(considering it runs on cloud based systems) but either way, I really appreciate this mobile app! Easy to use, straight to the point.   \n",
       "28                                                                                                                  I'm very impressed with my experience. Especially with how fast the response is and the clean interface just makes it better. AI's ability to answer questions, solve problems and help with personal tasks is totally insane. The fact that it's just the beginning and as time progresses and tech gets better so does our lives is just awesome. To summarize into a single sentence 'I love it'.   \n",
       "29                                                                                                                                                                                                                Amazingly informative 👌. It would be extremely beneficial if the developers added a function to \"SELECT ALL\" and \"PRINT\" for a full day's worth of communication rather than having to try to copy and paste multiple sections. Going back and forth between two apps on a phone is very inconvenient.   \n",
       "22                          I've been using the ChatGPT for a while now, and I'm thoroughly impressed with its capabilities. The AI-generated responses are surprisingly natural & making conversations feel smooth and engaging. The app's ability to understand context and provide relevant answers is truly remarkable. I've found it to be a valuable tool for brainstorming, getting quick information, and even just for some lighthearted conversations. While there's room for improvement in occasional unders   \n",
       "49       Generally useful. I wish that it would offer the option to read aloud it's response to me, or even better, detect that I provided voice (to text) input in forming my query and THEN respond by reading aloud. Also, I appreciate that the app, by default, adjusts it's UI theme based on my system settings. Well done. However, that only kicked in after I had logged in after installation. It's initial login/setup screen used the default BRIGHT WHITE high contrast scheme that is very painful for me   \n",
       "\n",
       "    Star  \n",
       "0      4  \n",
       "44     4  \n",
       "43     3  \n",
       "37     4  \n",
       "36     3  \n",
       "35     3  \n",
       "34     3  \n",
       "30     3  \n",
       "25     4  \n",
       "18     5  \n",
       "14     5  \n",
       "12     5  \n",
       "24     4  \n",
       "5      3  \n",
       "4      4  \n",
       "9      3  \n",
       "8      3  \n",
       "6      3  \n",
       "13     5  \n",
       "3      5  \n",
       "38     5  \n",
       "39     5  \n",
       "40     5  \n",
       "41     5  \n",
       "42     5  \n",
       "2      4  \n",
       "1      5  \n",
       "45     5  \n",
       "46     5  \n",
       "47     5  \n",
       "33     5  \n",
       "32     4  \n",
       "31     2  \n",
       "7      5  \n",
       "10     2  \n",
       "15     5  \n",
       "16     5  \n",
       "17     4  \n",
       "19     4  \n",
       "20     4  \n",
       "11     5  \n",
       "21     4  \n",
       "23     3  \n",
       "48     5  \n",
       "26     4  \n",
       "27     4  \n",
       "28     5  \n",
       "29     5  \n",
       "22     5  \n",
       "49     3  "
      ]
     },
     "execution_count": 47,
     "metadata": {},
     "output_type": "execute_result"
    }
   ],
   "source": [
    "pd.set_option('max_colwidth', 700)\n",
    "dataset.sort_values('Category', ascending=True)"
   ]
  },
  {
   "cell_type": "code",
   "execution_count": null,
   "metadata": {},
   "outputs": [],
   "source": [
    "from transformers import AutoTokenizer\n",
    "\n",
    "tokenizer = AutoTokenizer.from_pretrained(\"distilbert-base-uncased\")"
   ]
  },
  {
   "cell_type": "code",
   "execution_count": null,
   "metadata": {},
   "outputs": [],
   "source": [
    "def preprocess_function(df):\n",
    "    return tokenizer(df[\"content\"], truncation=True)"
   ]
  },
  {
   "cell_type": "code",
   "execution_count": null,
   "metadata": {},
   "outputs": [
    {
     "ename": "AttributeError",
     "evalue": "'DataFrame' object has no attribute 'map'",
     "output_type": "error",
     "traceback": [
      "\u001b[0;31m---------------------------------------------------------------------------\u001b[0m",
      "\u001b[0;31mAttributeError\u001b[0m                            Traceback (most recent call last)",
      "\u001b[0;32m/var/folders/vl/wpx53sjn0nv5cmny0jckrfjr0000gn/T/ipykernel_38565/3178198390.py\u001b[0m in \u001b[0;36m?\u001b[0;34m()\u001b[0m\n\u001b[0;32m----> 1\u001b[0;31m \u001b[0mtokenized_df\u001b[0m \u001b[0;34m=\u001b[0m \u001b[0mdf\u001b[0m\u001b[0;34m.\u001b[0m\u001b[0mmap\u001b[0m\u001b[0;34m(\u001b[0m\u001b[0mpreprocess_function\u001b[0m\u001b[0;34m,\u001b[0m \u001b[0mbatched\u001b[0m\u001b[0;34m=\u001b[0m\u001b[0;32mTrue\u001b[0m\u001b[0;34m)\u001b[0m\u001b[0;34m\u001b[0m\u001b[0;34m\u001b[0m\u001b[0m\n\u001b[0m",
      "\u001b[0;32m~/Documents/Bootcamp/Git/Capstone/capstone_chat-gpt/.venv/lib/python3.11/site-packages/pandas/core/generic.py\u001b[0m in \u001b[0;36m?\u001b[0;34m(self, name)\u001b[0m\n\u001b[1;32m   5985\u001b[0m             \u001b[0;32mand\u001b[0m \u001b[0mname\u001b[0m \u001b[0;32mnot\u001b[0m \u001b[0;32min\u001b[0m \u001b[0mself\u001b[0m\u001b[0;34m.\u001b[0m\u001b[0m_accessors\u001b[0m\u001b[0;34m\u001b[0m\u001b[0;34m\u001b[0m\u001b[0m\n\u001b[1;32m   5986\u001b[0m             \u001b[0;32mand\u001b[0m \u001b[0mself\u001b[0m\u001b[0;34m.\u001b[0m\u001b[0m_info_axis\u001b[0m\u001b[0;34m.\u001b[0m\u001b[0m_can_hold_identifiers_and_holds_name\u001b[0m\u001b[0;34m(\u001b[0m\u001b[0mname\u001b[0m\u001b[0;34m)\u001b[0m\u001b[0;34m\u001b[0m\u001b[0;34m\u001b[0m\u001b[0m\n\u001b[1;32m   5987\u001b[0m         ):\n\u001b[1;32m   5988\u001b[0m             \u001b[0;32mreturn\u001b[0m \u001b[0mself\u001b[0m\u001b[0;34m[\u001b[0m\u001b[0mname\u001b[0m\u001b[0;34m]\u001b[0m\u001b[0;34m\u001b[0m\u001b[0;34m\u001b[0m\u001b[0m\n\u001b[0;32m-> 5989\u001b[0;31m         \u001b[0;32mreturn\u001b[0m \u001b[0mobject\u001b[0m\u001b[0;34m.\u001b[0m\u001b[0m__getattribute__\u001b[0m\u001b[0;34m(\u001b[0m\u001b[0mself\u001b[0m\u001b[0;34m,\u001b[0m \u001b[0mname\u001b[0m\u001b[0;34m)\u001b[0m\u001b[0;34m\u001b[0m\u001b[0;34m\u001b[0m\u001b[0m\n\u001b[0m",
      "\u001b[0;31mAttributeError\u001b[0m: 'DataFrame' object has no attribute 'map'"
     ]
    }
   ],
   "source": [
    "tokenized_df = df.map(preprocess_function, batched=True)"
   ]
  },
  {
   "cell_type": "code",
   "execution_count": null,
   "metadata": {},
   "outputs": [],
   "source": [
    "from transformers import DataCollatorWithPadding\n",
    "\n",
    "data_collator = DataCollatorWithPadding(tokenizer=tokenizer)"
   ]
  },
  {
   "cell_type": "code",
   "execution_count": null,
   "metadata": {},
   "outputs": [
    {
     "data": {
      "text/plain": [
       "0                                          ChatGPT on Android is a solid app with seamless OpenAI server connectivity, ensuring smooth interactions. However, it falls behind its Apple counterpart in features and updates. The voice input can be prematurely triggered by pauses, unlike on Apple. Additionally, the lack of a search function for previous messages is a drawback. Despite these, it remains a commendable app, deserving a 4-5 star rating. With minor improvements, it can match its Apple version.\n",
       "1                      I've been using chatGPT for a while but I've just tested out the microphone speech recognition option for the first time, and let's say... I'M COMPLETELY BLOWN AWAY. NO, SERIOUSLY. It literally puts ALL the expressions, punctuation, in the right place. No matter how you talk, it converts it without a problem. It's amazing and I will probably will never type to ChatGPT again! Still though... that's some outstanding work. Now we wait for voice responses from the Bot! Hopefully...\n",
       "2                     The ChatGPT Android app has completely blown me away with its exceptional performance and versatility! As an AI language model, it consistently delivers impressive responses to my queries and provides insightful suggestions. The ease of use and intuitive interface make chatting with ChatGPT a delightful experience. In all seriousness, it's good. It works. I would still recommend using the browser though, as the app lacks a few features, such as editing a message after it's sent.\n",
       "3                                                                                                                                                          No subscription, free and accurate, unbiased answers. No fresh data since September 2021 but that doesn't make this app less accurate. I'm loving the fact it can even generate basic ASCII ART other than just text. The text is excellent, grammar precise and a great plethora of vocabulary. I can't wait for the next update and to see what that brings.\n",
       "4                  I use this app for learning languages, which chatgpt is amazing at. However, there are a few things I'd like added. 1. A search function. Being able to search a word that's several tokens back would be great. 2. Ability to highlight a word and 'search with Google'. 3. An AI voice that can read back chatgpt's outputs. For language learning especially, it'd be very useful to hear how certain words are pronounced. But still, great client for chatgpt! Can't wait for future improvements\n",
       "                                                                                                                                                                                                                                                             ...                                                                                                                                                                                                                                                         \n",
       "95              I was amazed by the work the developers have done on it. A premium feel that is difficult to achieve. Maintaining this feel with all the features of Website on this light weight app. I do have a suggestion. I don't see any option to edit my last sent request. I don't like long chat so on web version I used to just edit my last command but cant do that here. And When I try to use the mic option, There is a transcription error. And After that I have to restart app to again write message\n",
       "96                                                                                                I've not been able to run this app so my review is only based on the very little interaction I have had with it. The app crashes while trying to register my details. the DOB data can not be changed via the keyboard, wether this is because it's a chromebook or the app has crasherd at this point I'm not sure. I will give it more stars if it ever gets past this point, but until then one star it will remain.\n",
       "97          You can grow and learn easier than at any point in history. Learn to use ChatGPT and have a teacher next to you each step of the way. I bounce ideas off ChatGPT.I ask for irrigation troubleshooting. Every task I use Chat GPT for is another task I know I can accomplish. The best mentors helped me through difficult problems in a learning but solving way. I need good instruction to keep moving forward in areas that seem to be taking too long. This tool can set you up for success just ask it.\n",
       "98                                       Of course! Here's a review for ChatGPT on Google Play based on your sentiments: --- ⭐⭐⭐⭐⭐ I've been thoroughly enjoying my experience with ChatGPT. One feature that stands out, especially when compared to the web version, is the search function in the chat history. It makes referencing past conversations a breeze! A suggestion for improvement would be the ability to pin the most frequently used chats to the top for even easier access. Overall, a fantastic app!\n",
       "99    ChatGPT for Android is a fantastic language model app! Its responsiveness and accuracy in understanding my queries impressed me. It offers a wide range of information, making it a reliable source for quick answers. Additionally, the app's user-friendly interface and smooth navigation make the experience enjoyable. Overall, ChatGPT for Android is a must-have tool for anyone seeking assistance with language-related tasks on the go. Kudos to the developers for creating such a helpful and efficient\n",
       "Name: content, Length: 100, dtype: object"
      ]
     },
     "execution_count": 84,
     "metadata": {},
     "output_type": "execute_result"
    }
   ],
   "source": [
    "df['content'][0:100]"
   ]
  },
  {
   "cell_type": "code",
   "execution_count": null,
   "metadata": {},
   "outputs": [],
   "source": [
    "#id2label = {0: \"NEGATIVE\", 1: \"POSITIVE\"}\n",
    "#label2id = {\"NEGATIVE\": 0, \"POSITIVE\": 1}"
   ]
  },
  {
   "cell_type": "code",
   "execution_count": 66,
   "metadata": {},
   "outputs": [
    {
     "ename": "RuntimeError",
     "evalue": "Failed to import transformers.models.gpt_bigcode.modeling_gpt_bigcode because of the following error (look up to see its traceback):\nCan't get source for <function softmax at 0x177b90680>. TorchScript requires source access in order to carry out compilation, make sure original .py files are available.",
     "output_type": "error",
     "traceback": [
      "\u001b[0;31m---------------------------------------------------------------------------\u001b[0m",
      "\u001b[0;31mOSError\u001b[0m                                   Traceback (most recent call last)",
      "File \u001b[0;32m~/Documents/Bootcamp/Git/Capstone/capstone_chat-gpt/.venv/lib/python3.11/site-packages/torch/_sources.py:23\u001b[0m, in \u001b[0;36mget_source_lines_and_file\u001b[0;34m(obj, error_msg)\u001b[0m\n",
      "File \u001b[0;32m~/.pyenv/versions/3.11.3/lib/python3.11/inspect.py:1244\u001b[0m, in \u001b[0;36mgetsourcelines\u001b[0;34m(object)\u001b[0m\n\u001b[1;32m   1243\u001b[0m \u001b[39mobject\u001b[39m \u001b[39m=\u001b[39m unwrap(\u001b[39mobject\u001b[39m)\n\u001b[0;32m-> 1244\u001b[0m lines, lnum \u001b[39m=\u001b[39m findsource(\u001b[39mobject\u001b[39;49m)\n\u001b[1;32m   1246\u001b[0m \u001b[39mif\u001b[39;00m istraceback(\u001b[39mobject\u001b[39m):\n",
      "File \u001b[0;32m~/.pyenv/versions/3.11.3/lib/python3.11/inspect.py:1081\u001b[0m, in \u001b[0;36mfindsource\u001b[0;34m(object)\u001b[0m\n\u001b[1;32m   1080\u001b[0m \u001b[39mif\u001b[39;00m \u001b[39mnot\u001b[39;00m lines:\n\u001b[0;32m-> 1081\u001b[0m     \u001b[39mraise\u001b[39;00m \u001b[39mOSError\u001b[39;00m(\u001b[39m'\u001b[39m\u001b[39mcould not get source code\u001b[39m\u001b[39m'\u001b[39m)\n\u001b[1;32m   1083\u001b[0m \u001b[39mif\u001b[39;00m ismodule(\u001b[39mobject\u001b[39m):\n",
      "\u001b[0;31mOSError\u001b[0m: could not get source code",
      "\nThe above exception was the direct cause of the following exception:\n",
      "\u001b[0;31mOSError\u001b[0m                                   Traceback (most recent call last)",
      "File \u001b[0;32m~/Documents/Bootcamp/Git/Capstone/capstone_chat-gpt/.venv/lib/python3.11/site-packages/transformers/utils/import_utils.py:1086\u001b[0m, in \u001b[0;36m_LazyModule._get_module\u001b[0;34m(self, module_name)\u001b[0m\n\u001b[1;32m   1085\u001b[0m \u001b[39mtry\u001b[39;00m:\n\u001b[0;32m-> 1086\u001b[0m     \u001b[39mreturn\u001b[39;00m importlib\u001b[39m.\u001b[39;49mimport_module(\u001b[39m\"\u001b[39;49m\u001b[39m.\u001b[39;49m\u001b[39m\"\u001b[39;49m \u001b[39m+\u001b[39;49m module_name, \u001b[39mself\u001b[39;49m\u001b[39m.\u001b[39;49m\u001b[39m__name__\u001b[39;49m)\n\u001b[1;32m   1087\u001b[0m \u001b[39mexcept\u001b[39;00m \u001b[39mException\u001b[39;00m \u001b[39mas\u001b[39;00m e:\n",
      "File \u001b[0;32m~/.pyenv/versions/3.11.3/lib/python3.11/importlib/__init__.py:126\u001b[0m, in \u001b[0;36mimport_module\u001b[0;34m(name, package)\u001b[0m\n\u001b[1;32m    125\u001b[0m         level \u001b[39m+\u001b[39m\u001b[39m=\u001b[39m \u001b[39m1\u001b[39m\n\u001b[0;32m--> 126\u001b[0m \u001b[39mreturn\u001b[39;00m _bootstrap\u001b[39m.\u001b[39;49m_gcd_import(name[level:], package, level)\n",
      "File \u001b[0;32m<frozen importlib._bootstrap>:1206\u001b[0m, in \u001b[0;36m_gcd_import\u001b[0;34m(name, package, level)\u001b[0m\n",
      "File \u001b[0;32m<frozen importlib._bootstrap>:1178\u001b[0m, in \u001b[0;36m_find_and_load\u001b[0;34m(name, import_)\u001b[0m\n",
      "File \u001b[0;32m<frozen importlib._bootstrap>:1149\u001b[0m, in \u001b[0;36m_find_and_load_unlocked\u001b[0;34m(name, import_)\u001b[0m\n",
      "File \u001b[0;32m<frozen importlib._bootstrap>:690\u001b[0m, in \u001b[0;36m_load_unlocked\u001b[0;34m(spec)\u001b[0m\n",
      "File \u001b[0;32m<frozen importlib._bootstrap_external>:940\u001b[0m, in \u001b[0;36mexec_module\u001b[0;34m(self, module)\u001b[0m\n",
      "File \u001b[0;32m<frozen importlib._bootstrap>:241\u001b[0m, in \u001b[0;36m_call_with_frames_removed\u001b[0;34m(f, *args, **kwds)\u001b[0m\n",
      "File \u001b[0;32m~/Documents/Bootcamp/Git/Capstone/capstone_chat-gpt/.venv/lib/python3.11/site-packages/transformers/models/gpt_bigcode/modeling_gpt_bigcode.py:55\u001b[0m\n\u001b[1;32m     51\u001b[0m \u001b[39m# Fused kernels\u001b[39;00m\n\u001b[1;32m     52\u001b[0m \u001b[39m# Use separate functions for each case because conditionals prevent kernel fusion.\u001b[39;00m\n\u001b[1;32m     53\u001b[0m \u001b[39m# TODO: Could have better fused kernels depending on scaling, dropout and head mask.\u001b[39;00m\n\u001b[1;32m     54\u001b[0m \u001b[39m#  Is it doable without writing 32 functions?\u001b[39;00m\n\u001b[0;32m---> 55\u001b[0m \u001b[39m@torch\u001b[39;49m\u001b[39m.\u001b[39;49mjit\u001b[39m.\u001b[39;49mscript\n\u001b[1;32m     56\u001b[0m \u001b[39mdef\u001b[39;49;00m \u001b[39mupcast_masked_softmax\u001b[39;49m(\n\u001b[1;32m     57\u001b[0m     x: torch\u001b[39m.\u001b[39;49mTensor, mask: torch\u001b[39m.\u001b[39;49mTensor, mask_value: torch\u001b[39m.\u001b[39;49mTensor, scale: \u001b[39mfloat\u001b[39;49m, softmax_dtype: torch\u001b[39m.\u001b[39;49mdtype\n\u001b[1;32m     58\u001b[0m ):\n\u001b[1;32m     59\u001b[0m     input_dtype \u001b[39m=\u001b[39;49m x\u001b[39m.\u001b[39;49mdtype\n",
      "File \u001b[0;32m~/Documents/Bootcamp/Git/Capstone/capstone_chat-gpt/.venv/lib/python3.11/site-packages/torch/jit/_script.py:1381\u001b[0m, in \u001b[0;36mscript\u001b[0;34m(obj, optimize, _frames_up, _rcb, example_inputs)\u001b[0m\n",
      "File \u001b[0;32m~/Documents/Bootcamp/Git/Capstone/capstone_chat-gpt/.venv/lib/python3.11/site-packages/torch/jit/_recursive.py:1010\u001b[0m, in \u001b[0;36mtry_compile_fn\u001b[0;34m(fn, loc)\u001b[0m\n",
      "File \u001b[0;32m~/Documents/Bootcamp/Git/Capstone/capstone_chat-gpt/.venv/lib/python3.11/site-packages/torch/jit/_script.py:1378\u001b[0m, in \u001b[0;36mscript\u001b[0;34m(obj, optimize, _frames_up, _rcb, example_inputs)\u001b[0m\n",
      "File \u001b[0;32m~/Documents/Bootcamp/Git/Capstone/capstone_chat-gpt/.venv/lib/python3.11/site-packages/torch/jit/frontend.py:331\u001b[0m, in \u001b[0;36mget_jit_def\u001b[0;34m(fn, def_name, self_name, is_classmethod)\u001b[0m\n",
      "File \u001b[0;32m~/Documents/Bootcamp/Git/Capstone/capstone_chat-gpt/.venv/lib/python3.11/site-packages/torch/_sources.py:120\u001b[0m, in \u001b[0;36mparse_def\u001b[0;34m(fn)\u001b[0m\n",
      "File \u001b[0;32m~/Documents/Bootcamp/Git/Capstone/capstone_chat-gpt/.venv/lib/python3.11/site-packages/torch/_sources.py:32\u001b[0m, in \u001b[0;36mget_source_lines_and_file\u001b[0;34m(obj, error_msg)\u001b[0m\n",
      "\u001b[0;31mOSError\u001b[0m: Can't get source for <function softmax at 0x177b90680>. TorchScript requires source access in order to carry out compilation, make sure original .py files are available.",
      "\nThe above exception was the direct cause of the following exception:\n",
      "\u001b[0;31mRuntimeError\u001b[0m                              Traceback (most recent call last)",
      "\u001b[1;32m/Users/janice/Documents/Bootcamp/Git/Capstone/capstone_chat-gpt/notebooks/2_feature_engineering.ipynb Zelle 48\u001b[0m line \u001b[0;36m3\n\u001b[1;32m      <a href='vscode-notebook-cell:/Users/janice/Documents/Bootcamp/Git/Capstone/capstone_chat-gpt/notebooks/2_feature_engineering.ipynb#X64sZmlsZQ%3D%3D?line=0'>1</a>\u001b[0m \u001b[39mfrom\u001b[39;00m \u001b[39mtransformers\u001b[39;00m \u001b[39mimport\u001b[39;00m pipeline\n\u001b[0;32m----> <a href='vscode-notebook-cell:/Users/janice/Documents/Bootcamp/Git/Capstone/capstone_chat-gpt/notebooks/2_feature_engineering.ipynb#X64sZmlsZQ%3D%3D?line=2'>3</a>\u001b[0m classifier \u001b[39m=\u001b[39m pipeline(\u001b[39m\"\u001b[39;49m\u001b[39msentiment-analysis\u001b[39;49m\u001b[39m\"\u001b[39;49m, model\u001b[39m=\u001b[39;49m\u001b[39m\"\u001b[39;49m\u001b[39mstevhliu/my_awesome_model\u001b[39;49m\u001b[39m\"\u001b[39;49m)\n\u001b[1;32m      <a href='vscode-notebook-cell:/Users/janice/Documents/Bootcamp/Git/Capstone/capstone_chat-gpt/notebooks/2_feature_engineering.ipynb#X64sZmlsZQ%3D%3D?line=3'>4</a>\u001b[0m classifier(df[\u001b[39m'\u001b[39m\u001b[39mcontent\u001b[39m\u001b[39m'\u001b[39m][\u001b[39m1\u001b[39m])\n",
      "File \u001b[0;32m~/Documents/Bootcamp/Git/Capstone/capstone_chat-gpt/.venv/lib/python3.11/site-packages/transformers/pipelines/__init__.py:988\u001b[0m, in \u001b[0;36mpipeline\u001b[0;34m(task, model, config, tokenizer, feature_extractor, image_processor, framework, revision, use_fast, use_auth_token, device, device_map, torch_dtype, trust_remote_code, model_kwargs, pipeline_class, **kwargs)\u001b[0m\n\u001b[1;32m    985\u001b[0m \u001b[39mif\u001b[39;00m device \u001b[39mis\u001b[39;00m \u001b[39mnot\u001b[39;00m \u001b[39mNone\u001b[39;00m:\n\u001b[1;32m    986\u001b[0m     kwargs[\u001b[39m\"\u001b[39m\u001b[39mdevice\u001b[39m\u001b[39m\"\u001b[39m] \u001b[39m=\u001b[39m device\n\u001b[0;32m--> 988\u001b[0m \u001b[39mreturn\u001b[39;00m pipeline_class(model\u001b[39m=\u001b[39;49mmodel, framework\u001b[39m=\u001b[39;49mframework, task\u001b[39m=\u001b[39;49mtask, \u001b[39m*\u001b[39;49m\u001b[39m*\u001b[39;49mkwargs)\n",
      "File \u001b[0;32m~/Documents/Bootcamp/Git/Capstone/capstone_chat-gpt/.venv/lib/python3.11/site-packages/transformers/pipelines/text_classification.py:85\u001b[0m, in \u001b[0;36mTextClassificationPipeline.__init__\u001b[0;34m(self, **kwargs)\u001b[0m\n\u001b[1;32m     82\u001b[0m \u001b[39mdef\u001b[39;00m \u001b[39m__init__\u001b[39m(\u001b[39mself\u001b[39m, \u001b[39m*\u001b[39m\u001b[39m*\u001b[39mkwargs):\n\u001b[1;32m     83\u001b[0m     \u001b[39msuper\u001b[39m()\u001b[39m.\u001b[39m\u001b[39m__init__\u001b[39m(\u001b[39m*\u001b[39m\u001b[39m*\u001b[39mkwargs)\n\u001b[0;32m---> 85\u001b[0m     \u001b[39mself\u001b[39;49m\u001b[39m.\u001b[39;49mcheck_model_type(\n\u001b[1;32m     86\u001b[0m         TF_MODEL_FOR_SEQUENCE_CLASSIFICATION_MAPPING\n\u001b[1;32m     87\u001b[0m         \u001b[39mif\u001b[39;49;00m \u001b[39mself\u001b[39;49m\u001b[39m.\u001b[39;49mframework \u001b[39m==\u001b[39;49m \u001b[39m\"\u001b[39;49m\u001b[39mtf\u001b[39;49m\u001b[39m\"\u001b[39;49m\n\u001b[1;32m     88\u001b[0m         \u001b[39melse\u001b[39;49;00m MODEL_FOR_SEQUENCE_CLASSIFICATION_MAPPING\n\u001b[1;32m     89\u001b[0m     )\n",
      "File \u001b[0;32m~/Documents/Bootcamp/Git/Capstone/capstone_chat-gpt/.venv/lib/python3.11/site-packages/transformers/pipelines/base.py:953\u001b[0m, in \u001b[0;36mPipeline.check_model_type\u001b[0;34m(self, supported_models)\u001b[0m\n\u001b[1;32m    951\u001b[0m \u001b[39mif\u001b[39;00m \u001b[39mnot\u001b[39;00m \u001b[39misinstance\u001b[39m(supported_models, \u001b[39mlist\u001b[39m):  \u001b[39m# Create from a model mapping\u001b[39;00m\n\u001b[1;32m    952\u001b[0m     supported_models_names \u001b[39m=\u001b[39m []\n\u001b[0;32m--> 953\u001b[0m     \u001b[39mfor\u001b[39;00m config, model \u001b[39min\u001b[39;00m supported_models\u001b[39m.\u001b[39;49mitems():\n\u001b[1;32m    954\u001b[0m         \u001b[39m# Mapping can now contain tuples of models for the same configuration.\u001b[39;00m\n\u001b[1;32m    955\u001b[0m         \u001b[39mif\u001b[39;00m \u001b[39misinstance\u001b[39m(model, \u001b[39mtuple\u001b[39m):\n\u001b[1;32m    956\u001b[0m             supported_models_names\u001b[39m.\u001b[39mextend([_model\u001b[39m.\u001b[39m\u001b[39m__name__\u001b[39m \u001b[39mfor\u001b[39;00m _model \u001b[39min\u001b[39;00m model])\n",
      "File \u001b[0;32m~/Documents/Bootcamp/Git/Capstone/capstone_chat-gpt/.venv/lib/python3.11/site-packages/transformers/models/auto/auto_factory.py:699\u001b[0m, in \u001b[0;36m_LazyAutoMapping.items\u001b[0;34m(self)\u001b[0m\n\u001b[1;32m    698\u001b[0m \u001b[39mdef\u001b[39;00m \u001b[39mitems\u001b[39m(\u001b[39mself\u001b[39m):\n\u001b[0;32m--> 699\u001b[0m     mapping_items \u001b[39m=\u001b[39m [\n\u001b[1;32m    700\u001b[0m         (\n\u001b[1;32m    701\u001b[0m             \u001b[39mself\u001b[39;49m\u001b[39m.\u001b[39;49m_load_attr_from_module(key, \u001b[39mself\u001b[39;49m\u001b[39m.\u001b[39;49m_config_mapping[key]),\n\u001b[1;32m    702\u001b[0m             \u001b[39mself\u001b[39;49m\u001b[39m.\u001b[39;49m_load_attr_from_module(key, \u001b[39mself\u001b[39;49m\u001b[39m.\u001b[39;49m_model_mapping[key]),\n\u001b[1;32m    703\u001b[0m         )\n\u001b[1;32m    704\u001b[0m         \u001b[39mfor\u001b[39;49;00m key \u001b[39min\u001b[39;49;00m \u001b[39mself\u001b[39;49m\u001b[39m.\u001b[39;49m_model_mapping\u001b[39m.\u001b[39;49mkeys()\n\u001b[1;32m    705\u001b[0m         \u001b[39mif\u001b[39;49;00m key \u001b[39min\u001b[39;49;00m \u001b[39mself\u001b[39;49m\u001b[39m.\u001b[39;49m_config_mapping\u001b[39m.\u001b[39;49mkeys()\n\u001b[1;32m    706\u001b[0m     ]\n\u001b[1;32m    707\u001b[0m     \u001b[39mreturn\u001b[39;00m mapping_items \u001b[39m+\u001b[39m \u001b[39mlist\u001b[39m(\u001b[39mself\u001b[39m\u001b[39m.\u001b[39m_extra_content\u001b[39m.\u001b[39mitems())\n",
      "File \u001b[0;32m~/Documents/Bootcamp/Git/Capstone/capstone_chat-gpt/.venv/lib/python3.11/site-packages/transformers/models/auto/auto_factory.py:702\u001b[0m, in \u001b[0;36m<listcomp>\u001b[0;34m(.0)\u001b[0m\n\u001b[1;32m    698\u001b[0m \u001b[39mdef\u001b[39;00m \u001b[39mitems\u001b[39m(\u001b[39mself\u001b[39m):\n\u001b[1;32m    699\u001b[0m     mapping_items \u001b[39m=\u001b[39m [\n\u001b[1;32m    700\u001b[0m         (\n\u001b[1;32m    701\u001b[0m             \u001b[39mself\u001b[39m\u001b[39m.\u001b[39m_load_attr_from_module(key, \u001b[39mself\u001b[39m\u001b[39m.\u001b[39m_config_mapping[key]),\n\u001b[0;32m--> 702\u001b[0m             \u001b[39mself\u001b[39;49m\u001b[39m.\u001b[39;49m_load_attr_from_module(key, \u001b[39mself\u001b[39;49m\u001b[39m.\u001b[39;49m_model_mapping[key]),\n\u001b[1;32m    703\u001b[0m         )\n\u001b[1;32m    704\u001b[0m         \u001b[39mfor\u001b[39;00m key \u001b[39min\u001b[39;00m \u001b[39mself\u001b[39m\u001b[39m.\u001b[39m_model_mapping\u001b[39m.\u001b[39mkeys()\n\u001b[1;32m    705\u001b[0m         \u001b[39mif\u001b[39;00m key \u001b[39min\u001b[39;00m \u001b[39mself\u001b[39m\u001b[39m.\u001b[39m_config_mapping\u001b[39m.\u001b[39mkeys()\n\u001b[1;32m    706\u001b[0m     ]\n\u001b[1;32m    707\u001b[0m     \u001b[39mreturn\u001b[39;00m mapping_items \u001b[39m+\u001b[39m \u001b[39mlist\u001b[39m(\u001b[39mself\u001b[39m\u001b[39m.\u001b[39m_extra_content\u001b[39m.\u001b[39mitems())\n",
      "File \u001b[0;32m~/Documents/Bootcamp/Git/Capstone/capstone_chat-gpt/.venv/lib/python3.11/site-packages/transformers/models/auto/auto_factory.py:671\u001b[0m, in \u001b[0;36m_LazyAutoMapping._load_attr_from_module\u001b[0;34m(self, model_type, attr)\u001b[0m\n\u001b[1;32m    669\u001b[0m \u001b[39mif\u001b[39;00m module_name \u001b[39mnot\u001b[39;00m \u001b[39min\u001b[39;00m \u001b[39mself\u001b[39m\u001b[39m.\u001b[39m_modules:\n\u001b[1;32m    670\u001b[0m     \u001b[39mself\u001b[39m\u001b[39m.\u001b[39m_modules[module_name] \u001b[39m=\u001b[39m importlib\u001b[39m.\u001b[39mimport_module(\u001b[39mf\u001b[39m\u001b[39m\"\u001b[39m\u001b[39m.\u001b[39m\u001b[39m{\u001b[39;00mmodule_name\u001b[39m}\u001b[39;00m\u001b[39m\"\u001b[39m, \u001b[39m\"\u001b[39m\u001b[39mtransformers.models\u001b[39m\u001b[39m\"\u001b[39m)\n\u001b[0;32m--> 671\u001b[0m \u001b[39mreturn\u001b[39;00m getattribute_from_module(\u001b[39mself\u001b[39;49m\u001b[39m.\u001b[39;49m_modules[module_name], attr)\n",
      "File \u001b[0;32m~/Documents/Bootcamp/Git/Capstone/capstone_chat-gpt/.venv/lib/python3.11/site-packages/transformers/models/auto/auto_factory.py:616\u001b[0m, in \u001b[0;36mgetattribute_from_module\u001b[0;34m(module, attr)\u001b[0m\n\u001b[1;32m    614\u001b[0m \u001b[39mif\u001b[39;00m \u001b[39misinstance\u001b[39m(attr, \u001b[39mtuple\u001b[39m):\n\u001b[1;32m    615\u001b[0m     \u001b[39mreturn\u001b[39;00m \u001b[39mtuple\u001b[39m(getattribute_from_module(module, a) \u001b[39mfor\u001b[39;00m a \u001b[39min\u001b[39;00m attr)\n\u001b[0;32m--> 616\u001b[0m \u001b[39mif\u001b[39;00m \u001b[39mhasattr\u001b[39m(module, attr):\n\u001b[1;32m    617\u001b[0m     \u001b[39mreturn\u001b[39;00m \u001b[39mgetattr\u001b[39m(module, attr)\n\u001b[1;32m    618\u001b[0m \u001b[39m# Some of the mappings have entries model_type -> object of another model type. In that case we try to grab the\u001b[39;00m\n\u001b[1;32m    619\u001b[0m \u001b[39m# object at the top level.\u001b[39;00m\n",
      "File \u001b[0;32m~/Documents/Bootcamp/Git/Capstone/capstone_chat-gpt/.venv/lib/python3.11/site-packages/transformers/utils/import_utils.py:1076\u001b[0m, in \u001b[0;36m_LazyModule.__getattr__\u001b[0;34m(self, name)\u001b[0m\n\u001b[1;32m   1074\u001b[0m     value \u001b[39m=\u001b[39m \u001b[39mself\u001b[39m\u001b[39m.\u001b[39m_get_module(name)\n\u001b[1;32m   1075\u001b[0m \u001b[39melif\u001b[39;00m name \u001b[39min\u001b[39;00m \u001b[39mself\u001b[39m\u001b[39m.\u001b[39m_class_to_module\u001b[39m.\u001b[39mkeys():\n\u001b[0;32m-> 1076\u001b[0m     module \u001b[39m=\u001b[39m \u001b[39mself\u001b[39;49m\u001b[39m.\u001b[39;49m_get_module(\u001b[39mself\u001b[39;49m\u001b[39m.\u001b[39;49m_class_to_module[name])\n\u001b[1;32m   1077\u001b[0m     value \u001b[39m=\u001b[39m \u001b[39mgetattr\u001b[39m(module, name)\n\u001b[1;32m   1078\u001b[0m \u001b[39melse\u001b[39;00m:\n",
      "File \u001b[0;32m~/Documents/Bootcamp/Git/Capstone/capstone_chat-gpt/.venv/lib/python3.11/site-packages/transformers/utils/import_utils.py:1088\u001b[0m, in \u001b[0;36m_LazyModule._get_module\u001b[0;34m(self, module_name)\u001b[0m\n\u001b[1;32m   1086\u001b[0m     \u001b[39mreturn\u001b[39;00m importlib\u001b[39m.\u001b[39mimport_module(\u001b[39m\"\u001b[39m\u001b[39m.\u001b[39m\u001b[39m\"\u001b[39m \u001b[39m+\u001b[39m module_name, \u001b[39mself\u001b[39m\u001b[39m.\u001b[39m\u001b[39m__name__\u001b[39m)\n\u001b[1;32m   1087\u001b[0m \u001b[39mexcept\u001b[39;00m \u001b[39mException\u001b[39;00m \u001b[39mas\u001b[39;00m e:\n\u001b[0;32m-> 1088\u001b[0m     \u001b[39mraise\u001b[39;00m \u001b[39mRuntimeError\u001b[39;00m(\n\u001b[1;32m   1089\u001b[0m         \u001b[39mf\u001b[39m\u001b[39m\"\u001b[39m\u001b[39mFailed to import \u001b[39m\u001b[39m{\u001b[39;00m\u001b[39mself\u001b[39m\u001b[39m.\u001b[39m\u001b[39m__name__\u001b[39m\u001b[39m}\u001b[39;00m\u001b[39m.\u001b[39m\u001b[39m{\u001b[39;00mmodule_name\u001b[39m}\u001b[39;00m\u001b[39m because of the following error (look up to see its\u001b[39m\u001b[39m\"\u001b[39m\n\u001b[1;32m   1090\u001b[0m         \u001b[39mf\u001b[39m\u001b[39m\"\u001b[39m\u001b[39m traceback):\u001b[39m\u001b[39m\\n\u001b[39;00m\u001b[39m{\u001b[39;00me\u001b[39m}\u001b[39;00m\u001b[39m\"\u001b[39m\n\u001b[1;32m   1091\u001b[0m     ) \u001b[39mfrom\u001b[39;00m \u001b[39me\u001b[39;00m\n",
      "\u001b[0;31mRuntimeError\u001b[0m: Failed to import transformers.models.gpt_bigcode.modeling_gpt_bigcode because of the following error (look up to see its traceback):\nCan't get source for <function softmax at 0x177b90680>. TorchScript requires source access in order to carry out compilation, make sure original .py files are available."
     ]
    }
   ],
   "source": [
    "from transformers import pipeline\n",
    "\n",
    "classifier = pipeline(\"sentiment-analysis\", model=\"stevhliu/my_awesome_model\")\n",
    "classifier(df['content'][1])"
   ]
  },
  {
   "cell_type": "code",
   "execution_count": null,
   "metadata": {},
   "outputs": [
    {
     "ename": "NameError",
     "evalue": "name 'df' is not defined",
     "output_type": "error",
     "traceback": [
      "\u001b[0;31m---------------------------------------------------------------------------\u001b[0m",
      "\u001b[0;31mNameError\u001b[0m                                 Traceback (most recent call last)",
      "\u001b[1;32m/Users/janice/Documents/Bootcamp/Git/Capstone/capstone_chat-gpt/notebooks/2_feature_engineering.ipynb Zelle 48\u001b[0m line \u001b[0;36m4\n\u001b[1;32m      <a href='vscode-notebook-cell:/Users/janice/Documents/Bootcamp/Git/Capstone/capstone_chat-gpt/notebooks/2_feature_engineering.ipynb#X65sZmlsZQ%3D%3D?line=0'>1</a>\u001b[0m \u001b[39mfrom\u001b[39;00m \u001b[39mtransformers\u001b[39;00m \u001b[39mimport\u001b[39;00m AutoTokenizer\n\u001b[1;32m      <a href='vscode-notebook-cell:/Users/janice/Documents/Bootcamp/Git/Capstone/capstone_chat-gpt/notebooks/2_feature_engineering.ipynb#X65sZmlsZQ%3D%3D?line=2'>3</a>\u001b[0m tokenizer \u001b[39m=\u001b[39m AutoTokenizer\u001b[39m.\u001b[39mfrom_pretrained(\u001b[39m\"\u001b[39m\u001b[39mstevhliu/my_awesome_model\u001b[39m\u001b[39m\"\u001b[39m)\n\u001b[0;32m----> <a href='vscode-notebook-cell:/Users/janice/Documents/Bootcamp/Git/Capstone/capstone_chat-gpt/notebooks/2_feature_engineering.ipynb#X65sZmlsZQ%3D%3D?line=3'>4</a>\u001b[0m inputs \u001b[39m=\u001b[39m tokenizer(df[\u001b[39m'\u001b[39m\u001b[39mcontent\u001b[39m\u001b[39m'\u001b[39m][\u001b[39m1\u001b[39m], return_tensors\u001b[39m=\u001b[39m\u001b[39m\"\u001b[39m\u001b[39mpt\u001b[39m\u001b[39m\"\u001b[39m)\n",
      "\u001b[0;31mNameError\u001b[0m: name 'df' is not defined"
     ]
    }
   ],
   "source": [
    "from transformers import AutoTokenizer\n",
    "\n",
    "tokenizer = AutoTokenizer.from_pretrained(\"stevhliu/my_awesome_model\")\n",
    "inputs = tokenizer(df['content'][1], return_tensors=\"pt\")"
   ]
  }
 ],
 "metadata": {
  "kernelspec": {
   "display_name": "Python 3.9.8 ('.nlp': venv)",
   "language": "python",
   "name": "python3"
  },
  "language_info": {
   "codemirror_mode": {
    "name": "ipython",
    "version": 3
   },
   "file_extension": ".py",
   "mimetype": "text/x-python",
   "name": "python",
   "nbconvert_exporter": "python",
   "pygments_lexer": "ipython3",
   "version": "3.11.3"
  },
  "vscode": {
   "interpreter": {
    "hash": "9fb4e7a82a71b285d1d2fdbccfc7dcb00fac1863548a2573de3cd7a5b08c832d"
   }
  }
 },
 "nbformat": 4,
 "nbformat_minor": 4
}
