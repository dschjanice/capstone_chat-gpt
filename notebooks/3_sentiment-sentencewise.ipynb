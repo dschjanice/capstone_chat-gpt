{
 "cells": [
  {
   "cell_type": "markdown",
   "metadata": {},
   "source": [
    "# This notebook is about feature engineering with sentiment analysis and classification"
   ]
  },
  {
   "cell_type": "markdown",
   "metadata": {},
   "source": [
    "#### Load useful libraries and df"
   ]
  },
  {
   "cell_type": "code",
   "execution_count": 2,
   "metadata": {},
   "outputs": [
    {
     "name": "stderr",
     "output_type": "stream",
     "text": [
      "[nltk_data] Downloading package wordnet to /Users/janice/nltk_data...\n",
      "[nltk_data]   Package wordnet is already up-to-date!\n",
      "[nltk_data] Downloading package omw-1.4 to /Users/janice/nltk_data...\n",
      "[nltk_data]   Package omw-1.4 is already up-to-date!\n"
     ]
    },
    {
     "data": {
      "text/plain": [
       "True"
      ]
     },
     "execution_count": 2,
     "metadata": {},
     "output_type": "execute_result"
    }
   ],
   "source": [
    "import pandas as pd\n",
    "import numpy as np\n",
    "\n",
    "from sklearn.model_selection import train_test_split\n",
    "from sklearn.feature_extraction.text import CountVectorizer, TfidfVectorizer\n",
    "from sklearn.linear_model import LogisticRegression\n",
    "from sklearn.metrics import roc_auc_score\n",
    "\n",
    "\n",
    "from tqdm import tqdm\n",
    "\n",
    "import nltk\n",
    "nltk.download('wordnet')\n",
    "nltk.download('omw-1.4')"
   ]
  },
  {
   "cell_type": "code",
   "execution_count": 3,
   "metadata": {},
   "outputs": [],
   "source": [
    "df_long = pd.read_csv(\n",
    "    \"../data/long/chatgpt_clean_combined_en.csv\",\n",
    "    encoding=\"utf-8\",\n",
    ")\n"
   ]
  },
  {
   "cell_type": "code",
   "execution_count": 5,
   "metadata": {},
   "outputs": [
    {
     "data": {
      "text/plain": [
       "(34304, 6)"
      ]
     },
     "execution_count": 5,
     "metadata": {},
     "output_type": "execute_result"
    }
   ],
   "source": [
    "df_long.shape"
   ]
  },
  {
   "cell_type": "code",
   "execution_count": 7,
   "metadata": {},
   "outputs": [],
   "source": [
    "from transformers import pipeline\n",
    "#import torch"
   ]
  },
  {
   "cell_type": "code",
   "execution_count": 8,
   "metadata": {},
   "outputs": [
    {
     "name": "stderr",
     "output_type": "stream",
     "text": [
      "No model was supplied, defaulted to facebook/bart-large-mnli and revision c626438 (https://huggingface.co/facebook/bart-large-mnli).\n",
      "Using a pipeline without specifying a model name and revision in production is not recommended.\n"
     ]
    }
   ],
   "source": [
    "classifier = pipeline(\"zero-shot-classification\")"
   ]
  },
  {
   "cell_type": "code",
   "execution_count": 9,
   "metadata": {},
   "outputs": [],
   "source": [
    "#candidate_labels = [\"feature evaluation\", \"praise\", \"bug report\", \"feature request\", \"performance\", \"usage\"]\n",
    "candidate_labels = [\"positive\", \"neutral\", \"negative\"]\n",
    "hypothesis_template = \"The sentiment of this review is {}.\""
   ]
  },
  {
   "cell_type": "code",
   "execution_count": 10,
   "metadata": {},
   "outputs": [
    {
     "name": "stderr",
     "output_type": "stream",
     "text": [
      "100%|██████████| 34304/34304 [5:10:38<00:00,  1.84it/s]   \n"
     ]
    }
   ],
   "source": [
    "#candidate_labels = list(category_map.values())\n",
    "predictedCategories = []\n",
    "ScoreNegative = []\n",
    "ScoreNeutral = []\n",
    "ScorePositive = []\n",
    "\n",
    "for i in tqdm(range(len(df_long))): # len(df_long)\n",
    "    text = df_long.iloc[i,]['sentence']\n",
    "    res = classifier(text, candidate_labels, hypothesis_template=hypothesis_template, multi_label=True)\n",
    "    labels = res['labels'] \n",
    "    scores = res['scores'] #extracting the scores associated with the labels\n",
    "    res_dict = {label : score for label,score in zip(labels, scores)}\n",
    "    sorted_dict = dict(sorted(res_dict.items(), key=lambda x:x[1],reverse = True)) #sorting the dictionary of labels in descending order based on their score\n",
    "    categories  = next(k for i, (k,v) in enumerate(sorted_dict.items()))\n",
    "\n",
    "    ScorePositive.append(sorted_dict['positive'])\n",
    "    ScoreNeutral.append(sorted_dict['neutral'])\n",
    "    ScoreNegative.append(sorted_dict['negative'])\n",
    "    predictedCategories.append(categories)"
   ]
  },
  {
   "cell_type": "code",
   "execution_count": 21,
   "metadata": {},
   "outputs": [],
   "source": [
    "df_long_zero_prep = pd.DataFrame({  'category': predictedCategories, \n",
    "                                    'positive_score': ScorePositive, \n",
    "                                    'neutral_score': ScoreNeutral, \n",
    "                                    'negative_score': ScoreNegative})\n",
    "df_long_zero = pd.merge(df_long, df_long_zero_prep, left_index=True, right_index=True)"
   ]
  },
  {
   "cell_type": "code",
   "execution_count": 22,
   "metadata": {},
   "outputs": [
    {
     "data": {
      "text/html": [
       "<div>\n",
       "<style scoped>\n",
       "    .dataframe tbody tr th:only-of-type {\n",
       "        vertical-align: middle;\n",
       "    }\n",
       "\n",
       "    .dataframe tbody tr th {\n",
       "        vertical-align: top;\n",
       "    }\n",
       "\n",
       "    .dataframe thead th {\n",
       "        text-align: right;\n",
       "    }\n",
       "</style>\n",
       "<table border=\"1\" class=\"dataframe\">\n",
       "  <thead>\n",
       "    <tr style=\"text-align: right;\">\n",
       "      <th></th>\n",
       "      <th>content</th>\n",
       "      <th>positive_score</th>\n",
       "      <th>neutral_score</th>\n",
       "      <th>negative_score</th>\n",
       "    </tr>\n",
       "  </thead>\n",
       "  <tbody>\n",
       "    <tr>\n",
       "      <th>0</th>\n",
       "      <td>chatgpt on android is a solid app with seamles...</td>\n",
       "      <td>0.999643</td>\n",
       "      <td>0.394674</td>\n",
       "      <td>0.000585</td>\n",
       "    </tr>\n",
       "    <tr>\n",
       "      <th>1</th>\n",
       "      <td>however it falls behind its apple counterpart ...</td>\n",
       "      <td>0.009318</td>\n",
       "      <td>0.634563</td>\n",
       "      <td>0.971451</td>\n",
       "    </tr>\n",
       "    <tr>\n",
       "      <th>2</th>\n",
       "      <td>the voice input can be prematurely triggered b...</td>\n",
       "      <td>0.304566</td>\n",
       "      <td>0.164207</td>\n",
       "      <td>0.708694</td>\n",
       "    </tr>\n",
       "    <tr>\n",
       "      <th>3</th>\n",
       "      <td>additionally the lack of a search function for...</td>\n",
       "      <td>0.000512</td>\n",
       "      <td>0.088586</td>\n",
       "      <td>0.954502</td>\n",
       "    </tr>\n",
       "    <tr>\n",
       "      <th>4</th>\n",
       "      <td>despite these it remains a commendable app des...</td>\n",
       "      <td>0.998531</td>\n",
       "      <td>0.012075</td>\n",
       "      <td>0.001319</td>\n",
       "    </tr>\n",
       "    <tr>\n",
       "      <th>...</th>\n",
       "      <td>...</td>\n",
       "      <td>...</td>\n",
       "      <td>...</td>\n",
       "      <td>...</td>\n",
       "    </tr>\n",
       "    <tr>\n",
       "      <th>34299</th>\n",
       "      <td>first review</td>\n",
       "      <td>0.816886</td>\n",
       "      <td>0.671854</td>\n",
       "      <td>0.675763</td>\n",
       "    </tr>\n",
       "    <tr>\n",
       "      <th>34300</th>\n",
       "      <td>first downloaded</td>\n",
       "      <td>0.888082</td>\n",
       "      <td>0.590217</td>\n",
       "      <td>0.632305</td>\n",
       "    </tr>\n",
       "    <tr>\n",
       "      <th>34301</th>\n",
       "      <td>usually app</td>\n",
       "      <td>0.846591</td>\n",
       "      <td>0.450016</td>\n",
       "      <td>0.367502</td>\n",
       "    </tr>\n",
       "    <tr>\n",
       "      <th>34302</th>\n",
       "      <td>first comment</td>\n",
       "      <td>0.815224</td>\n",
       "      <td>0.392924</td>\n",
       "      <td>0.659263</td>\n",
       "    </tr>\n",
       "    <tr>\n",
       "      <th>34303</th>\n",
       "      <td>hum first</td>\n",
       "      <td>0.328944</td>\n",
       "      <td>0.929507</td>\n",
       "      <td>0.774788</td>\n",
       "    </tr>\n",
       "  </tbody>\n",
       "</table>\n",
       "<p>34304 rows × 4 columns</p>\n",
       "</div>"
      ],
      "text/plain": [
       "                                                 content  positive_score  \\\n",
       "0      chatgpt on android is a solid app with seamles...        0.999643   \n",
       "1      however it falls behind its apple counterpart ...        0.009318   \n",
       "2      the voice input can be prematurely triggered b...        0.304566   \n",
       "3      additionally the lack of a search function for...        0.000512   \n",
       "4      despite these it remains a commendable app des...        0.998531   \n",
       "...                                                  ...             ...   \n",
       "34299                                       first review        0.816886   \n",
       "34300                                   first downloaded        0.888082   \n",
       "34301                                        usually app        0.846591   \n",
       "34302                                      first comment        0.815224   \n",
       "34303                                          hum first        0.328944   \n",
       "\n",
       "       neutral_score  negative_score  \n",
       "0           0.394674        0.000585  \n",
       "1           0.634563        0.971451  \n",
       "2           0.164207        0.708694  \n",
       "3           0.088586        0.954502  \n",
       "4           0.012075        0.001319  \n",
       "...              ...             ...  \n",
       "34299       0.671854        0.675763  \n",
       "34300       0.590217        0.632305  \n",
       "34301       0.450016        0.367502  \n",
       "34302       0.392924        0.659263  \n",
       "34303       0.929507        0.774788  \n",
       "\n",
       "[34304 rows x 4 columns]"
      ]
     },
     "execution_count": 22,
     "metadata": {},
     "output_type": "execute_result"
    }
   ],
   "source": [
    "df_long_zero[['sentence', 'positive_score', 'neutral_score', 'negative_score']]"
   ]
  },
  {
   "cell_type": "code",
   "execution_count": 24,
   "metadata": {},
   "outputs": [
    {
     "data": {
      "text/html": [
       "<div>\n",
       "<style scoped>\n",
       "    .dataframe tbody tr th:only-of-type {\n",
       "        vertical-align: middle;\n",
       "    }\n",
       "\n",
       "    .dataframe tbody tr th {\n",
       "        vertical-align: top;\n",
       "    }\n",
       "\n",
       "    .dataframe thead th {\n",
       "        text-align: right;\n",
       "    }\n",
       "</style>\n",
       "<table border=\"1\" class=\"dataframe\">\n",
       "  <thead>\n",
       "    <tr style=\"text-align: right;\">\n",
       "      <th></th>\n",
       "      <th>Unnamed: 0</th>\n",
       "      <th>index</th>\n",
       "      <th>score</th>\n",
       "      <th>positive_score</th>\n",
       "      <th>neutral_score</th>\n",
       "      <th>negative_score</th>\n",
       "    </tr>\n",
       "    <tr>\n",
       "      <th>category</th>\n",
       "      <th></th>\n",
       "      <th></th>\n",
       "      <th></th>\n",
       "      <th></th>\n",
       "      <th></th>\n",
       "      <th></th>\n",
       "    </tr>\n",
       "  </thead>\n",
       "  <tbody>\n",
       "    <tr>\n",
       "      <th>negative</th>\n",
       "      <td>15365.825176</td>\n",
       "      <td>7313.291070</td>\n",
       "      <td>2.676647</td>\n",
       "      <td>0.080841</td>\n",
       "      <td>0.330129</td>\n",
       "      <td>0.834351</td>\n",
       "    </tr>\n",
       "    <tr>\n",
       "      <th>neutral</th>\n",
       "      <td>15474.180915</td>\n",
       "      <td>7314.011928</td>\n",
       "      <td>3.784294</td>\n",
       "      <td>0.287554</td>\n",
       "      <td>0.618647</td>\n",
       "      <td>0.293495</td>\n",
       "    </tr>\n",
       "    <tr>\n",
       "      <th>positive</th>\n",
       "      <td>18679.330926</td>\n",
       "      <td>9574.159393</td>\n",
       "      <td>4.699016</td>\n",
       "      <td>0.939597</td>\n",
       "      <td>0.179489</td>\n",
       "      <td>0.042175</td>\n",
       "    </tr>\n",
       "  </tbody>\n",
       "</table>\n",
       "</div>"
      ],
      "text/plain": [
       "            Unnamed: 0        index     score  positive_score  neutral_score  \\\n",
       "category                                                                       \n",
       "negative  15365.825176  7313.291070  2.676647        0.080841       0.330129   \n",
       "neutral   15474.180915  7314.011928  3.784294        0.287554       0.618647   \n",
       "positive  18679.330926  9574.159393  4.699016        0.939597       0.179489   \n",
       "\n",
       "          negative_score  \n",
       "category                  \n",
       "negative        0.834351  \n",
       "neutral         0.293495  \n",
       "positive        0.042175  "
      ]
     },
     "execution_count": 24,
     "metadata": {},
     "output_type": "execute_result"
    }
   ],
   "source": [
    "df_long_zero.groupby('category').mean('category')"
   ]
  },
  {
   "cell_type": "code",
   "execution_count": null,
   "metadata": {},
   "outputs": [],
   "source": [
    "df_long_zero.to_csv(\"../data/long/ChatGPT-play-reviews_sentiment.csv\", index=False)"
   ]
  },
  {
   "cell_type": "code",
   "execution_count": 15,
   "metadata": {},
   "outputs": [],
   "source": [
    "from sklearn.metrics import confusion_matrix, classification_report, accuracy_score\n",
    "import seaborn as sns\n",
    "import matplotlib.pyplot as plt\n",
    "\n",
    "\n",
    "#Confusion matrix using pandas crosstab\n",
    "#conf_matrix = confusion_matrix(df_long_zero.score_cat, df_long_zero.category)\n",
    "#sns.heatmap(conf_matrix, annot=True, cmap=plt.cm.Oranges, fmt='g'); "
   ]
  },
  {
   "cell_type": "markdown",
   "metadata": {},
   "source": [
    "## VADER (Valence Aware Dictionary for Sentiment Reasoning)"
   ]
  },
  {
   "cell_type": "markdown",
   "metadata": {},
   "source": [
    "Good to know:\n",
    "\n",
    "VADER (Valence Aware Dictionary for Sentiment Reasoning) is a model used for text sentiment analysis that is sensitive to both polarity (positive/negative) and intensity (strength) of emotion. It is available in the NLTK package and can be applied directly to unlabeled text data.\n",
    "\n",
    "VADER sentimental analysis relies on a dictionary that maps lexical features to emotion intensities known as sentiment scores. The sentiment score of a text can be obtained by summing up the intensity of each word in the text.\n",
    "\n",
    "For example, Words like ‘love’, ‘enjoy’, ‘happy’, ‘like’ all convey a positive sentiment. Also VADER is intelligent enough to understand the basic context of these words, such as “did not love” as a negative statement. It also understands the emphasis of capitalization and punctuation, such as “ENJOY”"
   ]
  },
  {
   "cell_type": "markdown",
   "metadata": {},
   "source": [
    "Following code was inspired by the VADER documentation on Git:\n",
    "https://github.com/cjhutto/vaderSentiment#code-examples"
   ]
  },
  {
   "cell_type": "code",
   "execution_count": 27,
   "metadata": {},
   "outputs": [
    {
     "data": {
      "text/plain": [
       "(34304, 12)"
      ]
     },
     "execution_count": 27,
     "metadata": {},
     "output_type": "execute_result"
    }
   ],
   "source": [
    "df_long_zero = pd.read_csv(\"../data/long/ChatGPT-play-reviews_sentiment.csv\",\n",
    "                            encoding=\"utf-8\",\n",
    "                        )\n",
    "\n",
    "df_long_zero.shape"
   ]
  },
  {
   "cell_type": "code",
   "execution_count": 28,
   "metadata": {},
   "outputs": [],
   "source": [
    "from vaderSentiment.vaderSentiment import SentimentIntensityAnalyzer\n",
    "    #note: depending on how you installed (e.g., using source code download versus pip install), you may need to import like this:\n",
    "    #from vaderSentiment import SentimentIntensityAnalyzer"
   ]
  },
  {
   "cell_type": "code",
   "execution_count": 29,
   "metadata": {},
   "outputs": [
    {
     "name": "stderr",
     "output_type": "stream",
     "text": [
      "100%|██████████| 34304/34304 [05:07<00:00, 111.56it/s]\n"
     ]
    }
   ],
   "source": [
    "from nltk import tokenize\n",
    "\n",
    "#candidate_labels = list(category_map.values())\n",
    "vad_cat = []\n",
    "vad_neg = []\n",
    "vad_neu = []\n",
    "vad_pos = []\n",
    "vad_comp = []\n",
    "\n",
    "for sentence in tqdm(df_long_zero['sentence']):\n",
    "     sid = SentimentIntensityAnalyzer()\n",
    "     ss = sid.polarity_scores(sentence)\n",
    "     for k in sorted(ss):\n",
    "         vad_cat.append(max(ss, key=ss.get))\n",
    "         vad_neg.append(ss['neg'])\n",
    "         vad_neu.append(ss['neu'])\n",
    "         vad_pos.append(ss['pos'])\n",
    "         vad_comp.append(ss['compound'])"
   ]
  },
  {
   "cell_type": "code",
   "execution_count": 30,
   "metadata": {},
   "outputs": [],
   "source": [
    "df_long_vader_prep = pd.DataFrame({ 'vader_cat': vad_cat, \n",
    "                                    'vader_neg': vad_neg, \n",
    "                                    'vader_neu': vad_neu, \n",
    "                                    'vader_pos': vad_pos})\n",
    "df_long_vader= pd.merge(df_long_zero, df_long_vader_prep, left_index=True, right_index=True)"
   ]
  },
  {
   "cell_type": "code",
   "execution_count": 31,
   "metadata": {},
   "outputs": [],
   "source": [
    "df_long_vader.to_csv(\"../data/long/ChatGPT-play-reviews_sentiment.csv\", index=False)"
   ]
  },
  {
   "cell_type": "markdown",
   "metadata": {},
   "source": [
    "## Sentiment Analysis using TextBlob"
   ]
  },
  {
   "cell_type": "code",
   "execution_count": 32,
   "metadata": {},
   "outputs": [],
   "source": [
    "from textblob import TextBlob"
   ]
  },
  {
   "cell_type": "markdown",
   "metadata": {},
   "source": [
    "Polarity determines the sentiment of the text. Its values lie in [-1,1] where -1 denotes a highly negative sentiment and 1 denotes a highly positive sentiment.\n",
    "\n",
    "Subjectivity determines whether a text input is factual information or a personal opinion. Its value lies between [0,1] where a value closer to 0 denotes a piece of factual information and a value closer to 1 denotes a personal opinion."
   ]
  },
  {
   "cell_type": "code",
   "execution_count": 33,
   "metadata": {},
   "outputs": [
    {
     "name": "stderr",
     "output_type": "stream",
     "text": [
      "100%|██████████| 34304/34304 [00:06<00:00, 4963.18it/s]\n"
     ]
    }
   ],
   "source": [
    "#candidate_labels = list(category_map.values())\n",
    "blob_polarity = []\n",
    "blob_subjectivity = []\n",
    "\n",
    "for sentence in tqdm(df_long['sentence']):\n",
    "     blob_polarity.append(TextBlob(sentence).sentiment.polarity)\n",
    "     blob_subjectivity.append(TextBlob(sentence).sentiment.subjectivity)"
   ]
  },
  {
   "cell_type": "code",
   "execution_count": 34,
   "metadata": {},
   "outputs": [],
   "source": [
    "df_long_blob_prep = pd.DataFrame({ 'blob_polarity': blob_polarity, \n",
    "                                    'blob_subjectivity': blob_subjectivity})\n",
    "df_long_blob= pd.merge(df_long_vader, df_long_blob_prep, left_index=True, right_index=True)"
   ]
  },
  {
   "cell_type": "code",
   "execution_count": 35,
   "metadata": {},
   "outputs": [],
   "source": [
    "df_long_blob.to_csv(\"../data/long/ChatGPT-play-reviews_sentiment.csv\", index=False)"
   ]
  },
  {
   "cell_type": "markdown",
   "metadata": {},
   "source": [
    "## Sentiment Analysis using Transformer-Based Models"
   ]
  },
  {
   "cell_type": "code",
   "execution_count": 36,
   "metadata": {},
   "outputs": [
    {
     "name": "stderr",
     "output_type": "stream",
     "text": [
      "No model was supplied, defaulted to distilbert-base-uncased-finetuned-sst-2-english and revision af0f99b (https://huggingface.co/distilbert-base-uncased-finetuned-sst-2-english).\n",
      "Using a pipeline without specifying a model name and revision in production is not recommended.\n"
     ]
    }
   ],
   "source": [
    "from transformers import pipeline\n",
    "sentiment_pipeline = pipeline(\"sentiment-analysis\")"
   ]
  },
  {
   "cell_type": "code",
   "execution_count": 37,
   "metadata": {},
   "outputs": [
    {
     "name": "stderr",
     "output_type": "stream",
     "text": [
      "100%|██████████| 34304/34304 [12:49<00:00, 44.57it/s]\n"
     ]
    }
   ],
   "source": [
    "#candidate_labels = list(category_map.values())\n",
    "pipe_cat = []\n",
    "pipe_neg = []\n",
    "pipe_pos = []\n",
    "\n",
    "for sentence in tqdm(df_long['sentence']):\n",
    "     res = sentiment_pipeline(sentence)\n",
    "     if res[0]['label'] == 'POSITIVE':\n",
    "          pipe_cat.append('POSITIVE')\n",
    "          pipe_neg.append(1-res[0]['score'])\n",
    "          pipe_pos.append(res[0]['score'])\n",
    "     elif res[0]['label'] == 'NEGATIVE':\n",
    "          pipe_cat.append('NEGATIVE')\n",
    "          pipe_neg.append(res[0]['score'])\n",
    "          pipe_pos.append(1-res[0]['score'])"
   ]
  },
  {
   "cell_type": "code",
   "execution_count": 38,
   "metadata": {},
   "outputs": [],
   "source": [
    "df_long_pipe_prep = pd.DataFrame({ 'pipe_cat': pipe_cat, \n",
    "                                    'pipe_neg': pipe_neg, \n",
    "                                    'pipe_pos': pipe_pos})\n",
    "\n",
    "# Load df\n",
    "df_long_blob = pd.read_csv(\n",
    "    \"../data/long/ChatGPT-play-reviews_long-sentiment.csv\"\n",
    ")\n",
    "\n",
    "df_long_pipe= pd.merge(df_long_blob, df_long_pipe_prep, left_index=True, right_index=True)"
   ]
  },
  {
   "cell_type": "code",
   "execution_count": 39,
   "metadata": {},
   "outputs": [
    {
     "data": {
      "text/plain": [
       "(34304, 18)"
      ]
     },
     "execution_count": 39,
     "metadata": {},
     "output_type": "execute_result"
    }
   ],
   "source": [
    "df_long_blob.shape"
   ]
  },
  {
   "cell_type": "code",
   "execution_count": 40,
   "metadata": {},
   "outputs": [],
   "source": [
    "df_long_pipe.to_csv(\"../data/long/ChatGPT-play-reviews_long-sentiment.csv\", index=False)"
   ]
  },
  {
   "cell_type": "code",
   "execution_count": 41,
   "metadata": {},
   "outputs": [],
   "source": [
    "# df_long_zero = pd.get_dummies(df_long_zero, columns=[\"category\"], dtype=int)"
   ]
  },
  {
   "cell_type": "code",
   "execution_count": 42,
   "metadata": {},
   "outputs": [],
   "source": [
    "\n",
    "# df_long_zero\n",
    "# df_long_zero.to_csv(\"/Users/janice/Documents/Bootcamp/Git/Capstone/capstone_chat-gpt/data/long/ChatGPT-play-reviews_long-zero.csv\", index=False)\n",
    "# df_zero_agg = df_long_zero.groupby(['index', 'score', 'score_cat']).agg( \n",
    "#     negative_mean=('negative_score', 'mean'),\n",
    "#     neutral_mean=('neutral_score', 'mean'),\n",
    "#     positive_mean=('positive_score', 'mean'),\n",
    "#     negative_max=('negative_score', 'max'),\n",
    "#     neutral_max=('neutral_score', 'max'),\n",
    "#     positive_max=('positive_score', 'max'),\n",
    "#     negative_sum=('category_negative', 'sum'),\n",
    "#     neutral_sum=('category_neutral', 'sum'),\n",
    "#     positive_sum=('category_positive', 'sum')).reset_index()"
   ]
  },
  {
   "cell_type": "markdown",
   "metadata": {},
   "source": [
    "Aggregating on review level"
   ]
  },
  {
   "cell_type": "code",
   "execution_count": 25,
   "metadata": {},
   "outputs": [],
   "source": [
    "# df_long_zero = pd.get_dummies(df_long_zero, columns=[\"category\"], dtype=int)\n",
    "# df_long_zero\n",
    "# df_long_zero.to_csv(\"../data/long/ChatGPT-play-reviews_long-zero.csv\", index=False)"
   ]
  },
  {
   "cell_type": "code",
   "execution_count": 43,
   "metadata": {},
   "outputs": [],
   "source": [
    "# Load df\n",
    "df_long_pipe = pd.read_csv(\n",
    "    \"../data/long/ChatGPT-play-reviews_sentiment.csv\"\n",
    ")"
   ]
  },
  {
   "cell_type": "code",
   "execution_count": 44,
   "metadata": {},
   "outputs": [
    {
     "data": {
      "text/plain": [
       "(34304, 21)"
      ]
     },
     "execution_count": 44,
     "metadata": {},
     "output_type": "execute_result"
    }
   ],
   "source": [
    "df_long_pipe.shape"
   ]
  },
  {
   "cell_type": "code",
   "execution_count": 45,
   "metadata": {},
   "outputs": [
    {
     "data": {
      "text/html": [
       "<div>\n",
       "<style scoped>\n",
       "    .dataframe tbody tr th:only-of-type {\n",
       "        vertical-align: middle;\n",
       "    }\n",
       "\n",
       "    .dataframe tbody tr th {\n",
       "        vertical-align: top;\n",
       "    }\n",
       "\n",
       "    .dataframe thead th {\n",
       "        text-align: right;\n",
       "    }\n",
       "</style>\n",
       "<table border=\"1\" class=\"dataframe\">\n",
       "  <thead>\n",
       "    <tr style=\"text-align: right;\">\n",
       "      <th></th>\n",
       "      <th>index</th>\n",
       "      <th>sentence</th>\n",
       "      <th>score</th>\n",
       "      <th>score_cat</th>\n",
       "      <th>detected_language</th>\n",
       "      <th>positive_score</th>\n",
       "      <th>neutral_score</th>\n",
       "      <th>negative_score</th>\n",
       "      <th>category_negative</th>\n",
       "      <th>category_neutral</th>\n",
       "      <th>category_positive</th>\n",
       "      <th>vader_cat</th>\n",
       "      <th>vader_neg</th>\n",
       "      <th>vader_neu</th>\n",
       "      <th>vader_pos</th>\n",
       "      <th>blob_polarity</th>\n",
       "      <th>blob_subjectivity</th>\n",
       "      <th>pipe_cat</th>\n",
       "      <th>pipe_neg</th>\n",
       "      <th>pipe_pos</th>\n",
       "    </tr>\n",
       "  </thead>\n",
       "  <tbody>\n",
       "    <tr>\n",
       "      <th>0</th>\n",
       "      <td>0</td>\n",
       "      <td>chatgpt on android is a solid app with seamles...</td>\n",
       "      <td>4</td>\n",
       "      <td>neutral</td>\n",
       "      <td>en</td>\n",
       "      <td>0.999643</td>\n",
       "      <td>0.394674</td>\n",
       "      <td>0.000585</td>\n",
       "      <td>0</td>\n",
       "      <td>0</td>\n",
       "      <td>1</td>\n",
       "      <td>neu</td>\n",
       "      <td>0.0</td>\n",
       "      <td>0.778</td>\n",
       "      <td>0.222</td>\n",
       "      <td>0.166667</td>\n",
       "      <td>0.233333</td>\n",
       "      <td>POSITIVE</td>\n",
       "      <td>0.000832</td>\n",
       "      <td>0.999168</td>\n",
       "    </tr>\n",
       "    <tr>\n",
       "      <th>1</th>\n",
       "      <td>0</td>\n",
       "      <td>however it falls behind its apple counterpart ...</td>\n",
       "      <td>4</td>\n",
       "      <td>neutral</td>\n",
       "      <td>en</td>\n",
       "      <td>0.009318</td>\n",
       "      <td>0.634563</td>\n",
       "      <td>0.971451</td>\n",
       "      <td>1</td>\n",
       "      <td>0</td>\n",
       "      <td>0</td>\n",
       "      <td>neu</td>\n",
       "      <td>0.0</td>\n",
       "      <td>0.778</td>\n",
       "      <td>0.222</td>\n",
       "      <td>-0.400000</td>\n",
       "      <td>0.700000</td>\n",
       "      <td>NEGATIVE</td>\n",
       "      <td>0.785155</td>\n",
       "      <td>0.214845</td>\n",
       "    </tr>\n",
       "    <tr>\n",
       "      <th>2</th>\n",
       "      <td>0</td>\n",
       "      <td>the voice input can be prematurely triggered b...</td>\n",
       "      <td>4</td>\n",
       "      <td>neutral</td>\n",
       "      <td>en</td>\n",
       "      <td>0.304566</td>\n",
       "      <td>0.164207</td>\n",
       "      <td>0.708694</td>\n",
       "      <td>1</td>\n",
       "      <td>0</td>\n",
       "      <td>0</td>\n",
       "      <td>neu</td>\n",
       "      <td>0.0</td>\n",
       "      <td>0.778</td>\n",
       "      <td>0.222</td>\n",
       "      <td>0.000000</td>\n",
       "      <td>0.000000</td>\n",
       "      <td>NEGATIVE</td>\n",
       "      <td>0.999622</td>\n",
       "      <td>0.000378</td>\n",
       "    </tr>\n",
       "    <tr>\n",
       "      <th>3</th>\n",
       "      <td>0</td>\n",
       "      <td>additionally the lack of a search function for...</td>\n",
       "      <td>4</td>\n",
       "      <td>neutral</td>\n",
       "      <td>en</td>\n",
       "      <td>0.000512</td>\n",
       "      <td>0.088586</td>\n",
       "      <td>0.954502</td>\n",
       "      <td>1</td>\n",
       "      <td>0</td>\n",
       "      <td>0</td>\n",
       "      <td>neu</td>\n",
       "      <td>0.0</td>\n",
       "      <td>0.778</td>\n",
       "      <td>0.222</td>\n",
       "      <td>-0.166667</td>\n",
       "      <td>0.166667</td>\n",
       "      <td>NEGATIVE</td>\n",
       "      <td>0.999488</td>\n",
       "      <td>0.000512</td>\n",
       "    </tr>\n",
       "    <tr>\n",
       "      <th>4</th>\n",
       "      <td>0</td>\n",
       "      <td>despite these it remains a commendable app des...</td>\n",
       "      <td>4</td>\n",
       "      <td>neutral</td>\n",
       "      <td>en</td>\n",
       "      <td>0.998531</td>\n",
       "      <td>0.012075</td>\n",
       "      <td>0.001319</td>\n",
       "      <td>0</td>\n",
       "      <td>0</td>\n",
       "      <td>1</td>\n",
       "      <td>neu</td>\n",
       "      <td>0.0</td>\n",
       "      <td>1.000</td>\n",
       "      <td>0.000</td>\n",
       "      <td>0.600000</td>\n",
       "      <td>0.800000</td>\n",
       "      <td>POSITIVE</td>\n",
       "      <td>0.001492</td>\n",
       "      <td>0.998508</td>\n",
       "    </tr>\n",
       "    <tr>\n",
       "      <th>...</th>\n",
       "      <td>...</td>\n",
       "      <td>...</td>\n",
       "      <td>...</td>\n",
       "      <td>...</td>\n",
       "      <td>...</td>\n",
       "      <td>...</td>\n",
       "      <td>...</td>\n",
       "      <td>...</td>\n",
       "      <td>...</td>\n",
       "      <td>...</td>\n",
       "      <td>...</td>\n",
       "      <td>...</td>\n",
       "      <td>...</td>\n",
       "      <td>...</td>\n",
       "      <td>...</td>\n",
       "      <td>...</td>\n",
       "      <td>...</td>\n",
       "      <td>...</td>\n",
       "      <td>...</td>\n",
       "      <td>...</td>\n",
       "    </tr>\n",
       "    <tr>\n",
       "      <th>34299</th>\n",
       "      <td>30912</td>\n",
       "      <td>first review</td>\n",
       "      <td>5</td>\n",
       "      <td>positive</td>\n",
       "      <td>en</td>\n",
       "      <td>0.816886</td>\n",
       "      <td>0.671854</td>\n",
       "      <td>0.675763</td>\n",
       "      <td>0</td>\n",
       "      <td>0</td>\n",
       "      <td>1</td>\n",
       "      <td>compound</td>\n",
       "      <td>0.0</td>\n",
       "      <td>0.734</td>\n",
       "      <td>0.266</td>\n",
       "      <td>0.250000</td>\n",
       "      <td>0.333333</td>\n",
       "      <td>POSITIVE</td>\n",
       "      <td>0.003007</td>\n",
       "      <td>0.996993</td>\n",
       "    </tr>\n",
       "    <tr>\n",
       "      <th>34300</th>\n",
       "      <td>30916</td>\n",
       "      <td>first downloaded</td>\n",
       "      <td>5</td>\n",
       "      <td>positive</td>\n",
       "      <td>en</td>\n",
       "      <td>0.888082</td>\n",
       "      <td>0.590217</td>\n",
       "      <td>0.632305</td>\n",
       "      <td>0</td>\n",
       "      <td>0</td>\n",
       "      <td>1</td>\n",
       "      <td>compound</td>\n",
       "      <td>0.0</td>\n",
       "      <td>0.802</td>\n",
       "      <td>0.198</td>\n",
       "      <td>0.250000</td>\n",
       "      <td>0.333333</td>\n",
       "      <td>POSITIVE</td>\n",
       "      <td>0.110960</td>\n",
       "      <td>0.889040</td>\n",
       "    </tr>\n",
       "    <tr>\n",
       "      <th>34301</th>\n",
       "      <td>30918</td>\n",
       "      <td>usually app</td>\n",
       "      <td>5</td>\n",
       "      <td>positive</td>\n",
       "      <td>en</td>\n",
       "      <td>0.846591</td>\n",
       "      <td>0.450016</td>\n",
       "      <td>0.367502</td>\n",
       "      <td>0</td>\n",
       "      <td>0</td>\n",
       "      <td>1</td>\n",
       "      <td>compound</td>\n",
       "      <td>0.0</td>\n",
       "      <td>0.802</td>\n",
       "      <td>0.198</td>\n",
       "      <td>-0.250000</td>\n",
       "      <td>0.250000</td>\n",
       "      <td>POSITIVE</td>\n",
       "      <td>0.028938</td>\n",
       "      <td>0.971062</td>\n",
       "    </tr>\n",
       "    <tr>\n",
       "      <th>34302</th>\n",
       "      <td>30921</td>\n",
       "      <td>first comment</td>\n",
       "      <td>5</td>\n",
       "      <td>positive</td>\n",
       "      <td>en</td>\n",
       "      <td>0.815224</td>\n",
       "      <td>0.392924</td>\n",
       "      <td>0.659263</td>\n",
       "      <td>0</td>\n",
       "      <td>0</td>\n",
       "      <td>1</td>\n",
       "      <td>compound</td>\n",
       "      <td>0.0</td>\n",
       "      <td>0.802</td>\n",
       "      <td>0.198</td>\n",
       "      <td>0.250000</td>\n",
       "      <td>0.333333</td>\n",
       "      <td>POSITIVE</td>\n",
       "      <td>0.049670</td>\n",
       "      <td>0.950330</td>\n",
       "    </tr>\n",
       "    <tr>\n",
       "      <th>34303</th>\n",
       "      <td>30923</td>\n",
       "      <td>hum first</td>\n",
       "      <td>5</td>\n",
       "      <td>positive</td>\n",
       "      <td>en</td>\n",
       "      <td>0.328944</td>\n",
       "      <td>0.929507</td>\n",
       "      <td>0.774788</td>\n",
       "      <td>0</td>\n",
       "      <td>1</td>\n",
       "      <td>0</td>\n",
       "      <td>compound</td>\n",
       "      <td>0.0</td>\n",
       "      <td>0.802</td>\n",
       "      <td>0.198</td>\n",
       "      <td>0.250000</td>\n",
       "      <td>0.333333</td>\n",
       "      <td>POSITIVE</td>\n",
       "      <td>0.421517</td>\n",
       "      <td>0.578483</td>\n",
       "    </tr>\n",
       "  </tbody>\n",
       "</table>\n",
       "<p>34304 rows × 20 columns</p>\n",
       "</div>"
      ],
      "text/plain": [
       "       index                                           sentence  score  \\\n",
       "0          0  chatgpt on android is a solid app with seamles...      4   \n",
       "1          0  however it falls behind its apple counterpart ...      4   \n",
       "2          0  the voice input can be prematurely triggered b...      4   \n",
       "3          0  additionally the lack of a search function for...      4   \n",
       "4          0  despite these it remains a commendable app des...      4   \n",
       "...      ...                                                ...    ...   \n",
       "34299  30912                                       first review      5   \n",
       "34300  30916                                   first downloaded      5   \n",
       "34301  30918                                        usually app      5   \n",
       "34302  30921                                      first comment      5   \n",
       "34303  30923                                          hum first      5   \n",
       "\n",
       "      score_cat detected_language  positive_score  neutral_score  \\\n",
       "0       neutral                en        0.999643       0.394674   \n",
       "1       neutral                en        0.009318       0.634563   \n",
       "2       neutral                en        0.304566       0.164207   \n",
       "3       neutral                en        0.000512       0.088586   \n",
       "4       neutral                en        0.998531       0.012075   \n",
       "...         ...               ...             ...            ...   \n",
       "34299  positive                en        0.816886       0.671854   \n",
       "34300  positive                en        0.888082       0.590217   \n",
       "34301  positive                en        0.846591       0.450016   \n",
       "34302  positive                en        0.815224       0.392924   \n",
       "34303  positive                en        0.328944       0.929507   \n",
       "\n",
       "       negative_score  category_negative  category_neutral  category_positive  \\\n",
       "0            0.000585                  0                 0                  1   \n",
       "1            0.971451                  1                 0                  0   \n",
       "2            0.708694                  1                 0                  0   \n",
       "3            0.954502                  1                 0                  0   \n",
       "4            0.001319                  0                 0                  1   \n",
       "...               ...                ...               ...                ...   \n",
       "34299        0.675763                  0                 0                  1   \n",
       "34300        0.632305                  0                 0                  1   \n",
       "34301        0.367502                  0                 0                  1   \n",
       "34302        0.659263                  0                 0                  1   \n",
       "34303        0.774788                  0                 1                  0   \n",
       "\n",
       "      vader_cat  vader_neg  vader_neu  vader_pos  blob_polarity  \\\n",
       "0           neu        0.0      0.778      0.222       0.166667   \n",
       "1           neu        0.0      0.778      0.222      -0.400000   \n",
       "2           neu        0.0      0.778      0.222       0.000000   \n",
       "3           neu        0.0      0.778      0.222      -0.166667   \n",
       "4           neu        0.0      1.000      0.000       0.600000   \n",
       "...         ...        ...        ...        ...            ...   \n",
       "34299  compound        0.0      0.734      0.266       0.250000   \n",
       "34300  compound        0.0      0.802      0.198       0.250000   \n",
       "34301  compound        0.0      0.802      0.198      -0.250000   \n",
       "34302  compound        0.0      0.802      0.198       0.250000   \n",
       "34303  compound        0.0      0.802      0.198       0.250000   \n",
       "\n",
       "       blob_subjectivity  pipe_cat  pipe_neg  pipe_pos  \n",
       "0               0.233333  POSITIVE  0.000832  0.999168  \n",
       "1               0.700000  NEGATIVE  0.785155  0.214845  \n",
       "2               0.000000  NEGATIVE  0.999622  0.000378  \n",
       "3               0.166667  NEGATIVE  0.999488  0.000512  \n",
       "4               0.800000  POSITIVE  0.001492  0.998508  \n",
       "...                  ...       ...       ...       ...  \n",
       "34299           0.333333  POSITIVE  0.003007  0.996993  \n",
       "34300           0.333333  POSITIVE  0.110960  0.889040  \n",
       "34301           0.250000  POSITIVE  0.028938  0.971062  \n",
       "34302           0.333333  POSITIVE  0.049670  0.950330  \n",
       "34303           0.333333  POSITIVE  0.421517  0.578483  \n",
       "\n",
       "[34304 rows x 20 columns]"
      ]
     },
     "execution_count": 45,
     "metadata": {},
     "output_type": "execute_result"
    }
   ],
   "source": [
    "df_long_pipe.rename(columns={\"sentence\": \"sentence\"}).drop(['Unnamed: 0'], axis='columns')"
   ]
  },
  {
   "cell_type": "code",
   "execution_count": 77,
   "metadata": {},
   "outputs": [],
   "source": [
    "df_long_plus = pd.merge(\n",
    "    df,\n",
    "    df_long_pipe.rename(columns={\"sentence\": \"sentence\"}).drop(['Unnamed: 0'], axis='columns'),\n",
    "    right_on='index',\n",
    "    left_on='Unnamed: 0'\n",
    ")"
   ]
  },
  {
   "cell_type": "code",
   "execution_count": 79,
   "metadata": {},
   "outputs": [
    {
     "data": {
      "text/html": [
       "<div>\n",
       "<style scoped>\n",
       "    .dataframe tbody tr th:only-of-type {\n",
       "        vertical-align: middle;\n",
       "    }\n",
       "\n",
       "    .dataframe tbody tr th {\n",
       "        vertical-align: top;\n",
       "    }\n",
       "\n",
       "    .dataframe thead th {\n",
       "        text-align: right;\n",
       "    }\n",
       "</style>\n",
       "<table border=\"1\" class=\"dataframe\">\n",
       "  <thead>\n",
       "    <tr style=\"text-align: right;\">\n",
       "      <th></th>\n",
       "      <th>index</th>\n",
       "      <th>sentence</th>\n",
       "      <th>content</th>\n",
       "    </tr>\n",
       "  </thead>\n",
       "  <tbody>\n",
       "    <tr>\n",
       "      <th>0</th>\n",
       "      <td>0</td>\n",
       "      <td>chatgpt on android is a solid app with seamles...</td>\n",
       "      <td>chatgpt on android is a solid app with seamles...</td>\n",
       "    </tr>\n",
       "    <tr>\n",
       "      <th>1</th>\n",
       "      <td>0</td>\n",
       "      <td>however it falls behind its apple counterpart ...</td>\n",
       "      <td>chatgpt on android is a solid app with seamles...</td>\n",
       "    </tr>\n",
       "    <tr>\n",
       "      <th>2</th>\n",
       "      <td>0</td>\n",
       "      <td>the voice input can be prematurely triggered b...</td>\n",
       "      <td>chatgpt on android is a solid app with seamles...</td>\n",
       "    </tr>\n",
       "    <tr>\n",
       "      <th>3</th>\n",
       "      <td>0</td>\n",
       "      <td>additionally the lack of a search function for...</td>\n",
       "      <td>chatgpt on android is a solid app with seamles...</td>\n",
       "    </tr>\n",
       "    <tr>\n",
       "      <th>4</th>\n",
       "      <td>0</td>\n",
       "      <td>despite these it remains a commendable app des...</td>\n",
       "      <td>chatgpt on android is a solid app with seamles...</td>\n",
       "    </tr>\n",
       "    <tr>\n",
       "      <th>...</th>\n",
       "      <td>...</td>\n",
       "      <td>...</td>\n",
       "      <td>...</td>\n",
       "    </tr>\n",
       "    <tr>\n",
       "      <th>34299</th>\n",
       "      <td>30912</td>\n",
       "      <td>first review</td>\n",
       "      <td>first review</td>\n",
       "    </tr>\n",
       "    <tr>\n",
       "      <th>34300</th>\n",
       "      <td>30916</td>\n",
       "      <td>first downloaded</td>\n",
       "      <td>first downloaded</td>\n",
       "    </tr>\n",
       "    <tr>\n",
       "      <th>34301</th>\n",
       "      <td>30918</td>\n",
       "      <td>usually app</td>\n",
       "      <td>usually app</td>\n",
       "    </tr>\n",
       "    <tr>\n",
       "      <th>34302</th>\n",
       "      <td>30921</td>\n",
       "      <td>first comment</td>\n",
       "      <td>first comment</td>\n",
       "    </tr>\n",
       "    <tr>\n",
       "      <th>34303</th>\n",
       "      <td>30923</td>\n",
       "      <td>hum first</td>\n",
       "      <td>hum first</td>\n",
       "    </tr>\n",
       "  </tbody>\n",
       "</table>\n",
       "<p>34304 rows × 3 columns</p>\n",
       "</div>"
      ],
      "text/plain": [
       "       index                                           sentence  \\\n",
       "0          0  chatgpt on android is a solid app with seamles...   \n",
       "1          0  however it falls behind its apple counterpart ...   \n",
       "2          0  the voice input can be prematurely triggered b...   \n",
       "3          0  additionally the lack of a search function for...   \n",
       "4          0  despite these it remains a commendable app des...   \n",
       "...      ...                                                ...   \n",
       "34299  30912                                       first review   \n",
       "34300  30916                                   first downloaded   \n",
       "34301  30918                                        usually app   \n",
       "34302  30921                                      first comment   \n",
       "34303  30923                                          hum first   \n",
       "\n",
       "                                                 content  \n",
       "0      chatgpt on android is a solid app with seamles...  \n",
       "1      chatgpt on android is a solid app with seamles...  \n",
       "2      chatgpt on android is a solid app with seamles...  \n",
       "3      chatgpt on android is a solid app with seamles...  \n",
       "4      chatgpt on android is a solid app with seamles...  \n",
       "...                                                  ...  \n",
       "34299                                       first review  \n",
       "34300                                   first downloaded  \n",
       "34301                                        usually app  \n",
       "34302                                      first comment  \n",
       "34303                                          hum first  \n",
       "\n",
       "[34304 rows x 3 columns]"
      ]
     },
     "execution_count": 79,
     "metadata": {},
     "output_type": "execute_result"
    }
   ],
   "source": [
    "df_long_plus[['index','sentence', 'sentence']]"
   ]
  },
  {
   "cell_type": "code",
   "execution_count": 80,
   "metadata": {},
   "outputs": [
    {
     "data": {
      "text/plain": [
       "datetime.date(2023, 7, 25)"
      ]
     },
     "execution_count": 80,
     "metadata": {},
     "output_type": "execute_result"
    }
   ],
   "source": [
    "pd.to_datetime(df_long_plus['at']).dt.date.min()"
   ]
  },
  {
   "cell_type": "code",
   "execution_count": 81,
   "metadata": {},
   "outputs": [],
   "source": [
    "# df_long_plus.to_csv(\"../data/long/ChatGPT-play-reviews_sentiment.csv\", index=False)"
   ]
  },
  {
   "cell_type": "code",
   "execution_count": 82,
   "metadata": {},
   "outputs": [
    {
     "data": {
      "text/plain": [
       "Index(['Unnamed: 0', 'reviewId', 'userName', 'content', 'score_x',\n",
       "       'thumbsUpCount', 'at', 'replyContent', 'repliedAt', 'appVersion',\n",
       "       'at_ymd', 'at_q', 'at_ym', 'at_m', 'at_wd', 'score_cat_x',\n",
       "       'detected_language_x', 'index', 'sentence', 'score_y', 'score_cat_y',\n",
       "       'detected_language_y', 'positive_score', 'neutral_score',\n",
       "       'negative_score', 'category_negative', 'category_neutral',\n",
       "       'category_positive', 'vader_cat', 'vader_neg', 'vader_neu', 'vader_pos',\n",
       "       'blob_polarity', 'blob_subjectivity', 'pipe_cat', 'pipe_neg',\n",
       "       'pipe_pos'],\n",
       "      dtype='object')"
      ]
     },
     "execution_count": 82,
     "metadata": {},
     "output_type": "execute_result"
    }
   ],
   "source": [
    "df_long_plus.columns"
   ]
  }
 ],
 "metadata": {
  "kernelspec": {
   "display_name": "Python 3.9.8 ('.nlp': venv)",
   "language": "python",
   "name": "python3"
  },
  "language_info": {
   "codemirror_mode": {
    "name": "ipython",
    "version": 3
   },
   "file_extension": ".py",
   "mimetype": "text/x-python",
   "name": "python",
   "nbconvert_exporter": "python",
   "pygments_lexer": "ipython3",
   "version": "3.11.3"
  },
  "vscode": {
   "interpreter": {
    "hash": "9fb4e7a82a71b285d1d2fdbccfc7dcb00fac1863548a2573de3cd7a5b08c832d"
   }
  }
 },
 "nbformat": 4,
 "nbformat_minor": 4
}
