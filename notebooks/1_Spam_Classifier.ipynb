{
 "cells": [
  {
   "cell_type": "markdown",
   "metadata": {},
   "source": [
    "# Let's build a spam classifier"
   ]
  },
  {
   "cell_type": "markdown",
   "metadata": {},
   "source": [
    "We will use df from `SMS Spam Collection v. 1` described as:\n",
    "\n",
    "> a public set of SMS labeled messages that have been collected for mobile phone spam research. It has one collection composed by 5,574 English, real and non-encoded messages, tagged according being legitimate (ham) or spam.\n",
    "\n",
    "([source](http://www.dt.fee.unicamp.br/~tiago/smsspamcollection/))"
   ]
  },
  {
   "cell_type": "markdown",
   "metadata": {},
   "source": [
    "#### Load useful libraries and df"
   ]
  },
  {
   "cell_type": "code",
   "execution_count": 1,
   "metadata": {},
   "outputs": [
    {
     "name": "stderr",
     "output_type": "stream",
     "text": [
      "[nltk_data] Downloading package wordnet to /Users/janice/nltk_data...\n",
      "[nltk_data]   Package wordnet is already up-to-date!\n",
      "[nltk_data] Downloading package omw-1.4 to /Users/janice/nltk_data...\n",
      "[nltk_data]   Package omw-1.4 is already up-to-date!\n"
     ]
    },
    {
     "data": {
      "text/plain": [
       "True"
      ]
     },
     "execution_count": 1,
     "metadata": {},
     "output_type": "execute_result"
    }
   ],
   "source": [
    "import pandas as pd\n",
    "import numpy as np\n",
    "\n",
    "from sklearn.model_selection import train_test_split\n",
    "from sklearn.feature_extraction.text import CountVectorizer, TfidfVectorizer\n",
    "from sklearn.linear_model import LogisticRegression\n",
    "from sklearn.metrics import roc_auc_score\n",
    "\n",
    "import nltk\n",
    "nltk.download('wordnet')\n",
    "nltk.download('omw-1.4')"
   ]
  },
  {
   "cell_type": "code",
   "execution_count": 7,
   "metadata": {},
   "outputs": [],
   "source": [
    "# Load df\n",
    "df = pd.read_csv(\n",
    "    \"../df/ChatGPT-play-reviews_prep.csv\",\n",
    "    encoding=\"utf-8\",\n",
    ")"
   ]
  },
  {
   "cell_type": "code",
   "execution_count": 5,
   "metadata": {},
   "outputs": [
    {
     "data": {
      "text/html": [
       "<div>\n",
       "<style scoped>\n",
       "    .dataframe tbody tr th:only-of-type {\n",
       "        vertical-align: middle;\n",
       "    }\n",
       "\n",
       "    .dataframe tbody tr th {\n",
       "        vertical-align: top;\n",
       "    }\n",
       "\n",
       "    .dataframe thead th {\n",
       "        text-align: right;\n",
       "    }\n",
       "</style>\n",
       "<table border=\"1\" class=\"dataframe\">\n",
       "  <thead>\n",
       "    <tr style=\"text-align: right;\">\n",
       "      <th></th>\n",
       "      <th>reviewId</th>\n",
       "      <th>userName</th>\n",
       "      <th>content</th>\n",
       "      <th>score</th>\n",
       "      <th>thumbsUpCount</th>\n",
       "      <th>at</th>\n",
       "      <th>replyContent</th>\n",
       "      <th>repliedAt</th>\n",
       "      <th>appVersion</th>\n",
       "      <th>reply</th>\n",
       "      <th>at_ym</th>\n",
       "      <th>at_m</th>\n",
       "      <th>at_wd</th>\n",
       "      <th>at_q</th>\n",
       "      <th>at_d</th>\n",
       "      <th>at_ymd</th>\n",
       "    </tr>\n",
       "  </thead>\n",
       "  <tbody>\n",
       "    <tr>\n",
       "      <th>4649</th>\n",
       "      <td>6a7541ff-1214-4296-9c9c-d45d5b10e029</td>\n",
       "      <td>Maahi Prajapati</td>\n",
       "      <td>This is degital world and open ai chatgpt came...</td>\n",
       "      <td>5</td>\n",
       "      <td>0</td>\n",
       "      <td>2023-07-29 07:36:00</td>\n",
       "      <td>NaN</td>\n",
       "      <td>NaN</td>\n",
       "      <td>1.0.0023</td>\n",
       "      <td>0</td>\n",
       "      <td>2023-07</td>\n",
       "      <td>July</td>\n",
       "      <td>Saturday</td>\n",
       "      <td>3</td>\n",
       "      <td>29</td>\n",
       "      <td>07/29/23</td>\n",
       "    </tr>\n",
       "    <tr>\n",
       "      <th>28298</th>\n",
       "      <td>e7a4dd35-5448-4361-be03-0cbcd1e0b33f</td>\n",
       "      <td>Faridur Rahman</td>\n",
       "      <td>অসাধারণ</td>\n",
       "      <td>5</td>\n",
       "      <td>0</td>\n",
       "      <td>2023-07-25 23:35:54</td>\n",
       "      <td>NaN</td>\n",
       "      <td>NaN</td>\n",
       "      <td>1.0.0022</td>\n",
       "      <td>0</td>\n",
       "      <td>2023-07</td>\n",
       "      <td>July</td>\n",
       "      <td>Tuesday</td>\n",
       "      <td>3</td>\n",
       "      <td>25</td>\n",
       "      <td>07/25/23</td>\n",
       "    </tr>\n",
       "    <tr>\n",
       "      <th>10168</th>\n",
       "      <td>c1a9c1d4-589b-4eea-a6b2-8ff42ec94e54</td>\n",
       "      <td>Jordz Mindoza</td>\n",
       "      <td>the best app I ever use in my whole life 😉🧬 gr...</td>\n",
       "      <td>5</td>\n",
       "      <td>0</td>\n",
       "      <td>2023-09-01 11:01:23</td>\n",
       "      <td>NaN</td>\n",
       "      <td>NaN</td>\n",
       "      <td>1.0.0035</td>\n",
       "      <td>0</td>\n",
       "      <td>2023-09</td>\n",
       "      <td>September</td>\n",
       "      <td>Friday</td>\n",
       "      <td>3</td>\n",
       "      <td>1</td>\n",
       "      <td>09/01/23</td>\n",
       "    </tr>\n",
       "    <tr>\n",
       "      <th>19417</th>\n",
       "      <td>414b4d3e-cbef-4615-a998-aa637606b491</td>\n",
       "      <td>Wendy Engela</td>\n",
       "      <td>Struggles to connect to internet on a 20mbps l...</td>\n",
       "      <td>2</td>\n",
       "      <td>0</td>\n",
       "      <td>2023-09-02 00:38:51</td>\n",
       "      <td>Thank you for your feedback. Is this problem s...</td>\n",
       "      <td>2023-09-05 21:26:34</td>\n",
       "      <td>NaN</td>\n",
       "      <td>1</td>\n",
       "      <td>2023-09</td>\n",
       "      <td>September</td>\n",
       "      <td>Saturday</td>\n",
       "      <td>3</td>\n",
       "      <td>2</td>\n",
       "      <td>09/02/23</td>\n",
       "    </tr>\n",
       "    <tr>\n",
       "      <th>30528</th>\n",
       "      <td>51dc8698-5e88-49be-80c4-8f8e0174c13e</td>\n",
       "      <td>Riyan Putri</td>\n",
       "      <td>Cant login</td>\n",
       "      <td>1</td>\n",
       "      <td>1</td>\n",
       "      <td>2023-08-23 13:52:19</td>\n",
       "      <td>NaN</td>\n",
       "      <td>NaN</td>\n",
       "      <td>NaN</td>\n",
       "      <td>0</td>\n",
       "      <td>2023-08</td>\n",
       "      <td>August</td>\n",
       "      <td>Wednesday</td>\n",
       "      <td>3</td>\n",
       "      <td>23</td>\n",
       "      <td>08/23/23</td>\n",
       "    </tr>\n",
       "    <tr>\n",
       "      <th>10630</th>\n",
       "      <td>57d7e5a3-21e0-478f-b952-1ef78d3f3873</td>\n",
       "      <td>Subham Saud</td>\n",
       "      <td>This is soo good for students</td>\n",
       "      <td>5</td>\n",
       "      <td>0</td>\n",
       "      <td>2023-09-13 15:29:16</td>\n",
       "      <td>NaN</td>\n",
       "      <td>NaN</td>\n",
       "      <td>1.2023.242</td>\n",
       "      <td>0</td>\n",
       "      <td>2023-09</td>\n",
       "      <td>September</td>\n",
       "      <td>Wednesday</td>\n",
       "      <td>3</td>\n",
       "      <td>13</td>\n",
       "      <td>09/13/23</td>\n",
       "    </tr>\n",
       "    <tr>\n",
       "      <th>27759</th>\n",
       "      <td>72af2079-1841-428a-a1ae-48aed33ac453</td>\n",
       "      <td>coalws</td>\n",
       "      <td>🤯🤯</td>\n",
       "      <td>5</td>\n",
       "      <td>0</td>\n",
       "      <td>2023-07-28 06:29:31</td>\n",
       "      <td>NaN</td>\n",
       "      <td>NaN</td>\n",
       "      <td>1.0.0023</td>\n",
       "      <td>0</td>\n",
       "      <td>2023-07</td>\n",
       "      <td>July</td>\n",
       "      <td>Friday</td>\n",
       "      <td>3</td>\n",
       "      <td>28</td>\n",
       "      <td>07/28/23</td>\n",
       "    </tr>\n",
       "    <tr>\n",
       "      <th>11842</th>\n",
       "      <td>0542318e-aa65-4737-80d1-9e0440356139</td>\n",
       "      <td>the_man cave with jacob</td>\n",
       "      <td>Sign into an app to use any features? *sus*</td>\n",
       "      <td>2</td>\n",
       "      <td>0</td>\n",
       "      <td>2023-10-09 05:06:15</td>\n",
       "      <td>NaN</td>\n",
       "      <td>NaN</td>\n",
       "      <td>1.2023.263</td>\n",
       "      <td>0</td>\n",
       "      <td>2023-10</td>\n",
       "      <td>October</td>\n",
       "      <td>Monday</td>\n",
       "      <td>4</td>\n",
       "      <td>9</td>\n",
       "      <td>10/09/23</td>\n",
       "    </tr>\n",
       "    <tr>\n",
       "      <th>26510</th>\n",
       "      <td>79ee0633-c8df-475b-9dac-2457e289ad01</td>\n",
       "      <td>Ahtisham awan</td>\n",
       "      <td>best application</td>\n",
       "      <td>4</td>\n",
       "      <td>0</td>\n",
       "      <td>2023-08-10 18:06:16</td>\n",
       "      <td>NaN</td>\n",
       "      <td>NaN</td>\n",
       "      <td>1.0.0030</td>\n",
       "      <td>0</td>\n",
       "      <td>2023-08</td>\n",
       "      <td>August</td>\n",
       "      <td>Thursday</td>\n",
       "      <td>3</td>\n",
       "      <td>10</td>\n",
       "      <td>08/10/23</td>\n",
       "    </tr>\n",
       "    <tr>\n",
       "      <th>6099</th>\n",
       "      <td>6c3f1844-f106-4d8d-b061-7c6fc5e15d52</td>\n",
       "      <td>Jovany Sfive</td>\n",
       "      <td>My experience now is so good chat gpt is help ...</td>\n",
       "      <td>5</td>\n",
       "      <td>0</td>\n",
       "      <td>2023-07-31 23:00:42</td>\n",
       "      <td>NaN</td>\n",
       "      <td>NaN</td>\n",
       "      <td>1.0.0023</td>\n",
       "      <td>0</td>\n",
       "      <td>2023-07</td>\n",
       "      <td>July</td>\n",
       "      <td>Monday</td>\n",
       "      <td>3</td>\n",
       "      <td>31</td>\n",
       "      <td>07/31/23</td>\n",
       "    </tr>\n",
       "  </tbody>\n",
       "</table>\n",
       "</div>"
      ],
      "text/plain": [
       "                                   reviewId                 userName  \\\n",
       "4649   6a7541ff-1214-4296-9c9c-d45d5b10e029          Maahi Prajapati   \n",
       "28298  e7a4dd35-5448-4361-be03-0cbcd1e0b33f           Faridur Rahman   \n",
       "10168  c1a9c1d4-589b-4eea-a6b2-8ff42ec94e54            Jordz Mindoza   \n",
       "19417  414b4d3e-cbef-4615-a998-aa637606b491             Wendy Engela   \n",
       "30528  51dc8698-5e88-49be-80c4-8f8e0174c13e              Riyan Putri   \n",
       "10630  57d7e5a3-21e0-478f-b952-1ef78d3f3873              Subham Saud   \n",
       "27759  72af2079-1841-428a-a1ae-48aed33ac453                   coalws   \n",
       "11842  0542318e-aa65-4737-80d1-9e0440356139  the_man cave with jacob   \n",
       "26510  79ee0633-c8df-475b-9dac-2457e289ad01            Ahtisham awan   \n",
       "6099   6c3f1844-f106-4d8d-b061-7c6fc5e15d52             Jovany Sfive   \n",
       "\n",
       "                                                 content  score  \\\n",
       "4649   This is degital world and open ai chatgpt came...      5   \n",
       "28298                                            অসাধারণ      5   \n",
       "10168  the best app I ever use in my whole life 😉🧬 gr...      5   \n",
       "19417  Struggles to connect to internet on a 20mbps l...      2   \n",
       "30528                                         Cant login      1   \n",
       "10630                      This is soo good for students      5   \n",
       "27759                                                 🤯🤯      5   \n",
       "11842        Sign into an app to use any features? *sus*      2   \n",
       "26510                                   best application      4   \n",
       "6099   My experience now is so good chat gpt is help ...      5   \n",
       "\n",
       "       thumbsUpCount                   at  \\\n",
       "4649               0  2023-07-29 07:36:00   \n",
       "28298              0  2023-07-25 23:35:54   \n",
       "10168              0  2023-09-01 11:01:23   \n",
       "19417              0  2023-09-02 00:38:51   \n",
       "30528              1  2023-08-23 13:52:19   \n",
       "10630              0  2023-09-13 15:29:16   \n",
       "27759              0  2023-07-28 06:29:31   \n",
       "11842              0  2023-10-09 05:06:15   \n",
       "26510              0  2023-08-10 18:06:16   \n",
       "6099               0  2023-07-31 23:00:42   \n",
       "\n",
       "                                            replyContent            repliedAt  \\\n",
       "4649                                                 NaN                  NaN   \n",
       "28298                                                NaN                  NaN   \n",
       "10168                                                NaN                  NaN   \n",
       "19417  Thank you for your feedback. Is this problem s...  2023-09-05 21:26:34   \n",
       "30528                                                NaN                  NaN   \n",
       "10630                                                NaN                  NaN   \n",
       "27759                                                NaN                  NaN   \n",
       "11842                                                NaN                  NaN   \n",
       "26510                                                NaN                  NaN   \n",
       "6099                                                 NaN                  NaN   \n",
       "\n",
       "       appVersion  reply    at_ym       at_m      at_wd  at_q  at_d    at_ymd  \n",
       "4649     1.0.0023      0  2023-07       July   Saturday     3    29  07/29/23  \n",
       "28298    1.0.0022      0  2023-07       July    Tuesday     3    25  07/25/23  \n",
       "10168    1.0.0035      0  2023-09  September     Friday     3     1  09/01/23  \n",
       "19417         NaN      1  2023-09  September   Saturday     3     2  09/02/23  \n",
       "30528         NaN      0  2023-08     August  Wednesday     3    23  08/23/23  \n",
       "10630  1.2023.242      0  2023-09  September  Wednesday     3    13  09/13/23  \n",
       "27759    1.0.0023      0  2023-07       July     Friday     3    28  07/28/23  \n",
       "11842  1.2023.263      0  2023-10    October     Monday     4     9  10/09/23  \n",
       "26510    1.0.0030      0  2023-08     August   Thursday     3    10  08/10/23  \n",
       "6099     1.0.0023      0  2023-07       July     Monday     3    31  07/31/23  "
      ]
     },
     "execution_count": 5,
     "metadata": {},
     "output_type": "execute_result"
    }
   ],
   "source": [
    "# Looking at a sample of our df\n",
    "df.sample(10)"
   ]
  },
  {
   "cell_type": "markdown",
   "metadata": {},
   "source": [
    "## Classification\n",
    "\n",
    "We will here build a \"vanilla\" classifier, without pouring too many thoughts about what the actual messages, spam or not, look like. To improve your model you can of course have a closer look and investigate the df more in detail. "
   ]
  },
  {
   "cell_type": "code",
   "execution_count": 13,
   "metadata": {},
   "outputs": [],
   "source": [
    "# Split dataset between train and test sets\n",
    "X_train, X_test, y_train, y_test = train_test_split(\n",
    "    df['content'], df[\"reply\"], random_state=0\n",
    ")"
   ]
  },
  {
   "cell_type": "code",
   "execution_count": 14,
   "metadata": {},
   "outputs": [
    {
     "data": {
      "text/plain": [
       "25900                                    Superb experience\n",
       "11411    Waited for the app for too long,Now,It's here,...\n",
       "11831                 Neet to enable the copy to clipboard\n",
       "7576     Very useful for those who need opinions of oth...\n",
       "27941                                        Excellent app\n",
       "Name: content, dtype: object"
      ]
     },
     "execution_count": 14,
     "metadata": {},
     "output_type": "execute_result"
    }
   ],
   "source": [
    "X_train.head()"
   ]
  },
  {
   "cell_type": "markdown",
   "metadata": {},
   "source": [
    "### CountVectorizer"
   ]
  },
  {
   "cell_type": "code",
   "execution_count": 17,
   "metadata": {},
   "outputs": [],
   "source": [
    "# Fit the CountVectorizer to the training df\n",
    "vect = CountVectorizer().fit(df['content'])\n",
    "\n",
    "# transform the documents in the training df to a document-term matrix\n",
    "X_train_vectorized = vect.transform(df['content'])\n",
    "# print(\"X_train_vectorized: \", X_train_vectorized)"
   ]
  },
  {
   "cell_type": "code",
   "execution_count": 18,
   "metadata": {},
   "outputs": [
    {
     "name": "stdout",
     "output_type": "stream",
     "text": [
      "X_train shape = (30956,)\n",
      "Vocabulary length = 15245\n"
     ]
    }
   ],
   "source": [
    "print(\"X_train shape = {}\".format(df['content'].shape))\n",
    "print(\"Vocabulary length = {}\".format(len(vect.vocabulary_)))"
   ]
  },
  {
   "cell_type": "markdown",
   "metadata": {},
   "source": [
    "So in 30.956 messages we found 15.245 different words."
   ]
  },
  {
   "cell_type": "code",
   "execution_count": 20,
   "metadata": {},
   "outputs": [
    {
     "data": {
      "text/plain": [
       "[('5g', 200),\n",
       " ('5he', 201),\n",
       " ('5k', 202),\n",
       " ('5lacs', 203),\n",
       " ('5m', 204),\n",
       " ('5mb', 205),\n",
       " ('5o', 206),\n",
       " ('5star', 207),\n",
       " ('5stars', 208),\n",
       " ('5th', 209),\n",
       " ('60', 210),\n",
       " ('600', 211),\n",
       " ('62851', 212),\n",
       " ('64', 213),\n",
       " ('64th', 214),\n",
       " ('65', 215),\n",
       " ('68', 216),\n",
       " ('69', 217),\n",
       " ('6a', 218),\n",
       " ('6th', 219),\n",
       " ('70', 220),\n",
       " ('750', 221),\n",
       " ('777ffmahima', 222),\n",
       " ('78898', 223),\n",
       " ('7a', 224),\n",
       " ('7c', 225),\n",
       " ('7ec556a4dde829ea', 226),\n",
       " ('7ec5c6a5eb2dfb28', 227),\n",
       " ('7p', 228),\n",
       " ('7sdni', 229),\n",
       " ('7th', 230),\n",
       " ('7yati', 231),\n",
       " ('80', 232),\n",
       " ('800', 233),\n",
       " ('80286', 234),\n",
       " ('80mbps', 235),\n",
       " ('819', 236),\n",
       " ('838', 237),\n",
       " ('84', 238),\n",
       " ('841', 239)]"
      ]
     },
     "execution_count": 20,
     "metadata": {},
     "output_type": "execute_result"
    }
   ],
   "source": [
    "# Let's look at our vocabulary list (sorted alphabetically)\n",
    "# Does it look like you expected?\n",
    "sorted(vect.vocabulary_.items(), key=lambda x: x[1])[200:240]"
   ]
  },
  {
   "cell_type": "code",
   "execution_count": 21,
   "metadata": {},
   "outputs": [
    {
     "name": "stdout",
     "output_type": "stream",
     "text": [
      "[[0 0 0 ... 0 0 0]\n",
      " [0 0 0 ... 0 0 0]\n",
      " [0 0 0 ... 0 0 0]\n",
      " ...\n",
      " [0 0 0 ... 0 0 0]\n",
      " [0 0 0 ... 0 0 0]\n",
      " [0 0 0 ... 0 0 0]]\n"
     ]
    }
   ],
   "source": [
    "# We can also print the newly created feature matrix\n",
    "# Note: you see its a sparse matrix with many 0 values. \n",
    "# with .toarray() the compressed sparse matrix form is converted to a normal numpy array\n",
    "print(X_train_vectorized.toarray())"
   ]
  },
  {
   "cell_type": "code",
   "execution_count": null,
   "metadata": {},
   "outputs": [],
   "source": [
    "# # Train the model\n",
    "# model = LogisticRegression(max_iter=1500)\n",
    "# model.fit(X_train_vectorized, y_train)\n",
    "\n",
    "# # Predict the transformed test documents\n",
    "# predictions = model.predict(vect.transform(X_test))\n",
    "# predict_probab = model.predict_proba(vect.transform(X_test))[:,1]\n",
    "\n",
    "# print(\"AUC = {:.3f}\".format(roc_auc_score(y_test, predict_probab)))"
   ]
  },
  {
   "cell_type": "code",
   "execution_count": null,
   "metadata": {},
   "outputs": [],
   "source": [
    "# # get the feature names as numpy array\n",
    "# feature_names = np.array(vect.get_feature_names_out())\n",
    "\n",
    "# # Sort the coefficients from the model (from lowest to highest values)\n",
    "# sorted_coef_index = model.coef_[0].argsort()\n",
    "\n",
    "# # Find the 10 smallest and 10 largest coefficients\n",
    "# # The 10 largest coefficients are being indexed using [:-11:-1]\n",
    "# # so the list returned is in order of largest to smallest\n",
    "# print(\"Smallest Coefs:\\n{}\\n\".format(feature_names[sorted_coef_index[:10]]))\n",
    "# print(\"Largest Coefs: \\n{}\".format(feature_names[sorted_coef_index[:-11:-1]]))"
   ]
  },
  {
   "attachments": {},
   "cell_type": "markdown",
   "metadata": {},
   "source": [
    "The AUC of our first model was already pretty good (~0.95). Let's see if we can improve this with another transformation of our df. Therefore, we will test the TF-IDF transformation next.\n"
   ]
  },
  {
   "cell_type": "markdown",
   "metadata": {},
   "source": [
    "\n",
    "\n",
    "### TF-IDF\n",
    "\n",
    "TF-IDF is short for **Term Frequency - Inverse Document Frequency**. \n",
    "\n",
    "It measure how important a word is to a document in a set of texts (in our case all SMS we collected). A frequent word in a document that is also frequent in the corpus is less important to a document than a frequent word in a document that is not frequent in the corpus.\n",
    "\n",
    "\n"
   ]
  },
  {
   "cell_type": "code",
   "execution_count": 24,
   "metadata": {},
   "outputs": [
    {
     "data": {
      "text/plain": [
       "[('absolutely', 10),\n",
       " ('access', 11),\n",
       " ('accessible', 12),\n",
       " ('account', 13),\n",
       " ('accuracy', 14),\n",
       " ('accurate', 15),\n",
       " ('across', 16),\n",
       " ('actually', 17),\n",
       " ('add', 18),\n",
       " ('added', 19),\n",
       " ('adding', 20),\n",
       " ('addition', 21),\n",
       " ('ads', 22),\n",
       " ('advanced', 23),\n",
       " ('advice', 24),\n",
       " ('after', 25),\n",
       " ('again', 26),\n",
       " ('age', 27),\n",
       " ('ago', 28),\n",
       " ('ai', 29)]"
      ]
     },
     "execution_count": 24,
     "metadata": {},
     "output_type": "execute_result"
    }
   ],
   "source": [
    "# Fit the TfidfVectorizer to the training df specifiying a minimum document frequency of 30\n",
    "# This means a word should have been used in at least 30 reviews\n",
    "vect = TfidfVectorizer(min_df=30).fit(df['content'])\n",
    "\n",
    "# transform the documents in the training df to a document-term matrix\n",
    "X_train_vectorized = vect.transform(df['content'])\n",
    "\n",
    "# let's look of some of the words gathered with this method\n",
    "sorted(vect.vocabulary_.items(), key=lambda x: x[1])[10:30]"
   ]
  },
  {
   "cell_type": "code",
   "execution_count": 25,
   "metadata": {},
   "outputs": [
    {
     "data": {
      "text/plain": [
       "1010"
      ]
     },
     "execution_count": 25,
     "metadata": {},
     "output_type": "execute_result"
    }
   ],
   "source": [
    "# how many words appear in more than 20 text messages\n",
    "len(sorted(vect.vocabulary_.items(), key=lambda x: x[1]))"
   ]
  },
  {
   "cell_type": "markdown",
   "metadata": {},
   "source": [
    "We can check which words created the largest tfidf values for the texts."
   ]
  },
  {
   "cell_type": "code",
   "execution_count": 26,
   "metadata": {},
   "outputs": [
    {
     "name": "stdout",
     "output_type": "stream",
     "text": [
      "Smallest tfidf:\n",
      "['exceeded' 'processing' 'consistently' 'versatility' 'powered' 'coherent'\n",
      " 'natural' 'however' 'whether' 'interactions']\n",
      "\n",
      "Largest tfidf: \n",
      "['কর' 'size' 'kudos' 'la' 'language' 'learning' 'let' 'level' 'life'\n",
      " 'like']\n"
     ]
    }
   ],
   "source": [
    "# save all feature names == words in an array\n",
    "feature_names = np.array(vect.get_feature_names_out())\n",
    "\n",
    "#sort for the column names according to highest tfidf value in the column\n",
    "sorted_tfidf_index = X_train_vectorized.toarray().max(0).argsort()\n",
    "\n",
    "# print words with highest and lowest tfidf values\n",
    "print(\"Smallest tfidf:\\n{}\\n\".format(feature_names[sorted_tfidf_index[:10]]))\n",
    "print(\"Largest tfidf: \\n{}\".format(feature_names[sorted_tfidf_index[:-11:-1]]))"
   ]
  },
  {
   "cell_type": "code",
   "execution_count": null,
   "metadata": {},
   "outputs": [],
   "source": [
    "# # Train the model\n",
    "# model = LogisticRegression(max_iter=1500)\n",
    "# model.fit(X_train_vectorized, y_train)\n",
    "\n",
    "# # Predict the transformed test documents\n",
    "# predictions = model.predict_proba(vect.transform(X_test))[:,1]\n",
    "\n",
    "# print(\"AUC = {:.3f}\".format(roc_auc_score(y_test, predictions)))"
   ]
  },
  {
   "cell_type": "code",
   "execution_count": null,
   "metadata": {},
   "outputs": [],
   "source": [
    "# # Sort the coefficients from the model\n",
    "# sorted_coef_index = model.coef_[0].argsort()\n",
    "\n",
    "# # Find the 10 smallest and 10 largest coefficients\n",
    "# # The 10 largest coefficients are being indexed using [:-11:-1]\n",
    "# # so the list returned is in order of largest to smallest\n",
    "# print(\"Smallest Coefs:\\n{}\\n\".format(feature_names[sorted_coef_index[:10]]))\n",
    "# print(\"Largest Coefs: \\n{}\".format(feature_names[sorted_coef_index[:-11:-1]]))"
   ]
  },
  {
   "cell_type": "markdown",
   "metadata": {},
   "source": [
    "### Stemming\n",
    "\n",
    "Stemming reduces a word to its stem. The result is less readable to humans, but makes the text more comparable across observations.\n",
    "\n",
    "For example, the words \"consult\", \"consultant\", \"consulting\", \" consultative\", \"consultants\" have the same stem **\"consult \"**.\n",
    "\n",
    "We will now add stemming as a preprocessing step to our workflow. The nltk PorterStemmer will generate the stems of the words. These features will be used in the CountVectorizer to create a matrix with the number of features (stemmed words)."
   ]
  },
  {
   "cell_type": "code",
   "execution_count": 27,
   "metadata": {},
   "outputs": [],
   "source": [
    "# Initializing stemmer and countvectorizer \n",
    "stemmer = nltk.PorterStemmer()\n",
    "cv_analyzer = CountVectorizer().build_analyzer()\n",
    "# tfidf_analyzer = TfidfVectorizer(min_df=15).build_analyzer()\n",
    "\n",
    "def stemmed_words(doc):\n",
    "    return (stemmer.stem(w) for w in cv_analyzer(doc))\n",
    "\n",
    "# define CountVectorizer with stemming function \n",
    "stem_vectorizer = CountVectorizer(analyzer = stemmed_words)\n",
    "# stem_vectorizer = TfidfVectorizer(min_df=15, analyzer = stemmed_words)\n",
    "\n",
    "\n",
    "# Transform X_train\n",
    "df_content_stem_vectorized = stem_vectorizer.fit_transform(df['content'])"
   ]
  },
  {
   "cell_type": "code",
   "execution_count": 31,
   "metadata": {},
   "outputs": [
    {
     "name": "stdout",
     "output_type": "stream",
     "text": [
      "Sample Text -  It's wonderful. I would give it 5 stars, if it had EDITING option after the message has been sent.\n",
      "------------------------------\n",
      "Text after passing through build_analyzer -  ['it', 'wonderful', 'would', 'give', 'it', 'stars', 'if', 'it', 'had', 'editing', 'option', 'after', 'the', 'message', 'has', 'been', 'sent']\n",
      "------------------------------\n",
      "Text after stemming -  ['it', 'wonder', 'would', 'give', 'it', 'star', 'if', 'it', 'had', 'edit', 'option', 'after', 'the', 'messag', 'ha', 'been', 'sent']\n"
     ]
    }
   ],
   "source": [
    "r = 100\n",
    "sample_text = X_train[r:r+1]\n",
    "print(\"Sample Text - \", sample_text[sample_text.index[0]])\n",
    "print(\"-\"*30)\n",
    "print(\"Text after passing through build_analyzer - \", cv_analyzer(sample_text[sample_text.index[0]]))\n",
    "print(\"-\"*30)\n",
    "print(\"Text after stemming - \",[stemmer.stem(w) for w in cv_analyzer(sample_text[sample_text.index[0]])])\n"
   ]
  },
  {
   "attachments": {},
   "cell_type": "markdown",
   "metadata": {},
   "source": [
    "You can also try uncommenting the tfidf lines in the cell above, so instead of using CountVectorizer you can also use TfIDF"
   ]
  },
  {
   "cell_type": "markdown",
   "metadata": {},
   "source": [
    "### Lemmatization\n",
    "\n",
    "The same way we used stemming we can also apply lemmatization to our df.\n",
    "Lemmatization reduces variant forms to base form (eg. am, are, is --> be; car, cars, car's, cars' --> car).\n"
   ]
  },
  {
   "cell_type": "code",
   "execution_count": 33,
   "metadata": {},
   "outputs": [],
   "source": [
    "# Initialization\n",
    "WNlemma = nltk.WordNetLemmatizer()\n",
    "cv_analyzer = CountVectorizer().build_analyzer()\n",
    "# cv_analyzer = TfidfVectorizer(min_df=15).build_analyzer()\n",
    "\n",
    "def lemmatize_word(doc):\n",
    "    return (WNlemma.lemmatize(t) for t in cv_analyzer(doc))\n",
    "\n",
    "lemm_vectorizer = CountVectorizer(analyzer = lemmatize_word)\n",
    "# lemm_vectorizer = TfidfVectorizer(min_df=15, analyzer=lemmatize_word)\n",
    "\n",
    "# Transform X_train\n",
    "df_content_lemm_vectorized = lemm_vectorizer.fit_transform(df['content'])"
   ]
  },
  {
   "cell_type": "code",
   "execution_count": 34,
   "metadata": {},
   "outputs": [
    {
     "data": {
      "text/plain": [
       "(30956, 14215)"
      ]
     },
     "execution_count": 34,
     "metadata": {},
     "output_type": "execute_result"
    }
   ],
   "source": [
    "df_content_lemm_vectorized.shape"
   ]
  },
  {
   "cell_type": "code",
   "execution_count": 37,
   "metadata": {},
   "outputs": [
    {
     "name": "stdout",
     "output_type": "stream",
     "text": [
      "Sample Text -  I'm really amazed 👏 this kind of ai also exists in the world 😇\n",
      "------------------------------\n",
      "Text after passing through build_analyzer -  ['really', 'amazed', 'this', 'kind', 'of', 'ai', 'also', 'exists', 'in', 'the', 'world']\n",
      "------------------------------\n",
      "Text after stemming -  ['really', 'amazed', 'this', 'kind', 'of', 'ai', 'also', 'exists', 'in', 'the', 'world']\n"
     ]
    }
   ],
   "source": [
    "r = 300\n",
    "sample_text = X_train[r:r+1]\n",
    "print(\"Sample Text - \", sample_text[sample_text.index[0]])\n",
    "print(\"-\"*30)\n",
    "print(\"Text after passing through build_analyzer - \", cv_analyzer(sample_text[sample_text.index[0]]))\n",
    "print(\"-\"*30)\n",
    "print(\"Text after stemming - \",[WNlemma.lemmatize(t) for t in cv_analyzer(sample_text[sample_text.index[0]])])"
   ]
  },
  {
   "cell_type": "code",
   "execution_count": 38,
   "metadata": {},
   "outputs": [],
   "source": [
    "from transformers import pipeline\n",
    "from tqdm import tqdm"
   ]
  },
  {
   "cell_type": "code",
   "execution_count": 39,
   "metadata": {},
   "outputs": [
    {
     "name": "stderr",
     "output_type": "stream",
     "text": [
      "No model was supplied, defaulted to roberta-large-mnli and revision 130fb28 (https://huggingface.co/roberta-large-mnli).\n",
      "Using a pipeline without specifying a model name and revision in production is not recommended.\n",
      "All PyTorch model weights were used when initializing TFRobertaForSequenceClassification.\n",
      "\n",
      "All the weights of TFRobertaForSequenceClassification were initialized from the PyTorch model.\n",
      "If your task is similar to the task the model of the checkpoint was trained on, you can already use TFRobertaForSequenceClassification for predictions without further training.\n"
     ]
    }
   ],
   "source": [
    "classifier = pipeline(\"zero-shot-classification\",device = 0)"
   ]
  },
  {
   "cell_type": "code",
   "execution_count": 56,
   "metadata": {},
   "outputs": [],
   "source": [
    "candidate_labels = [\"feature evaluation\", \"praise\", \"bug report\", \"feature request\", \"performance\", \"usage\"]"
   ]
  },
  {
   "cell_type": "code",
   "execution_count": 66,
   "metadata": {},
   "outputs": [
    {
     "name": "stderr",
     "output_type": "stream",
     "text": [
      "100%|██████████| 100/100 [03:06<00:00,  1.87s/it]\n"
     ]
    }
   ],
   "source": [
    "#candidate_labels = list(category_map.values())\n",
    "predictedCategories = []\n",
    "Content = []\n",
    "#trueCategories = []\n",
    "for i in tqdm(range(100)):\n",
    "    text = df.iloc[i,]['content']\n",
    "    #cat = [df.iloc[i,]['target']]\n",
    "    res = classifier(text, candidate_labels, multi_label=False)\n",
    "    labels = res['labels'] \n",
    "    scores = res['scores'] #extracting the scores associated with the labels\n",
    "    res_dict = {label : score for label,score in zip(labels, scores)}\n",
    "    sorted_dict = dict(sorted(res_dict.items(), key=lambda x:x[1],reverse = True)) #sorting the dictionary of labels in descending order based on their score\n",
    "    categories  = next(k for i, (k,v) in enumerate(sorted_dict.items()))\n",
    "\n",
    "    predictedCategories.append(categories)\n",
    "    Content.append(text)"
   ]
  },
  {
   "cell_type": "code",
   "execution_count": 81,
   "metadata": {},
   "outputs": [
    {
     "data": {
      "text/plain": [
       "{'sequence': \"ChatGPT for Android is a fantastic language model app! Its responsiveness and accuracy in understanding my queries impressed me. It offers a wide range of information, making it a reliable source for quick answers. Additionally, the app's user-friendly interface and smooth navigation make the experience enjoyable. Overall, ChatGPT for Android is a must-have tool for anyone seeking assistance with language-related tasks on the go. Kudos to the developers for creating such a helpful and efficient\",\n",
       " 'labels': ['praise',\n",
       "  'feature evaluation',\n",
       "  'performance',\n",
       "  'feature request',\n",
       "  'usage',\n",
       "  'bug report'],\n",
       " 'scores': [0.6620474457740784,\n",
       "  0.18852728605270386,\n",
       "  0.05828249827027321,\n",
       "  0.0422508679330349,\n",
       "  0.04120683670043945,\n",
       "  0.0076851374469697475]}"
      ]
     },
     "execution_count": 81,
     "metadata": {},
     "output_type": "execute_result"
    }
   ],
   "source": [
    "res"
   ]
  },
  {
   "cell_type": "markdown",
   "metadata": {},
   "source": [
    "predictedCategories"
   ]
  },
  {
   "cell_type": "code",
   "execution_count": 58,
   "metadata": {},
   "outputs": [],
   "source": [
    "dataset = pd.DataFrame({'Category': predictedCategories, 'Content': Content})"
   ]
  },
  {
   "cell_type": "code",
   "execution_count": 64,
   "metadata": {},
   "outputs": [
    {
     "data": {
      "text/html": [
       "<div>\n",
       "<style scoped>\n",
       "    .dataframe tbody tr th:only-of-type {\n",
       "        vertical-align: middle;\n",
       "    }\n",
       "\n",
       "    .dataframe tbody tr th {\n",
       "        vertical-align: top;\n",
       "    }\n",
       "\n",
       "    .dataframe thead th {\n",
       "        text-align: right;\n",
       "    }\n",
       "</style>\n",
       "<table border=\"1\" class=\"dataframe\">\n",
       "  <thead>\n",
       "    <tr style=\"text-align: right;\">\n",
       "      <th></th>\n",
       "      <th>Category</th>\n",
       "      <th>Content</th>\n",
       "    </tr>\n",
       "  </thead>\n",
       "  <tbody>\n",
       "    <tr>\n",
       "      <th>0</th>\n",
       "      <td>praise</td>\n",
       "      <td>ChatGPT on Android is a solid app with seamless OpenAI server connectivity, ensuring smooth interactions. However, it falls behind its Apple counterpart in features and updates. The voice input can be prematurely triggered by pauses, unlike on Apple. Additionally, the lack of a search function for previous messages is a drawback. Despite these, it remains a commendable app, deserving a 4-5 star rating. With minor improvements, it can match its Apple version.</td>\n",
       "    </tr>\n",
       "    <tr>\n",
       "      <th>1</th>\n",
       "      <td>praise</td>\n",
       "      <td>I've been using chatGPT for a while but I've just tested out the microphone speech recognition option for the first time, and let's say... I'M COMPLETELY BLOWN AWAY. NO, SERIOUSLY. It literally puts ALL the expressions, punctuation, in the right place. No matter how you talk, it converts it without a problem. It's amazing and I will probably will never type to ChatGPT again! Still though... that's some outstanding work. Now we wait for voice responses from the Bot! Hopefully...</td>\n",
       "    </tr>\n",
       "    <tr>\n",
       "      <th>2</th>\n",
       "      <td>praise</td>\n",
       "      <td>The ChatGPT Android app has completely blown me away with its exceptional performance and versatility! As an AI language model, it consistently delivers impressive responses to my queries and provides insightful suggestions. The ease of use and intuitive interface make chatting with ChatGPT a delightful experience. In all seriousness, it's good. It works. I would still recommend using the browser though, as the app lacks a few features, such as editing a message after it's sent.</td>\n",
       "    </tr>\n",
       "    <tr>\n",
       "      <th>3</th>\n",
       "      <td>praise</td>\n",
       "      <td>No subscription, free and accurate, unbiased answers. No fresh data since September 2021 but that doesn't make this app less accurate. I'm loving the fact it can even generate basic ASCII ART other than just text. The text is excellent, grammar precise and a great plethora of vocabulary. I can't wait for the next update and to see what that brings.</td>\n",
       "    </tr>\n",
       "    <tr>\n",
       "      <th>4</th>\n",
       "      <td>feature request</td>\n",
       "      <td>I use this app for learning languages, which chatgpt is amazing at. However, there are a few things I'd like added. 1. A search function. Being able to search a word that's several tokens back would be great. 2. Ability to highlight a word and 'search with Google'. 3. An AI voice that can read back chatgpt's outputs. For language learning especially, it'd be very useful to hear how certain words are pronounced. But still, great client for chatgpt! Can't wait for future improvements</td>\n",
       "    </tr>\n",
       "    <tr>\n",
       "      <th>5</th>\n",
       "      <td>feature evaluation</td>\n",
       "      <td>Seems to work now. App seems nice but has two issues. The website mentions that users can enable voice conversations in \"Settings → App → New Features → Voice conversations (toggle on)\" but this setting doesn't exist. Also, when using voice dictation to compose a prompt, it writes mandarin text using simplified characters rather than standard form/traditional characters.</td>\n",
       "    </tr>\n",
       "    <tr>\n",
       "      <th>6</th>\n",
       "      <td>feature evaluation</td>\n",
       "      <td>This app is a mixed bag. On one hand, response times are vastly superior to those in the browser, custom instructions set in the browser are carried over and the ability to say what you want as a message is a crucial accessibility feature. On the other hand, messages are not possible to edit, which is a severe shortcoming in my opinion. The app is also quite basic, and any discussions done in the browser can't be continued in the app. Overall, it has great potential and can easily be improved.</td>\n",
       "    </tr>\n",
       "    <tr>\n",
       "      <th>7</th>\n",
       "      <td>performance</td>\n",
       "      <td>You've been using ChatGPT AI for a while, and it's among the best AI companions. It's lightning-fast and responsive, aiding you effectively. However, the app lags behind the web version in performance. The AI provides insightful and accurate responses for various tasks. The app interface is clean and user-friendly, but it can stutter compared to the web version. Despite this, it's a game-changer and a great on-the-go tool. Some performance optimizations could make it perfect</td>\n",
       "    </tr>\n",
       "    <tr>\n",
       "      <th>8</th>\n",
       "      <td>bug report</td>\n",
       "      <td>Voice conversations choppy, doesn't work anymore. It was working great, but then one day all of the voices never choppy and clicky. I can't make out what they're saying anymore. It also has a much harder time picking up what I'm saying. Sometimes it thinks I'm just saying \"bye\". Cleared cache, reinstalled, didn't help. Anyways, great app otherwise - looking forward to fixes!</td>\n",
       "    </tr>\n",
       "    <tr>\n",
       "      <th>9</th>\n",
       "      <td>feature evaluation</td>\n",
       "      <td>I love the app so far, and voice is great, but a few issues need to be ironed out before a five star is reasonable: 1. Voice doesn’t recognize for about a second or a little less. Once it tells you to talk, you have to wait about a second before it actually recognizes what you say. 2. When you leave voice to go back to messages, you always have to scroll down. 3. The scroll-to-bottom button appears even if you are at the bottom. 4. No way to view message log during voice communication.</td>\n",
       "    </tr>\n",
       "    <tr>\n",
       "      <th>10</th>\n",
       "      <td>bug report</td>\n",
       "      <td>The app is good, but there's an issue with chat history syncing. Conversations initiated on the web version don't appear in the app, significantly affecting the app's usefulness. Additionally, attempting to refresh the chat history brings up an \"error occurred\" message. In essence, this is an app that actually limits access to the model.</td>\n",
       "    </tr>\n",
       "    <tr>\n",
       "      <th>11</th>\n",
       "      <td>praise</td>\n",
       "      <td>The ChatGPT app is absolutely phenomenal! It's become an indispensable tool in my daily life. The app's ability to provide quick, accurate, and insightful information across a wide range of topics is truly impressive. The interface is user-friendly, making it a breeze to interact with this AI. Whether I need answers to complex questions, assistance with language and writing, or just some casual conversation, ChatGPT excels at it all. It's like having a knowledgeable friend in your pocket at all</td>\n",
       "    </tr>\n",
       "    <tr>\n",
       "      <th>12</th>\n",
       "      <td>bug report</td>\n",
       "      <td>The app is way better than the website! I have only two issues though: first, it requires phone number for sign up (but it asks you on website too); second, that's a very little bug (I didn't found any other bug, even small), but when I scroll down the chat I must wait a couple of seconds and once down it appears the button to go down anyway. However it's not that annoying. It also have long-term memory and can learn rapidly. You deserve 5 stars at all.</td>\n",
       "    </tr>\n",
       "    <tr>\n",
       "      <th>13</th>\n",
       "      <td>praise</td>\n",
       "      <td>\"I've been using this AI app for a while now, and I'm truly impressed with its capabilities. It consistently exceeds my expectations. The app's user-friendly interface makes it incredibly easy to navigate and utilize its features effectively. The AI's responses are not only prompt but also remarkably accurate. I appreciate how it adapts to my preferences and provides personalized recommendations. Whether it's helping me with research, answering questions, or even just engaging in casual conver</td>\n",
       "    </tr>\n",
       "    <tr>\n",
       "      <th>14</th>\n",
       "      <td>usage</td>\n",
       "      <td>The \"Voice Conversations\" feature is fantastic but has some shortcomings that need to be fixed. First, when I use it in the car, it drops out periodically and doesn't realize that I never heard the missing part. Instead, it should pause or restart when it reestablishes connection. Ideally, it sends the audio stream ahead of time so that a cell network glitch isn't noticeable by the end-user. It would also be good if it remembered our previous conversation instead of losing context.</td>\n",
       "    </tr>\n",
       "    <tr>\n",
       "      <th>15</th>\n",
       "      <td>praise</td>\n",
       "      <td>This app is improving by the moment. With minimal input from me, just a few times, I have marked a response as being a \"Good Response,\" it has continually improved the way it responds to me specifically. I'm no programmer, but I had imagined what the interactions would be like with a personal AI assistant, and with each interaction, it gets closer to that ideal. Using this app for only the most basic if it's capabilities, I have freed up hours of time each week. 11 hr/wk so far, to be specific.</td>\n",
       "    </tr>\n",
       "    <tr>\n",
       "      <th>16</th>\n",
       "      <td>praise</td>\n",
       "      <td>I've been using the ChatGPT app for some time now, and it has truly impressed me. The AI's responses are consistently helpful, informative, and engaging. The interface is user-friendly, and it's easy to have meaningful conversations on a wide range of topics. I particularly appreciate the app's reliability and the convenience of having access to this AI assistant on my mobile device. Overall, ChatGPT is a valuable tool that enhances productivity and provides answers to various questions. I h...</td>\n",
       "    </tr>\n",
       "    <tr>\n",
       "      <th>17</th>\n",
       "      <td>feature evaluation</td>\n",
       "      <td>I updated my review from 2 to 4 stars because the app now works on my Chromebook, after a recent update. Earlier, I was not able to log in with the Chromebook because the app could not find any suitable browsers. Now it can. In my case, the app found and used Edge, which was not the \"default\" browser. I want to point out that the app never had any issues on my Android phone. The app seems to have all the features that I liked in the web version. Convenient speech to text is a plus.</td>\n",
       "    </tr>\n",
       "    <tr>\n",
       "      <th>18</th>\n",
       "      <td>feature request</td>\n",
       "      <td>Easily the best app I've ever downloaded. Highly impressed. I only have 1 concern at the moment, and that is the fear of potentially losing a chat or chats getting too long for the AI to \"remember\" past details. Would love to see 1.) A way to save chats permanently. 2.) A search function so that I can search for past information, so that I can copy and paste it to \"refresh\" the AI's memory for context that has fallen outside it's context window.</td>\n",
       "    </tr>\n",
       "    <tr>\n",
       "      <th>19</th>\n",
       "      <td>bug report</td>\n",
       "      <td>Overall, the app is quite useful, but there are a couple of bugs that need attention. Firstly, the code syntax doesn't have a distinct visual style from the normal text, which makes it challenging to differentiate. Secondly, when the text edit box is expanded in dark theme, the text appears black, making it difficult to read. I hope these issues get fixed soon as they would greatly improve the app's usability.</td>\n",
       "    </tr>\n",
       "    <tr>\n",
       "      <th>20</th>\n",
       "      <td>feature request</td>\n",
       "      <td>The App interface is simple and easy to use, but I have some suggestions : 1- add optional audio reader for answers. 2- when asking the AI using microphone 🎤 it's better to send the question automatically without the need to press the sending button, so it gives the atmosphere of real-life conversation. Please take it into consideration, thanks for your efforts, keep it up!</td>\n",
       "    </tr>\n",
       "    <tr>\n",
       "      <th>21</th>\n",
       "      <td>praise</td>\n",
       "      <td>It's like having a personal assistant who is capable of doing most simple tasks instantaneously. Write an email, give you instructions on how to do many web-based tasks, help you do research... those are just some of the most basic things the app can do. I think the most involved aspect of using this app, is figuring out, and exploring all of the things it can do!</td>\n",
       "    </tr>\n",
       "    <tr>\n",
       "      <th>22</th>\n",
       "      <td>praise</td>\n",
       "      <td>I've been using the ChatGPT for a while now, and I'm thoroughly impressed with its capabilities. The AI-generated responses are surprisingly natural &amp; making conversations feel smooth and engaging. The app's ability to understand context and provide relevant answers is truly remarkable. I've found it to be a valuable tool for brainstorming, getting quick information, and even just for some lighthearted conversations. While there's room for improvement in occasional unders</td>\n",
       "    </tr>\n",
       "    <tr>\n",
       "      <th>23</th>\n",
       "      <td>feature evaluation</td>\n",
       "      <td>It's a good start! There are a few additions that would make it great though. 1) Enable an option to choose v4 by default. One less click. 2) After asking a question, the keyboard remains on screen taking up a third of the screen space and I have to manually minimize it. Automatically hiding it would be a better UX. One less click. 3) Include same options on the web version, including access to custom instructions, plugins and new beta features. 4) Include a text to speech option.</td>\n",
       "    </tr>\n",
       "    <tr>\n",
       "      <th>24</th>\n",
       "      <td>performance</td>\n",
       "      <td>Amazing, it's sleek and professional looking, without looking overly \"corporate\", and the performance is faster than using a browser in mobile. Only complaint is that, in the process of making it simple, they removed some quality-of-life features, such as editing prompts, hiding edited prompts that were made in the browser and anything before and after regenerating a prompt in both browser and app, and placing all previous chats into a history section instead of just putting it in the sidebar.</td>\n",
       "    </tr>\n",
       "    <tr>\n",
       "      <th>25</th>\n",
       "      <td>feature request</td>\n",
       "      <td>Smooth design and wonderful experience. However, I have some criticisms: - I would like to have easy access to my conversation history without having to go through the entire chat history. - When I open an old conversation, it scrolls from the first text I sent to the last one, causing a long waiting time. - The code blocks don't come with colors; they only display as black text on a white background.\"</td>\n",
       "    </tr>\n",
       "    <tr>\n",
       "      <th>26</th>\n",
       "      <td>feature request</td>\n",
       "      <td>I use ChatGPT a lot for my studies and was happy when they announced the app. The app is cool and simple but it'd be great to bring some of the features on the website into the app. Like the design and Layout. For example, it's a bit long to have to go through the history to get my chats. And it would really also help if they added a search feature so you can search for keywords in your previous responses.</td>\n",
       "    </tr>\n",
       "    <tr>\n",
       "      <th>27</th>\n",
       "      <td>praise</td>\n",
       "      <td>This app is better than I expected. The interface is minimalist just like the site and the responses are quick. it doesn't take much space either but I noticed it uses a lot of internet traffic/mobile data(considering it runs on cloud based systems) but either way, I really appreciate this mobile app! Easy to use, straight to the point.</td>\n",
       "    </tr>\n",
       "    <tr>\n",
       "      <th>28</th>\n",
       "      <td>praise</td>\n",
       "      <td>I'm very impressed with my experience. Especially with how fast the response is and the clean interface just makes it better. AI's ability to answer questions, solve problems and help with personal tasks is totally insane. The fact that it's just the beginning and as time progresses and tech gets better so does our lives is just awesome. To summarize into a single sentence 'I love it'.</td>\n",
       "    </tr>\n",
       "    <tr>\n",
       "      <th>29</th>\n",
       "      <td>feature request</td>\n",
       "      <td>Amazingly informative 👌. It would be extremely beneficial if the developers added a function to \"SELECT ALL\" and \"PRINT\" for a full day's worth of communication rather than having to try to copy and paste multiple sections. Going back and forth between two apps on a phone is very inconvenient.</td>\n",
       "    </tr>\n",
       "    <tr>\n",
       "      <th>30</th>\n",
       "      <td>bug report</td>\n",
       "      <td>Definitely more handy than opening browser for the web version, but inferior in all other aspects. The biggest problem for me is that I can't edit my prompts. As a plus subscriber I find the lack of beta features to be inconvenient. Another thing is that the UI is too big. This is especially annoying when reading and code snippets, as only a few words can fit in a row of text.</td>\n",
       "    </tr>\n",
       "    <tr>\n",
       "      <th>31</th>\n",
       "      <td>feature request</td>\n",
       "      <td>Lovely service but I would like to make a few recommendations. Simple interface but it's too basic. Allow the use to have faster access to the previous chats. An interface similar to that of the browser. Consider adding the audio to text option on the free version. This will help train the system and help incorporate more languages into it. Other than this, lovely app and great work on Chatgpt.</td>\n",
       "    </tr>\n",
       "    <tr>\n",
       "      <th>32</th>\n",
       "      <td>praise</td>\n",
       "      <td>I really think I am in love with this app because it is incredibly helpful. As a writer, I usually rely on it to generate creative ideas for my stories and assist me with my grammar mistakes. I must also mention that it helps me with other aspects as well. Edit: Idk what happened, but whenever I sent a message now it says connection error and I can't see any response this has just become way too bad!! Edit 2: Well it's working again but I think they can improve the UI very much.</td>\n",
       "    </tr>\n",
       "    <tr>\n",
       "      <th>33</th>\n",
       "      <td>praise</td>\n",
       "      <td>ChatGPT App is an absolute game-changer in text-based communication. With its intuitive design and exceptional AI-powered responses, it has taken my daily interactions to the next level. The interface is user-friendly, making it suitable for both novices and experts alike. Whether it's a simple question or a complex query, the app provides accurate and timely responses. The free version is robust, and the paid plans offer even more advanced features. Highly recommend!</td>\n",
       "    </tr>\n",
       "    <tr>\n",
       "      <th>34</th>\n",
       "      <td>feature evaluation</td>\n",
       "      <td>The app mostly does what I expect it to : it's a good alternative from using ChatGPT in the browser on mobile. However, a feature that is present in the web version and that is missing in this app is the ability to render latex. This is a really important feature to me, as I don't want to have to go back and forth between the app and a latex/markdown renderer to discuss maths with ChatGPT, and the lack of this feature is the reason for the missing 2 stars in my review.</td>\n",
       "    </tr>\n",
       "    <tr>\n",
       "      <th>35</th>\n",
       "      <td>feature request</td>\n",
       "      <td>Solid app, very clean interface. However it'd be nice if there was an option to have your history on the sidebar like on the web version. More importantly, I find it a little baffling that there is no option to edit and re-submit a query on the app. That's arguably one of the key features of ChatGPT, so I'm disappointed that it didn't make it's way to the official android application.</td>\n",
       "    </tr>\n",
       "    <tr>\n",
       "      <th>36</th>\n",
       "      <td>usage</td>\n",
       "      <td>The animation that appears when I open the app runs twice, so if I start writing right away, everything I wrote disappears when the animation runs the second time and the big dot remains on the screen. It's annoying having to wait for the second animation or having to write everything all over again.</td>\n",
       "    </tr>\n",
       "    <tr>\n",
       "      <th>37</th>\n",
       "      <td>feature evaluation</td>\n",
       "      <td>I generally really like it but it's annoying that you have to press a button to get to the history, instead of it just being in the sidebar. Especially if you want to klick on multiple chats in a row it's REALLY annoying that you have to scroll down every time and find the chat where you left off. It also bugs me that editing a message isn't possible like it is on the website, because that's VERY useful. Also the option to add a secondary language would be nice, because I use German and Engl...</td>\n",
       "    </tr>\n",
       "    <tr>\n",
       "      <th>38</th>\n",
       "      <td>praise</td>\n",
       "      <td>I am incredibly impressed with this app! The app features is unparalleled, providing unlimited and accurate responses to all my questions. The app's interface is intuitive and easy to use, making my conversations with the AI incredibly smooth. I appreciate the wealth of knowledge and helpfulness it offers. Thank you for creating such an exceptional tool! I wholeheartedly recommend this app to anyone!</td>\n",
       "    </tr>\n",
       "    <tr>\n",
       "      <th>39</th>\n",
       "      <td>praise</td>\n",
       "      <td>The ChatGPT Android app is an absolute delight! Its user-friendly design, informative answers, and engaging conversations make it a standout choice. I hope it remains simple and functional as new features are added. The app's adaptability and vast knowledge base are truly impressive, making it an invaluable companion in daily life. Kudos to the developers for striking the right balance between innovation and usability. I look forward to the app's continuous growth and hope it does go bad</td>\n",
       "    </tr>\n",
       "  </tbody>\n",
       "</table>\n",
       "</div>"
      ],
      "text/plain": [
       "              Category  \\\n",
       "0               praise   \n",
       "1               praise   \n",
       "2               praise   \n",
       "3               praise   \n",
       "4      feature request   \n",
       "5   feature evaluation   \n",
       "6   feature evaluation   \n",
       "7          performance   \n",
       "8           bug report   \n",
       "9   feature evaluation   \n",
       "10          bug report   \n",
       "11              praise   \n",
       "12          bug report   \n",
       "13              praise   \n",
       "14               usage   \n",
       "15              praise   \n",
       "16              praise   \n",
       "17  feature evaluation   \n",
       "18     feature request   \n",
       "19          bug report   \n",
       "20     feature request   \n",
       "21              praise   \n",
       "22              praise   \n",
       "23  feature evaluation   \n",
       "24         performance   \n",
       "25     feature request   \n",
       "26     feature request   \n",
       "27              praise   \n",
       "28              praise   \n",
       "29     feature request   \n",
       "30          bug report   \n",
       "31     feature request   \n",
       "32              praise   \n",
       "33              praise   \n",
       "34  feature evaluation   \n",
       "35     feature request   \n",
       "36               usage   \n",
       "37  feature evaluation   \n",
       "38              praise   \n",
       "39              praise   \n",
       "\n",
       "                                                                                                                                                                                                                                                                                                                                                                                                                                                                                                                Content  \n",
       "0                                        ChatGPT on Android is a solid app with seamless OpenAI server connectivity, ensuring smooth interactions. However, it falls behind its Apple counterpart in features and updates. The voice input can be prematurely triggered by pauses, unlike on Apple. Additionally, the lack of a search function for previous messages is a drawback. Despite these, it remains a commendable app, deserving a 4-5 star rating. With minor improvements, it can match its Apple version.  \n",
       "1                    I've been using chatGPT for a while but I've just tested out the microphone speech recognition option for the first time, and let's say... I'M COMPLETELY BLOWN AWAY. NO, SERIOUSLY. It literally puts ALL the expressions, punctuation, in the right place. No matter how you talk, it converts it without a problem. It's amazing and I will probably will never type to ChatGPT again! Still though... that's some outstanding work. Now we wait for voice responses from the Bot! Hopefully...  \n",
       "2                   The ChatGPT Android app has completely blown me away with its exceptional performance and versatility! As an AI language model, it consistently delivers impressive responses to my queries and provides insightful suggestions. The ease of use and intuitive interface make chatting with ChatGPT a delightful experience. In all seriousness, it's good. It works. I would still recommend using the browser though, as the app lacks a few features, such as editing a message after it's sent.  \n",
       "3                                                                                                                                                        No subscription, free and accurate, unbiased answers. No fresh data since September 2021 but that doesn't make this app less accurate. I'm loving the fact it can even generate basic ASCII ART other than just text. The text is excellent, grammar precise and a great plethora of vocabulary. I can't wait for the next update and to see what that brings.  \n",
       "4                I use this app for learning languages, which chatgpt is amazing at. However, there are a few things I'd like added. 1. A search function. Being able to search a word that's several tokens back would be great. 2. Ability to highlight a word and 'search with Google'. 3. An AI voice that can read back chatgpt's outputs. For language learning especially, it'd be very useful to hear how certain words are pronounced. But still, great client for chatgpt! Can't wait for future improvements  \n",
       "5                                                                                                                                 Seems to work now. App seems nice but has two issues. The website mentions that users can enable voice conversations in \"Settings → App → New Features → Voice conversations (toggle on)\" but this setting doesn't exist. Also, when using voice dictation to compose a prompt, it writes mandarin text using simplified characters rather than standard form/traditional characters.  \n",
       "6    This app is a mixed bag. On one hand, response times are vastly superior to those in the browser, custom instructions set in the browser are carried over and the ability to say what you want as a message is a crucial accessibility feature. On the other hand, messages are not possible to edit, which is a severe shortcoming in my opinion. The app is also quite basic, and any discussions done in the browser can't be continued in the app. Overall, it has great potential and can easily be improved.  \n",
       "7                       You've been using ChatGPT AI for a while, and it's among the best AI companions. It's lightning-fast and responsive, aiding you effectively. However, the app lags behind the web version in performance. The AI provides insightful and accurate responses for various tasks. The app interface is clean and user-friendly, but it can stutter compared to the web version. Despite this, it's a game-changer and a great on-the-go tool. Some performance optimizations could make it perfect  \n",
       "8                                                                                                                             Voice conversations choppy, doesn't work anymore. It was working great, but then one day all of the voices never choppy and clicky. I can't make out what they're saying anymore. It also has a much harder time picking up what I'm saying. Sometimes it thinks I'm just saying \"bye\". Cleared cache, reinstalled, didn't help. Anyways, great app otherwise - looking forward to fixes!  \n",
       "9            I love the app so far, and voice is great, but a few issues need to be ironed out before a five star is reasonable: 1. Voice doesn’t recognize for about a second or a little less. Once it tells you to talk, you have to wait about a second before it actually recognizes what you say. 2. When you leave voice to go back to messages, you always have to scroll down. 3. The scroll-to-bottom button appears even if you are at the bottom. 4. No way to view message log during voice communication.  \n",
       "10                                                                                                                                                                  The app is good, but there's an issue with chat history syncing. Conversations initiated on the web version don't appear in the app, significantly affecting the app's usefulness. Additionally, attempting to refresh the chat history brings up an \"error occurred\" message. In essence, this is an app that actually limits access to the model.  \n",
       "11  The ChatGPT app is absolutely phenomenal! It's become an indispensable tool in my daily life. The app's ability to provide quick, accurate, and insightful information across a wide range of topics is truly impressive. The interface is user-friendly, making it a breeze to interact with this AI. Whether I need answers to complex questions, assistance with language and writing, or just some casual conversation, ChatGPT excels at it all. It's like having a knowledgeable friend in your pocket at all  \n",
       "12                                            The app is way better than the website! I have only two issues though: first, it requires phone number for sign up (but it asks you on website too); second, that's a very little bug (I didn't found any other bug, even small), but when I scroll down the chat I must wait a couple of seconds and once down it appears the button to go down anyway. However it's not that annoying. It also have long-term memory and can learn rapidly. You deserve 5 stars at all.  \n",
       "13   \"I've been using this AI app for a while now, and I'm truly impressed with its capabilities. It consistently exceeds my expectations. The app's user-friendly interface makes it incredibly easy to navigate and utilize its features effectively. The AI's responses are not only prompt but also remarkably accurate. I appreciate how it adapts to my preferences and provides personalized recommendations. Whether it's helping me with research, answering questions, or even just engaging in casual conver  \n",
       "14               The \"Voice Conversations\" feature is fantastic but has some shortcomings that need to be fixed. First, when I use it in the car, it drops out periodically and doesn't realize that I never heard the missing part. Instead, it should pause or restart when it reestablishes connection. Ideally, it sends the audio stream ahead of time so that a cell network glitch isn't noticeable by the end-user. It would also be good if it remembered our previous conversation instead of losing context.  \n",
       "15  This app is improving by the moment. With minimal input from me, just a few times, I have marked a response as being a \"Good Response,\" it has continually improved the way it responds to me specifically. I'm no programmer, but I had imagined what the interactions would be like with a personal AI assistant, and with each interaction, it gets closer to that ideal. Using this app for only the most basic if it's capabilities, I have freed up hours of time each week. 11 hr/wk so far, to be specific.  \n",
       "16  I've been using the ChatGPT app for some time now, and it has truly impressed me. The AI's responses are consistently helpful, informative, and engaging. The interface is user-friendly, and it's easy to have meaningful conversations on a wide range of topics. I particularly appreciate the app's reliability and the convenience of having access to this AI assistant on my mobile device. Overall, ChatGPT is a valuable tool that enhances productivity and provides answers to various questions. I h...  \n",
       "17               I updated my review from 2 to 4 stars because the app now works on my Chromebook, after a recent update. Earlier, I was not able to log in with the Chromebook because the app could not find any suitable browsers. Now it can. In my case, the app found and used Edge, which was not the \"default\" browser. I want to point out that the app never had any issues on my Android phone. The app seems to have all the features that I liked in the web version. Convenient speech to text is a plus.  \n",
       "18                                                    Easily the best app I've ever downloaded. Highly impressed. I only have 1 concern at the moment, and that is the fear of potentially losing a chat or chats getting too long for the AI to \"remember\" past details. Would love to see 1.) A way to save chats permanently. 2.) A search function so that I can search for past information, so that I can copy and paste it to \"refresh\" the AI's memory for context that has fallen outside it's context window.  \n",
       "19                                                                                        Overall, the app is quite useful, but there are a couple of bugs that need attention. Firstly, the code syntax doesn't have a distinct visual style from the normal text, which makes it challenging to differentiate. Secondly, when the text edit box is expanded in dark theme, the text appears black, making it difficult to read. I hope these issues get fixed soon as they would greatly improve the app's usability.  \n",
       "20                                                                                                                             The App interface is simple and easy to use, but I have some suggestions : 1- add optional audio reader for answers. 2- when asking the AI using microphone 🎤 it's better to send the question automatically without the need to press the sending button, so it gives the atmosphere of real-life conversation. Please take it into consideration, thanks for your efforts, keep it up!  \n",
       "21                                                                                                                                       It's like having a personal assistant who is capable of doing most simple tasks instantaneously. Write an email, give you instructions on how to do many web-based tasks, help you do research... those are just some of the most basic things the app can do. I think the most involved aspect of using this app, is figuring out, and exploring all of the things it can do!  \n",
       "22                         I've been using the ChatGPT for a while now, and I'm thoroughly impressed with its capabilities. The AI-generated responses are surprisingly natural & making conversations feel smooth and engaging. The app's ability to understand context and provide relevant answers is truly remarkable. I've found it to be a valuable tool for brainstorming, getting quick information, and even just for some lighthearted conversations. While there's room for improvement in occasional unders  \n",
       "23                It's a good start! There are a few additions that would make it great though. 1) Enable an option to choose v4 by default. One less click. 2) After asking a question, the keyboard remains on screen taking up a third of the screen space and I have to manually minimize it. Automatically hiding it would be a better UX. One less click. 3) Include same options on the web version, including access to custom instructions, plugins and new beta features. 4) Include a text to speech option.  \n",
       "24   Amazing, it's sleek and professional looking, without looking overly \"corporate\", and the performance is faster than using a browser in mobile. Only complaint is that, in the process of making it simple, they removed some quality-of-life features, such as editing prompts, hiding edited prompts that were made in the browser and anything before and after regenerating a prompt in both browser and app, and placing all previous chats into a history section instead of just putting it in the sidebar.  \n",
       "25                                                                                                Smooth design and wonderful experience. However, I have some criticisms: - I would like to have easy access to my conversation history without having to go through the entire chat history. - When I open an old conversation, it scrolls from the first text I sent to the last one, causing a long waiting time. - The code blocks don't come with colors; they only display as black text on a white background.\"  \n",
       "26                                                                                            I use ChatGPT a lot for my studies and was happy when they announced the app. The app is cool and simple but it'd be great to bring some of the features on the website into the app. Like the design and Layout. For example, it's a bit long to have to go through the history to get my chats. And it would really also help if they added a search feature so you can search for keywords in your previous responses.  \n",
       "27                                                                                                                                                                   This app is better than I expected. The interface is minimalist just like the site and the responses are quick. it doesn't take much space either but I noticed it uses a lot of internet traffic/mobile data(considering it runs on cloud based systems) but either way, I really appreciate this mobile app! Easy to use, straight to the point.  \n",
       "28                                                                                                                 I'm very impressed with my experience. Especially with how fast the response is and the clean interface just makes it better. AI's ability to answer questions, solve problems and help with personal tasks is totally insane. The fact that it's just the beginning and as time progresses and tech gets better so does our lives is just awesome. To summarize into a single sentence 'I love it'.  \n",
       "29                                                                                                                                                                                                               Amazingly informative 👌. It would be extremely beneficial if the developers added a function to \"SELECT ALL\" and \"PRINT\" for a full day's worth of communication rather than having to try to copy and paste multiple sections. Going back and forth between two apps on a phone is very inconvenient.  \n",
       "30                                                                                                                          Definitely more handy than opening browser for the web version, but inferior in all other aspects. The biggest problem for me is that I can't edit my prompts. As a plus subscriber I find the lack of beta features to be inconvenient. Another thing is that the UI is too big. This is especially annoying when reading and code snippets, as only a few words can fit in a row of text.  \n",
       "31                                                                                                        Lovely service but I would like to make a few recommendations. Simple interface but it's too basic. Allow the use to have faster access to the previous chats. An interface similar to that of the browser. Consider adding the audio to text option on the free version. This will help train the system and help incorporate more languages into it. Other than this, lovely app and great work on Chatgpt.  \n",
       "32                  I really think I am in love with this app because it is incredibly helpful. As a writer, I usually rely on it to generate creative ideas for my stories and assist me with my grammar mistakes. I must also mention that it helps me with other aspects as well. Edit: Idk what happened, but whenever I sent a message now it says connection error and I can't see any response this has just become way too bad!! Edit 2: Well it's working again but I think they can improve the UI very much.  \n",
       "33                             ChatGPT App is an absolute game-changer in text-based communication. With its intuitive design and exceptional AI-powered responses, it has taken my daily interactions to the next level. The interface is user-friendly, making it suitable for both novices and experts alike. Whether it's a simple question or a complex query, the app provides accurate and timely responses. The free version is robust, and the paid plans offer even more advanced features. Highly recommend!  \n",
       "34                            The app mostly does what I expect it to : it's a good alternative from using ChatGPT in the browser on mobile. However, a feature that is present in the web version and that is missing in this app is the ability to render latex. This is a really important feature to me, as I don't want to have to go back and forth between the app and a latex/markdown renderer to discuss maths with ChatGPT, and the lack of this feature is the reason for the missing 2 stars in my review.  \n",
       "35                                                                                                                  Solid app, very clean interface. However it'd be nice if there was an option to have your history on the sidebar like on the web version. More importantly, I find it a little baffling that there is no option to edit and re-submit a query on the app. That's arguably one of the key features of ChatGPT, so I'm disappointed that it didn't make it's way to the official android application.  \n",
       "36                                                                                                                                                                                                        The animation that appears when I open the app runs twice, so if I start writing right away, everything I wrote disappears when the animation runs the second time and the big dot remains on the screen. It's annoying having to wait for the second animation or having to write everything all over again.  \n",
       "37  I generally really like it but it's annoying that you have to press a button to get to the history, instead of it just being in the sidebar. Especially if you want to klick on multiple chats in a row it's REALLY annoying that you have to scroll down every time and find the chat where you left off. It also bugs me that editing a message isn't possible like it is on the website, because that's VERY useful. Also the option to add a secondary language would be nice, because I use German and Engl...  \n",
       "38                                                                                                  I am incredibly impressed with this app! The app features is unparalleled, providing unlimited and accurate responses to all my questions. The app's interface is intuitive and easy to use, making my conversations with the AI incredibly smooth. I appreciate the wealth of knowledge and helpfulness it offers. Thank you for creating such an exceptional tool! I wholeheartedly recommend this app to anyone!  \n",
       "39         The ChatGPT Android app is an absolute delight! Its user-friendly design, informative answers, and engaging conversations make it a standout choice. I hope it remains simple and functional as new features are added. The app's adaptability and vast knowledge base are truly impressive, making it an invaluable companion in daily life. Kudos to the developers for striking the right balance between innovation and usability. I look forward to the app's continuous growth and hope it does go bad  "
      ]
     },
     "execution_count": 64,
     "metadata": {},
     "output_type": "execute_result"
    }
   ],
   "source": [
    "pd.set_option('max_colwidth', 500)\n",
    "dataset.head(40)"
   ]
  },
  {
   "cell_type": "code",
   "execution_count": 67,
   "metadata": {},
   "outputs": [
    {
     "data": {
      "application/vnd.jupyter.widget-view+json": {
       "model_id": "911f8853e9c549cb8bbf821f974d3f53",
       "version_major": 2,
       "version_minor": 0
      },
      "text/plain": [
       "(…)cased/resolve/main/tokenizer_config.json:   0%|          | 0.00/28.0 [00:00<?, ?B/s]"
      ]
     },
     "metadata": {},
     "output_type": "display_data"
    },
    {
     "data": {
      "application/vnd.jupyter.widget-view+json": {
       "model_id": "9e295825326642708778d380a9b5e4c0",
       "version_major": 2,
       "version_minor": 0
      },
      "text/plain": [
       "(…)rt-base-uncased/resolve/main/config.json:   0%|          | 0.00/483 [00:00<?, ?B/s]"
      ]
     },
     "metadata": {},
     "output_type": "display_data"
    },
    {
     "data": {
      "application/vnd.jupyter.widget-view+json": {
       "model_id": "ce65410b9a51459aa28262d5107ced86",
       "version_major": 2,
       "version_minor": 0
      },
      "text/plain": [
       "(…)bert-base-uncased/resolve/main/vocab.txt:   0%|          | 0.00/232k [00:00<?, ?B/s]"
      ]
     },
     "metadata": {},
     "output_type": "display_data"
    },
    {
     "data": {
      "application/vnd.jupyter.widget-view+json": {
       "model_id": "f494d654860b45c880adf4ab4a3492ca",
       "version_major": 2,
       "version_minor": 0
      },
      "text/plain": [
       "(…)base-uncased/resolve/main/tokenizer.json:   0%|          | 0.00/466k [00:00<?, ?B/s]"
      ]
     },
     "metadata": {},
     "output_type": "display_data"
    }
   ],
   "source": [
    "from transformers import AutoTokenizer\n",
    "\n",
    "tokenizer = AutoTokenizer.from_pretrained(\"distilbert-base-uncased\")"
   ]
  },
  {
   "cell_type": "code",
   "execution_count": 72,
   "metadata": {},
   "outputs": [],
   "source": [
    "def preprocess_function(df):\n",
    "    return tokenizer(df[\"content\"], truncation=True)"
   ]
  },
  {
   "cell_type": "code",
   "execution_count": 75,
   "metadata": {},
   "outputs": [
    {
     "ename": "AttributeError",
     "evalue": "'DataFrame' object has no attribute 'rdd'",
     "output_type": "error",
     "traceback": [
      "\u001b[0;31m---------------------------------------------------------------------------\u001b[0m",
      "\u001b[0;31mAttributeError\u001b[0m                            Traceback (most recent call last)",
      "\u001b[0;32m/var/folders/vl/wpx53sjn0nv5cmny0jckrfjr0000gn/T/ipykernel_36835/439954779.py\u001b[0m in \u001b[0;36m?\u001b[0;34m()\u001b[0m\n\u001b[0;32m----> 1\u001b[0;31m \u001b[0mtokenized_df\u001b[0m \u001b[0;34m=\u001b[0m \u001b[0mdf\u001b[0m\u001b[0;34m.\u001b[0m\u001b[0mrdd\u001b[0m\u001b[0;34m.\u001b[0m\u001b[0mmap\u001b[0m\u001b[0;34m(\u001b[0m\u001b[0mpreprocess_function\u001b[0m\u001b[0;34m,\u001b[0m \u001b[0mbatched\u001b[0m\u001b[0;34m=\u001b[0m\u001b[0;32mTrue\u001b[0m\u001b[0;34m)\u001b[0m\u001b[0;34m\u001b[0m\u001b[0;34m\u001b[0m\u001b[0m\n\u001b[0m",
      "\u001b[0;32m~/Documents/Bootcamp/Git/Capstone/capstone_chat-gpt/.venv/lib/python3.11/site-packages/pandas/core/generic.py\u001b[0m in \u001b[0;36m?\u001b[0;34m(self, name)\u001b[0m\n\u001b[1;32m   5985\u001b[0m             \u001b[0;32mand\u001b[0m \u001b[0mname\u001b[0m \u001b[0;32mnot\u001b[0m \u001b[0;32min\u001b[0m \u001b[0mself\u001b[0m\u001b[0;34m.\u001b[0m\u001b[0m_accessors\u001b[0m\u001b[0;34m\u001b[0m\u001b[0;34m\u001b[0m\u001b[0m\n\u001b[1;32m   5986\u001b[0m             \u001b[0;32mand\u001b[0m \u001b[0mself\u001b[0m\u001b[0;34m.\u001b[0m\u001b[0m_info_axis\u001b[0m\u001b[0;34m.\u001b[0m\u001b[0m_can_hold_identifiers_and_holds_name\u001b[0m\u001b[0;34m(\u001b[0m\u001b[0mname\u001b[0m\u001b[0;34m)\u001b[0m\u001b[0;34m\u001b[0m\u001b[0;34m\u001b[0m\u001b[0m\n\u001b[1;32m   5987\u001b[0m         ):\n\u001b[1;32m   5988\u001b[0m             \u001b[0;32mreturn\u001b[0m \u001b[0mself\u001b[0m\u001b[0;34m[\u001b[0m\u001b[0mname\u001b[0m\u001b[0;34m]\u001b[0m\u001b[0;34m\u001b[0m\u001b[0;34m\u001b[0m\u001b[0m\n\u001b[0;32m-> 5989\u001b[0;31m         \u001b[0;32mreturn\u001b[0m \u001b[0mobject\u001b[0m\u001b[0;34m.\u001b[0m\u001b[0m__getattribute__\u001b[0m\u001b[0;34m(\u001b[0m\u001b[0mself\u001b[0m\u001b[0;34m,\u001b[0m \u001b[0mname\u001b[0m\u001b[0;34m)\u001b[0m\u001b[0;34m\u001b[0m\u001b[0;34m\u001b[0m\u001b[0m\n\u001b[0m",
      "\u001b[0;31mAttributeError\u001b[0m: 'DataFrame' object has no attribute 'rdd'"
     ]
    }
   ],
   "source": [
    "tokenized_df = df.map(preprocess_function, batched=True)"
   ]
  },
  {
   "cell_type": "code",
   "execution_count": null,
   "metadata": {},
   "outputs": [],
   "source": [
    "from transformers import DataCollatorWithPadding\n",
    "\n",
    "data_collator = DataCollatorWithPadding(tokenizer=tokenizer)"
   ]
  },
  {
   "cell_type": "code",
   "execution_count": 84,
   "metadata": {},
   "outputs": [
    {
     "data": {
      "text/plain": [
       "0                                          ChatGPT on Android is a solid app with seamless OpenAI server connectivity, ensuring smooth interactions. However, it falls behind its Apple counterpart in features and updates. The voice input can be prematurely triggered by pauses, unlike on Apple. Additionally, the lack of a search function for previous messages is a drawback. Despite these, it remains a commendable app, deserving a 4-5 star rating. With minor improvements, it can match its Apple version.\n",
       "1                      I've been using chatGPT for a while but I've just tested out the microphone speech recognition option for the first time, and let's say... I'M COMPLETELY BLOWN AWAY. NO, SERIOUSLY. It literally puts ALL the expressions, punctuation, in the right place. No matter how you talk, it converts it without a problem. It's amazing and I will probably will never type to ChatGPT again! Still though... that's some outstanding work. Now we wait for voice responses from the Bot! Hopefully...\n",
       "2                     The ChatGPT Android app has completely blown me away with its exceptional performance and versatility! As an AI language model, it consistently delivers impressive responses to my queries and provides insightful suggestions. The ease of use and intuitive interface make chatting with ChatGPT a delightful experience. In all seriousness, it's good. It works. I would still recommend using the browser though, as the app lacks a few features, such as editing a message after it's sent.\n",
       "3                                                                                                                                                          No subscription, free and accurate, unbiased answers. No fresh data since September 2021 but that doesn't make this app less accurate. I'm loving the fact it can even generate basic ASCII ART other than just text. The text is excellent, grammar precise and a great plethora of vocabulary. I can't wait for the next update and to see what that brings.\n",
       "4                  I use this app for learning languages, which chatgpt is amazing at. However, there are a few things I'd like added. 1. A search function. Being able to search a word that's several tokens back would be great. 2. Ability to highlight a word and 'search with Google'. 3. An AI voice that can read back chatgpt's outputs. For language learning especially, it'd be very useful to hear how certain words are pronounced. But still, great client for chatgpt! Can't wait for future improvements\n",
       "                                                                                                                                                                                                                                                             ...                                                                                                                                                                                                                                                         \n",
       "95              I was amazed by the work the developers have done on it. A premium feel that is difficult to achieve. Maintaining this feel with all the features of Website on this light weight app. I do have a suggestion. I don't see any option to edit my last sent request. I don't like long chat so on web version I used to just edit my last command but cant do that here. And When I try to use the mic option, There is a transcription error. And After that I have to restart app to again write message\n",
       "96                                                                                                I've not been able to run this app so my review is only based on the very little interaction I have had with it. The app crashes while trying to register my details. the DOB data can not be changed via the keyboard, wether this is because it's a chromebook or the app has crasherd at this point I'm not sure. I will give it more stars if it ever gets past this point, but until then one star it will remain.\n",
       "97          You can grow and learn easier than at any point in history. Learn to use ChatGPT and have a teacher next to you each step of the way. I bounce ideas off ChatGPT.I ask for irrigation troubleshooting. Every task I use Chat GPT for is another task I know I can accomplish. The best mentors helped me through difficult problems in a learning but solving way. I need good instruction to keep moving forward in areas that seem to be taking too long. This tool can set you up for success just ask it.\n",
       "98                                       Of course! Here's a review for ChatGPT on Google Play based on your sentiments: --- ⭐⭐⭐⭐⭐ I've been thoroughly enjoying my experience with ChatGPT. One feature that stands out, especially when compared to the web version, is the search function in the chat history. It makes referencing past conversations a breeze! A suggestion for improvement would be the ability to pin the most frequently used chats to the top for even easier access. Overall, a fantastic app!\n",
       "99    ChatGPT for Android is a fantastic language model app! Its responsiveness and accuracy in understanding my queries impressed me. It offers a wide range of information, making it a reliable source for quick answers. Additionally, the app's user-friendly interface and smooth navigation make the experience enjoyable. Overall, ChatGPT for Android is a must-have tool for anyone seeking assistance with language-related tasks on the go. Kudos to the developers for creating such a helpful and efficient\n",
       "Name: content, Length: 100, dtype: object"
      ]
     },
     "execution_count": 84,
     "metadata": {},
     "output_type": "execute_result"
    }
   ],
   "source": [
    "df['content'][0:100]"
   ]
  },
  {
   "cell_type": "code",
   "execution_count": 86,
   "metadata": {},
   "outputs": [
    {
     "name": "stderr",
     "output_type": "stream",
     "text": [
      "All PyTorch model weights were used when initializing TFDistilBertForSequenceClassification.\n",
      "\n",
      "All the weights of TFDistilBertForSequenceClassification were initialized from the PyTorch model.\n",
      "If your task is similar to the task the model of the checkpoint was trained on, you can already use TFDistilBertForSequenceClassification for predictions without further training.\n"
     ]
    },
    {
     "data": {
      "text/plain": [
       "[{'label': 'LABEL_1', 'score': 0.9982408285140991}]"
      ]
     },
     "execution_count": 86,
     "metadata": {},
     "output_type": "execute_result"
    }
   ],
   "source": [
    "from transformers import pipeline\n",
    "\n",
    "classifier = pipeline(\"sentiment-analysis\", model=\"stevhliu/my_awesome_model\")\n",
    "classifier(df['content'][1])"
   ]
  },
  {
   "cell_type": "code",
   "execution_count": 88,
   "metadata": {},
   "outputs": [
    {
     "ename": "ImportError",
     "evalue": "Unable to convert output to PyTorch tensors format, PyTorch is not installed.",
     "output_type": "error",
     "traceback": [
      "\u001b[0;31m---------------------------------------------------------------------------\u001b[0m",
      "\u001b[0;31mImportError\u001b[0m                               Traceback (most recent call last)",
      "\u001b[1;32m/Users/janice/Documents/Bootcamp/Git/Capstone/capstone_chat-gpt/notebooks/1_Spam_Classifier.ipynb Zelle 48\u001b[0m line \u001b[0;36m4\n\u001b[1;32m      <a href='vscode-notebook-cell:/Users/janice/Documents/Bootcamp/Git/Capstone/capstone_chat-gpt/notebooks/1_Spam_Classifier.ipynb#Y136sZmlsZQ%3D%3D?line=0'>1</a>\u001b[0m \u001b[39mfrom\u001b[39;00m \u001b[39mtransformers\u001b[39;00m \u001b[39mimport\u001b[39;00m AutoTokenizer\n\u001b[1;32m      <a href='vscode-notebook-cell:/Users/janice/Documents/Bootcamp/Git/Capstone/capstone_chat-gpt/notebooks/1_Spam_Classifier.ipynb#Y136sZmlsZQ%3D%3D?line=2'>3</a>\u001b[0m tokenizer \u001b[39m=\u001b[39m AutoTokenizer\u001b[39m.\u001b[39mfrom_pretrained(\u001b[39m\"\u001b[39m\u001b[39mstevhliu/my_awesome_model\u001b[39m\u001b[39m\"\u001b[39m)\n\u001b[0;32m----> <a href='vscode-notebook-cell:/Users/janice/Documents/Bootcamp/Git/Capstone/capstone_chat-gpt/notebooks/1_Spam_Classifier.ipynb#Y136sZmlsZQ%3D%3D?line=3'>4</a>\u001b[0m inputs \u001b[39m=\u001b[39m tokenizer(df[\u001b[39m'\u001b[39;49m\u001b[39mcontent\u001b[39;49m\u001b[39m'\u001b[39;49m][\u001b[39m1\u001b[39;49m], return_tensors\u001b[39m=\u001b[39;49m\u001b[39m\"\u001b[39;49m\u001b[39mpt\u001b[39;49m\u001b[39m\"\u001b[39;49m)\n",
      "File \u001b[0;32m~/Documents/Bootcamp/Git/Capstone/capstone_chat-gpt/.venv/lib/python3.11/site-packages/transformers/tokenization_utils_base.py:2561\u001b[0m, in \u001b[0;36mPreTrainedTokenizerBase.__call__\u001b[0;34m(self, text, text_pair, text_target, text_pair_target, add_special_tokens, padding, truncation, max_length, stride, is_split_into_words, pad_to_multiple_of, return_tensors, return_token_type_ids, return_attention_mask, return_overflowing_tokens, return_special_tokens_mask, return_offsets_mapping, return_length, verbose, **kwargs)\u001b[0m\n\u001b[1;32m   2559\u001b[0m     \u001b[39mif\u001b[39;00m \u001b[39mnot\u001b[39;00m \u001b[39mself\u001b[39m\u001b[39m.\u001b[39m_in_target_context_manager:\n\u001b[1;32m   2560\u001b[0m         \u001b[39mself\u001b[39m\u001b[39m.\u001b[39m_switch_to_input_mode()\n\u001b[0;32m-> 2561\u001b[0m     encodings \u001b[39m=\u001b[39m \u001b[39mself\u001b[39;49m\u001b[39m.\u001b[39;49m_call_one(text\u001b[39m=\u001b[39;49mtext, text_pair\u001b[39m=\u001b[39;49mtext_pair, \u001b[39m*\u001b[39;49m\u001b[39m*\u001b[39;49mall_kwargs)\n\u001b[1;32m   2562\u001b[0m \u001b[39mif\u001b[39;00m text_target \u001b[39mis\u001b[39;00m \u001b[39mnot\u001b[39;00m \u001b[39mNone\u001b[39;00m:\n\u001b[1;32m   2563\u001b[0m     \u001b[39mself\u001b[39m\u001b[39m.\u001b[39m_switch_to_target_mode()\n",
      "File \u001b[0;32m~/Documents/Bootcamp/Git/Capstone/capstone_chat-gpt/.venv/lib/python3.11/site-packages/transformers/tokenization_utils_base.py:2667\u001b[0m, in \u001b[0;36mPreTrainedTokenizerBase._call_one\u001b[0;34m(self, text, text_pair, add_special_tokens, padding, truncation, max_length, stride, is_split_into_words, pad_to_multiple_of, return_tensors, return_token_type_ids, return_attention_mask, return_overflowing_tokens, return_special_tokens_mask, return_offsets_mapping, return_length, verbose, **kwargs)\u001b[0m\n\u001b[1;32m   2647\u001b[0m     \u001b[39mreturn\u001b[39;00m \u001b[39mself\u001b[39m\u001b[39m.\u001b[39mbatch_encode_plus(\n\u001b[1;32m   2648\u001b[0m         batch_text_or_text_pairs\u001b[39m=\u001b[39mbatch_text_or_text_pairs,\n\u001b[1;32m   2649\u001b[0m         add_special_tokens\u001b[39m=\u001b[39madd_special_tokens,\n\u001b[0;32m   (...)\u001b[0m\n\u001b[1;32m   2664\u001b[0m         \u001b[39m*\u001b[39m\u001b[39m*\u001b[39mkwargs,\n\u001b[1;32m   2665\u001b[0m     )\n\u001b[1;32m   2666\u001b[0m \u001b[39melse\u001b[39;00m:\n\u001b[0;32m-> 2667\u001b[0m     \u001b[39mreturn\u001b[39;00m \u001b[39mself\u001b[39;49m\u001b[39m.\u001b[39;49mencode_plus(\n\u001b[1;32m   2668\u001b[0m         text\u001b[39m=\u001b[39;49mtext,\n\u001b[1;32m   2669\u001b[0m         text_pair\u001b[39m=\u001b[39;49mtext_pair,\n\u001b[1;32m   2670\u001b[0m         add_special_tokens\u001b[39m=\u001b[39;49madd_special_tokens,\n\u001b[1;32m   2671\u001b[0m         padding\u001b[39m=\u001b[39;49mpadding,\n\u001b[1;32m   2672\u001b[0m         truncation\u001b[39m=\u001b[39;49mtruncation,\n\u001b[1;32m   2673\u001b[0m         max_length\u001b[39m=\u001b[39;49mmax_length,\n\u001b[1;32m   2674\u001b[0m         stride\u001b[39m=\u001b[39;49mstride,\n\u001b[1;32m   2675\u001b[0m         is_split_into_words\u001b[39m=\u001b[39;49mis_split_into_words,\n\u001b[1;32m   2676\u001b[0m         pad_to_multiple_of\u001b[39m=\u001b[39;49mpad_to_multiple_of,\n\u001b[1;32m   2677\u001b[0m         return_tensors\u001b[39m=\u001b[39;49mreturn_tensors,\n\u001b[1;32m   2678\u001b[0m         return_token_type_ids\u001b[39m=\u001b[39;49mreturn_token_type_ids,\n\u001b[1;32m   2679\u001b[0m         return_attention_mask\u001b[39m=\u001b[39;49mreturn_attention_mask,\n\u001b[1;32m   2680\u001b[0m         return_overflowing_tokens\u001b[39m=\u001b[39;49mreturn_overflowing_tokens,\n\u001b[1;32m   2681\u001b[0m         return_special_tokens_mask\u001b[39m=\u001b[39;49mreturn_special_tokens_mask,\n\u001b[1;32m   2682\u001b[0m         return_offsets_mapping\u001b[39m=\u001b[39;49mreturn_offsets_mapping,\n\u001b[1;32m   2683\u001b[0m         return_length\u001b[39m=\u001b[39;49mreturn_length,\n\u001b[1;32m   2684\u001b[0m         verbose\u001b[39m=\u001b[39;49mverbose,\n\u001b[1;32m   2685\u001b[0m         \u001b[39m*\u001b[39;49m\u001b[39m*\u001b[39;49mkwargs,\n\u001b[1;32m   2686\u001b[0m     )\n",
      "File \u001b[0;32m~/Documents/Bootcamp/Git/Capstone/capstone_chat-gpt/.venv/lib/python3.11/site-packages/transformers/tokenization_utils_base.py:2740\u001b[0m, in \u001b[0;36mPreTrainedTokenizerBase.encode_plus\u001b[0;34m(self, text, text_pair, add_special_tokens, padding, truncation, max_length, stride, is_split_into_words, pad_to_multiple_of, return_tensors, return_token_type_ids, return_attention_mask, return_overflowing_tokens, return_special_tokens_mask, return_offsets_mapping, return_length, verbose, **kwargs)\u001b[0m\n\u001b[1;32m   2730\u001b[0m \u001b[39m# Backward compatibility for 'truncation_strategy', 'pad_to_max_length'\u001b[39;00m\n\u001b[1;32m   2731\u001b[0m padding_strategy, truncation_strategy, max_length, kwargs \u001b[39m=\u001b[39m \u001b[39mself\u001b[39m\u001b[39m.\u001b[39m_get_padding_truncation_strategies(\n\u001b[1;32m   2732\u001b[0m     padding\u001b[39m=\u001b[39mpadding,\n\u001b[1;32m   2733\u001b[0m     truncation\u001b[39m=\u001b[39mtruncation,\n\u001b[0;32m   (...)\u001b[0m\n\u001b[1;32m   2737\u001b[0m     \u001b[39m*\u001b[39m\u001b[39m*\u001b[39mkwargs,\n\u001b[1;32m   2738\u001b[0m )\n\u001b[0;32m-> 2740\u001b[0m \u001b[39mreturn\u001b[39;00m \u001b[39mself\u001b[39;49m\u001b[39m.\u001b[39;49m_encode_plus(\n\u001b[1;32m   2741\u001b[0m     text\u001b[39m=\u001b[39;49mtext,\n\u001b[1;32m   2742\u001b[0m     text_pair\u001b[39m=\u001b[39;49mtext_pair,\n\u001b[1;32m   2743\u001b[0m     add_special_tokens\u001b[39m=\u001b[39;49madd_special_tokens,\n\u001b[1;32m   2744\u001b[0m     padding_strategy\u001b[39m=\u001b[39;49mpadding_strategy,\n\u001b[1;32m   2745\u001b[0m     truncation_strategy\u001b[39m=\u001b[39;49mtruncation_strategy,\n\u001b[1;32m   2746\u001b[0m     max_length\u001b[39m=\u001b[39;49mmax_length,\n\u001b[1;32m   2747\u001b[0m     stride\u001b[39m=\u001b[39;49mstride,\n\u001b[1;32m   2748\u001b[0m     is_split_into_words\u001b[39m=\u001b[39;49mis_split_into_words,\n\u001b[1;32m   2749\u001b[0m     pad_to_multiple_of\u001b[39m=\u001b[39;49mpad_to_multiple_of,\n\u001b[1;32m   2750\u001b[0m     return_tensors\u001b[39m=\u001b[39;49mreturn_tensors,\n\u001b[1;32m   2751\u001b[0m     return_token_type_ids\u001b[39m=\u001b[39;49mreturn_token_type_ids,\n\u001b[1;32m   2752\u001b[0m     return_attention_mask\u001b[39m=\u001b[39;49mreturn_attention_mask,\n\u001b[1;32m   2753\u001b[0m     return_overflowing_tokens\u001b[39m=\u001b[39;49mreturn_overflowing_tokens,\n\u001b[1;32m   2754\u001b[0m     return_special_tokens_mask\u001b[39m=\u001b[39;49mreturn_special_tokens_mask,\n\u001b[1;32m   2755\u001b[0m     return_offsets_mapping\u001b[39m=\u001b[39;49mreturn_offsets_mapping,\n\u001b[1;32m   2756\u001b[0m     return_length\u001b[39m=\u001b[39;49mreturn_length,\n\u001b[1;32m   2757\u001b[0m     verbose\u001b[39m=\u001b[39;49mverbose,\n\u001b[1;32m   2758\u001b[0m     \u001b[39m*\u001b[39;49m\u001b[39m*\u001b[39;49mkwargs,\n\u001b[1;32m   2759\u001b[0m )\n",
      "File \u001b[0;32m~/Documents/Bootcamp/Git/Capstone/capstone_chat-gpt/.venv/lib/python3.11/site-packages/transformers/tokenization_utils_fast.py:497\u001b[0m, in \u001b[0;36mPreTrainedTokenizerFast._encode_plus\u001b[0;34m(self, text, text_pair, add_special_tokens, padding_strategy, truncation_strategy, max_length, stride, is_split_into_words, pad_to_multiple_of, return_tensors, return_token_type_ids, return_attention_mask, return_overflowing_tokens, return_special_tokens_mask, return_offsets_mapping, return_length, verbose, **kwargs)\u001b[0m\n\u001b[1;32m    475\u001b[0m \u001b[39mdef\u001b[39;00m \u001b[39m_encode_plus\u001b[39m(\n\u001b[1;32m    476\u001b[0m     \u001b[39mself\u001b[39m,\n\u001b[1;32m    477\u001b[0m     text: Union[TextInput, PreTokenizedInput],\n\u001b[0;32m   (...)\u001b[0m\n\u001b[1;32m    494\u001b[0m     \u001b[39m*\u001b[39m\u001b[39m*\u001b[39mkwargs,\n\u001b[1;32m    495\u001b[0m ) \u001b[39m-\u001b[39m\u001b[39m>\u001b[39m BatchEncoding:\n\u001b[1;32m    496\u001b[0m     batched_input \u001b[39m=\u001b[39m [(text, text_pair)] \u001b[39mif\u001b[39;00m text_pair \u001b[39melse\u001b[39;00m [text]\n\u001b[0;32m--> 497\u001b[0m     batched_output \u001b[39m=\u001b[39m \u001b[39mself\u001b[39;49m\u001b[39m.\u001b[39;49m_batch_encode_plus(\n\u001b[1;32m    498\u001b[0m         batched_input,\n\u001b[1;32m    499\u001b[0m         is_split_into_words\u001b[39m=\u001b[39;49mis_split_into_words,\n\u001b[1;32m    500\u001b[0m         add_special_tokens\u001b[39m=\u001b[39;49madd_special_tokens,\n\u001b[1;32m    501\u001b[0m         padding_strategy\u001b[39m=\u001b[39;49mpadding_strategy,\n\u001b[1;32m    502\u001b[0m         truncation_strategy\u001b[39m=\u001b[39;49mtruncation_strategy,\n\u001b[1;32m    503\u001b[0m         max_length\u001b[39m=\u001b[39;49mmax_length,\n\u001b[1;32m    504\u001b[0m         stride\u001b[39m=\u001b[39;49mstride,\n\u001b[1;32m    505\u001b[0m         pad_to_multiple_of\u001b[39m=\u001b[39;49mpad_to_multiple_of,\n\u001b[1;32m    506\u001b[0m         return_tensors\u001b[39m=\u001b[39;49mreturn_tensors,\n\u001b[1;32m    507\u001b[0m         return_token_type_ids\u001b[39m=\u001b[39;49mreturn_token_type_ids,\n\u001b[1;32m    508\u001b[0m         return_attention_mask\u001b[39m=\u001b[39;49mreturn_attention_mask,\n\u001b[1;32m    509\u001b[0m         return_overflowing_tokens\u001b[39m=\u001b[39;49mreturn_overflowing_tokens,\n\u001b[1;32m    510\u001b[0m         return_special_tokens_mask\u001b[39m=\u001b[39;49mreturn_special_tokens_mask,\n\u001b[1;32m    511\u001b[0m         return_offsets_mapping\u001b[39m=\u001b[39;49mreturn_offsets_mapping,\n\u001b[1;32m    512\u001b[0m         return_length\u001b[39m=\u001b[39;49mreturn_length,\n\u001b[1;32m    513\u001b[0m         verbose\u001b[39m=\u001b[39;49mverbose,\n\u001b[1;32m    514\u001b[0m         \u001b[39m*\u001b[39;49m\u001b[39m*\u001b[39;49mkwargs,\n\u001b[1;32m    515\u001b[0m     )\n\u001b[1;32m    517\u001b[0m     \u001b[39m# Return tensor is None, then we can remove the leading batch axis\u001b[39;00m\n\u001b[1;32m    518\u001b[0m     \u001b[39m# Overflowing tokens are returned as a batch of output so we keep them in this case\u001b[39;00m\n\u001b[1;32m    519\u001b[0m     \u001b[39mif\u001b[39;00m return_tensors \u001b[39mis\u001b[39;00m \u001b[39mNone\u001b[39;00m \u001b[39mand\u001b[39;00m \u001b[39mnot\u001b[39;00m return_overflowing_tokens:\n",
      "File \u001b[0;32m~/Documents/Bootcamp/Git/Capstone/capstone_chat-gpt/.venv/lib/python3.11/site-packages/transformers/tokenization_utils_fast.py:473\u001b[0m, in \u001b[0;36mPreTrainedTokenizerFast._batch_encode_plus\u001b[0;34m(self, batch_text_or_text_pairs, add_special_tokens, padding_strategy, truncation_strategy, max_length, stride, is_split_into_words, pad_to_multiple_of, return_tensors, return_token_type_ids, return_attention_mask, return_overflowing_tokens, return_special_tokens_mask, return_offsets_mapping, return_length, verbose)\u001b[0m\n\u001b[1;32m    471\u001b[0m \u001b[39mfor\u001b[39;00m input_ids \u001b[39min\u001b[39;00m sanitized_tokens[\u001b[39m\"\u001b[39m\u001b[39minput_ids\u001b[39m\u001b[39m\"\u001b[39m]:\n\u001b[1;32m    472\u001b[0m     \u001b[39mself\u001b[39m\u001b[39m.\u001b[39m_eventual_warn_about_too_long_sequence(input_ids, max_length, verbose)\n\u001b[0;32m--> 473\u001b[0m \u001b[39mreturn\u001b[39;00m BatchEncoding(sanitized_tokens, sanitized_encodings, tensor_type\u001b[39m=\u001b[39;49mreturn_tensors)\n",
      "File \u001b[0;32m~/Documents/Bootcamp/Git/Capstone/capstone_chat-gpt/.venv/lib/python3.11/site-packages/transformers/tokenization_utils_base.py:211\u001b[0m, in \u001b[0;36mBatchEncoding.__init__\u001b[0;34m(self, data, encoding, tensor_type, prepend_batch_axis, n_sequences)\u001b[0m\n\u001b[1;32m    207\u001b[0m     n_sequences \u001b[39m=\u001b[39m encoding[\u001b[39m0\u001b[39m]\u001b[39m.\u001b[39mn_sequences\n\u001b[1;32m    209\u001b[0m \u001b[39mself\u001b[39m\u001b[39m.\u001b[39m_n_sequences \u001b[39m=\u001b[39m n_sequences\n\u001b[0;32m--> 211\u001b[0m \u001b[39mself\u001b[39;49m\u001b[39m.\u001b[39;49mconvert_to_tensors(tensor_type\u001b[39m=\u001b[39;49mtensor_type, prepend_batch_axis\u001b[39m=\u001b[39;49mprepend_batch_axis)\n",
      "File \u001b[0;32m~/Documents/Bootcamp/Git/Capstone/capstone_chat-gpt/.venv/lib/python3.11/site-packages/transformers/tokenization_utils_base.py:700\u001b[0m, in \u001b[0;36mBatchEncoding.convert_to_tensors\u001b[0;34m(self, tensor_type, prepend_batch_axis)\u001b[0m\n\u001b[1;32m    698\u001b[0m \u001b[39melif\u001b[39;00m tensor_type \u001b[39m==\u001b[39m TensorType\u001b[39m.\u001b[39mPYTORCH:\n\u001b[1;32m    699\u001b[0m     \u001b[39mif\u001b[39;00m \u001b[39mnot\u001b[39;00m is_torch_available():\n\u001b[0;32m--> 700\u001b[0m         \u001b[39mraise\u001b[39;00m \u001b[39mImportError\u001b[39;00m(\u001b[39m\"\u001b[39m\u001b[39mUnable to convert output to PyTorch tensors format, PyTorch is not installed.\u001b[39m\u001b[39m\"\u001b[39m)\n\u001b[1;32m    701\u001b[0m     \u001b[39mimport\u001b[39;00m \u001b[39mtorch\u001b[39;00m\n\u001b[1;32m    703\u001b[0m     as_tensor \u001b[39m=\u001b[39m torch\u001b[39m.\u001b[39mtensor\n",
      "\u001b[0;31mImportError\u001b[0m: Unable to convert output to PyTorch tensors format, PyTorch is not installed."
     ]
    }
   ],
   "source": [
    "from transformers import AutoTokenizer\n",
    "\n",
    "tokenizer = AutoTokenizer.from_pretrained(\"stevhliu/my_awesome_model\")\n",
    "inputs = tokenizer(df['content'][1], return_tensors=\"pt\")"
   ]
  }
 ],
 "metadata": {
  "kernelspec": {
   "display_name": "Python 3.9.8 ('.nlp': venv)",
   "language": "python",
   "name": "python3"
  },
  "language_info": {
   "codemirror_mode": {
    "name": "ipython",
    "version": 3
   },
   "file_extension": ".py",
   "mimetype": "text/x-python",
   "name": "python",
   "nbconvert_exporter": "python",
   "pygments_lexer": "ipython3",
   "version": "3.11.3"
  },
  "vscode": {
   "interpreter": {
    "hash": "9fb4e7a82a71b285d1d2fdbccfc7dcb00fac1863548a2573de3cd7a5b08c832d"
   }
  }
 },
 "nbformat": 4,
 "nbformat_minor": 4
}
