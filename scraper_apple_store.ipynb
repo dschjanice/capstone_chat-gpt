{
 "cells": [
  {
   "cell_type": "code",
   "execution_count": 1,
   "metadata": {},
   "outputs": [
    {
     "name": "stdout",
     "output_type": "stream",
     "text": [
      "Requirement already satisfied: app-store-scraper in c:\\spiced\\bootcamp\\capstone_chat-gpt\\.venv\\lib\\site-packages (0.3.5)\n",
      "Requirement already satisfied: requests==2.23.0 in c:\\spiced\\bootcamp\\capstone_chat-gpt\\.venv\\lib\\site-packages (from app-store-scraper) (2.23.0)\n",
      "Requirement already satisfied: chardet<4,>=3.0.2 in c:\\spiced\\bootcamp\\capstone_chat-gpt\\.venv\\lib\\site-packages (from requests==2.23.0->app-store-scraper) (3.0.4)\n",
      "Requirement already satisfied: idna<3,>=2.5 in c:\\spiced\\bootcamp\\capstone_chat-gpt\\.venv\\lib\\site-packages (from requests==2.23.0->app-store-scraper) (2.10)\n",
      "Requirement already satisfied: urllib3!=1.25.0,!=1.25.1,<1.26,>=1.21.1 in c:\\spiced\\bootcamp\\capstone_chat-gpt\\.venv\\lib\\site-packages (from requests==2.23.0->app-store-scraper) (1.25.11)\n",
      "Requirement already satisfied: certifi>=2017.4.17 in c:\\spiced\\bootcamp\\capstone_chat-gpt\\.venv\\lib\\site-packages (from requests==2.23.0->app-store-scraper) (2023.7.22)\n"
     ]
    }
   ],
   "source": [
    "!pip3 install app-store-scraper\n"
   ]
  },
  {
   "cell_type": "code",
   "execution_count": 2,
   "metadata": {},
   "outputs": [],
   "source": [
    "import pandas as pd\n",
    "import numpy as np\n",
    "import json\n",
    "from app_store_scraper import AppStore"
   ]
  },
  {
   "cell_type": "code",
   "execution_count": 3,
   "metadata": {},
   "outputs": [
    {
     "name": "stderr",
     "output_type": "stream",
     "text": [
      "2023-10-30 15:37:38,195 [INFO] Base - Initialised: AppStore('us', 'chatgpt', 6448311069)\n",
      "2023-10-30 15:37:38,197 [INFO] Base - Ready to fetch reviews from: https://apps.apple.com/us/app/chatgpt/id6448311069\n",
      "2023-10-30 15:37:43,533 [INFO] Base - [id:6448311069] Fetched 120 reviews (120 fetched in total)\n",
      "2023-10-30 15:37:49,915 [INFO] Base - [id:6448311069] Fetched 280 reviews (280 fetched in total)\n",
      "2023-10-30 15:37:56,365 [INFO] Base - [id:6448311069] Fetched 440 reviews (440 fetched in total)\n",
      "2023-10-30 15:38:02,867 [INFO] Base - [id:6448311069] Fetched 600 reviews (600 fetched in total)\n",
      "2023-10-30 15:38:08,976 [INFO] Base - [id:6448311069] Fetched 760 reviews (760 fetched in total)\n",
      "2023-10-30 15:38:15,149 [INFO] Base - [id:6448311069] Fetched 920 reviews (920 fetched in total)\n",
      "2023-10-30 15:38:21,307 [INFO] Base - [id:6448311069] Fetched 1080 reviews (1080 fetched in total)\n",
      "2023-10-30 15:38:24,581 [INFO] Base - [id:6448311069] Fetched 1140 reviews (1140 fetched in total)\n",
      "2023-10-30 15:38:26,062 [INFO] Base - Initialised: AppStore('in', 'chatgpt', 6448311069)\n",
      "2023-10-30 15:38:26,064 [INFO] Base - Ready to fetch reviews from: https://apps.apple.com/in/app/chatgpt/id6448311069\n",
      "2023-10-30 15:38:31,925 [INFO] Base - [id:6448311069] Fetched 120 reviews (120 fetched in total)\n",
      "2023-10-30 15:38:38,494 [INFO] Base - [id:6448311069] Fetched 280 reviews (280 fetched in total)\n",
      "2023-10-30 15:38:44,875 [INFO] Base - [id:6448311069] Fetched 440 reviews (440 fetched in total)\n",
      "2023-10-30 15:38:50,224 [INFO] Base - [id:6448311069] Fetched 542 reviews (542 fetched in total)\n",
      "2023-10-30 15:38:51,921 [INFO] Base - Initialised: AppStore('gb', 'chatgpt', 6448311069)\n",
      "2023-10-30 15:38:51,922 [INFO] Base - Ready to fetch reviews from: https://apps.apple.com/gb/app/chatgpt/id6448311069\n",
      "2023-10-30 15:38:57,245 [INFO] Base - [id:6448311069] Fetched 120 reviews (120 fetched in total)\n",
      "2023-10-30 15:39:03,774 [INFO] Base - [id:6448311069] Fetched 280 reviews (280 fetched in total)\n",
      "2023-10-30 15:39:10,251 [INFO] Base - [id:6448311069] Fetched 440 reviews (440 fetched in total)\n",
      "2023-10-30 15:39:14,278 [INFO] Base - [id:6448311069] Fetched 528 reviews (528 fetched in total)\n",
      "2023-10-30 15:39:15,603 [INFO] Base - Initialised: AppStore('au', 'chatgpt', 6448311069)\n",
      "2023-10-30 15:39:15,605 [INFO] Base - Ready to fetch reviews from: https://apps.apple.com/au/app/chatgpt/id6448311069\n",
      "2023-10-30 15:39:21,352 [INFO] Base - [id:6448311069] Fetched 140 reviews (140 fetched in total)\n",
      "2023-10-30 15:39:25,509 [INFO] Base - [id:6448311069] Fetched 230 reviews (230 fetched in total)\n",
      "2023-10-30 15:39:26,655 [INFO] Base - Initialised: AppStore('cn', 'chatgpt', 6448311069)\n",
      "2023-10-30 15:39:26,657 [INFO] Base - Ready to fetch reviews from: https://apps.apple.com/cn/app/chatgpt/id6448311069\n",
      "2023-10-30 15:39:27,455 [INFO] Base - [id:6448311069] Fetched 2 reviews (2 fetched in total)\n",
      "2023-10-30 15:39:28,686 [INFO] Base - Initialised: AppStore('id', 'chatgpt', 6448311069)\n",
      "2023-10-30 15:39:28,687 [INFO] Base - Ready to fetch reviews from: https://apps.apple.com/id/app/chatgpt/id6448311069\n",
      "2023-10-30 15:39:32,032 [INFO] Base - [id:6448311069] Fetched 80 reviews (80 fetched in total)\n",
      "2023-10-30 15:39:33,334 [INFO] Base - Initialised: AppStore('pk', 'chatgpt', 6448311069)\n",
      "2023-10-30 15:39:33,335 [INFO] Base - Ready to fetch reviews from: https://apps.apple.com/pk/app/chatgpt/id6448311069\n",
      "2023-10-30 15:39:36,806 [INFO] Base - [id:6448311069] Fetched 71 reviews (71 fetched in total)\n",
      "2023-10-30 15:39:37,948 [INFO] Base - Initialised: AppStore('br', 'chatgpt', 6448311069)\n",
      "2023-10-30 15:39:37,950 [INFO] Base - Ready to fetch reviews from: https://apps.apple.com/br/app/chatgpt/id6448311069\n",
      "2023-10-30 15:39:43,034 [INFO] Base - [id:6448311069] Fetched 120 reviews (120 fetched in total)\n",
      "2023-10-30 15:39:49,282 [INFO] Base - [id:6448311069] Fetched 260 reviews (260 fetched in total)\n",
      "2023-10-30 15:39:55,644 [INFO] Base - [id:6448311069] Fetched 420 reviews (420 fetched in total)\n",
      "2023-10-30 15:39:59,506 [INFO] Base - [id:6448311069] Fetched 507 reviews (507 fetched in total)\n",
      "2023-10-30 15:40:00,776 [INFO] Base - Initialised: AppStore('ng', 'chatgpt', 6448311069)\n",
      "2023-10-30 15:40:00,777 [INFO] Base - Ready to fetch reviews from: https://apps.apple.com/ng/app/chatgpt/id6448311069\n",
      "2023-10-30 15:40:05,718 [INFO] Base - [id:6448311069] Fetched 105 reviews (105 fetched in total)\n",
      "2023-10-30 15:40:06,704 [INFO] Base - Initialised: AppStore('bd', 'chatgpt', 6448311069)\n",
      "2023-10-30 15:40:06,705 [INFO] Base - Ready to fetch reviews from: https://apps.apple.com/bd/app/chatgpt/id6448311069\n",
      "2023-10-30 15:40:07,477 [ERROR] Base - Something went wrong: 'data'\n",
      "2023-10-30 15:40:07,478 [INFO] Base - [id:6448311069] Fetched 0 reviews (0 fetched in total)\n",
      "2023-10-30 15:40:08,547 [INFO] Base - Initialised: AppStore('ru', 'chatgpt', 6448311069)\n",
      "2023-10-30 15:40:08,548 [INFO] Base - Ready to fetch reviews from: https://apps.apple.com/ru/app/chatgpt/id6448311069\n",
      "2023-10-30 15:40:09,287 [INFO] Base - [id:6448311069] Fetched 1 reviews (1 fetched in total)\n",
      "2023-10-30 15:40:10,436 [INFO] Base - Initialised: AppStore('mx', 'chatgpt', 6448311069)\n",
      "2023-10-30 15:40:10,437 [INFO] Base - Ready to fetch reviews from: https://apps.apple.com/mx/app/chatgpt/id6448311069\n",
      "2023-10-30 15:40:15,518 [INFO] Base - [id:6448311069] Fetched 120 reviews (120 fetched in total)\n",
      "2023-10-30 15:40:21,590 [INFO] Base - [id:6448311069] Fetched 280 reviews (280 fetched in total)\n",
      "2023-10-30 15:40:25,396 [INFO] Base - [id:6448311069] Fetched 364 reviews (364 fetched in total)\n",
      "2023-10-30 15:40:26,671 [INFO] Base - Initialised: AppStore('ph', 'chatgpt', 6448311069)\n",
      "2023-10-30 15:40:26,672 [INFO] Base - Ready to fetch reviews from: https://apps.apple.com/ph/app/chatgpt/id6448311069\n",
      "2023-10-30 15:40:30,500 [INFO] Base - [id:6448311069] Fetched 87 reviews (87 fetched in total)\n",
      "2023-10-30 15:40:31,620 [INFO] Base - Initialised: AppStore('ca', 'chatgpt', 6448311069)\n",
      "2023-10-30 15:40:31,622 [INFO] Base - Ready to fetch reviews from: https://apps.apple.com/ca/app/chatgpt/id6448311069\n",
      "2023-10-30 15:40:37,104 [INFO] Base - [id:6448311069] Fetched 140 reviews (140 fetched in total)\n",
      "2023-10-30 15:40:43,446 [INFO] Base - [id:6448311069] Fetched 300 reviews (300 fetched in total)\n",
      "2023-10-30 15:40:49,346 [INFO] Base - [id:6448311069] Fetched 440 reviews (440 fetched in total)\n",
      "2023-10-30 15:40:51,558 [INFO] Base - [id:6448311069] Fetched 486 reviews (486 fetched in total)\n",
      "2023-10-30 15:40:52,791 [INFO] Base - Initialised: AppStore('jp', 'chatgpt', 6448311069)\n",
      "2023-10-30 15:40:52,792 [INFO] Base - Ready to fetch reviews from: https://apps.apple.com/jp/app/chatgpt/id6448311069\n",
      "2023-10-30 15:40:58,108 [INFO] Base - [id:6448311069] Fetched 140 reviews (140 fetched in total)\n",
      "2023-10-30 15:41:04,425 [INFO] Base - [id:6448311069] Fetched 280 reviews (280 fetched in total)\n",
      "2023-10-30 15:41:06,362 [INFO] Base - [id:6448311069] Fetched 312 reviews (312 fetched in total)\n",
      "2023-10-30 15:41:07,312 [INFO] Base - Initialised: AppStore('et', 'chatgpt', 6448311069)\n",
      "2023-10-30 15:41:07,313 [INFO] Base - Ready to fetch reviews from: https://apps.apple.com/et/app/chatgpt/id6448311069\n",
      "2023-10-30 15:41:08,239 [ERROR] Base - Something went wrong: 'data'\n",
      "2023-10-30 15:41:08,240 [INFO] Base - [id:6448311069] Fetched 0 reviews (0 fetched in total)\n",
      "2023-10-30 15:41:09,291 [INFO] Base - Initialised: AppStore('eg', 'chatgpt', 6448311069)\n",
      "2023-10-30 15:41:09,292 [INFO] Base - Ready to fetch reviews from: https://apps.apple.com/eg/app/chatgpt/id6448311069\n",
      "2023-10-30 15:41:10,273 [INFO] Base - [id:6448311069] Fetched 1 reviews (1 fetched in total)\n",
      "2023-10-30 15:41:11,311 [INFO] Base - Initialised: AppStore('vn', 'chatgpt', 6448311069)\n",
      "2023-10-30 15:41:11,313 [INFO] Base - Ready to fetch reviews from: https://apps.apple.com/vn/app/chatgpt/id6448311069\n",
      "2023-10-30 15:41:12,231 [INFO] Base - [id:6448311069] Fetched 2 reviews (2 fetched in total)\n",
      "2023-10-30 15:41:13,466 [INFO] Base - Initialised: AppStore('de', 'chatgpt', 6448311069)\n",
      "2023-10-30 15:41:13,467 [INFO] Base - Ready to fetch reviews from: https://apps.apple.com/de/app/chatgpt/id6448311069\n",
      "2023-10-30 15:41:18,663 [INFO] Base - [id:6448311069] Fetched 120 reviews (120 fetched in total)\n",
      "2023-10-30 15:41:24,655 [INFO] Base - [id:6448311069] Fetched 260 reviews (260 fetched in total)\n",
      "2023-10-30 15:41:30,907 [INFO] Base - [id:6448311069] Fetched 400 reviews (400 fetched in total)\n",
      "2023-10-30 15:41:36,713 [INFO] Base - [id:6448311069] Fetched 511 reviews (511 fetched in total)\n",
      "2023-10-30 15:41:38,228 [INFO] Base - Initialised: AppStore('tr', 'chatgpt', 6448311069)\n",
      "2023-10-30 15:41:38,228 [INFO] Base - Ready to fetch reviews from: https://apps.apple.com/tr/app/chatgpt/id6448311069\n",
      "2023-10-30 15:41:43,678 [INFO] Base - [id:6448311069] Fetched 120 reviews (120 fetched in total)\n",
      "2023-10-30 15:41:50,290 [INFO] Base - [id:6448311069] Fetched 260 reviews (260 fetched in total)\n",
      "2023-10-30 15:41:52,246 [INFO] Base - [id:6448311069] Fetched 285 reviews (285 fetched in total)\n"
     ]
    }
   ],
   "source": [
    "# The largest countries\n",
    "countries = ['us', 'in', 'gb', 'au', 'cn', 'id', 'pk', 'br', 'ng', 'bd', 'ru', 'mx', 'ph', 'ca', 'jp', 'et', 'eg', 'vn', 'de', 'tr']  \n",
    "\n",
    "dfs = []\n",
    "\n",
    "for country_code in countries:\n",
    "    app_store = AppStore(country=country_code, app_name='chatgpt', app_id='6448311069')\n",
    "    app_store.review()\n",
    "    df = pd.DataFrame(app_store.reviews)\n",
    "    \n",
    "    \n",
    "    df['country'] = country_code\n",
    "    \n",
    "    \n",
    "    dfs.append(df)\n",
    "\n",
    "\n"
   ]
  },
  {
   "cell_type": "code",
   "execution_count": 83,
   "metadata": {},
   "outputs": [],
   "source": [
    "all_apple_reviews = pd.concat(dfs, ignore_index=True)"
   ]
  },
  {
   "cell_type": "code",
   "execution_count": 84,
   "metadata": {},
   "outputs": [],
   "source": [
    "all_apple_reviews.to_csv('C:/Spiced/bootcamp/capstone_chat-gpt/data/all_apple_reviews.csv')"
   ]
  },
  {
   "cell_type": "code",
   "execution_count": 85,
   "metadata": {},
   "outputs": [],
   "source": [
    "from langdetect import detect\n",
    "def is_english(text):\n",
    "    try:\n",
    "        return detect(text) == 'en'\n",
    "    except:\n",
    "        return False\n",
    "    \n",
    "en_apple_reviews = all_apple_reviews[all_apple_reviews['review'].apply(is_english)]\n"
   ]
  },
  {
   "cell_type": "code",
   "execution_count": 86,
   "metadata": {},
   "outputs": [],
   "source": [
    "en_apple_reviews.to_csv('C:/Spiced/bootcamp/capstone_chat-gpt/data/en_apple_reviews.csv')"
   ]
  }
 ],
 "metadata": {
  "kernelspec": {
   "display_name": ".venv",
   "language": "python",
   "name": "python3"
  },
  "language_info": {
   "codemirror_mode": {
    "name": "ipython",
    "version": 3
   },
   "file_extension": ".py",
   "mimetype": "text/x-python",
   "name": "python",
   "nbconvert_exporter": "python",
   "pygments_lexer": "ipython3",
   "version": "3.11.5"
  }
 },
 "nbformat": 4,
 "nbformat_minor": 2
}
