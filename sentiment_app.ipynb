{
 "cells": [
  {
   "cell_type": "markdown",
   "metadata": {},
   "source": [
    "# Sentiment analysis and classification App Store reviews"
   ]
  },
  {
   "cell_type": "code",
   "execution_count": 1,
   "metadata": {},
   "outputs": [
    {
     "name": "stderr",
     "output_type": "stream",
     "text": [
      "[nltk_data] Downloading package wordnet to\n",
      "[nltk_data]     C:\\Users\\aleks\\AppData\\Roaming\\nltk_data...\n",
      "[nltk_data]   Package wordnet is already up-to-date!\n",
      "[nltk_data] Downloading package omw-1.4 to\n",
      "[nltk_data]     C:\\Users\\aleks\\AppData\\Roaming\\nltk_data...\n",
      "[nltk_data]   Package omw-1.4 is already up-to-date!\n"
     ]
    },
    {
     "data": {
      "text/plain": [
       "True"
      ]
     },
     "execution_count": 1,
     "metadata": {},
     "output_type": "execute_result"
    }
   ],
   "source": [
    "import pandas as pd\n",
    "import numpy as np\n",
    "\n",
    "from sklearn.model_selection import train_test_split\n",
    "from sklearn.feature_extraction.text import CountVectorizer, TfidfVectorizer\n",
    "from sklearn.linear_model import LogisticRegression\n",
    "from sklearn.metrics import roc_auc_score\n",
    "\n",
    "\n",
    "from tqdm import tqdm\n",
    "\n",
    "import nltk\n",
    "nltk.download('wordnet')\n",
    "nltk.download('omw-1.4')\n",
    "from transformers import pipeline\n",
    "\n",
    "from sklearn.metrics import confusion_matrix, classification_report, accuracy_score\n",
    "import seaborn as sns\n",
    "import matplotlib.pyplot as plt\n",
    "\n",
    "from textblob import TextBlob\n",
    "\n",
    "\n"
   ]
  },
  {
   "cell_type": "code",
   "execution_count": 2,
   "metadata": {},
   "outputs": [],
   "source": [
    "# Load df\n",
    "df = pd.read_csv(\n",
    "    \"C:/bootcamp/capstone_chat-gpt/data/apple_short_clean.csv\",\n",
    "    encoding=\"utf-8\",\n",
    ")"
   ]
  },
  {
   "cell_type": "markdown",
   "metadata": {},
   "source": [
    "## Zero-shot-classification"
   ]
  },
  {
   "cell_type": "code",
   "execution_count": 5,
   "metadata": {},
   "outputs": [
    {
     "name": "stderr",
     "output_type": "stream",
     "text": [
      "No model was supplied, defaulted to roberta-large-mnli and revision 130fb28 (https://huggingface.co/roberta-large-mnli).\n",
      "Using a pipeline without specifying a model name and revision in production is not recommended.\n",
      "All PyTorch model weights were used when initializing TFRobertaForSequenceClassification.\n",
      "\n",
      "All the weights of TFRobertaForSequenceClassification were initialized from the PyTorch model.\n",
      "If your task is similar to the task the model of the checkpoint was trained on, you can already use TFRobertaForSequenceClassification for predictions without further training.\n"
     ]
    }
   ],
   "source": [
    "classifier = pipeline(\"zero-shot-classification\")"
   ]
  },
  {
   "cell_type": "code",
   "execution_count": 6,
   "metadata": {},
   "outputs": [],
   "source": [
    "#candidate_labels = [\"feature evaluation\", \"praise\", \"bug report\", \"feature request\", \"performance\", \"usage\"]\n",
    "candidate_labels = [\"positive\", \"neutral\", \"negative\"]\n",
    "hypothesis_template = \"The sentiment of this review is {}.\""
   ]
  },
  {
   "cell_type": "code",
   "execution_count": 7,
   "metadata": {},
   "outputs": [
    {
     "name": "stderr",
     "output_type": "stream",
     "text": [
      "100%|██████████| 3368/3368 [1:41:01<00:00,  1.80s/it]  \n"
     ]
    }
   ],
   "source": [
    "#candidate_labels = list(category_map.values())\n",
    "predictedCategories = []\n",
    "ScoreNegative = []\n",
    "ScoreNeutral = []\n",
    "ScorePositive = []\n",
    "\n",
    "for i in tqdm(range(len(df))): # len(df)\n",
    "    text = df.iloc[i,]['review']\n",
    "    res = classifier(text, candidate_labels, hypothesis_template=hypothesis_template, multi_label=True)\n",
    "    labels = res['labels'] \n",
    "    scores = res['scores'] #extracting the scores associated with the labels\n",
    "    res_dict = {label : score for label,score in zip(labels, scores)}\n",
    "    sorted_dict = dict(sorted(res_dict.items(), key=lambda x:x[1],reverse = True)) #sorting the dictionary of labels in descending order based on their score\n",
    "    categories  = next(k for i, (k,v) in enumerate(sorted_dict.items()))\n",
    "\n",
    "    ScorePositive.append(sorted_dict['positive'])\n",
    "    ScoreNeutral.append(sorted_dict['neutral'])\n",
    "    ScoreNegative.append(sorted_dict['negative'])\n",
    "    predictedCategories.append(categories)"
   ]
  },
  {
   "cell_type": "code",
   "execution_count": 8,
   "metadata": {},
   "outputs": [],
   "source": [
    "df_zero_prep = pd.DataFrame({  'category': predictedCategories, \n",
    "                                    'positive_score': ScorePositive, \n",
    "                                    'neutral_score': ScoreNeutral, \n",
    "                                    'negative_score': ScoreNegative})\n",
    "df_zero = pd.merge(df, df_zero_prep, left_index=True, right_index=True)"
   ]
  },
  {
   "cell_type": "code",
   "execution_count": 9,
   "metadata": {},
   "outputs": [
    {
     "data": {
      "image/png": "[encoded data removed]",
      "text/plain": [
       "<Figure size 640x480 with 2 Axes>"
      ]
     },
     "metadata": {},
     "output_type": "display_data"
    }
   ],
   "source": [
    "#Confusion matrix using pandas crosstab\n",
    "conf_matrix = confusion_matrix(df_zero.score_cat, df_zero.category)\n",
    "sns.heatmap(conf_matrix, annot=True, cmap=plt.cm.Oranges, fmt='g'); "
   ]
  },
  {
   "cell_type": "code",
   "execution_count": 10,
   "metadata": {},
   "outputs": [],
   "source": [
    "df_zero.to_csv(\"C:/bootcamp/capstone_chat-gpt/data/app-reviews-zero.csv\", index=False)"
   ]
  },
  {
   "cell_type": "markdown",
   "metadata": {},
   "source": [
    "## VADER (Valence Aware Dictionary for Sentiment Reasoning)"
   ]
  },
  {
   "cell_type": "code",
   "execution_count": 4,
   "metadata": {},
   "outputs": [],
   "source": [
    "from vaderSentiment.vaderSentiment import SentimentIntensityAnalyzer\n",
    "    #note: depending on how you installed (e.g., using source code download versus pip install), you may need to import like this:\n",
    "    #from vaderSentiment import SentimentIntensityAnalyzer"
   ]
  },
  {
   "cell_type": "code",
   "execution_count": 37,
   "metadata": {},
   "outputs": [
    {
     "name": "stderr",
     "output_type": "stream",
     "text": [
      "100%|██████████| 3368/3368 [00:23<00:00, 145.57it/s]\n"
     ]
    }
   ],
   "source": [
    "from nltk import tokenize\n",
    "\n",
    "#candidate_labels = list(category_map.values())\n",
    "vad_cat = []\n",
    "vad_neg = []\n",
    "vad_neu = []\n",
    "vad_pos = []\n",
    "\n",
    "for sentence in tqdm(df['review']):\n",
    "     sid = SentimentIntensityAnalyzer()\n",
    "     ss = sid.polarity_scores(sentence)\n",
    "     for k in sorted(ss):\n",
    "         vad_cat.append(max(ss, key=ss.get))\n",
    "         vad_neg.append(ss['neg'])\n",
    "         vad_neu.append(ss['neu'])\n",
    "         vad_pos.append(ss['pos'])"
   ]
  },
  {
   "cell_type": "code",
   "execution_count": 38,
   "metadata": {},
   "outputs": [],
   "source": [
    "df_vader_prep = pd.DataFrame({ 'vader_cat': vad_cat, \n",
    "                                'vader_neg': vad_neg, \n",
    "                                'vader_neu': vad_neu, \n",
    "                                'vader_pos': vad_pos})\n",
    "df_vader= pd.merge(df_zero, df_vader_prep, left_index=True, right_index=True)"
   ]
  },
  {
   "cell_type": "code",
   "execution_count": 39,
   "metadata": {},
   "outputs": [],
   "source": [
    "df_vader.to_csv(\"C:/bootcamp/capstone_chat-gpt/data/app_reviews_zero_vader.csv\", index=False)"
   ]
  },
  {
   "cell_type": "markdown",
   "metadata": {},
   "source": [
    "## Sentiment Analysis using TextBlob"
   ]
  },
  {
   "cell_type": "code",
   "execution_count": 16,
   "metadata": {},
   "outputs": [
    {
     "name": "stderr",
     "output_type": "stream",
     "text": [
      "100%|██████████| 3368/3368 [00:01<00:00, 2670.36it/s]\n"
     ]
    }
   ],
   "source": [
    "#candidate_labels = list(category_map.values())\n",
    "blob_polarity = []\n",
    "blob_subjectivity = []\n",
    "\n",
    "for sentence in tqdm(df['review']):\n",
    "     blob_polarity.append(TextBlob(sentence).sentiment.polarity)\n",
    "     blob_subjectivity.append(TextBlob(sentence).sentiment.subjectivity)"
   ]
  },
  {
   "cell_type": "code",
   "execution_count": 17,
   "metadata": {},
   "outputs": [],
   "source": [
    "df_blob_prep = pd.DataFrame({ 'blob_polarity': blob_polarity, \n",
    "                                    'blob_subjectivity': blob_subjectivity})\n",
    "df_blob= pd.merge(df_vader, df_blob_prep, left_index=True, right_index=True)"
   ]
  },
  {
   "cell_type": "code",
   "execution_count": 40,
   "metadata": {},
   "outputs": [],
   "source": [
    "df_blob.to_csv(\"C:/bootcamp/capstone_chat-gpt/data/zero_vader_blob_apple_sentiment.csv\", index=False)"
   ]
  },
  {
   "cell_type": "markdown",
   "metadata": {},
   "source": [
    "## Sentiment Analysis using Transformer-Based Models"
   ]
  },
  {
   "cell_type": "code",
   "execution_count": 25,
   "metadata": {},
   "outputs": [
    {
     "name": "stderr",
     "output_type": "stream",
     "text": [
      "All PyTorch model weights were used when initializing TFDistilBertForSequenceClassification.\n",
      "\n",
      "All the weights of TFDistilBertForSequenceClassification were initialized from the PyTorch model.\n",
      "If your task is similar to the task the model of the checkpoint was trained on, you can already use TFDistilBertForSequenceClassification for predictions without further training.\n"
     ]
    }
   ],
   "source": [
    "from transformers import pipeline\n",
    "\n",
    "# Указание модели и ревизии\n",
    "model_name = \"distilbert-base-uncased-finetuned-sst-2-english\"\n",
    "sentiment_pipeline = pipeline(\"sentiment-analysis\", model=model_name)\n"
   ]
  },
  {
   "cell_type": "code",
   "execution_count": 30,
   "metadata": {},
   "outputs": [
    {
     "name": "stderr",
     "output_type": "stream",
     "text": [
      "No model was supplied, defaulted to distilbert-base-uncased-finetuned-sst-2-english and revision af0f99b (https://huggingface.co/distilbert-base-uncased-finetuned-sst-2-english).\n",
      "Using a pipeline without specifying a model name and revision in production is not recommended.\n",
      "All PyTorch model weights were used when initializing TFDistilBertForSequenceClassification.\n",
      "\n",
      "All the weights of TFDistilBertForSequenceClassification were initialized from the PyTorch model.\n",
      "If your task is similar to the task the model of the checkpoint was trained on, you can already use TFDistilBertForSequenceClassification for predictions without further training.\n",
      " 46%|████▌     | 1556/3368 [04:00<05:02,  5.98it/s]Token indices sequence length is longer than the specified maximum sequence length for this model (675 > 512). Running this sequence through the model will result in indexing errors\n",
      " 46%|████▋     | 1558/3368 [04:00<03:28,  8.68it/s]"
     ]
    },
    {
     "name": "stdout",
     "output_type": "stream",
     "text": [
      "Error processing sentence: Exception encountered when calling layer 'embeddings' (type TFEmbeddings).\n",
      "\n",
      "{{function_node __wrapped__ResourceGather_device_/job:localhost/replica:0/task:0/device:CPU:0}} indices[0,660] = 660 is not in [0, 512) [Op:ResourceGather]\n",
      "\n",
      "Call arguments received by layer 'embeddings' (type TFEmbeddings):\n",
      "  • input_ids=tf.Tensor(shape=(1, 675), dtype=int32)\n",
      "  • position_ids=None\n",
      "  • inputs_embeds=None\n",
      "  • training=False\n"
     ]
    },
    {
     "name": "stderr",
     "output_type": "stream",
     "text": [
      " 61%|██████    | 2057/3368 [05:06<02:19,  9.39it/s]"
     ]
    },
    {
     "name": "stdout",
     "output_type": "stream",
     "text": [
      "Error processing sentence: Exception encountered when calling layer 'embeddings' (type TFEmbeddings).\n",
      "\n",
      "{{function_node __wrapped__ResourceGather_device_/job:localhost/replica:0/task:0/device:CPU:0}} indices[0,512] = 512 is not in [0, 512) [Op:ResourceGather]\n",
      "\n",
      "Call arguments received by layer 'embeddings' (type TFEmbeddings):\n",
      "  • input_ids=tf.Tensor(shape=(1, 719), dtype=int32)\n",
      "  • position_ids=None\n",
      "  • inputs_embeds=None\n",
      "  • training=False\n"
     ]
    },
    {
     "name": "stderr",
     "output_type": "stream",
     "text": [
      " 69%|██████▉   | 2316/3368 [05:43<02:55,  5.98it/s]"
     ]
    },
    {
     "name": "stdout",
     "output_type": "stream",
     "text": [
      "Error processing sentence: Exception encountered when calling layer 'embeddings' (type TFEmbeddings).\n",
      "\n",
      "{{function_node __wrapped__ResourceGather_device_/job:localhost/replica:0/task:0/device:CPU:0}} indices[0,512] = 512 is not in [0, 512) [Op:ResourceGather]\n",
      "\n",
      "Call arguments received by layer 'embeddings' (type TFEmbeddings):\n",
      "  • input_ids=tf.Tensor(shape=(1, 827), dtype=int32)\n",
      "  • position_ids=None\n",
      "  • inputs_embeds=None\n",
      "  • training=False\n"
     ]
    },
    {
     "name": "stderr",
     "output_type": "stream",
     "text": [
      "100%|██████████| 3368/3368 [07:57<00:00,  7.06it/s]\n"
     ]
    }
   ],
   "source": [
    "from transformers import pipeline\n",
    "\n",
    "sentiment_pipeline = pipeline(\"sentiment-analysis\")\n",
    "\n",
    "pipe_cat = []\n",
    "pipe_neg = []\n",
    "pipe_pos = []\n",
    "\n",
    "for sentence in tqdm(df['review']):\n",
    "    try:\n",
    "        res = sentiment_pipeline(sentence)\n",
    "        if res[0]['label'] == 'POSITIVE':\n",
    "            pipe_cat.append('POSITIVE')\n",
    "            pipe_neg.append(1 - res[0]['score'])\n",
    "            pipe_pos.append(res[0]['score'])\n",
    "        elif res[0]['label'] == 'NEGATIVE':\n",
    "            pipe_cat.append('NEGATIVE')\n",
    "            pipe_neg.append(res[0]['score'])\n",
    "            pipe_pos.append(1 - res[0]['score'])\n",
    "    except Exception as e:\n",
    "        print(f\"Error processing sentence: {str(e)}\")"
   ]
  },
  {
   "cell_type": "code",
   "execution_count": 31,
   "metadata": {},
   "outputs": [],
   "source": [
    "df_pipe_prep = pd.DataFrame({ 'pipe_cat': pipe_cat, \n",
    "                                    'pipe_neg': pipe_neg, \n",
    "                                    'pipe_pos': pipe_pos})"
   ]
  },
  {
   "cell_type": "code",
   "execution_count": 41,
   "metadata": {},
   "outputs": [],
   "source": [
    "df_pipe= pd.merge(df_blob, df_pipe_prep, left_index=True, right_index=True)"
   ]
  },
  {
   "cell_type": "code",
   "execution_count": 42,
   "metadata": {},
   "outputs": [],
   "source": [
    "df_pipe.to_csv(\"C:/bootcamp/capstone_chat-gpt/data/app_reviews_sentiment.csv\", index=False)\n",
    "\n"
   ]
  },
  {
   "cell_type": "code",
   "execution_count": 43,
   "metadata": {},
   "outputs": [
    {
     "data": {
      "text/html": [
       "<div>\n",
       "<style scoped>\n",
       "    .dataframe tbody tr th:only-of-type {\n",
       "        vertical-align: middle;\n",
       "    }\n",
       "\n",
       "    .dataframe tbody tr th {\n",
       "        vertical-align: top;\n",
       "    }\n",
       "\n",
       "    .dataframe thead th {\n",
       "        text-align: right;\n",
       "    }\n",
       "</style>\n",
       "<table border=\"1\" class=\"dataframe\">\n",
       "  <thead>\n",
       "    <tr style=\"text-align: right;\">\n",
       "      <th></th>\n",
       "      <th>Unnamed: 0</th>\n",
       "      <th>date</th>\n",
       "      <th>review</th>\n",
       "      <th>rating</th>\n",
       "      <th>userName</th>\n",
       "      <th>title</th>\n",
       "      <th>country</th>\n",
       "      <th>at_ymd</th>\n",
       "      <th>at_q</th>\n",
       "      <th>at_ym</th>\n",
       "      <th>...</th>\n",
       "      <th>negative_score</th>\n",
       "      <th>vader_cat</th>\n",
       "      <th>vader_neg</th>\n",
       "      <th>vader_neu</th>\n",
       "      <th>vader_pos</th>\n",
       "      <th>blob_polarity</th>\n",
       "      <th>blob_subjectivity</th>\n",
       "      <th>pipe_cat</th>\n",
       "      <th>pipe_neg</th>\n",
       "      <th>pipe_pos</th>\n",
       "    </tr>\n",
       "  </thead>\n",
       "  <tbody>\n",
       "    <tr>\n",
       "      <th>0</th>\n",
       "      <td>0</td>\n",
       "      <td>2023-09-12 19:05:19</td>\n",
       "      <td>very much love the app way better than google ...</td>\n",
       "      <td>5.0</td>\n",
       "      <td>Tj77883344</td>\n",
       "      <td>Love it, been using it since last year</td>\n",
       "      <td>us</td>\n",
       "      <td>09/12/23</td>\n",
       "      <td>3</td>\n",
       "      <td>2023-09</td>\n",
       "      <td>...</td>\n",
       "      <td>0.001946</td>\n",
       "      <td>compound</td>\n",
       "      <td>0.020</td>\n",
       "      <td>0.858</td>\n",
       "      <td>0.123</td>\n",
       "      <td>0.154762</td>\n",
       "      <td>0.433962</td>\n",
       "      <td>POSITIVE</td>\n",
       "      <td>0.279342</td>\n",
       "      <td>0.720658</td>\n",
       "    </tr>\n",
       "    <tr>\n",
       "      <th>1</th>\n",
       "      <td>1</td>\n",
       "      <td>2023-09-10 02:45:51</td>\n",
       "      <td>up to this point i've mostly been using chatgp...</td>\n",
       "      <td>4.0</td>\n",
       "      <td>PDXJavaJunkie</td>\n",
       "      <td>Much more accessible for blind users than the ...</td>\n",
       "      <td>us</td>\n",
       "      <td>09/10/23</td>\n",
       "      <td>3</td>\n",
       "      <td>2023-09</td>\n",
       "      <td>...</td>\n",
       "      <td>0.023911</td>\n",
       "      <td>compound</td>\n",
       "      <td>0.020</td>\n",
       "      <td>0.858</td>\n",
       "      <td>0.123</td>\n",
       "      <td>0.215385</td>\n",
       "      <td>0.581731</td>\n",
       "      <td>NEGATIVE</td>\n",
       "      <td>0.915617</td>\n",
       "      <td>0.084383</td>\n",
       "    </tr>\n",
       "    <tr>\n",
       "      <th>2</th>\n",
       "      <td>2</td>\n",
       "      <td>2023-07-11 12:24:19</td>\n",
       "      <td>i've been a user since it's initial roll out a...</td>\n",
       "      <td>4.0</td>\n",
       "      <td>Tinny tower addicted</td>\n",
       "      <td>Much anticipated, wasn’t let down.</td>\n",
       "      <td>us</td>\n",
       "      <td>07/11/23</td>\n",
       "      <td>3</td>\n",
       "      <td>2023-07</td>\n",
       "      <td>...</td>\n",
       "      <td>0.004290</td>\n",
       "      <td>compound</td>\n",
       "      <td>0.020</td>\n",
       "      <td>0.858</td>\n",
       "      <td>0.123</td>\n",
       "      <td>0.225992</td>\n",
       "      <td>0.566501</td>\n",
       "      <td>NEGATIVE</td>\n",
       "      <td>0.916687</td>\n",
       "      <td>0.083313</td>\n",
       "    </tr>\n",
       "    <tr>\n",
       "      <th>3</th>\n",
       "      <td>3</td>\n",
       "      <td>2023-05-27 21:57:27</td>\n",
       "      <td>i recently downloaded the app and overall it's...</td>\n",
       "      <td>4.0</td>\n",
       "      <td>Would Po</td>\n",
       "      <td>4.5 stars, here’s why</td>\n",
       "      <td>us</td>\n",
       "      <td>05/27/23</td>\n",
       "      <td>2</td>\n",
       "      <td>2023-05</td>\n",
       "      <td>...</td>\n",
       "      <td>0.015336</td>\n",
       "      <td>compound</td>\n",
       "      <td>0.020</td>\n",
       "      <td>0.858</td>\n",
       "      <td>0.123</td>\n",
       "      <td>0.275429</td>\n",
       "      <td>0.561762</td>\n",
       "      <td>POSITIVE</td>\n",
       "      <td>0.064406</td>\n",
       "      <td>0.935594</td>\n",
       "    </tr>\n",
       "    <tr>\n",
       "      <th>4</th>\n",
       "      <td>4</td>\n",
       "      <td>2023-09-20 15:54:11</td>\n",
       "      <td>oh my gosh i cannot explain how much i've use ...</td>\n",
       "      <td>5.0</td>\n",
       "      <td>MORE FREE PAINTINGS!!!</td>\n",
       "      <td>Always quick!</td>\n",
       "      <td>us</td>\n",
       "      <td>09/20/23</td>\n",
       "      <td>3</td>\n",
       "      <td>2023-09</td>\n",
       "      <td>...</td>\n",
       "      <td>0.003096</td>\n",
       "      <td>compound</td>\n",
       "      <td>0.051</td>\n",
       "      <td>0.750</td>\n",
       "      <td>0.199</td>\n",
       "      <td>0.214705</td>\n",
       "      <td>0.682914</td>\n",
       "      <td>POSITIVE</td>\n",
       "      <td>0.002602</td>\n",
       "      <td>0.997398</td>\n",
       "    </tr>\n",
       "  </tbody>\n",
       "</table>\n",
       "<p>5 rows × 26 columns</p>\n",
       "</div>"
      ],
      "text/plain": [
       "   Unnamed: 0                 date  \\\n",
       "0           0  2023-09-12 19:05:19   \n",
       "1           1  2023-09-10 02:45:51   \n",
       "2           2  2023-07-11 12:24:19   \n",
       "3           3  2023-05-27 21:57:27   \n",
       "4           4  2023-09-20 15:54:11   \n",
       "\n",
       "                                              review  rating  \\\n",
       "0  very much love the app way better than google ...     5.0   \n",
       "1  up to this point i've mostly been using chatgp...     4.0   \n",
       "2  i've been a user since it's initial roll out a...     4.0   \n",
       "3  i recently downloaded the app and overall it's...     4.0   \n",
       "4  oh my gosh i cannot explain how much i've use ...     5.0   \n",
       "\n",
       "                 userName                                              title  \\\n",
       "0              Tj77883344             Love it, been using it since last year   \n",
       "1           PDXJavaJunkie  Much more accessible for blind users than the ...   \n",
       "2    Tinny tower addicted                 Much anticipated, wasn’t let down.   \n",
       "3                Would Po                              4.5 stars, here’s why   \n",
       "4  MORE FREE PAINTINGS!!!                                      Always quick!   \n",
       "\n",
       "  country    at_ymd  at_q    at_ym  ... negative_score vader_cat vader_neg  \\\n",
       "0      us  09/12/23     3  2023-09  ...       0.001946  compound     0.020   \n",
       "1      us  09/10/23     3  2023-09  ...       0.023911  compound     0.020   \n",
       "2      us  07/11/23     3  2023-07  ...       0.004290  compound     0.020   \n",
       "3      us  05/27/23     2  2023-05  ...       0.015336  compound     0.020   \n",
       "4      us  09/20/23     3  2023-09  ...       0.003096  compound     0.051   \n",
       "\n",
       "  vader_neu  vader_pos  blob_polarity  blob_subjectivity  pipe_cat  pipe_neg  \\\n",
       "0     0.858      0.123       0.154762           0.433962  POSITIVE  0.279342   \n",
       "1     0.858      0.123       0.215385           0.581731  NEGATIVE  0.915617   \n",
       "2     0.858      0.123       0.225992           0.566501  NEGATIVE  0.916687   \n",
       "3     0.858      0.123       0.275429           0.561762  POSITIVE  0.064406   \n",
       "4     0.750      0.199       0.214705           0.682914  POSITIVE  0.002602   \n",
       "\n",
       "   pipe_pos  \n",
       "0  0.720658  \n",
       "1  0.084383  \n",
       "2  0.083313  \n",
       "3  0.935594  \n",
       "4  0.997398  \n",
       "\n",
       "[5 rows x 26 columns]"
      ]
     },
     "execution_count": 43,
     "metadata": {},
     "output_type": "execute_result"
    }
   ],
   "source": [
    "df_pipe.head()"
   ]
  }
 ],
 "metadata": {
  "kernelspec": {
   "display_name": ".venv",
   "language": "python",
   "name": "python3"
  },
  "language_info": {
   "codemirror_mode": {
    "name": "ipython",
    "version": 3
   },
   "file_extension": ".py",
   "mimetype": "text/x-python",
   "name": "python",
   "nbconvert_exporter": "python",
   "pygments_lexer": "ipython3",
   "version": "3.11.5"
  }
 },
 "nbformat": 4,
 "nbformat_minor": 2
}
